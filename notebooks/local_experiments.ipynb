{
 "cells": [
  {
   "cell_type": "code",
   "execution_count": 1,
   "id": "0a15296f",
   "metadata": {},
   "outputs": [],
   "source": [
    "from utils.experiment import Experiment"
   ]
  },
  {
   "cell_type": "code",
   "execution_count": 2,
   "id": "41a8a61f",
   "metadata": {},
   "outputs": [
    {
     "name": "stdout",
     "output_type": "stream",
     "text": [
      "loading dataset...\n",
      "loading cached base embedding...\n",
      "compute query embedding...\n"
     ]
    },
    {
     "name": "stderr",
     "output_type": "stream",
     "text": [
      "100%|█████████████████████████████████████████████████████████████████████████████████████████████████████████████████████████| 10000/10000 [00:00<00:00, 43704.23it/s]\n"
     ]
    },
    {
     "name": "stdout",
     "output_type": "stream",
     "text": [
      "{'dataset': 'point_mnist', 'pooling': 'gem', 'ann': 'faiss-lsh', 'code_length': 16, 'power': 1, 'emb_time_per_sample': 4.701049327850342e-05, 'inf_time_per_sample': 9.769988059997558e-06, 'acc': 0.1135}\n",
      "loading dataset...\n",
      "loading cached base embedding...\n",
      "compute query embedding...\n"
     ]
    },
    {
     "name": "stderr",
     "output_type": "stream",
     "text": [
      "100%|█████████████████████████████████████████████████████████████████████████████████████████████████████████████████████████| 10000/10000 [00:00<00:00, 48286.54it/s]\n"
     ]
    },
    {
     "name": "stdout",
     "output_type": "stream",
     "text": [
      "{'dataset': 'point_mnist', 'pooling': 'gem', 'ann': 'faiss-lsh', 'code_length': 32, 'power': 1, 'emb_time_per_sample': 4.022142887115478e-05, 'inf_time_per_sample': 9.356403350830078e-06, 'acc': 0.1136}\n",
      "loading dataset...\n",
      "loading cached base embedding...\n",
      "compute query embedding...\n"
     ]
    },
    {
     "name": "stderr",
     "output_type": "stream",
     "text": [
      "100%|█████████████████████████████████████████████████████████████████████████████████████████████████████████████████████████| 10000/10000 [00:00<00:00, 41507.26it/s]\n"
     ]
    },
    {
     "name": "stdout",
     "output_type": "stream",
     "text": [
      "{'dataset': 'point_mnist', 'pooling': 'gem', 'ann': 'faiss-lsh', 'code_length': 64, 'power': 1, 'emb_time_per_sample': 4.3436789512634274e-05, 'inf_time_per_sample': 2.2711610794067383e-05, 'acc': 0.1116}\n",
      "loading dataset...\n",
      "loading cached base embedding...\n",
      "compute query embedding...\n"
     ]
    },
    {
     "name": "stderr",
     "output_type": "stream",
     "text": [
      "100%|█████████████████████████████████████████████████████████████████████████████████████████████████████████████████████████| 10000/10000 [00:00<00:00, 48436.65it/s]\n"
     ]
    },
    {
     "name": "stdout",
     "output_type": "stream",
     "text": [
      "{'dataset': 'point_mnist', 'pooling': 'gem', 'ann': 'faiss-lsh', 'code_length': 128, 'power': 1, 'emb_time_per_sample': 3.721721172332764e-05, 'inf_time_per_sample': 2.4271821975708007e-05, 'acc': 0.1032}\n",
      "loading dataset...\n",
      "loading cached base embedding...\n",
      "compute query embedding...\n"
     ]
    },
    {
     "name": "stderr",
     "output_type": "stream",
     "text": [
      "100%|█████████████████████████████████████████████████████████████████████████████████████████████████████████████████████████| 10000/10000 [00:00<00:00, 45077.17it/s]\n"
     ]
    },
    {
     "name": "stdout",
     "output_type": "stream",
     "text": [
      "{'dataset': 'point_mnist', 'pooling': 'gem', 'ann': 'faiss-lsh', 'code_length': 256, 'power': 1, 'emb_time_per_sample': 4.458198547363281e-05, 'inf_time_per_sample': 0.00011527068614959717, 'acc': 0.1054}\n",
      "loading dataset...\n",
      "loading cached base embedding...\n",
      "compute query embedding...\n"
     ]
    },
    {
     "name": "stderr",
     "output_type": "stream",
     "text": [
      "100%|█████████████████████████████████████████████████████████████████████████████████████████████████████████████████████████| 10000/10000 [00:00<00:00, 47800.90it/s]\n"
     ]
    },
    {
     "name": "stdout",
     "output_type": "stream",
     "text": [
      "{'dataset': 'point_mnist', 'pooling': 'gem', 'ann': 'faiss-lsh', 'code_length': 512, 'power': 1, 'emb_time_per_sample': 3.744988441467285e-05, 'inf_time_per_sample': 0.00019086599349975585, 'acc': 0.0966}\n",
      "loading dataset...\n",
      "loading cached base embedding...\n",
      "compute query embedding...\n"
     ]
    },
    {
     "name": "stderr",
     "output_type": "stream",
     "text": [
      "100%|█████████████████████████████████████████████████████████████████████████████████████████████████████████████████████████| 10000/10000 [00:00<00:00, 48136.14it/s]\n"
     ]
    },
    {
     "name": "stdout",
     "output_type": "stream",
     "text": [
      "{'dataset': 'point_mnist', 'pooling': 'gem', 'ann': 'faiss-lsh', 'code_length': 1024, 'power': 1, 'emb_time_per_sample': 3.6785197257995604e-05, 'inf_time_per_sample': 0.00036565680503845214, 'acc': 0.1032}\n",
      "loading dataset...\n",
      "loading cached base embedding...\n",
      "compute query embedding...\n"
     ]
    },
    {
     "name": "stderr",
     "output_type": "stream",
     "text": [
      "100%|█████████████████████████████████████████████████████████████████████████████████████████████████████████████████████████| 10000/10000 [00:00<00:00, 29500.10it/s]\n"
     ]
    },
    {
     "name": "stdout",
     "output_type": "stream",
     "text": [
      "{'dataset': 'point_mnist', 'pooling': 'gem', 'ann': 'faiss-lsh', 'code_length': 16, 'power': 2, 'emb_time_per_sample': 5.333030223846436e-05, 'inf_time_per_sample': 9.358787536621093e-06, 'acc': 0.114}\n",
      "loading dataset...\n",
      "loading cached base embedding...\n",
      "compute query embedding...\n"
     ]
    },
    {
     "name": "stderr",
     "output_type": "stream",
     "text": [
      "100%|█████████████████████████████████████████████████████████████████████████████████████████████████████████████████████████| 10000/10000 [00:00<00:00, 25877.49it/s]\n"
     ]
    },
    {
     "name": "stdout",
     "output_type": "stream",
     "text": [
      "{'dataset': 'point_mnist', 'pooling': 'gem', 'ann': 'faiss-lsh', 'code_length': 32, 'power': 2, 'emb_time_per_sample': 5.890381336212158e-05, 'inf_time_per_sample': 9.36441421508789e-06, 'acc': 0.1529}\n",
      "loading dataset...\n",
      "loading cached base embedding...\n",
      "compute query embedding...\n"
     ]
    },
    {
     "name": "stderr",
     "output_type": "stream",
     "text": [
      "100%|█████████████████████████████████████████████████████████████████████████████████████████████████████████████████████████| 10000/10000 [00:00<00:00, 30328.65it/s]\n"
     ]
    },
    {
     "name": "stdout",
     "output_type": "stream",
     "text": [
      "{'dataset': 'point_mnist', 'pooling': 'gem', 'ann': 'faiss-lsh', 'code_length': 64, 'power': 2, 'emb_time_per_sample': 5.393950939178467e-05, 'inf_time_per_sample': 2.2162580490112303e-05, 'acc': 0.188}\n",
      "loading dataset...\n",
      "loading cached base embedding...\n",
      "compute query embedding...\n"
     ]
    },
    {
     "name": "stderr",
     "output_type": "stream",
     "text": [
      "100%|█████████████████████████████████████████████████████████████████████████████████████████████████████████████████████████| 10000/10000 [00:00<00:00, 29234.22it/s]\n"
     ]
    },
    {
     "name": "stdout",
     "output_type": "stream",
     "text": [
      "{'dataset': 'point_mnist', 'pooling': 'gem', 'ann': 'faiss-lsh', 'code_length': 128, 'power': 2, 'emb_time_per_sample': 5.03054141998291e-05, 'inf_time_per_sample': 2.4396324157714842e-05, 'acc': 0.1801}\n",
      "loading dataset...\n",
      "loading cached base embedding...\n",
      "compute query embedding...\n"
     ]
    },
    {
     "name": "stderr",
     "output_type": "stream",
     "text": [
      "100%|█████████████████████████████████████████████████████████████████████████████████████████████████████████████████████████| 10000/10000 [00:00<00:00, 30307.35it/s]\n"
     ]
    },
    {
     "name": "stdout",
     "output_type": "stream",
     "text": [
      "{'dataset': 'point_mnist', 'pooling': 'gem', 'ann': 'faiss-lsh', 'code_length': 256, 'power': 2, 'emb_time_per_sample': 4.902019500732422e-05, 'inf_time_per_sample': 0.00011159770488739014, 'acc': 0.2735}\n",
      "loading dataset...\n",
      "loading cached base embedding...\n",
      "compute query embedding...\n"
     ]
    },
    {
     "name": "stderr",
     "output_type": "stream",
     "text": [
      "100%|█████████████████████████████████████████████████████████████████████████████████████████████████████████████████████████| 10000/10000 [00:00<00:00, 25908.63it/s]\n"
     ]
    },
    {
     "name": "stdout",
     "output_type": "stream",
     "text": [
      "{'dataset': 'point_mnist', 'pooling': 'gem', 'ann': 'faiss-lsh', 'code_length': 512, 'power': 2, 'emb_time_per_sample': 5.602281093597412e-05, 'inf_time_per_sample': 0.00018895699977874755, 'acc': 0.3013}\n",
      "loading dataset...\n",
      "loading cached base embedding...\n",
      "compute query embedding...\n"
     ]
    },
    {
     "name": "stderr",
     "output_type": "stream",
     "text": [
      "100%|█████████████████████████████████████████████████████████████████████████████████████████████████████████████████████████| 10000/10000 [00:00<00:00, 29834.10it/s]\n"
     ]
    },
    {
     "name": "stdout",
     "output_type": "stream",
     "text": [
      "{'dataset': 'point_mnist', 'pooling': 'gem', 'ann': 'faiss-lsh', 'code_length': 1024, 'power': 2, 'emb_time_per_sample': 4.913861751556397e-05, 'inf_time_per_sample': 0.00035760860443115235, 'acc': 0.346}\n",
      "loading dataset...\n",
      "loading cached base embedding...\n",
      "compute query embedding...\n"
     ]
    },
    {
     "name": "stderr",
     "output_type": "stream",
     "text": [
      "100%|█████████████████████████████████████████████████████████████████████████████████████████████████████████████████████████| 10000/10000 [00:00<00:00, 16960.31it/s]\n"
     ]
    },
    {
     "name": "stdout",
     "output_type": "stream",
     "text": [
      "{'dataset': 'point_mnist', 'pooling': 'gem', 'ann': 'faiss-lsh', 'code_length': 16, 'power': 4, 'emb_time_per_sample': 7.871620655059814e-05, 'inf_time_per_sample': 9.30643081665039e-06, 'acc': 0.1135}\n",
      "loading dataset...\n",
      "loading cached base embedding...\n",
      "compute query embedding...\n"
     ]
    },
    {
     "name": "stderr",
     "output_type": "stream",
     "text": [
      "100%|█████████████████████████████████████████████████████████████████████████████████████████████████████████████████████████| 10000/10000 [00:00<00:00, 17046.75it/s]\n"
     ]
    },
    {
     "name": "stdout",
     "output_type": "stream",
     "text": [
      "{'dataset': 'point_mnist', 'pooling': 'gem', 'ann': 'faiss-lsh', 'code_length': 32, 'power': 4, 'emb_time_per_sample': 7.886028289794922e-05, 'inf_time_per_sample': 9.008216857910156e-06, 'acc': 0.1217}\n",
      "loading dataset...\n",
      "loading cached base embedding...\n",
      "compute query embedding...\n"
     ]
    },
    {
     "name": "stderr",
     "output_type": "stream",
     "text": [
      "100%|█████████████████████████████████████████████████████████████████████████████████████████████████████████████████████████| 10000/10000 [00:00<00:00, 16252.05it/s]\n"
     ]
    },
    {
     "name": "stdout",
     "output_type": "stream",
     "text": [
      "{'dataset': 'point_mnist', 'pooling': 'gem', 'ann': 'faiss-lsh', 'code_length': 64, 'power': 4, 'emb_time_per_sample': 8.16012144088745e-05, 'inf_time_per_sample': 2.2147893905639647e-05, 'acc': 0.2017}\n",
      "loading dataset...\n",
      "loading cached base embedding...\n",
      "compute query embedding...\n"
     ]
    },
    {
     "name": "stderr",
     "output_type": "stream",
     "text": [
      "100%|█████████████████████████████████████████████████████████████████████████████████████████████████████████████████████████| 10000/10000 [00:00<00:00, 17055.89it/s]\n"
     ]
    },
    {
     "name": "stdout",
     "output_type": "stream",
     "text": [
      "{'dataset': 'point_mnist', 'pooling': 'gem', 'ann': 'faiss-lsh', 'code_length': 128, 'power': 4, 'emb_time_per_sample': 8.196461200714111e-05, 'inf_time_per_sample': 2.3876619338989256e-05, 'acc': 0.3006}\n",
      "loading dataset...\n",
      "loading cached base embedding...\n",
      "compute query embedding...\n"
     ]
    },
    {
     "name": "stderr",
     "output_type": "stream",
     "text": [
      "100%|█████████████████████████████████████████████████████████████████████████████████████████████████████████████████████████| 10000/10000 [00:00<00:00, 16771.26it/s]\n"
     ]
    },
    {
     "name": "stdout",
     "output_type": "stream",
     "text": [
      "{'dataset': 'point_mnist', 'pooling': 'gem', 'ann': 'faiss-lsh', 'code_length': 256, 'power': 4, 'emb_time_per_sample': 7.57617950439453e-05, 'inf_time_per_sample': 0.0001130657196044922, 'acc': 0.3023}\n",
      "loading dataset...\n",
      "loading cached base embedding...\n",
      "compute query embedding...\n"
     ]
    },
    {
     "name": "stderr",
     "output_type": "stream",
     "text": [
      "100%|█████████████████████████████████████████████████████████████████████████████████████████████████████████████████████████| 10000/10000 [00:00<00:00, 16719.36it/s]\n"
     ]
    },
    {
     "name": "stdout",
     "output_type": "stream",
     "text": [
      "{'dataset': 'point_mnist', 'pooling': 'gem', 'ann': 'faiss-lsh', 'code_length': 512, 'power': 4, 'emb_time_per_sample': 7.609968185424805e-05, 'inf_time_per_sample': 0.00018927979469299318, 'acc': 0.4345}\n",
      "loading dataset...\n",
      "loading cached base embedding...\n",
      "compute query embedding...\n"
     ]
    },
    {
     "name": "stderr",
     "output_type": "stream",
     "text": [
      "100%|█████████████████████████████████████████████████████████████████████████████████████████████████████████████████████████| 10000/10000 [00:00<00:00, 15632.45it/s]\n"
     ]
    },
    {
     "name": "stdout",
     "output_type": "stream",
     "text": [
      "{'dataset': 'point_mnist', 'pooling': 'gem', 'ann': 'faiss-lsh', 'code_length': 1024, 'power': 4, 'emb_time_per_sample': 8.715357780456543e-05, 'inf_time_per_sample': 0.00038511881828308105, 'acc': 0.4722}\n",
      "loading dataset...\n",
      "loading cached base embedding...\n",
      "compute query embedding...\n"
     ]
    },
    {
     "name": "stderr",
     "output_type": "stream",
     "text": [
      "100%|██████████████████████████████████████████████████████████████████████████████████████████████████████████████████████████| 10000/10000 [00:01<00:00, 7752.64it/s]\n"
     ]
    },
    {
     "name": "stdout",
     "output_type": "stream",
     "text": [
      "{'dataset': 'point_mnist', 'pooling': 'gem', 'ann': 'faiss-lsh', 'code_length': 16, 'power': 8, 'emb_time_per_sample': 0.00014903221130371094, 'inf_time_per_sample': 9.86318588256836e-06, 'acc': 0.1513}\n",
      "loading dataset...\n",
      "loading cached base embedding...\n",
      "compute query embedding...\n"
     ]
    },
    {
     "name": "stderr",
     "output_type": "stream",
     "text": [
      "100%|██████████████████████████████████████████████████████████████████████████████████████████████████████████████████████████| 10000/10000 [00:01<00:00, 6730.34it/s]\n"
     ]
    },
    {
     "name": "stdout",
     "output_type": "stream",
     "text": [
      "{'dataset': 'point_mnist', 'pooling': 'gem', 'ann': 'faiss-lsh', 'code_length': 32, 'power': 8, 'emb_time_per_sample': 0.0001707426071166992, 'inf_time_per_sample': 1.277158260345459e-05, 'acc': 0.2093}\n",
      "loading dataset...\n",
      "loading cached base embedding...\n",
      "compute query embedding...\n"
     ]
    },
    {
     "name": "stderr",
     "output_type": "stream",
     "text": [
      "100%|██████████████████████████████████████████████████████████████████████████████████████████████████████████████████████████| 10000/10000 [00:01<00:00, 8381.67it/s]\n"
     ]
    },
    {
     "name": "stdout",
     "output_type": "stream",
     "text": [
      "{'dataset': 'point_mnist', 'pooling': 'gem', 'ann': 'faiss-lsh', 'code_length': 64, 'power': 8, 'emb_time_per_sample': 0.00013778440952301026, 'inf_time_per_sample': 2.400977611541748e-05, 'acc': 0.2647}\n",
      "loading dataset...\n",
      "loading cached base embedding...\n",
      "compute query embedding...\n"
     ]
    },
    {
     "name": "stderr",
     "output_type": "stream",
     "text": [
      "100%|██████████████████████████████████████████████████████████████████████████████████████████████████████████████████████████| 10000/10000 [00:01<00:00, 7545.09it/s]\n"
     ]
    },
    {
     "name": "stdout",
     "output_type": "stream",
     "text": [
      "{'dataset': 'point_mnist', 'pooling': 'gem', 'ann': 'faiss-lsh', 'code_length': 128, 'power': 8, 'emb_time_per_sample': 0.0001523730993270874, 'inf_time_per_sample': 5.404469966888428e-05, 'acc': 0.4216}\n",
      "loading dataset...\n",
      "loading cached base embedding...\n",
      "compute query embedding...\n"
     ]
    },
    {
     "name": "stderr",
     "output_type": "stream",
     "text": [
      "100%|██████████████████████████████████████████████████████████████████████████████████████████████████████████████████████████| 10000/10000 [00:01<00:00, 8861.25it/s]\n"
     ]
    },
    {
     "name": "stdout",
     "output_type": "stream",
     "text": [
      "{'dataset': 'point_mnist', 'pooling': 'gem', 'ann': 'faiss-lsh', 'code_length': 256, 'power': 8, 'emb_time_per_sample': 0.00012952020168304444, 'inf_time_per_sample': 0.00012309589385986328, 'acc': 0.3949}\n",
      "loading dataset...\n",
      "loading cached base embedding...\n",
      "compute query embedding...\n"
     ]
    },
    {
     "name": "stderr",
     "output_type": "stream",
     "text": [
      "100%|██████████████████████████████████████████████████████████████████████████████████████████████████████████████████████████| 10000/10000 [00:01<00:00, 8646.05it/s]\n"
     ]
    },
    {
     "name": "stdout",
     "output_type": "stream",
     "text": [
      "{'dataset': 'point_mnist', 'pooling': 'gem', 'ann': 'faiss-lsh', 'code_length': 512, 'power': 8, 'emb_time_per_sample': 0.0001346768856048584, 'inf_time_per_sample': 0.0002258817672729492, 'acc': 0.5301}\n",
      "loading dataset...\n",
      "loading cached base embedding...\n",
      "compute query embedding...\n"
     ]
    },
    {
     "name": "stderr",
     "output_type": "stream",
     "text": [
      "100%|██████████████████████████████████████████████████████████████████████████████████████████████████████████████████████████| 10000/10000 [00:01<00:00, 7517.65it/s]\n"
     ]
    },
    {
     "name": "stdout",
     "output_type": "stream",
     "text": [
      "{'dataset': 'point_mnist', 'pooling': 'gem', 'ann': 'faiss-lsh', 'code_length': 1024, 'power': 8, 'emb_time_per_sample': 0.00015317699909210206, 'inf_time_per_sample': 0.0003700228214263916, 'acc': 0.5664}\n",
      "loading dataset...\n",
      "loading cached base embedding...\n",
      "compute query embedding...\n"
     ]
    },
    {
     "name": "stderr",
     "output_type": "stream",
     "text": [
      "100%|██████████████████████████████████████████████████████████████████████████████████████████████████████████████████████████| 10000/10000 [00:02<00:00, 3498.61it/s]\n"
     ]
    },
    {
     "name": "stdout",
     "output_type": "stream",
     "text": [
      "{'dataset': 'point_mnist', 'pooling': 'gem', 'ann': 'faiss-lsh', 'code_length': 16, 'power': 16, 'emb_time_per_sample': 0.0003076201915740967, 'inf_time_per_sample': 1.1000394821166993e-05, 'acc': 0.1154}\n",
      "loading dataset...\n",
      "loading cached base embedding...\n",
      "compute query embedding...\n"
     ]
    },
    {
     "name": "stderr",
     "output_type": "stream",
     "text": [
      "100%|██████████████████████████████████████████████████████████████████████████████████████████████████████████████████████████| 10000/10000 [00:02<00:00, 3762.35it/s]\n"
     ]
    },
    {
     "name": "stdout",
     "output_type": "stream",
     "text": [
      "{'dataset': 'point_mnist', 'pooling': 'gem', 'ann': 'faiss-lsh', 'code_length': 32, 'power': 16, 'emb_time_per_sample': 0.00028337368965148925, 'inf_time_per_sample': 9.688305854797363e-06, 'acc': 0.1388}\n",
      "loading dataset...\n",
      "loading cached base embedding...\n",
      "compute query embedding...\n"
     ]
    },
    {
     "name": "stderr",
     "output_type": "stream",
     "text": [
      "100%|██████████████████████████████████████████████████████████████████████████████████████████████████████████████████████████| 10000/10000 [00:02<00:00, 4152.50it/s]\n"
     ]
    },
    {
     "name": "stdout",
     "output_type": "stream",
     "text": [
      "{'dataset': 'point_mnist', 'pooling': 'gem', 'ann': 'faiss-lsh', 'code_length': 64, 'power': 16, 'emb_time_per_sample': 0.0002712930917739868, 'inf_time_per_sample': 2.2874999046325683e-05, 'acc': 0.3421}\n",
      "loading dataset...\n",
      "loading cached base embedding...\n",
      "compute query embedding...\n"
     ]
    },
    {
     "name": "stderr",
     "output_type": "stream",
     "text": [
      "100%|██████████████████████████████████████████████████████████████████████████████████████████████████████████████████████████| 10000/10000 [00:02<00:00, 4374.67it/s]\n"
     ]
    },
    {
     "name": "stdout",
     "output_type": "stream",
     "text": [
      "{'dataset': 'point_mnist', 'pooling': 'gem', 'ann': 'faiss-lsh', 'code_length': 128, 'power': 16, 'emb_time_per_sample': 0.0002452582359313965, 'inf_time_per_sample': 3.518970012664795e-05, 'acc': 0.2919}\n",
      "loading dataset...\n",
      "loading cached base embedding...\n",
      "compute query embedding...\n"
     ]
    },
    {
     "name": "stderr",
     "output_type": "stream",
     "text": [
      "100%|██████████████████████████████████████████████████████████████████████████████████████████████████████████████████████████| 10000/10000 [00:02<00:00, 4443.28it/s]\n"
     ]
    },
    {
     "name": "stdout",
     "output_type": "stream",
     "text": [
      "{'dataset': 'point_mnist', 'pooling': 'gem', 'ann': 'faiss-lsh', 'code_length': 256, 'power': 16, 'emb_time_per_sample': 0.00024200961589813233, 'inf_time_per_sample': 0.00011823410987854004, 'acc': 0.3849}\n",
      "loading dataset...\n",
      "loading cached base embedding...\n",
      "compute query embedding...\n"
     ]
    },
    {
     "name": "stderr",
     "output_type": "stream",
     "text": [
      "100%|██████████████████████████████████████████████████████████████████████████████████████████████████████████████████████████| 10000/10000 [00:02<00:00, 4539.90it/s]\n"
     ]
    },
    {
     "name": "stdout",
     "output_type": "stream",
     "text": [
      "{'dataset': 'point_mnist', 'pooling': 'gem', 'ann': 'faiss-lsh', 'code_length': 512, 'power': 16, 'emb_time_per_sample': 0.00024757399559020995, 'inf_time_per_sample': 0.00019043738842010498, 'acc': 0.5536}\n",
      "loading dataset...\n",
      "loading cached base embedding...\n",
      "compute query embedding...\n"
     ]
    },
    {
     "name": "stderr",
     "output_type": "stream",
     "text": [
      "100%|██████████████████████████████████████████████████████████████████████████████████████████████████████████████████████████| 10000/10000 [00:02<00:00, 4301.57it/s]\n"
     ]
    },
    {
     "name": "stdout",
     "output_type": "stream",
     "text": [
      "{'dataset': 'point_mnist', 'pooling': 'gem', 'ann': 'faiss-lsh', 'code_length': 1024, 'power': 16, 'emb_time_per_sample': 0.00024912431240081787, 'inf_time_per_sample': 0.0003738780975341797, 'acc': 0.6168}\n",
      "loading dataset...\n",
      "loading cached base embedding...\n",
      "compute query embedding...\n"
     ]
    },
    {
     "name": "stderr",
     "output_type": "stream",
     "text": [
      "100%|██████████████████████████████████████████████████████████████████████████████████████████████████████████████████████████| 10000/10000 [00:04<00:00, 2165.64it/s]\n"
     ]
    },
    {
     "name": "stdout",
     "output_type": "stream",
     "text": [
      "{'dataset': 'point_mnist', 'pooling': 'gem', 'ann': 'faiss-lsh', 'code_length': 16, 'power': 32, 'emb_time_per_sample': 0.0004812053918838501, 'inf_time_per_sample': 1.0105490684509277e-05, 'acc': 0.1135}\n",
      "loading dataset...\n",
      "loading cached base embedding...\n",
      "compute query embedding...\n"
     ]
    },
    {
     "name": "stderr",
     "output_type": "stream",
     "text": [
      "100%|██████████████████████████████████████████████████████████████████████████████████████████████████████████████████████████| 10000/10000 [00:04<00:00, 2245.83it/s]\n"
     ]
    },
    {
     "name": "stdout",
     "output_type": "stream",
     "text": [
      "{'dataset': 'point_mnist', 'pooling': 'gem', 'ann': 'faiss-lsh', 'code_length': 32, 'power': 32, 'emb_time_per_sample': 0.000464910626411438, 'inf_time_per_sample': 1.0959386825561523e-05, 'acc': 0.1454}\n",
      "loading dataset...\n",
      "loading cached base embedding...\n",
      "compute query embedding...\n"
     ]
    },
    {
     "name": "stderr",
     "output_type": "stream",
     "text": [
      "100%|██████████████████████████████████████████████████████████████████████████████████████████████████████████████████████████| 10000/10000 [00:04<00:00, 2092.97it/s]\n"
     ]
    },
    {
     "name": "stdout",
     "output_type": "stream",
     "text": [
      "{'dataset': 'point_mnist', 'pooling': 'gem', 'ann': 'faiss-lsh', 'code_length': 64, 'power': 32, 'emb_time_per_sample': 0.0004952167987823487, 'inf_time_per_sample': 2.37576961517334e-05, 'acc': 0.2086}\n",
      "loading dataset...\n",
      "loading cached base embedding...\n",
      "compute query embedding...\n"
     ]
    },
    {
     "name": "stderr",
     "output_type": "stream",
     "text": [
      "100%|██████████████████████████████████████████████████████████████████████████████████████████████████████████████████████████| 10000/10000 [00:04<00:00, 2137.96it/s]\n"
     ]
    },
    {
     "name": "stdout",
     "output_type": "stream",
     "text": [
      "{'dataset': 'point_mnist', 'pooling': 'gem', 'ann': 'faiss-lsh', 'code_length': 128, 'power': 32, 'emb_time_per_sample': 0.00048515570163726806, 'inf_time_per_sample': 2.542250156402588e-05, 'acc': 0.1231}\n",
      "loading dataset...\n",
      "loading cached base embedding...\n",
      "compute query embedding...\n"
     ]
    },
    {
     "name": "stderr",
     "output_type": "stream",
     "text": [
      "100%|██████████████████████████████████████████████████████████████████████████████████████████████████████████████████████████| 10000/10000 [00:04<00:00, 2277.18it/s]\n"
     ]
    },
    {
     "name": "stdout",
     "output_type": "stream",
     "text": [
      "{'dataset': 'point_mnist', 'pooling': 'gem', 'ann': 'faiss-lsh', 'code_length': 256, 'power': 32, 'emb_time_per_sample': 0.00045608749389648435, 'inf_time_per_sample': 0.00011461937427520751, 'acc': 0.2971}\n",
      "loading dataset...\n",
      "loading cached base embedding...\n",
      "compute query embedding...\n"
     ]
    },
    {
     "name": "stderr",
     "output_type": "stream",
     "text": [
      "100%|██████████████████████████████████████████████████████████████████████████████████████████████████████████████████████████| 10000/10000 [00:04<00:00, 2196.24it/s]\n"
     ]
    },
    {
     "name": "stdout",
     "output_type": "stream",
     "text": [
      "{'dataset': 'point_mnist', 'pooling': 'gem', 'ann': 'faiss-lsh', 'code_length': 512, 'power': 32, 'emb_time_per_sample': 0.00047293989658355715, 'inf_time_per_sample': 0.00024068448543548585, 'acc': 0.2844}\n",
      "loading dataset...\n",
      "loading cached base embedding...\n",
      "compute query embedding...\n"
     ]
    },
    {
     "name": "stderr",
     "output_type": "stream",
     "text": [
      "100%|██████████████████████████████████████████████████████████████████████████████████████████████████████████████████████████| 10000/10000 [00:04<00:00, 2064.20it/s]\n"
     ]
    },
    {
     "name": "stdout",
     "output_type": "stream",
     "text": [
      "{'dataset': 'point_mnist', 'pooling': 'gem', 'ann': 'faiss-lsh', 'code_length': 1024, 'power': 32, 'emb_time_per_sample': 0.0005092038869857788, 'inf_time_per_sample': 0.0003697580814361572, 'acc': 0.3183}\n"
     ]
    }
   ],
   "source": [
    "gem_records = []\n",
    "for p in [1, 2, 4, 8, 16, 32]:\n",
    "    for n in [16, 32, 64, 128, 256, 512, 1024]:\n",
    "        exp = Experiment('point_mnist', 'gem', 'faiss-lsh', k=9, ref_size=500, code_length=n, power=p)\n",
    "        acc = exp.test()\n",
    "        \n",
    "        report = exp.get_exp_report()\n",
    "        report['acc'] = acc\n",
    "        print(report)\n",
    "        gem_records.append(report)"
   ]
  },
  {
   "cell_type": "code",
   "execution_count": 4,
   "id": "ea417da3",
   "metadata": {},
   "outputs": [],
   "source": [
    "import altair as alt"
   ]
  },
  {
   "cell_type": "code",
   "execution_count": 13,
   "id": "109d17a4",
   "metadata": {},
   "outputs": [
    {
     "data": {
      "text/html": [
       "\n",
       "<div id=\"altair-viz-71308b28e058463eb9ea7982923dfa5b\"></div>\n",
       "<script type=\"text/javascript\">\n",
       "  (function(spec, embedOpt){\n",
       "    let outputDiv = document.currentScript.previousElementSibling;\n",
       "    if (outputDiv.id !== \"altair-viz-71308b28e058463eb9ea7982923dfa5b\") {\n",
       "      outputDiv = document.getElementById(\"altair-viz-71308b28e058463eb9ea7982923dfa5b\");\n",
       "    }\n",
       "    const paths = {\n",
       "      \"vega\": \"https://cdn.jsdelivr.net/npm//vega@5?noext\",\n",
       "      \"vega-lib\": \"https://cdn.jsdelivr.net/npm//vega-lib?noext\",\n",
       "      \"vega-lite\": \"https://cdn.jsdelivr.net/npm//vega-lite@4.8.1?noext\",\n",
       "      \"vega-embed\": \"https://cdn.jsdelivr.net/npm//vega-embed@6?noext\",\n",
       "    };\n",
       "\n",
       "    function loadScript(lib) {\n",
       "      return new Promise(function(resolve, reject) {\n",
       "        var s = document.createElement('script');\n",
       "        s.src = paths[lib];\n",
       "        s.async = true;\n",
       "        s.onload = () => resolve(paths[lib]);\n",
       "        s.onerror = () => reject(`Error loading script: ${paths[lib]}`);\n",
       "        document.getElementsByTagName(\"head\")[0].appendChild(s);\n",
       "      });\n",
       "    }\n",
       "\n",
       "    function showError(err) {\n",
       "      outputDiv.innerHTML = `<div class=\"error\" style=\"color:red;\">${err}</div>`;\n",
       "      throw err;\n",
       "    }\n",
       "\n",
       "    function displayChart(vegaEmbed) {\n",
       "      vegaEmbed(outputDiv, spec, embedOpt)\n",
       "        .catch(err => showError(`Javascript Error: ${err.message}<br>This usually means there's a typo in your chart specification. See the javascript console for the full traceback.`));\n",
       "    }\n",
       "\n",
       "    if(typeof define === \"function\" && define.amd) {\n",
       "      requirejs.config({paths});\n",
       "      require([\"vega-embed\"], displayChart, err => showError(`Error loading script: ${err.message}`));\n",
       "    } else if (typeof vegaEmbed === \"function\") {\n",
       "      displayChart(vegaEmbed);\n",
       "    } else {\n",
       "      loadScript(\"vega\")\n",
       "        .then(() => loadScript(\"vega-lite\"))\n",
       "        .then(() => loadScript(\"vega-embed\"))\n",
       "        .catch(showError)\n",
       "        .then(() => displayChart(vegaEmbed));\n",
       "    }\n",
       "  })({\"config\": {\"view\": {\"continuousWidth\": 400, \"continuousHeight\": 300}}, \"data\": {\"values\": [{\"dataset\": \"point_mnist\", \"pooling\": \"gem\", \"ann\": \"faiss-lsh\", \"code_length\": 16, \"power\": 1, \"emb_time_per_sample\": 9.709570407867431e-05, \"inf_time_per_sample\": 1.403830051422119e-05, \"acc\": 0.1135}, {\"dataset\": \"point_mnist\", \"pooling\": \"gem\", \"ann\": \"faiss-lsh\", \"code_length\": 32, \"power\": 1, \"emb_time_per_sample\": 4.222071170806885e-05, \"inf_time_per_sample\": 8.872604370117187e-06, \"acc\": 0.1136}, {\"dataset\": \"point_mnist\", \"pooling\": \"gem\", \"ann\": \"faiss-lsh\", \"code_length\": 64, \"power\": 1, \"emb_time_per_sample\": 3.794798851013184e-05, \"inf_time_per_sample\": 2.2045373916625977e-05, \"acc\": 0.1116}, {\"dataset\": \"point_mnist\", \"pooling\": \"gem\", \"ann\": \"faiss-lsh\", \"code_length\": 128, \"power\": 1, \"emb_time_per_sample\": 3.755447864532471e-05, \"inf_time_per_sample\": 2.5834226608276367e-05, \"acc\": 0.1032}, {\"dataset\": \"point_mnist\", \"pooling\": \"gem\", \"ann\": \"faiss-lsh\", \"code_length\": 256, \"power\": 1, \"emb_time_per_sample\": 3.656747341156006e-05, \"inf_time_per_sample\": 0.00011735260486602783, \"acc\": 0.1054}, {\"dataset\": \"point_mnist\", \"pooling\": \"gem\", \"ann\": \"faiss-lsh\", \"code_length\": 512, \"power\": 1, \"emb_time_per_sample\": 3.811452388763428e-05, \"inf_time_per_sample\": 0.00020029230117797852, \"acc\": 0.0966}, {\"dataset\": \"point_mnist\", \"pooling\": \"gem\", \"ann\": \"faiss-lsh\", \"code_length\": 1024, \"power\": 1, \"emb_time_per_sample\": 3.8874077796936035e-05, \"inf_time_per_sample\": 0.00035484349727630616, \"acc\": 0.1032}, {\"dataset\": \"point_mnist\", \"pooling\": \"gem\", \"ann\": \"faiss-lsh\", \"code_length\": 16, \"power\": 2, \"emb_time_per_sample\": 5.7196617126464845e-05, \"inf_time_per_sample\": 1.2000703811645508e-05, \"acc\": 0.114}, {\"dataset\": \"point_mnist\", \"pooling\": \"gem\", \"ann\": \"faiss-lsh\", \"code_length\": 32, \"power\": 2, \"emb_time_per_sample\": 5.532989501953125e-05, \"inf_time_per_sample\": 1.0431504249572753e-05, \"acc\": 0.1529}, {\"dataset\": \"point_mnist\", \"pooling\": \"gem\", \"ann\": \"faiss-lsh\", \"code_length\": 64, \"power\": 2, \"emb_time_per_sample\": 7.244079113006592e-05, \"inf_time_per_sample\": 2.245302200317383e-05, \"acc\": 0.188}, {\"dataset\": \"point_mnist\", \"pooling\": \"gem\", \"ann\": \"faiss-lsh\", \"code_length\": 128, \"power\": 2, \"emb_time_per_sample\": 5.076191425323486e-05, \"inf_time_per_sample\": 2.452402114868164e-05, \"acc\": 0.1801}, {\"dataset\": \"point_mnist\", \"pooling\": \"gem\", \"ann\": \"faiss-lsh\", \"code_length\": 256, \"power\": 2, \"emb_time_per_sample\": 5.1311802864074706e-05, \"inf_time_per_sample\": 0.00011693601608276367, \"acc\": 0.2735}, {\"dataset\": \"point_mnist\", \"pooling\": \"gem\", \"ann\": \"faiss-lsh\", \"code_length\": 512, \"power\": 2, \"emb_time_per_sample\": 5.211718082427979e-05, \"inf_time_per_sample\": 0.00019775207042694093, \"acc\": 0.3013}, {\"dataset\": \"point_mnist\", \"pooling\": \"gem\", \"ann\": \"faiss-lsh\", \"code_length\": 1024, \"power\": 2, \"emb_time_per_sample\": 8.224852085113525e-05, \"inf_time_per_sample\": 0.00035813560485839843, \"acc\": 0.346}, {\"dataset\": \"point_mnist\", \"pooling\": \"gem\", \"ann\": \"faiss-lsh\", \"code_length\": 16, \"power\": 4, \"emb_time_per_sample\": 7.985100746154785e-05, \"inf_time_per_sample\": 9.791827201843261e-06, \"acc\": 0.1135}, {\"dataset\": \"point_mnist\", \"pooling\": \"gem\", \"ann\": \"faiss-lsh\", \"code_length\": 32, \"power\": 4, \"emb_time_per_sample\": 8.231348991394043e-05, \"inf_time_per_sample\": 9.496378898620606e-06, \"acc\": 0.1217}, {\"dataset\": \"point_mnist\", \"pooling\": \"gem\", \"ann\": \"faiss-lsh\", \"code_length\": 64, \"power\": 4, \"emb_time_per_sample\": 9.32124137878418e-05, \"inf_time_per_sample\": 2.2045302391052245e-05, \"acc\": 0.2017}, {\"dataset\": \"point_mnist\", \"pooling\": \"gem\", \"ann\": \"faiss-lsh\", \"code_length\": 128, \"power\": 4, \"emb_time_per_sample\": 8.051021099090576e-05, \"inf_time_per_sample\": 2.470700740814209e-05, \"acc\": 0.3006}, {\"dataset\": \"point_mnist\", \"pooling\": \"gem\", \"ann\": \"faiss-lsh\", \"code_length\": 256, \"power\": 4, \"emb_time_per_sample\": 7.584481239318847e-05, \"inf_time_per_sample\": 0.00011776330471038818, \"acc\": 0.3023}, {\"dataset\": \"point_mnist\", \"pooling\": \"gem\", \"ann\": \"faiss-lsh\", \"code_length\": 512, \"power\": 4, \"emb_time_per_sample\": 7.82355785369873e-05, \"inf_time_per_sample\": 0.00019068238735198975, \"acc\": 0.4345}, {\"dataset\": \"point_mnist\", \"pooling\": \"gem\", \"ann\": \"faiss-lsh\", \"code_length\": 1024, \"power\": 4, \"emb_time_per_sample\": 7.482633590698242e-05, \"inf_time_per_sample\": 0.000346190881729126, \"acc\": 0.4722}, {\"dataset\": \"point_mnist\", \"pooling\": \"gem\", \"ann\": \"faiss-lsh\", \"code_length\": 16, \"power\": 8, \"emb_time_per_sample\": 0.00013798320293426515, \"inf_time_per_sample\": 1.0200190544128418e-05, \"acc\": 0.1513}, {\"dataset\": \"point_mnist\", \"pooling\": \"gem\", \"ann\": \"faiss-lsh\", \"code_length\": 32, \"power\": 8, \"emb_time_per_sample\": 0.0001829024076461792, \"inf_time_per_sample\": 1.1484217643737793e-05, \"acc\": 0.2093}, {\"dataset\": \"point_mnist\", \"pooling\": \"gem\", \"ann\": \"faiss-lsh\", \"code_length\": 64, \"power\": 8, \"emb_time_per_sample\": 0.0001312114953994751, \"inf_time_per_sample\": 2.226290702819824e-05, \"acc\": 0.2647}, {\"dataset\": \"point_mnist\", \"pooling\": \"gem\", \"ann\": \"faiss-lsh\", \"code_length\": 128, \"power\": 8, \"emb_time_per_sample\": 0.00013732039928436278, \"inf_time_per_sample\": 2.4356579780578614e-05, \"acc\": 0.4216}, {\"dataset\": \"point_mnist\", \"pooling\": \"gem\", \"ann\": \"faiss-lsh\", \"code_length\": 256, \"power\": 8, \"emb_time_per_sample\": 0.00013913500308990477, \"inf_time_per_sample\": 0.00012083537578582763, \"acc\": 0.3949}, {\"dataset\": \"point_mnist\", \"pooling\": \"gem\", \"ann\": \"faiss-lsh\", \"code_length\": 512, \"power\": 8, \"emb_time_per_sample\": 0.00013230922222137452, \"inf_time_per_sample\": 0.00019291436672210692, \"acc\": 0.5301}, {\"dataset\": \"point_mnist\", \"pooling\": \"gem\", \"ann\": \"faiss-lsh\", \"code_length\": 1024, \"power\": 8, \"emb_time_per_sample\": 0.00013428890705108643, \"inf_time_per_sample\": 0.00034173541069030763, \"acc\": 0.5664}, {\"dataset\": \"point_mnist\", \"pooling\": \"gem\", \"ann\": \"faiss-lsh\", \"code_length\": 16, \"power\": 16, \"emb_time_per_sample\": 0.00024011220932006837, \"inf_time_per_sample\": 1.0152983665466308e-05, \"acc\": 0.1154}, {\"dataset\": \"point_mnist\", \"pooling\": \"gem\", \"ann\": \"faiss-lsh\", \"code_length\": 32, \"power\": 16, \"emb_time_per_sample\": 0.0002567373037338257, \"inf_time_per_sample\": 1.1292290687561036e-05, \"acc\": 0.1388}, {\"dataset\": \"point_mnist\", \"pooling\": \"gem\", \"ann\": \"faiss-lsh\", \"code_length\": 64, \"power\": 16, \"emb_time_per_sample\": 0.0002464046001434326, \"inf_time_per_sample\": 2.8030180931091308e-05, \"acc\": 0.3421}, {\"dataset\": \"point_mnist\", \"pooling\": \"gem\", \"ann\": \"faiss-lsh\", \"code_length\": 128, \"power\": 16, \"emb_time_per_sample\": 0.00023800687789916992, \"inf_time_per_sample\": 2.5952792167663573e-05, \"acc\": 0.2919}, {\"dataset\": \"point_mnist\", \"pooling\": \"gem\", \"ann\": \"faiss-lsh\", \"code_length\": 256, \"power\": 16, \"emb_time_per_sample\": 0.0002996670246124268, \"inf_time_per_sample\": 0.00011612217426300048, \"acc\": 0.3849}, {\"dataset\": \"point_mnist\", \"pooling\": \"gem\", \"ann\": \"faiss-lsh\", \"code_length\": 512, \"power\": 16, \"emb_time_per_sample\": 0.00024303619861602784, \"inf_time_per_sample\": 0.00019157769680023195, \"acc\": 0.5536}, {\"dataset\": \"point_mnist\", \"pooling\": \"gem\", \"ann\": \"faiss-lsh\", \"code_length\": 1024, \"power\": 16, \"emb_time_per_sample\": 0.00024381761550903321, \"inf_time_per_sample\": 0.00037074429988861085, \"acc\": 0.6168}, {\"dataset\": \"point_mnist\", \"pooling\": \"gem\", \"ann\": \"faiss-lsh\", \"code_length\": 16, \"power\": 32, \"emb_time_per_sample\": 0.0004720818281173706, \"inf_time_per_sample\": 1.1331510543823242e-05, \"acc\": 0.1135}, {\"dataset\": \"point_mnist\", \"pooling\": \"gem\", \"ann\": \"faiss-lsh\", \"code_length\": 32, \"power\": 32, \"emb_time_per_sample\": 0.0004945518970489502, \"inf_time_per_sample\": 1.0738396644592286e-05, \"acc\": 0.1454}, {\"dataset\": \"point_mnist\", \"pooling\": \"gem\", \"ann\": \"faiss-lsh\", \"code_length\": 64, \"power\": 32, \"emb_time_per_sample\": 0.0005257291078567505, \"inf_time_per_sample\": 2.6824212074279784e-05, \"acc\": 0.2086}, {\"dataset\": \"point_mnist\", \"pooling\": \"gem\", \"ann\": \"faiss-lsh\", \"code_length\": 128, \"power\": 32, \"emb_time_per_sample\": 0.0004644222974777222, \"inf_time_per_sample\": 2.5306510925292967e-05, \"acc\": 0.1231}, {\"dataset\": \"point_mnist\", \"pooling\": \"gem\", \"ann\": \"faiss-lsh\", \"code_length\": 256, \"power\": 32, \"emb_time_per_sample\": 0.00047480077743530276, \"inf_time_per_sample\": 0.00011667799949645996, \"acc\": 0.2971}, {\"dataset\": \"point_mnist\", \"pooling\": \"gem\", \"ann\": \"faiss-lsh\", \"code_length\": 512, \"power\": 32, \"emb_time_per_sample\": 0.00046742069721221924, \"inf_time_per_sample\": 0.00018940300941467286, \"acc\": 0.2844}, {\"dataset\": \"point_mnist\", \"pooling\": \"gem\", \"ann\": \"faiss-lsh\", \"code_length\": 1024, \"power\": 32, \"emb_time_per_sample\": 0.00046866939067840576, \"inf_time_per_sample\": 0.0003459742069244385, \"acc\": 0.3183}]}, \"mark\": \"line\", \"encoding\": {\"color\": {\"type\": \"nominal\", \"field\": \"code_length\"}, \"x\": {\"type\": \"quantitative\", \"field\": \"power\", \"scale\": {\"base\": 2, \"type\": \"log\"}}, \"y\": {\"type\": \"quantitative\", \"field\": \"acc\"}}, \"$schema\": \"https://vega.github.io/schema/vega-lite/v4.8.1.json\"}, {\"mode\": \"vega-lite\"});\n",
       "</script>"
      ],
      "text/plain": [
       "alt.Chart(...)"
      ]
     },
     "execution_count": 13,
     "metadata": {},
     "output_type": "execute_result"
    }
   ],
   "source": [
    "data = alt.Data(values=gem_records)\n",
    "alt.Chart(data).mark_line().encode(\n",
    "    alt.X('power:Q', scale=alt.Scale(type='log', base=2)),\n",
    "    y='acc:Q',\n",
    "    color='code_length:N',\n",
    ")"
   ]
  },
  {
   "cell_type": "code",
   "execution_count": 5,
   "id": "441adbb0",
   "metadata": {},
   "outputs": [
    {
     "data": {
      "text/html": [
       "\n",
       "<div id=\"altair-viz-b32337c0423f4f26a031c1a9ab4cc2a6\"></div>\n",
       "<script type=\"text/javascript\">\n",
       "  (function(spec, embedOpt){\n",
       "    let outputDiv = document.currentScript.previousElementSibling;\n",
       "    if (outputDiv.id !== \"altair-viz-b32337c0423f4f26a031c1a9ab4cc2a6\") {\n",
       "      outputDiv = document.getElementById(\"altair-viz-b32337c0423f4f26a031c1a9ab4cc2a6\");\n",
       "    }\n",
       "    const paths = {\n",
       "      \"vega\": \"https://cdn.jsdelivr.net/npm//vega@5?noext\",\n",
       "      \"vega-lib\": \"https://cdn.jsdelivr.net/npm//vega-lib?noext\",\n",
       "      \"vega-lite\": \"https://cdn.jsdelivr.net/npm//vega-lite@4.8.1?noext\",\n",
       "      \"vega-embed\": \"https://cdn.jsdelivr.net/npm//vega-embed@6?noext\",\n",
       "    };\n",
       "\n",
       "    function loadScript(lib) {\n",
       "      return new Promise(function(resolve, reject) {\n",
       "        var s = document.createElement('script');\n",
       "        s.src = paths[lib];\n",
       "        s.async = true;\n",
       "        s.onload = () => resolve(paths[lib]);\n",
       "        s.onerror = () => reject(`Error loading script: ${paths[lib]}`);\n",
       "        document.getElementsByTagName(\"head\")[0].appendChild(s);\n",
       "      });\n",
       "    }\n",
       "\n",
       "    function showError(err) {\n",
       "      outputDiv.innerHTML = `<div class=\"error\" style=\"color:red;\">${err}</div>`;\n",
       "      throw err;\n",
       "    }\n",
       "\n",
       "    function displayChart(vegaEmbed) {\n",
       "      vegaEmbed(outputDiv, spec, embedOpt)\n",
       "        .catch(err => showError(`Javascript Error: ${err.message}<br>This usually means there's a typo in your chart specification. See the javascript console for the full traceback.`));\n",
       "    }\n",
       "\n",
       "    if(typeof define === \"function\" && define.amd) {\n",
       "      requirejs.config({paths});\n",
       "      require([\"vega-embed\"], displayChart, err => showError(`Error loading script: ${err.message}`));\n",
       "    } else if (typeof vegaEmbed === \"function\") {\n",
       "      displayChart(vegaEmbed);\n",
       "    } else {\n",
       "      loadScript(\"vega\")\n",
       "        .then(() => loadScript(\"vega-lite\"))\n",
       "        .then(() => loadScript(\"vega-embed\"))\n",
       "        .catch(showError)\n",
       "        .then(() => displayChart(vegaEmbed));\n",
       "    }\n",
       "  })({\"config\": {\"view\": {\"continuousWidth\": 400, \"continuousHeight\": 300}}, \"data\": {\"values\": [{\"dataset\": \"point_mnist\", \"pooling\": \"gem\", \"ann\": \"faiss-lsh\", \"code_length\": 16, \"power\": 1, \"emb_time_per_sample\": 4.701049327850342e-05, \"inf_time_per_sample\": 9.769988059997558e-06, \"acc\": 0.1135}, {\"dataset\": \"point_mnist\", \"pooling\": \"gem\", \"ann\": \"faiss-lsh\", \"code_length\": 32, \"power\": 1, \"emb_time_per_sample\": 4.022142887115478e-05, \"inf_time_per_sample\": 9.356403350830078e-06, \"acc\": 0.1136}, {\"dataset\": \"point_mnist\", \"pooling\": \"gem\", \"ann\": \"faiss-lsh\", \"code_length\": 64, \"power\": 1, \"emb_time_per_sample\": 4.3436789512634274e-05, \"inf_time_per_sample\": 2.2711610794067383e-05, \"acc\": 0.1116}, {\"dataset\": \"point_mnist\", \"pooling\": \"gem\", \"ann\": \"faiss-lsh\", \"code_length\": 128, \"power\": 1, \"emb_time_per_sample\": 3.721721172332764e-05, \"inf_time_per_sample\": 2.4271821975708007e-05, \"acc\": 0.1032}, {\"dataset\": \"point_mnist\", \"pooling\": \"gem\", \"ann\": \"faiss-lsh\", \"code_length\": 256, \"power\": 1, \"emb_time_per_sample\": 4.458198547363281e-05, \"inf_time_per_sample\": 0.00011527068614959717, \"acc\": 0.1054}, {\"dataset\": \"point_mnist\", \"pooling\": \"gem\", \"ann\": \"faiss-lsh\", \"code_length\": 512, \"power\": 1, \"emb_time_per_sample\": 3.744988441467285e-05, \"inf_time_per_sample\": 0.00019086599349975585, \"acc\": 0.0966}, {\"dataset\": \"point_mnist\", \"pooling\": \"gem\", \"ann\": \"faiss-lsh\", \"code_length\": 1024, \"power\": 1, \"emb_time_per_sample\": 3.6785197257995604e-05, \"inf_time_per_sample\": 0.00036565680503845214, \"acc\": 0.1032}, {\"dataset\": \"point_mnist\", \"pooling\": \"gem\", \"ann\": \"faiss-lsh\", \"code_length\": 16, \"power\": 2, \"emb_time_per_sample\": 5.333030223846436e-05, \"inf_time_per_sample\": 9.358787536621093e-06, \"acc\": 0.114}, {\"dataset\": \"point_mnist\", \"pooling\": \"gem\", \"ann\": \"faiss-lsh\", \"code_length\": 32, \"power\": 2, \"emb_time_per_sample\": 5.890381336212158e-05, \"inf_time_per_sample\": 9.36441421508789e-06, \"acc\": 0.1529}, {\"dataset\": \"point_mnist\", \"pooling\": \"gem\", \"ann\": \"faiss-lsh\", \"code_length\": 64, \"power\": 2, \"emb_time_per_sample\": 5.393950939178467e-05, \"inf_time_per_sample\": 2.2162580490112303e-05, \"acc\": 0.188}, {\"dataset\": \"point_mnist\", \"pooling\": \"gem\", \"ann\": \"faiss-lsh\", \"code_length\": 128, \"power\": 2, \"emb_time_per_sample\": 5.03054141998291e-05, \"inf_time_per_sample\": 2.4396324157714842e-05, \"acc\": 0.1801}, {\"dataset\": \"point_mnist\", \"pooling\": \"gem\", \"ann\": \"faiss-lsh\", \"code_length\": 256, \"power\": 2, \"emb_time_per_sample\": 4.902019500732422e-05, \"inf_time_per_sample\": 0.00011159770488739014, \"acc\": 0.2735}, {\"dataset\": \"point_mnist\", \"pooling\": \"gem\", \"ann\": \"faiss-lsh\", \"code_length\": 512, \"power\": 2, \"emb_time_per_sample\": 5.602281093597412e-05, \"inf_time_per_sample\": 0.00018895699977874755, \"acc\": 0.3013}, {\"dataset\": \"point_mnist\", \"pooling\": \"gem\", \"ann\": \"faiss-lsh\", \"code_length\": 1024, \"power\": 2, \"emb_time_per_sample\": 4.913861751556397e-05, \"inf_time_per_sample\": 0.00035760860443115235, \"acc\": 0.346}, {\"dataset\": \"point_mnist\", \"pooling\": \"gem\", \"ann\": \"faiss-lsh\", \"code_length\": 16, \"power\": 4, \"emb_time_per_sample\": 7.871620655059814e-05, \"inf_time_per_sample\": 9.30643081665039e-06, \"acc\": 0.1135}, {\"dataset\": \"point_mnist\", \"pooling\": \"gem\", \"ann\": \"faiss-lsh\", \"code_length\": 32, \"power\": 4, \"emb_time_per_sample\": 7.886028289794922e-05, \"inf_time_per_sample\": 9.008216857910156e-06, \"acc\": 0.1217}, {\"dataset\": \"point_mnist\", \"pooling\": \"gem\", \"ann\": \"faiss-lsh\", \"code_length\": 64, \"power\": 4, \"emb_time_per_sample\": 8.16012144088745e-05, \"inf_time_per_sample\": 2.2147893905639647e-05, \"acc\": 0.2017}, {\"dataset\": \"point_mnist\", \"pooling\": \"gem\", \"ann\": \"faiss-lsh\", \"code_length\": 128, \"power\": 4, \"emb_time_per_sample\": 8.196461200714111e-05, \"inf_time_per_sample\": 2.3876619338989256e-05, \"acc\": 0.3006}, {\"dataset\": \"point_mnist\", \"pooling\": \"gem\", \"ann\": \"faiss-lsh\", \"code_length\": 256, \"power\": 4, \"emb_time_per_sample\": 7.57617950439453e-05, \"inf_time_per_sample\": 0.0001130657196044922, \"acc\": 0.3023}, {\"dataset\": \"point_mnist\", \"pooling\": \"gem\", \"ann\": \"faiss-lsh\", \"code_length\": 512, \"power\": 4, \"emb_time_per_sample\": 7.609968185424805e-05, \"inf_time_per_sample\": 0.00018927979469299318, \"acc\": 0.4345}, {\"dataset\": \"point_mnist\", \"pooling\": \"gem\", \"ann\": \"faiss-lsh\", \"code_length\": 1024, \"power\": 4, \"emb_time_per_sample\": 8.715357780456543e-05, \"inf_time_per_sample\": 0.00038511881828308105, \"acc\": 0.4722}, {\"dataset\": \"point_mnist\", \"pooling\": \"gem\", \"ann\": \"faiss-lsh\", \"code_length\": 16, \"power\": 8, \"emb_time_per_sample\": 0.00014903221130371094, \"inf_time_per_sample\": 9.86318588256836e-06, \"acc\": 0.1513}, {\"dataset\": \"point_mnist\", \"pooling\": \"gem\", \"ann\": \"faiss-lsh\", \"code_length\": 32, \"power\": 8, \"emb_time_per_sample\": 0.0001707426071166992, \"inf_time_per_sample\": 1.277158260345459e-05, \"acc\": 0.2093}, {\"dataset\": \"point_mnist\", \"pooling\": \"gem\", \"ann\": \"faiss-lsh\", \"code_length\": 64, \"power\": 8, \"emb_time_per_sample\": 0.00013778440952301026, \"inf_time_per_sample\": 2.400977611541748e-05, \"acc\": 0.2647}, {\"dataset\": \"point_mnist\", \"pooling\": \"gem\", \"ann\": \"faiss-lsh\", \"code_length\": 128, \"power\": 8, \"emb_time_per_sample\": 0.0001523730993270874, \"inf_time_per_sample\": 5.404469966888428e-05, \"acc\": 0.4216}, {\"dataset\": \"point_mnist\", \"pooling\": \"gem\", \"ann\": \"faiss-lsh\", \"code_length\": 256, \"power\": 8, \"emb_time_per_sample\": 0.00012952020168304444, \"inf_time_per_sample\": 0.00012309589385986328, \"acc\": 0.3949}, {\"dataset\": \"point_mnist\", \"pooling\": \"gem\", \"ann\": \"faiss-lsh\", \"code_length\": 512, \"power\": 8, \"emb_time_per_sample\": 0.0001346768856048584, \"inf_time_per_sample\": 0.0002258817672729492, \"acc\": 0.5301}, {\"dataset\": \"point_mnist\", \"pooling\": \"gem\", \"ann\": \"faiss-lsh\", \"code_length\": 1024, \"power\": 8, \"emb_time_per_sample\": 0.00015317699909210206, \"inf_time_per_sample\": 0.0003700228214263916, \"acc\": 0.5664}, {\"dataset\": \"point_mnist\", \"pooling\": \"gem\", \"ann\": \"faiss-lsh\", \"code_length\": 16, \"power\": 16, \"emb_time_per_sample\": 0.0003076201915740967, \"inf_time_per_sample\": 1.1000394821166993e-05, \"acc\": 0.1154}, {\"dataset\": \"point_mnist\", \"pooling\": \"gem\", \"ann\": \"faiss-lsh\", \"code_length\": 32, \"power\": 16, \"emb_time_per_sample\": 0.00028337368965148925, \"inf_time_per_sample\": 9.688305854797363e-06, \"acc\": 0.1388}, {\"dataset\": \"point_mnist\", \"pooling\": \"gem\", \"ann\": \"faiss-lsh\", \"code_length\": 64, \"power\": 16, \"emb_time_per_sample\": 0.0002712930917739868, \"inf_time_per_sample\": 2.2874999046325683e-05, \"acc\": 0.3421}, {\"dataset\": \"point_mnist\", \"pooling\": \"gem\", \"ann\": \"faiss-lsh\", \"code_length\": 128, \"power\": 16, \"emb_time_per_sample\": 0.0002452582359313965, \"inf_time_per_sample\": 3.518970012664795e-05, \"acc\": 0.2919}, {\"dataset\": \"point_mnist\", \"pooling\": \"gem\", \"ann\": \"faiss-lsh\", \"code_length\": 256, \"power\": 16, \"emb_time_per_sample\": 0.00024200961589813233, \"inf_time_per_sample\": 0.00011823410987854004, \"acc\": 0.3849}, {\"dataset\": \"point_mnist\", \"pooling\": \"gem\", \"ann\": \"faiss-lsh\", \"code_length\": 512, \"power\": 16, \"emb_time_per_sample\": 0.00024757399559020995, \"inf_time_per_sample\": 0.00019043738842010498, \"acc\": 0.5536}, {\"dataset\": \"point_mnist\", \"pooling\": \"gem\", \"ann\": \"faiss-lsh\", \"code_length\": 1024, \"power\": 16, \"emb_time_per_sample\": 0.00024912431240081787, \"inf_time_per_sample\": 0.0003738780975341797, \"acc\": 0.6168}, {\"dataset\": \"point_mnist\", \"pooling\": \"gem\", \"ann\": \"faiss-lsh\", \"code_length\": 16, \"power\": 32, \"emb_time_per_sample\": 0.0004812053918838501, \"inf_time_per_sample\": 1.0105490684509277e-05, \"acc\": 0.1135}, {\"dataset\": \"point_mnist\", \"pooling\": \"gem\", \"ann\": \"faiss-lsh\", \"code_length\": 32, \"power\": 32, \"emb_time_per_sample\": 0.000464910626411438, \"inf_time_per_sample\": 1.0959386825561523e-05, \"acc\": 0.1454}, {\"dataset\": \"point_mnist\", \"pooling\": \"gem\", \"ann\": \"faiss-lsh\", \"code_length\": 64, \"power\": 32, \"emb_time_per_sample\": 0.0004952167987823487, \"inf_time_per_sample\": 2.37576961517334e-05, \"acc\": 0.2086}, {\"dataset\": \"point_mnist\", \"pooling\": \"gem\", \"ann\": \"faiss-lsh\", \"code_length\": 128, \"power\": 32, \"emb_time_per_sample\": 0.00048515570163726806, \"inf_time_per_sample\": 2.542250156402588e-05, \"acc\": 0.1231}, {\"dataset\": \"point_mnist\", \"pooling\": \"gem\", \"ann\": \"faiss-lsh\", \"code_length\": 256, \"power\": 32, \"emb_time_per_sample\": 0.00045608749389648435, \"inf_time_per_sample\": 0.00011461937427520751, \"acc\": 0.2971}, {\"dataset\": \"point_mnist\", \"pooling\": \"gem\", \"ann\": \"faiss-lsh\", \"code_length\": 512, \"power\": 32, \"emb_time_per_sample\": 0.00047293989658355715, \"inf_time_per_sample\": 0.00024068448543548585, \"acc\": 0.2844}, {\"dataset\": \"point_mnist\", \"pooling\": \"gem\", \"ann\": \"faiss-lsh\", \"code_length\": 1024, \"power\": 32, \"emb_time_per_sample\": 0.0005092038869857788, \"inf_time_per_sample\": 0.0003697580814361572, \"acc\": 0.3183}]}, \"mark\": \"line\", \"encoding\": {\"color\": {\"type\": \"nominal\", \"field\": \"code_length\"}, \"x\": {\"type\": \"quantitative\", \"field\": \"power\", \"scale\": {\"base\": 2, \"type\": \"log\"}}, \"y\": {\"type\": \"quantitative\", \"field\": \"inf_time_per_sample\"}}, \"$schema\": \"https://vega.github.io/schema/vega-lite/v4.8.1.json\"}, {\"mode\": \"vega-lite\"});\n",
       "</script>"
      ],
      "text/plain": [
       "alt.Chart(...)"
      ]
     },
     "execution_count": 5,
     "metadata": {},
     "output_type": "execute_result"
    }
   ],
   "source": [
    "data = alt.Data(values=gem_records)\n",
    "alt.Chart(data).mark_line().encode(\n",
    "    alt.X('power:Q', scale=alt.Scale(type='log', base=2)),\n",
    "    y='inf_time_per_sample:Q',\n",
    "    color='code_length:N',\n",
    ")"
   ]
  },
  {
   "cell_type": "code",
   "execution_count": null,
   "id": "8a235487",
   "metadata": {},
   "outputs": [],
   "source": [
    "for n in [10, 50, 100, 250, 500]:\n",
    "    print(n)\n",
    "    exp = Experiment('point_mnist', 'swe', 'faiss-lsh', 9, ref_size=500, n_bits=n, random_state=0, num_slices=10)\n",
    "    acc = exp.test()\n",
    "    print(acc)\n",
    "    print(exp.get_time_report())"
   ]
  },
  {
   "cell_type": "code",
   "execution_count": null,
   "id": "66d4a115",
   "metadata": {},
   "outputs": [],
   "source": [
    "for n in [10, 50, 100, 250, 500]:\n",
    "    exp = Experiment('point_mnist', 'fs', 'faiss-lsh', 9, ref_size=500, n_bits=n, random_state=0)\n",
    "    acc = exp.test()\n",
    "    print(acc)\n",
    "    print(exp.get_time_report())"
   ]
  },
  {
   "cell_type": "code",
   "execution_count": null,
   "id": "70d770ae",
   "metadata": {},
   "outputs": [],
   "source": [
    "for n in [10, 50, 100, 250, 500]:\n",
    "    exp = Experiment('point_mnist', 'gem', 'faiss-lsh', 9, ref_size=500, n_bits=n, power=14)\n",
    "    acc = exp.test()\n",
    "    print(acc)\n",
    "    print(exp.get_time_report())"
   ]
  },
  {
   "cell_type": "code",
   "execution_count": null,
   "id": "b896ee5d",
   "metadata": {},
   "outputs": [],
   "source": []
  }
 ],
 "metadata": {
  "kernelspec": {
   "display_name": "swd",
   "language": "python",
   "name": "swd"
  },
  "language_info": {
   "codemirror_mode": {
    "name": "ipython",
    "version": 3
   },
   "file_extension": ".py",
   "mimetype": "text/x-python",
   "name": "python",
   "nbconvert_exporter": "python",
   "pygments_lexer": "ipython3",
   "version": "3.7.11"
  }
 },
 "nbformat": 4,
 "nbformat_minor": 5
}
