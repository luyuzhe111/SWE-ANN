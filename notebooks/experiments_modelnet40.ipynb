{
 "cells": [
  {
   "cell_type": "code",
   "execution_count": 1,
   "id": "c7a1b7cf",
   "metadata": {},
   "outputs": [],
   "source": [
    "from utils.experiment import Experiment\n",
    "import json"
   ]
  },
  {
   "cell_type": "code",
   "execution_count": 2,
   "id": "b67d3f5a",
   "metadata": {},
   "outputs": [],
   "source": [
    "ks = [4,8,16]"
   ]
  },
  {
   "cell_type": "code",
   "execution_count": 3,
   "id": "c3aded5f",
   "metadata": {
    "scrolled": true
   },
   "outputs": [
    {
     "name": "stdout",
     "output_type": "stream",
     "text": [
      "loading dataset...\n"
     ]
    },
    {
     "name": "stderr",
     "output_type": "stream",
     "text": [
      "  0%|          | 7/9843 [00:00<02:38, 62.18it/s]"
     ]
    },
    {
     "name": "stdout",
     "output_type": "stream",
     "text": [
      "compute base embedding...\n"
     ]
    },
    {
     "name": "stderr",
     "output_type": "stream",
     "text": [
      "100%|██████████| 9843/9843 [02:11<00:00, 75.06it/s]\n",
      "  0%|          | 6/2468 [00:00<00:42, 57.96it/s]"
     ]
    },
    {
     "name": "stdout",
     "output_type": "stream",
     "text": [
      "compute query embedding...\n"
     ]
    },
    {
     "name": "stderr",
     "output_type": "stream",
     "text": [
      "100%|██████████| 2468/2468 [00:33<00:00, 74.18it/s]\n"
     ]
    },
    {
     "name": "stdout",
     "output_type": "stream",
     "text": [
      "{'dataset': 'modelnet40', 'pooling': 'swe', 'ann': 'faiss-lsh', 'k': 4, 'code_length': 1024, 'emb_time_per_sample': 0.013756196058356781, 'inf_time_per_sample': 0.012803339108076048, 'acc': 0.6057536466774717, 'precision_k': 0.5516612641815235}\n",
      "loading dataset...\n",
      "loading cached base embedding...\n"
     ]
    },
    {
     "name": "stderr",
     "output_type": "stream",
     "text": [
      "  0%|          | 4/2468 [00:00<01:06, 37.00it/s]"
     ]
    },
    {
     "name": "stdout",
     "output_type": "stream",
     "text": [
      "compute query embedding...\n"
     ]
    },
    {
     "name": "stderr",
     "output_type": "stream",
     "text": [
      "100%|██████████| 2468/2468 [00:33<00:00, 73.58it/s]\n"
     ]
    },
    {
     "name": "stdout",
     "output_type": "stream",
     "text": [
      "{'dataset': 'modelnet40', 'pooling': 'swe', 'ann': 'faiss-lsh', 'k': 8, 'code_length': 1024, 'emb_time_per_sample': 0.013763837914799175, 'inf_time_per_sample': 0.012727243490698271, 'acc': 0.5984602917341977, 'precision_k': 0.5106361426256077}\n",
      "loading dataset...\n",
      "loading cached base embedding...\n"
     ]
    },
    {
     "name": "stderr",
     "output_type": "stream",
     "text": [
      "  0%|          | 4/2468 [00:00<01:03, 38.77it/s]"
     ]
    },
    {
     "name": "stdout",
     "output_type": "stream",
     "text": [
      "compute query embedding...\n"
     ]
    },
    {
     "name": "stderr",
     "output_type": "stream",
     "text": [
      "100%|██████████| 2468/2468 [00:33<00:00, 73.69it/s]\n"
     ]
    },
    {
     "name": "stdout",
     "output_type": "stream",
     "text": [
      "{'dataset': 'modelnet40', 'pooling': 'swe', 'ann': 'faiss-lsh', 'k': 16, 'code_length': 1024, 'emb_time_per_sample': 0.01373175931324642, 'inf_time_per_sample': 0.012678260065168383, 'acc': 0.5749594813614263, 'precision_k': 0.463254659643436}\n"
     ]
    }
   ],
   "source": [
    "modelnet_result = []\n",
    "for k in ks:\n",
    "    exp = Experiment('modelnet40', 'swe', 'faiss-lsh', k=k, ref_size=512, code_length=1024, num_slices=256)\n",
    "    exp.test()\n",
    "    report = exp.get_exp_report()\n",
    "    modelnet_result.append({'dataset': 'modelnet40',\n",
    "                            'pooling':'swe',\n",
    "                            'k': k,\n",
    "                            'num_slices': 256,\n",
    "                            'code_length': 1024,\n",
    "                            'precision_k': report['precision_k'],\n",
    "                            'acc': report['acc']})\n",
    "    print(report)"
   ]
  },
  {
   "cell_type": "code",
   "execution_count": 4,
   "id": "0852fee5",
   "metadata": {},
   "outputs": [
    {
     "name": "stderr",
     "output_type": "stream",
     "text": [
      "  4%|▍         | 374/9843 [00:00<00:02, 3732.55it/s]"
     ]
    },
    {
     "name": "stdout",
     "output_type": "stream",
     "text": [
      "loading dataset...\n",
      "compute base embedding...\n"
     ]
    },
    {
     "name": "stderr",
     "output_type": "stream",
     "text": [
      "100%|██████████| 9843/9843 [00:02<00:00, 4048.57it/s]\n",
      " 32%|███▏      | 798/2468 [00:00<00:00, 3991.98it/s]"
     ]
    },
    {
     "name": "stdout",
     "output_type": "stream",
     "text": [
      "compute query embedding...\n"
     ]
    },
    {
     "name": "stderr",
     "output_type": "stream",
     "text": [
      "100%|██████████| 2468/2468 [00:00<00:00, 4024.18it/s]\n"
     ]
    },
    {
     "name": "stdout",
     "output_type": "stream",
     "text": [
      "{'dataset': 'modelnet40', 'pooling': 'fs', 'ann': 'faiss-lsh', 'k': 4, 'code_length': 1024, 'emb_time_per_sample': 0.00025447319160597443, 'inf_time_per_sample': 0.0002693278862939275, 'acc': 0.5692868719611021, 'precision_k': 0.502532414910859}\n",
      "loading dataset...\n",
      "loading cached base embedding...\n"
     ]
    },
    {
     "name": "stderr",
     "output_type": "stream",
     "text": [
      " 16%|█▌        | 393/2468 [00:00<00:00, 3925.99it/s]"
     ]
    },
    {
     "name": "stdout",
     "output_type": "stream",
     "text": [
      "compute query embedding...\n"
     ]
    },
    {
     "name": "stderr",
     "output_type": "stream",
     "text": [
      "100%|██████████| 2468/2468 [00:00<00:00, 4040.39it/s]\n"
     ]
    },
    {
     "name": "stdout",
     "output_type": "stream",
     "text": [
      "{'dataset': 'modelnet40', 'pooling': 'fs', 'ann': 'faiss-lsh', 'k': 8, 'code_length': 1024, 'emb_time_per_sample': 0.00025235650218673037, 'inf_time_per_sample': 0.00025438334992098076, 'acc': 0.576580226904376, 'precision_k': 0.4677370340356564}\n",
      "loading dataset...\n",
      "loading cached base embedding...\n"
     ]
    },
    {
     "name": "stderr",
     "output_type": "stream",
     "text": [
      " 33%|███▎      | 805/2468 [00:00<00:00, 4021.48it/s]"
     ]
    },
    {
     "name": "stdout",
     "output_type": "stream",
     "text": [
      "compute query embedding...\n"
     ]
    },
    {
     "name": "stderr",
     "output_type": "stream",
     "text": [
      "100%|██████████| 2468/2468 [00:00<00:00, 4043.20it/s]\n"
     ]
    },
    {
     "name": "stdout",
     "output_type": "stream",
     "text": [
      "{'dataset': 'modelnet40', 'pooling': 'fs', 'ann': 'faiss-lsh', 'k': 16, 'code_length': 1024, 'emb_time_per_sample': 0.00025223458798623354, 'inf_time_per_sample': 0.00025637397116934655, 'acc': 0.5595623987034035, 'precision_k': 0.4223561588330632}\n"
     ]
    }
   ],
   "source": [
    "for k in ks:\n",
    "    exp = Experiment('modelnet40', 'fs', 'faiss-lsh', k=k, ref_size=512, code_length=1024)\n",
    "    exp.test()\n",
    "    report = exp.get_exp_report()\n",
    "    modelnet_result.append({'dataset': 'modelnet40',\n",
    "                            'pooling':'fs',\n",
    "                            'k': k,\n",
    "                            'code_length': 1024,\n",
    "                            'precision_k': report['precision_k'],\n",
    "                            'acc': report['acc']})\n",
    "    print(report)"
   ]
  },
  {
   "cell_type": "code",
   "execution_count": 5,
   "id": "fce18c1a",
   "metadata": {},
   "outputs": [
    {
     "name": "stdout",
     "output_type": "stream",
     "text": [
      "loading dataset...\n",
      "compute base embedding...\n"
     ]
    },
    {
     "name": "stderr",
     "output_type": "stream",
     "text": [
      "100%|██████████| 9843/9843 [00:00<00:00, 57268.36it/s]\n",
      "100%|██████████| 2468/2468 [00:00<00:00, 59484.10it/s]"
     ]
    },
    {
     "name": "stdout",
     "output_type": "stream",
     "text": [
      "compute query embedding...\n"
     ]
    },
    {
     "name": "stderr",
     "output_type": "stream",
     "text": [
      "\n",
      " 33%|███▎      | 3273/9843 [00:00<00:00, 32722.39it/s]"
     ]
    },
    {
     "name": "stdout",
     "output_type": "stream",
     "text": [
      "{'dataset': 'modelnet40', 'pooling': 'gem', 'ann': 'faiss-lsh', 'k': 4, 'code_length': 1024, 'power': 1, 'emb_time_per_sample': 1.9527428347249084e-05, 'inf_time_per_sample': 0.0001317954333906622, 'acc': 0.19084278768233387, 'precision_k': 0.16096029173419774}\n",
      "loading dataset...\n",
      "compute base embedding...\n"
     ]
    },
    {
     "name": "stderr",
     "output_type": "stream",
     "text": [
      "100%|██████████| 9843/9843 [00:00<00:00, 34864.93it/s]\n",
      "100%|██████████| 2468/2468 [00:00<00:00, 36197.24it/s]"
     ]
    },
    {
     "name": "stdout",
     "output_type": "stream",
     "text": [
      "compute query embedding...\n"
     ]
    },
    {
     "name": "stderr",
     "output_type": "stream",
     "text": [
      "\n",
      " 15%|█▍        | 1461/9843 [00:00<00:00, 14600.37it/s]"
     ]
    },
    {
     "name": "stdout",
     "output_type": "stream",
     "text": [
      "{'dataset': 'modelnet40', 'pooling': 'gem', 'ann': 'faiss-lsh', 'k': 4, 'code_length': 1024, 'power': 2, 'emb_time_per_sample': 3.0141402295574764e-05, 'inf_time_per_sample': 0.00010708510585890017, 'acc': 0.33833063209076175, 'precision_k': 0.28585899513776336}\n",
      "loading dataset...\n",
      "compute base embedding...\n"
     ]
    },
    {
     "name": "stderr",
     "output_type": "stream",
     "text": [
      "100%|██████████| 9843/9843 [00:00<00:00, 15493.64it/s]\n",
      "100%|██████████| 2468/2468 [00:00<00:00, 15629.74it/s]"
     ]
    },
    {
     "name": "stdout",
     "output_type": "stream",
     "text": [
      "compute query embedding...\n"
     ]
    },
    {
     "name": "stderr",
     "output_type": "stream",
     "text": [
      "\n"
     ]
    },
    {
     "name": "stdout",
     "output_type": "stream",
     "text": [
      "{'dataset': 'modelnet40', 'pooling': 'gem', 'ann': 'faiss-lsh', 'k': 4, 'code_length': 1024, 'power': 4, 'emb_time_per_sample': 6.645212683530835e-05, 'inf_time_per_sample': 0.00010919290771360722, 'acc': 0.36912479740680715, 'precision_k': 0.30966369529983795}\n",
      "loading dataset...\n",
      "loading cached base embedding...\n"
     ]
    },
    {
     "name": "stderr",
     "output_type": "stream",
     "text": [
      "100%|██████████| 2468/2468 [00:00<00:00, 59006.35it/s]"
     ]
    },
    {
     "name": "stdout",
     "output_type": "stream",
     "text": [
      "compute query embedding...\n"
     ]
    },
    {
     "name": "stderr",
     "output_type": "stream",
     "text": [
      "\n"
     ]
    },
    {
     "name": "stdout",
     "output_type": "stream",
     "text": [
      "{'dataset': 'modelnet40', 'pooling': 'gem', 'ann': 'faiss-lsh', 'k': 8, 'code_length': 1024, 'power': 1, 'emb_time_per_sample': 1.9803425867708228e-05, 'inf_time_per_sample': 0.00010907379502801879, 'acc': 0.21758508914100486, 'precision_k': 0.15670583468395463}\n",
      "loading dataset...\n",
      "loading cached base embedding...\n"
     ]
    },
    {
     "name": "stderr",
     "output_type": "stream",
     "text": [
      "100%|██████████| 2468/2468 [00:00<00:00, 36107.22it/s]"
     ]
    },
    {
     "name": "stdout",
     "output_type": "stream",
     "text": [
      "compute query embedding...\n"
     ]
    },
    {
     "name": "stderr",
     "output_type": "stream",
     "text": [
      "\n"
     ]
    },
    {
     "name": "stdout",
     "output_type": "stream",
     "text": [
      "{'dataset': 'modelnet40', 'pooling': 'gem', 'ann': 'faiss-lsh', 'k': 8, 'code_length': 1024, 'power': 2, 'emb_time_per_sample': 3.026254366437272e-05, 'inf_time_per_sample': 0.00010680476116013488, 'acc': 0.34359805510534847, 'precision_k': 0.25612844408427876}\n",
      "loading dataset...\n",
      "loading cached base embedding...\n"
     ]
    },
    {
     "name": "stderr",
     "output_type": "stream",
     "text": [
      "100%|██████████| 2468/2468 [00:00<00:00, 15768.85it/s]"
     ]
    },
    {
     "name": "stdout",
     "output_type": "stream",
     "text": [
      "compute query embedding...\n"
     ]
    },
    {
     "name": "stderr",
     "output_type": "stream",
     "text": [
      "\n"
     ]
    },
    {
     "name": "stdout",
     "output_type": "stream",
     "text": [
      "{'dataset': 'modelnet40', 'pooling': 'gem', 'ann': 'faiss-lsh', 'k': 8, 'code_length': 1024, 'power': 4, 'emb_time_per_sample': 6.599422405372756e-05, 'inf_time_per_sample': 0.00011593547787040328, 'acc': 0.37763371150729336, 'precision_k': 0.28408630470016205}\n",
      "loading dataset...\n",
      "loading cached base embedding...\n"
     ]
    },
    {
     "name": "stderr",
     "output_type": "stream",
     "text": [
      "100%|██████████| 2468/2468 [00:00<00:00, 59180.08it/s]"
     ]
    },
    {
     "name": "stdout",
     "output_type": "stream",
     "text": [
      "compute query embedding...\n"
     ]
    },
    {
     "name": "stderr",
     "output_type": "stream",
     "text": [
      "\n"
     ]
    },
    {
     "name": "stdout",
     "output_type": "stream",
     "text": [
      "{'dataset': 'modelnet40', 'pooling': 'gem', 'ann': 'faiss-lsh', 'k': 16, 'code_length': 1024, 'power': 1, 'emb_time_per_sample': 1.926814331227802e-05, 'inf_time_per_sample': 0.0001081952785943277, 'acc': 0.24635332252836303, 'precision_k': 0.15870644246353321}\n",
      "loading dataset...\n",
      "loading cached base embedding...\n"
     ]
    },
    {
     "name": "stderr",
     "output_type": "stream",
     "text": [
      "100%|██████████| 2468/2468 [00:00<00:00, 36758.04it/s]"
     ]
    },
    {
     "name": "stdout",
     "output_type": "stream",
     "text": [
      "compute query embedding...\n"
     ]
    },
    {
     "name": "stderr",
     "output_type": "stream",
     "text": [
      "\n"
     ]
    },
    {
     "name": "stdout",
     "output_type": "stream",
     "text": [
      "{'dataset': 'modelnet40', 'pooling': 'gem', 'ann': 'faiss-lsh', 'k': 16, 'code_length': 1024, 'power': 2, 'emb_time_per_sample': 2.9841930012262427e-05, 'inf_time_per_sample': 0.00010791000709348212, 'acc': 0.33427876823338737, 'precision_k': 0.22994327390599675}\n",
      "loading dataset...\n",
      "loading cached base embedding...\n"
     ]
    },
    {
     "name": "stderr",
     "output_type": "stream",
     "text": [
      "100%|██████████| 2468/2468 [00:00<00:00, 15770.17it/s]"
     ]
    },
    {
     "name": "stdout",
     "output_type": "stream",
     "text": [
      "compute query embedding...\n"
     ]
    },
    {
     "name": "stderr",
     "output_type": "stream",
     "text": [
      "\n"
     ]
    },
    {
     "name": "stdout",
     "output_type": "stream",
     "text": [
      "{'dataset': 'modelnet40', 'pooling': 'gem', 'ann': 'faiss-lsh', 'k': 16, 'code_length': 1024, 'power': 4, 'emb_time_per_sample': 6.60450377379283e-05, 'inf_time_per_sample': 0.00010796719663919854, 'acc': 0.36507293354943277, 'precision_k': 0.2510382901134522}\n"
     ]
    }
   ],
   "source": [
    "powers = [1,2,4]\n",
    "for k in ks:\n",
    "    for power in powers:\n",
    "        exp = Experiment('modelnet40', 'gem', 'faiss-lsh', k=k, ref_size=512, code_length=1024,power=power)\n",
    "        exp.test()\n",
    "        report = exp.get_exp_report()\n",
    "        modelnet_result.append({'dataset': 'modelnet40',\n",
    "                                'pooling':'gem',\n",
    "                                'k': k,\n",
    "                                'power': power,\n",
    "                                'code_length': 1024,\n",
    "                                'precision_k': report['precision_k'],\n",
    "                                'acc': report['acc']})\n",
    "        print(report)"
   ]
  },
  {
   "cell_type": "code",
   "execution_count": 6,
   "id": "b2dc08f7",
   "metadata": {},
   "outputs": [
    {
     "name": "stderr",
     "output_type": "stream",
     "text": [
      " 16%|█▋        | 1602/9843 [00:00<00:00, 16012.95it/s]"
     ]
    },
    {
     "name": "stdout",
     "output_type": "stream",
     "text": [
      "loading dataset...\n",
      "compute base embedding...\n"
     ]
    },
    {
     "name": "stderr",
     "output_type": "stream",
     "text": [
      "100%|██████████| 9843/9843 [00:00<00:00, 17816.16it/s]\n",
      "100%|██████████| 2468/2468 [00:00<00:00, 19242.32it/s]"
     ]
    },
    {
     "name": "stdout",
     "output_type": "stream",
     "text": [
      "compute query embedding...\n"
     ]
    },
    {
     "name": "stderr",
     "output_type": "stream",
     "text": [
      "\n"
     ]
    },
    {
     "name": "stdout",
     "output_type": "stream",
     "text": [
      "{'dataset': 'modelnet40', 'pooling': 'cov', 'ann': 'faiss-lsh', 'k': 4, 'code_length': 1024, 'emb_time_per_sample': 5.4781595350664285e-05, 'inf_time_per_sample': 0.00010931772003297481, 'acc': 0.4246353322528363, 'precision_k': 0.3680105348460292}\n",
      "loading dataset...\n",
      "loading cached base embedding...\n"
     ]
    },
    {
     "name": "stderr",
     "output_type": "stream",
     "text": [
      "100%|██████████| 2468/2468 [00:00<00:00, 19400.06it/s]"
     ]
    },
    {
     "name": "stdout",
     "output_type": "stream",
     "text": [
      "compute query embedding...\n"
     ]
    },
    {
     "name": "stderr",
     "output_type": "stream",
     "text": [
      "\n"
     ]
    },
    {
     "name": "stdout",
     "output_type": "stream",
     "text": [
      "{'dataset': 'modelnet40', 'pooling': 'cov', 'ann': 'faiss-lsh', 'k': 8, 'code_length': 1024, 'emb_time_per_sample': 5.447854872074467e-05, 'inf_time_per_sample': 0.00010940466359909775, 'acc': 0.4404376012965964, 'precision_k': 0.34562398703403563}\n",
      "loading dataset...\n",
      "loading cached base embedding...\n"
     ]
    },
    {
     "name": "stderr",
     "output_type": "stream",
     "text": [
      "100%|██████████| 2468/2468 [00:00<00:00, 19544.04it/s]"
     ]
    },
    {
     "name": "stdout",
     "output_type": "stream",
     "text": [
      "compute query embedding...\n"
     ]
    },
    {
     "name": "stderr",
     "output_type": "stream",
     "text": [
      "\n"
     ]
    },
    {
     "name": "stdout",
     "output_type": "stream",
     "text": [
      "{'dataset': 'modelnet40', 'pooling': 'cov', 'ann': 'faiss-lsh', 'k': 16, 'code_length': 1024, 'emb_time_per_sample': 5.394114087814257e-05, 'inf_time_per_sample': 0.00011033631221208619, 'acc': 0.4380064829821718, 'precision_k': 0.3249594813614263}\n"
     ]
    }
   ],
   "source": [
    "for k in ks:\n",
    "    exp = Experiment('modelnet40', 'cov', 'faiss-lsh', k=k, ref_size=512, code_length=1024)\n",
    "    exp.test()\n",
    "    report = exp.get_exp_report()\n",
    "    modelnet_result.append({'dataset': 'modelnet40',\n",
    "                            'pooling':'cov',\n",
    "                            'k': k,\n",
    "                            'code_length': 1024,\n",
    "                            'precision_k': report['precision_k'],\n",
    "                            'acc': report['acc']})\n",
    "    print(report)"
   ]
  }
 ],
 "metadata": {
  "kernelspec": {
   "display_name": "Python 3",
   "language": "python",
   "name": "python3"
  },
  "language_info": {
   "codemirror_mode": {
    "name": "ipython",
    "version": 3
   },
   "file_extension": ".py",
   "mimetype": "text/x-python",
   "name": "python",
   "nbconvert_exporter": "python",
   "pygments_lexer": "ipython3",
   "version": "3.8.8"
  }
 },
 "nbformat": 4,
 "nbformat_minor": 5
}
