{
 "cells": [
  {
   "cell_type": "code",
   "execution_count": 1,
   "id": "c7a1b7cf",
   "metadata": {},
   "outputs": [],
   "source": [
    "from utils.experiment import Experiment\n",
    "import json"
   ]
  },
  {
   "cell_type": "code",
   "execution_count": 2,
   "id": "b67d3f5a",
   "metadata": {},
   "outputs": [],
   "source": [
    "ks = [1,2,4,8,16]"
   ]
  },
  {
   "cell_type": "code",
   "execution_count": 5,
   "id": "c3aded5f",
   "metadata": {
    "scrolled": true
   },
   "outputs": [
    {
     "name": "stderr",
     "output_type": "stream",
     "text": [
      "  0%|          | 7/9843 [00:00<02:31, 64.92it/s]"
     ]
    },
    {
     "name": "stdout",
     "output_type": "stream",
     "text": [
      "loading dataset...\n",
      "compute base embedding...\n"
     ]
    },
    {
     "name": "stderr",
     "output_type": "stream",
     "text": [
      "100%|██████████| 9843/9843 [02:15<00:00, 72.60it/s]\n",
      "  0%|          | 6/2468 [00:00<00:46, 52.53it/s]"
     ]
    },
    {
     "name": "stdout",
     "output_type": "stream",
     "text": [
      "compute query embedding...\n"
     ]
    },
    {
     "name": "stderr",
     "output_type": "stream",
     "text": [
      "100%|██████████| 2468/2468 [00:34<00:00, 71.99it/s]\n"
     ]
    },
    {
     "name": "stdout",
     "output_type": "stream",
     "text": [
      "{'dataset': 'modelnet40', 'pooling': 'swe', 'ann': 'faiss-lsh', 'k': 1, 'code_length': 1024, 'emb_time_per_sample': 0.014236203855208485, 'inf_time_per_sample': 0.01300741778007396, 'acc': 0.6000810372771475, 'precision_k': 0.6000810372771475}\n",
      "loading dataset...\n",
      "loading cached base embedding...\n"
     ]
    },
    {
     "name": "stderr",
     "output_type": "stream",
     "text": [
      "  0%|          | 6/2468 [00:00<00:41, 58.65it/s]"
     ]
    },
    {
     "name": "stdout",
     "output_type": "stream",
     "text": [
      "compute query embedding...\n"
     ]
    },
    {
     "name": "stderr",
     "output_type": "stream",
     "text": [
      "100%|██████████| 2468/2468 [00:34<00:00, 70.98it/s]\n"
     ]
    },
    {
     "name": "stdout",
     "output_type": "stream",
     "text": [
      "{'dataset': 'modelnet40', 'pooling': 'swe', 'ann': 'faiss-lsh', 'k': 2, 'code_length': 1024, 'emb_time_per_sample': 0.014261029527871304, 'inf_time_per_sample': 0.012703741485527694, 'acc': 0.5611831442463533, 'precision_k': 0.5759724473257699}\n",
      "loading dataset...\n",
      "loading cached base embedding...\n"
     ]
    },
    {
     "name": "stderr",
     "output_type": "stream",
     "text": [
      "  0%|          | 7/2468 [00:00<00:37, 64.84it/s]"
     ]
    },
    {
     "name": "stdout",
     "output_type": "stream",
     "text": [
      "compute query embedding...\n"
     ]
    },
    {
     "name": "stderr",
     "output_type": "stream",
     "text": [
      "100%|██████████| 2468/2468 [00:34<00:00, 70.82it/s]\n"
     ]
    },
    {
     "name": "stdout",
     "output_type": "stream",
     "text": [
      "{'dataset': 'modelnet40', 'pooling': 'swe', 'ann': 'faiss-lsh', 'k': 4, 'code_length': 1024, 'emb_time_per_sample': 0.014271876896992688, 'inf_time_per_sample': 0.012706229810390133, 'acc': 0.596839546191248, 'precision_k': 0.5370745542949756}\n",
      "loading dataset...\n",
      "loading cached base embedding...\n"
     ]
    },
    {
     "name": "stderr",
     "output_type": "stream",
     "text": [
      "  0%|          | 6/2468 [00:00<00:42, 57.41it/s]"
     ]
    },
    {
     "name": "stdout",
     "output_type": "stream",
     "text": [
      "compute query embedding...\n"
     ]
    },
    {
     "name": "stderr",
     "output_type": "stream",
     "text": [
      "100%|██████████| 2468/2468 [00:34<00:00, 71.85it/s]\n"
     ]
    },
    {
     "name": "stdout",
     "output_type": "stream",
     "text": [
      "{'dataset': 'modelnet40', 'pooling': 'swe', 'ann': 'faiss-lsh', 'k': 8, 'code_length': 1024, 'emb_time_per_sample': 0.014070915345048209, 'inf_time_per_sample': 0.012742719928487967, 'acc': 0.5944084278768234, 'precision_k': 0.4919469205834684}\n",
      "loading dataset...\n",
      "loading cached base embedding...\n"
     ]
    },
    {
     "name": "stderr",
     "output_type": "stream",
     "text": [
      "  0%|          | 6/2468 [00:00<00:44, 55.62it/s]"
     ]
    },
    {
     "name": "stdout",
     "output_type": "stream",
     "text": [
      "compute query embedding...\n"
     ]
    },
    {
     "name": "stderr",
     "output_type": "stream",
     "text": [
      "100%|██████████| 2468/2468 [00:34<00:00, 70.76it/s]\n"
     ]
    },
    {
     "name": "stdout",
     "output_type": "stream",
     "text": [
      "{'dataset': 'modelnet40', 'pooling': 'swe', 'ann': 'faiss-lsh', 'k': 16, 'code_length': 1024, 'emb_time_per_sample': 0.014284852451404838, 'inf_time_per_sample': 0.01271952396467014, 'acc': 0.5782009724473258, 'precision_k': 0.444970623987034}\n"
     ]
    }
   ],
   "source": [
    "modelnet_result = []\n",
    "for k in ks:\n",
    "    exp = Experiment('modelnet40', 'swe', 'faiss-lsh', k=k, ref_size=512, code_length=1024, num_slices=256)\n",
    "    exp.test()\n",
    "    report = exp.get_exp_report()\n",
    "    modelnet_result.append({'dataset': 'modelnet40',\n",
    "                            'pooling':'swe',\n",
    "                            'k': k,\n",
    "                            'num_slices': 256,\n",
    "                            'code_length': 1024,\n",
    "                            'precision_k': report['precision_k'],\n",
    "                            'acc': report['acc']})\n",
    "    print(report)"
   ]
  },
  {
   "cell_type": "code",
   "execution_count": 6,
   "id": "0852fee5",
   "metadata": {},
   "outputs": [
    {
     "name": "stdout",
     "output_type": "stream",
     "text": [
      "loading dataset...\n",
      "loading cached base embedding...\n"
     ]
    },
    {
     "name": "stderr",
     "output_type": "stream",
     "text": [
      " 15%|█▌        | 380/2468 [00:00<00:00, 3797.72it/s]"
     ]
    },
    {
     "name": "stdout",
     "output_type": "stream",
     "text": [
      "compute query embedding...\n"
     ]
    },
    {
     "name": "stderr",
     "output_type": "stream",
     "text": [
      "100%|██████████| 2468/2468 [00:00<00:00, 3942.97it/s]\n"
     ]
    },
    {
     "name": "stdout",
     "output_type": "stream",
     "text": [
      "{'dataset': 'modelnet40', 'pooling': 'fs', 'ann': 'faiss-lsh', 'k': 1, 'code_length': 1024, 'emb_time_per_sample': 0.00026142268745014307, 'inf_time_per_sample': 0.0002547660948198464, 'acc': 0.5559157212317666, 'precision_k': 0.5559157212317666}\n",
      "loading dataset...\n",
      "loading cached base embedding...\n"
     ]
    },
    {
     "name": "stderr",
     "output_type": "stream",
     "text": [
      " 16%|█▌        | 390/2468 [00:00<00:00, 3893.73it/s]"
     ]
    },
    {
     "name": "stdout",
     "output_type": "stream",
     "text": [
      "compute query embedding...\n"
     ]
    },
    {
     "name": "stderr",
     "output_type": "stream",
     "text": [
      "100%|██████████| 2468/2468 [00:00<00:00, 3967.58it/s]\n"
     ]
    },
    {
     "name": "stdout",
     "output_type": "stream",
     "text": [
      "{'dataset': 'modelnet40', 'pooling': 'fs', 'ann': 'faiss-lsh', 'k': 2, 'code_length': 1024, 'emb_time_per_sample': 0.0002580092830441566, 'inf_time_per_sample': 0.0002529967932492446, 'acc': 0.5388978930307942, 'precision_k': 0.5311993517017828}\n",
      "loading dataset...\n",
      "loading cached base embedding...\n"
     ]
    },
    {
     "name": "stderr",
     "output_type": "stream",
     "text": [
      " 16%|█▌        | 396/2468 [00:00<00:00, 3952.73it/s]"
     ]
    },
    {
     "name": "stdout",
     "output_type": "stream",
     "text": [
      "compute query embedding...\n"
     ]
    },
    {
     "name": "stderr",
     "output_type": "stream",
     "text": [
      "100%|██████████| 2468/2468 [00:00<00:00, 4012.76it/s]\n"
     ]
    },
    {
     "name": "stdout",
     "output_type": "stream",
     "text": [
      "{'dataset': 'modelnet40', 'pooling': 'fs', 'ann': 'faiss-lsh', 'k': 4, 'code_length': 1024, 'emb_time_per_sample': 0.00025510981171791906, 'inf_time_per_sample': 0.0002549914718640295, 'acc': 0.5696920583468396, 'precision_k': 0.5007090761750406}\n",
      "loading dataset...\n",
      "loading cached base embedding...\n"
     ]
    },
    {
     "name": "stderr",
     "output_type": "stream",
     "text": [
      " 16%|█▌        | 396/2468 [00:00<00:00, 3954.19it/s]"
     ]
    },
    {
     "name": "stdout",
     "output_type": "stream",
     "text": [
      "compute query embedding...\n"
     ]
    },
    {
     "name": "stderr",
     "output_type": "stream",
     "text": [
      "100%|██████████| 2468/2468 [00:00<00:00, 4033.72it/s]\n"
     ]
    },
    {
     "name": "stdout",
     "output_type": "stream",
     "text": [
      "{'dataset': 'modelnet40', 'pooling': 'fs', 'ann': 'faiss-lsh', 'k': 8, 'code_length': 1024, 'emb_time_per_sample': 0.00025267249374760607, 'inf_time_per_sample': 0.0002538589836132971, 'acc': 0.5733387358184765, 'precision_k': 0.4604943273905997}\n",
      "loading dataset...\n",
      "loading cached base embedding...\n"
     ]
    },
    {
     "name": "stderr",
     "output_type": "stream",
     "text": [
      " 16%|█▌        | 400/2468 [00:00<00:00, 3993.33it/s]"
     ]
    },
    {
     "name": "stdout",
     "output_type": "stream",
     "text": [
      "compute query embedding...\n"
     ]
    },
    {
     "name": "stderr",
     "output_type": "stream",
     "text": [
      "100%|██████████| 2468/2468 [00:00<00:00, 4000.74it/s]\n"
     ]
    },
    {
     "name": "stdout",
     "output_type": "stream",
     "text": [
      "{'dataset': 'modelnet40', 'pooling': 'fs', 'ann': 'faiss-lsh', 'k': 16, 'code_length': 1024, 'emb_time_per_sample': 0.00025492829287264684, 'inf_time_per_sample': 0.0002550883656382754, 'acc': 0.5538897893030794, 'precision_k': 0.41944388168557534}\n"
     ]
    }
   ],
   "source": [
    "for k in ks:\n",
    "    exp = Experiment('modelnet40', 'fs', 'faiss-lsh', k=k, ref_size=512, code_length=1024)\n",
    "    exp.test()\n",
    "    report = exp.get_exp_report()\n",
    "    modelnet_result.append({'dataset': 'modelnet40',\n",
    "                            'pooling':'fs',\n",
    "                            'k': k,\n",
    "                            'code_length': 1024,\n",
    "                            'precision_k': report['precision_k'],\n",
    "                            'acc': report['acc']})\n",
    "    print(report)"
   ]
  },
  {
   "cell_type": "code",
   "execution_count": 7,
   "id": "fce18c1a",
   "metadata": {},
   "outputs": [
    {
     "name": "stderr",
     "output_type": "stream",
     "text": [
      " 54%|█████▎    | 5267/9843 [00:00<00:00, 52663.77it/s]"
     ]
    },
    {
     "name": "stdout",
     "output_type": "stream",
     "text": [
      "loading dataset...\n",
      "compute base embedding...\n"
     ]
    },
    {
     "name": "stderr",
     "output_type": "stream",
     "text": [
      "100%|██████████| 9843/9843 [00:00<00:00, 54673.39it/s]\n"
     ]
    },
    {
     "name": "stdout",
     "output_type": "stream",
     "text": [
      "compute query embedding...\n"
     ]
    },
    {
     "name": "stderr",
     "output_type": "stream",
     "text": [
      "100%|██████████| 2468/2468 [00:00<00:00, 58205.09it/s]\n",
      " 34%|███▍      | 3367/9843 [00:00<00:00, 33667.62it/s]"
     ]
    },
    {
     "name": "stdout",
     "output_type": "stream",
     "text": [
      "{'dataset': 'modelnet40', 'pooling': 'gem', 'ann': 'faiss-lsh', 'k': 1, 'code_length': 1024, 'power': 1, 'emb_time_per_sample': 0.00037133799959426957, 'inf_time_per_sample': 0.00011066196416919776, 'acc': 0.14870340356564019, 'precision_k': 0.14870340356564019}\n",
      "loading dataset...\n",
      "compute base embedding...\n"
     ]
    },
    {
     "name": "stderr",
     "output_type": "stream",
     "text": [
      "100%|██████████| 9843/9843 [00:00<00:00, 34522.68it/s]\n",
      "100%|██████████| 2468/2468 [00:00<00:00, 34662.86it/s]"
     ]
    },
    {
     "name": "stdout",
     "output_type": "stream",
     "text": [
      "compute query embedding...\n"
     ]
    },
    {
     "name": "stderr",
     "output_type": "stream",
     "text": [
      "\n",
      " 15%|█▍        | 1468/9843 [00:00<00:00, 14674.28it/s]"
     ]
    },
    {
     "name": "stdout",
     "output_type": "stream",
     "text": [
      "{'dataset': 'modelnet40', 'pooling': 'gem', 'ann': 'faiss-lsh', 'k': 1, 'code_length': 1024, 'power': 2, 'emb_time_per_sample': 3.132209592352423e-05, 'inf_time_per_sample': 0.00010933027854808146, 'acc': 0.3184764991896272, 'precision_k': 0.3184764991896272}\n",
      "loading dataset...\n",
      "compute base embedding...\n"
     ]
    },
    {
     "name": "stderr",
     "output_type": "stream",
     "text": [
      "100%|██████████| 9843/9843 [00:00<00:00, 15465.81it/s]\n",
      "100%|██████████| 2468/2468 [00:00<00:00, 15336.21it/s]"
     ]
    },
    {
     "name": "stdout",
     "output_type": "stream",
     "text": [
      "compute query embedding...\n"
     ]
    },
    {
     "name": "stderr",
     "output_type": "stream",
     "text": [
      "\n"
     ]
    },
    {
     "name": "stdout",
     "output_type": "stream",
     "text": [
      "{'dataset': 'modelnet40', 'pooling': 'gem', 'ann': 'faiss-lsh', 'k': 1, 'code_length': 1024, 'power': 4, 'emb_time_per_sample': 6.766373373121265e-05, 'inf_time_per_sample': 0.00010958511980078401, 'acc': 0.34683954619124796, 'precision_k': 0.34683954619124796}\n",
      "loading dataset...\n",
      "loading cached base embedding...\n"
     ]
    },
    {
     "name": "stderr",
     "output_type": "stream",
     "text": [
      "100%|██████████| 2468/2468 [00:00<00:00, 58462.81it/s]"
     ]
    },
    {
     "name": "stdout",
     "output_type": "stream",
     "text": [
      "compute query embedding...\n"
     ]
    },
    {
     "name": "stderr",
     "output_type": "stream",
     "text": [
      "\n"
     ]
    },
    {
     "name": "stdout",
     "output_type": "stream",
     "text": [
      "{'dataset': 'modelnet40', 'pooling': 'gem', 'ann': 'faiss-lsh', 'k': 2, 'code_length': 1024, 'power': 1, 'emb_time_per_sample': 1.975734577766307e-05, 'inf_time_per_sample': 0.00010926932144783305, 'acc': 0.16045380875202594, 'precision_k': 0.15012155591572124}\n",
      "loading dataset...\n",
      "loading cached base embedding...\n"
     ]
    },
    {
     "name": "stderr",
     "output_type": "stream",
     "text": [
      "100%|██████████| 2468/2468 [00:00<00:00, 35037.83it/s]"
     ]
    },
    {
     "name": "stdout",
     "output_type": "stream",
     "text": [
      "compute query embedding...\n"
     ]
    },
    {
     "name": "stderr",
     "output_type": "stream",
     "text": [
      "\n"
     ]
    },
    {
     "name": "stdout",
     "output_type": "stream",
     "text": [
      "{'dataset': 'modelnet40', 'pooling': 'gem', 'ann': 'faiss-lsh', 'k': 2, 'code_length': 1024, 'power': 2, 'emb_time_per_sample': 3.0952972183351195e-05, 'inf_time_per_sample': 0.00011180189092503181, 'acc': 0.3038897893030794, 'precision_k': 0.2986223662884927}\n",
      "loading dataset...\n",
      "loading cached base embedding...\n"
     ]
    },
    {
     "name": "stderr",
     "output_type": "stream",
     "text": [
      " 40%|████      | 996/2468 [00:00<00:00, 5134.44it/s]"
     ]
    },
    {
     "name": "stdout",
     "output_type": "stream",
     "text": [
      "compute query embedding...\n"
     ]
    },
    {
     "name": "stderr",
     "output_type": "stream",
     "text": [
      "100%|██████████| 2468/2468 [00:00<00:00, 8525.37it/s]\n"
     ]
    },
    {
     "name": "stdout",
     "output_type": "stream",
     "text": [
      "{'dataset': 'modelnet40', 'pooling': 'gem', 'ann': 'faiss-lsh', 'k': 2, 'code_length': 1024, 'power': 4, 'emb_time_per_sample': 0.00011982340093949625, 'inf_time_per_sample': 0.00010874437551637523, 'acc': 0.3371150729335494, 'precision_k': 0.3326580226904376}\n",
      "loading dataset...\n",
      "loading cached base embedding...\n"
     ]
    },
    {
     "name": "stderr",
     "output_type": "stream",
     "text": [
      "100%|██████████| 2468/2468 [00:00<00:00, 58169.11it/s]"
     ]
    },
    {
     "name": "stdout",
     "output_type": "stream",
     "text": [
      "compute query embedding...\n"
     ]
    },
    {
     "name": "stderr",
     "output_type": "stream",
     "text": [
      "\n"
     ]
    },
    {
     "name": "stdout",
     "output_type": "stream",
     "text": [
      "{'dataset': 'modelnet40', 'pooling': 'gem', 'ann': 'faiss-lsh', 'k': 4, 'code_length': 1024, 'power': 1, 'emb_time_per_sample': 1.9624708537344414e-05, 'inf_time_per_sample': 0.00011202272758298407, 'acc': 0.18760129659643435, 'precision_k': 0.1575162074554295}\n",
      "loading dataset...\n",
      "loading cached base embedding...\n"
     ]
    },
    {
     "name": "stderr",
     "output_type": "stream",
     "text": [
      "100%|██████████| 2468/2468 [00:00<00:00, 34697.48it/s]"
     ]
    },
    {
     "name": "stdout",
     "output_type": "stream",
     "text": [
      "compute query embedding...\n"
     ]
    },
    {
     "name": "stderr",
     "output_type": "stream",
     "text": [
      "\n"
     ]
    },
    {
     "name": "stdout",
     "output_type": "stream",
     "text": [
      "{'dataset': 'modelnet40', 'pooling': 'gem', 'ann': 'faiss-lsh', 'k': 4, 'code_length': 1024, 'power': 2, 'emb_time_per_sample': 3.13611239243172e-05, 'inf_time_per_sample': 0.00011204939027659511, 'acc': 0.3318476499189627, 'precision_k': 0.2794773095623987}\n",
      "loading dataset...\n",
      "loading cached base embedding...\n"
     ]
    },
    {
     "name": "stderr",
     "output_type": "stream",
     "text": [
      "100%|██████████| 2468/2468 [00:00<00:00, 15398.90it/s]"
     ]
    },
    {
     "name": "stdout",
     "output_type": "stream",
     "text": [
      "compute query embedding...\n"
     ]
    },
    {
     "name": "stderr",
     "output_type": "stream",
     "text": [
      "\n"
     ]
    },
    {
     "name": "stdout",
     "output_type": "stream",
     "text": [
      "{'dataset': 'modelnet40', 'pooling': 'gem', 'ann': 'faiss-lsh', 'k': 4, 'code_length': 1024, 'power': 4, 'emb_time_per_sample': 6.750076284671332e-05, 'inf_time_per_sample': 0.000115643830508042, 'acc': 0.36709886547811993, 'precision_k': 0.3086507293354943}\n",
      "loading dataset...\n",
      "loading cached base embedding...\n"
     ]
    },
    {
     "name": "stderr",
     "output_type": "stream",
     "text": [
      "100%|██████████| 2468/2468 [00:00<00:00, 56474.77it/s]"
     ]
    },
    {
     "name": "stdout",
     "output_type": "stream",
     "text": [
      "compute query embedding...\n"
     ]
    },
    {
     "name": "stderr",
     "output_type": "stream",
     "text": [
      "\n"
     ]
    },
    {
     "name": "stdout",
     "output_type": "stream",
     "text": [
      "{'dataset': 'modelnet40', 'pooling': 'gem', 'ann': 'faiss-lsh', 'k': 8, 'code_length': 1024, 'power': 1, 'emb_time_per_sample': 2.038411228544708e-05, 'inf_time_per_sample': 0.0001210170394984018, 'acc': 0.2086709886547812, 'precision_k': 0.1561993517017828}\n",
      "loading dataset...\n",
      "loading cached base embedding...\n"
     ]
    },
    {
     "name": "stderr",
     "output_type": "stream",
     "text": [
      "100%|██████████| 2468/2468 [00:00<00:00, 35062.28it/s]"
     ]
    },
    {
     "name": "stdout",
     "output_type": "stream",
     "text": [
      "compute query embedding...\n"
     ]
    },
    {
     "name": "stderr",
     "output_type": "stream",
     "text": [
      "\n"
     ]
    },
    {
     "name": "stdout",
     "output_type": "stream",
     "text": [
      "{'dataset': 'modelnet40', 'pooling': 'gem', 'ann': 'faiss-lsh', 'k': 8, 'code_length': 1024, 'power': 2, 'emb_time_per_sample': 3.1366726954134006e-05, 'inf_time_per_sample': 0.00011223950687451726, 'acc': 0.3354943273905997, 'precision_k': 0.25460899513776336}\n",
      "loading dataset...\n",
      "loading cached base embedding...\n"
     ]
    },
    {
     "name": "stderr",
     "output_type": "stream",
     "text": [
      "100%|██████████| 2468/2468 [00:00<00:00, 15334.23it/s]"
     ]
    },
    {
     "name": "stdout",
     "output_type": "stream",
     "text": [
      "compute query embedding...\n"
     ]
    },
    {
     "name": "stderr",
     "output_type": "stream",
     "text": [
      "\n"
     ]
    },
    {
     "name": "stdout",
     "output_type": "stream",
     "text": [
      "{'dataset': 'modelnet40', 'pooling': 'gem', 'ann': 'faiss-lsh', 'k': 8, 'code_length': 1024, 'power': 4, 'emb_time_per_sample': 6.772807197014362e-05, 'inf_time_per_sample': 0.00011212222966421365, 'acc': 0.376418152350081, 'precision_k': 0.28185777957860614}\n",
      "loading dataset...\n",
      "loading cached base embedding...\n"
     ]
    },
    {
     "name": "stderr",
     "output_type": "stream",
     "text": [
      "100%|██████████| 2468/2468 [00:00<00:00, 57748.87it/s]"
     ]
    },
    {
     "name": "stdout",
     "output_type": "stream",
     "text": [
      "compute query embedding...\n"
     ]
    },
    {
     "name": "stderr",
     "output_type": "stream",
     "text": [
      "\n"
     ]
    },
    {
     "name": "stdout",
     "output_type": "stream",
     "text": [
      "{'dataset': 'modelnet40', 'pooling': 'gem', 'ann': 'faiss-lsh', 'k': 16, 'code_length': 1024, 'power': 1, 'emb_time_per_sample': 1.9745560094255295e-05, 'inf_time_per_sample': 0.0001113196439449366, 'acc': 0.2313614262560778, 'precision_k': 0.15718699351701781}\n",
      "loading dataset...\n",
      "loading cached base embedding...\n"
     ]
    },
    {
     "name": "stderr",
     "output_type": "stream",
     "text": [
      "100%|██████████| 2468/2468 [00:00<00:00, 34620.08it/s]"
     ]
    },
    {
     "name": "stdout",
     "output_type": "stream",
     "text": [
      "compute query embedding...\n"
     ]
    },
    {
     "name": "stderr",
     "output_type": "stream",
     "text": [
      "\n"
     ]
    },
    {
     "name": "stdout",
     "output_type": "stream",
     "text": [
      "{'dataset': 'modelnet40', 'pooling': 'gem', 'ann': 'faiss-lsh', 'k': 16, 'code_length': 1024, 'power': 2, 'emb_time_per_sample': 3.1465166391777646e-05, 'inf_time_per_sample': 0.0001077624928429602, 'acc': 0.33508914100486226, 'precision_k': 0.2320958265802269}\n",
      "loading dataset...\n",
      "loading cached base embedding...\n"
     ]
    },
    {
     "name": "stderr",
     "output_type": "stream",
     "text": [
      "100%|██████████| 2468/2468 [00:00<00:00, 15480.84it/s]"
     ]
    },
    {
     "name": "stdout",
     "output_type": "stream",
     "text": [
      "compute query embedding...\n"
     ]
    },
    {
     "name": "stderr",
     "output_type": "stream",
     "text": [
      "\n"
     ]
    },
    {
     "name": "stdout",
     "output_type": "stream",
     "text": [
      "{'dataset': 'modelnet40', 'pooling': 'gem', 'ann': 'faiss-lsh', 'k': 16, 'code_length': 1024, 'power': 4, 'emb_time_per_sample': 6.703513174814382e-05, 'inf_time_per_sample': 0.00011212966816931528, 'acc': 0.3557536466774716, 'precision_k': 0.2512408833063209}\n"
     ]
    }
   ],
   "source": [
    "powers = [1,2,4]\n",
    "for k in ks:\n",
    "    for power in powers:\n",
    "        exp = Experiment('modelnet40', 'gem', 'faiss-lsh', k=k, ref_size=512, code_length=1024,power=power)\n",
    "        exp.test()\n",
    "        report = exp.get_exp_report()\n",
    "        modelnet_result.append({'dataset': 'modelnet40',\n",
    "                                'pooling':'gem',\n",
    "                                'k': k,\n",
    "                                'power': power,\n",
    "                                'code_length': 1024,\n",
    "                                'precision_k': report['precision_k'],\n",
    "                                'acc': report['acc']})\n",
    "        print(report)"
   ]
  },
  {
   "cell_type": "code",
   "execution_count": 8,
   "id": "b2dc08f7",
   "metadata": {},
   "outputs": [
    {
     "name": "stderr",
     "output_type": "stream",
     "text": [
      " 18%|█▊        | 1774/9843 [00:00<00:00, 17736.30it/s]"
     ]
    },
    {
     "name": "stdout",
     "output_type": "stream",
     "text": [
      "loading dataset...\n",
      "compute base embedding...\n"
     ]
    },
    {
     "name": "stderr",
     "output_type": "stream",
     "text": [
      "100%|██████████| 9843/9843 [00:00<00:00, 15806.84it/s]\n",
      "100%|██████████| 2468/2468 [00:00<00:00, 19722.07it/s]"
     ]
    },
    {
     "name": "stdout",
     "output_type": "stream",
     "text": [
      "compute query embedding...\n"
     ]
    },
    {
     "name": "stderr",
     "output_type": "stream",
     "text": [
      "\n"
     ]
    },
    {
     "name": "stdout",
     "output_type": "stream",
     "text": [
      "{'dataset': 'modelnet40', 'pooling': 'cov', 'ann': 'faiss-lsh', 'k': 1, 'code_length': 1024, 'emb_time_per_sample': 5.355868579116401e-05, 'inf_time_per_sample': 0.00011138572105519002, 'acc': 0.38776337115072934, 'precision_k': 0.38776337115072934}\n",
      "loading dataset...\n",
      "loading cached base embedding...\n"
     ]
    },
    {
     "name": "stderr",
     "output_type": "stream",
     "text": [
      "100%|██████████| 2468/2468 [00:00<00:00, 19814.71it/s]"
     ]
    },
    {
     "name": "stdout",
     "output_type": "stream",
     "text": [
      "compute query embedding...\n"
     ]
    },
    {
     "name": "stderr",
     "output_type": "stream",
     "text": [
      "\n"
     ]
    },
    {
     "name": "stdout",
     "output_type": "stream",
     "text": [
      "{'dataset': 'modelnet40', 'pooling': 'cov', 'ann': 'faiss-lsh', 'k': 2, 'code_length': 1024, 'emb_time_per_sample': 5.3256508596905625e-05, 'inf_time_per_sample': 0.00011514583708208229, 'acc': 0.396677471636953, 'precision_k': 0.3881685575364668}\n",
      "loading dataset...\n",
      "loading cached base embedding...\n"
     ]
    },
    {
     "name": "stderr",
     "output_type": "stream",
     "text": [
      "100%|██████████| 2468/2468 [00:00<00:00, 19712.27it/s]"
     ]
    },
    {
     "name": "stdout",
     "output_type": "stream",
     "text": [
      "compute query embedding...\n"
     ]
    },
    {
     "name": "stderr",
     "output_type": "stream",
     "text": [
      "\n"
     ]
    },
    {
     "name": "stdout",
     "output_type": "stream",
     "text": [
      "{'dataset': 'modelnet40', 'pooling': 'cov', 'ann': 'faiss-lsh', 'k': 4, 'code_length': 1024, 'emb_time_per_sample': 5.368233886298329e-05, 'inf_time_per_sample': 0.00011352598184124964, 'acc': 0.44570502431118314, 'precision_k': 0.37773500810372773}\n",
      "loading dataset...\n",
      "loading cached base embedding...\n"
     ]
    },
    {
     "name": "stderr",
     "output_type": "stream",
     "text": [
      "100%|██████████| 2468/2468 [00:00<00:00, 19599.33it/s]"
     ]
    },
    {
     "name": "stdout",
     "output_type": "stream",
     "text": [
      "compute query embedding...\n"
     ]
    },
    {
     "name": "stderr",
     "output_type": "stream",
     "text": [
      "\n"
     ]
    },
    {
     "name": "stdout",
     "output_type": "stream",
     "text": [
      "{'dataset': 'modelnet40', 'pooling': 'cov', 'ann': 'faiss-lsh', 'k': 8, 'code_length': 1024, 'emb_time_per_sample': 5.426911133035075e-05, 'inf_time_per_sample': 0.00011370373313198985, 'acc': 0.4546191247974068, 'precision_k': 0.35828606158833065}\n",
      "loading dataset...\n",
      "loading cached base embedding...\n"
     ]
    },
    {
     "name": "stderr",
     "output_type": "stream",
     "text": [
      "100%|██████████| 2468/2468 [00:00<00:00, 19822.83it/s]"
     ]
    },
    {
     "name": "stdout",
     "output_type": "stream",
     "text": [
      "compute query embedding...\n"
     ]
    },
    {
     "name": "stderr",
     "output_type": "stream",
     "text": [
      "\n"
     ]
    },
    {
     "name": "stdout",
     "output_type": "stream",
     "text": [
      "{'dataset': 'modelnet40', 'pooling': 'cov', 'ann': 'faiss-lsh', 'k': 16, 'code_length': 1024, 'emb_time_per_sample': 5.328722865693573e-05, 'inf_time_per_sample': 0.00011227756883568664, 'acc': 0.4428687196110211, 'precision_k': 0.33329112641815234}\n"
     ]
    }
   ],
   "source": [
    "for k in ks:\n",
    "    exp = Experiment('modelnet40', 'cov', 'faiss-lsh', k=k, ref_size=512, code_length=1024)\n",
    "    exp.test()\n",
    "    report = exp.get_exp_report()\n",
    "    modelnet_result.append({'dataset': 'modelnet40',\n",
    "                            'pooling':'cov',\n",
    "                            'k': k,\n",
    "                            'code_length': 1024,\n",
    "                            'precision_k': report['precision_k'],\n",
    "                            'acc': report['acc']})\n",
    "    print(report)"
   ]
  },
  {
   "cell_type": "code",
   "execution_count": 9,
   "id": "fd071cc0",
   "metadata": {},
   "outputs": [],
   "source": [
    "with open('json/modelnet40_val.json', 'w') as f:\n",
    "    json.dump(modelnet_result, f)"
   ]
  }
 ],
 "metadata": {
  "kernelspec": {
   "display_name": "Python 3",
   "language": "python",
   "name": "python3"
  },
  "language_info": {
   "codemirror_mode": {
    "name": "ipython",
    "version": 3
   },
   "file_extension": ".py",
   "mimetype": "text/x-python",
   "name": "python",
   "nbconvert_exporter": "python",
   "pygments_lexer": "ipython3",
   "version": "3.8.8"
  }
 },
 "nbformat": 4,
 "nbformat_minor": 5
}
