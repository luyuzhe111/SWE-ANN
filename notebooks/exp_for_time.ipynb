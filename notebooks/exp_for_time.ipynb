{
 "cells": [
  {
   "cell_type": "code",
   "execution_count": 1,
   "id": "a37b35fd",
   "metadata": {
    "executionInfo": {
     "elapsed": 1005,
     "status": "ok",
     "timestamp": 1653423602170,
     "user": {
      "displayName": "Xinran Liu",
      "userId": "10633541058978347574"
     },
     "user_tz": 300
    },
    "id": "9dd78bf5"
   },
   "outputs": [],
   "source": [
    "import os\n",
    "import numpy as np\n",
    "import pandas as pd\n",
    "import matplotlib.pyplot as plt\n",
    "import json\n",
    "from utils.experiment import Experiment"
   ]
  },
  {
   "cell_type": "code",
   "execution_count": 2,
   "id": "f565e3e6",
   "metadata": {
    "executionInfo": {
     "elapsed": 13239,
     "status": "ok",
     "timestamp": 1653423814541,
     "user": {
      "displayName": "Xinran Liu",
      "userId": "10633541058978347574"
     },
     "user_tz": 300
    },
    "id": "2b2eb11f"
   },
   "outputs": [],
   "source": [
    "df_train = pd.read_csv('../dataset/pointcloud_mnist_2d/train.csv')\n",
    "\n",
    "X = df_train[df_train.columns[1:]].to_numpy()\n",
    "y = df_train[df_train.columns[0]].to_numpy()\n",
    "\n",
    "X = X.reshape(X.shape[0], -1, 3)"
   ]
  },
  {
   "cell_type": "code",
   "execution_count": 3,
   "id": "faddaea3",
   "metadata": {
    "executionInfo": {
     "elapsed": 367,
     "status": "ok",
     "timestamp": 1653423817512,
     "user": {
      "displayName": "Xinran Liu",
      "userId": "10633541058978347574"
     },
     "user_tz": 300
    },
    "id": "385c88d8"
   },
   "outputs": [],
   "source": [
    "num_points = np.sum((X[:, :, 2] > 0).astype(int), axis=1)"
   ]
  },
  {
   "cell_type": "code",
   "execution_count": 4,
   "id": "f105dde2",
   "metadata": {
    "executionInfo": {
     "elapsed": 2,
     "status": "ok",
     "timestamp": 1653423818603,
     "user": {
      "displayName": "Xinran Liu",
      "userId": "10633541058978347574"
     },
     "user_tz": 300
    },
    "id": "9ae39e1a"
   },
   "outputs": [],
   "source": [
    "set_size_median = np.min(num_points).astype(int)"
   ]
  },
  {
   "cell_type": "code",
   "execution_count": 5,
   "id": "ce9ebf8d",
   "metadata": {},
   "outputs": [],
   "source": [
    "dataset = 'point_mnist'\n",
    "code_length = 1024\n",
    "ks = [4]\n",
    "reports = []"
   ]
  },
  {
   "cell_type": "markdown",
   "id": "b014b362",
   "metadata": {
    "id": "fd5b1b15"
   },
   "source": [
    "###  hash code length = 1024, num_slices = 16"
   ]
  },
  {
   "cell_type": "code",
   "execution_count": 6,
   "id": "1a41fcc7",
   "metadata": {
    "colab": {
     "base_uri": "https://localhost:8080/"
    },
    "id": "1aeb94a4",
    "outputId": "dd15435b-00f3-40cc-a1f6-96b4bb03aa21"
   },
   "outputs": [
    {
     "name": "stdout",
     "output_type": "stream",
     "text": [
      "loading dataset...\n",
      "loading cached base embedding...\n",
      "compute query embedding...\n"
     ]
    },
    {
     "name": "stderr",
     "output_type": "stream",
     "text": [
      "100%|██████████| 10000/10000 [00:05<00:00, 1722.89it/s]\n"
     ]
    },
    {
     "name": "stdout",
     "output_type": "stream",
     "text": [
      "{'dataset': 'point_mnist', 'pooling': 'swe', 'ann': 'faiss-lsh', 'k': 4, 'code_length': 1024, 'emb_time_per_sample': 0.0006262514114379883, 'inf_time_per_sample': 0.0003870807886123657, 'acc': 0.9247, 'precision_k': 0.899125}\n"
     ]
    }
   ],
   "source": [
    "n_slices = 16\n",
    "ref = 'rand'\n",
    "\n",
    "for k in ks:\n",
    "    exp = Experiment(dataset, 'swe', 'faiss-lsh', ref_func=ref, k=k, ref_size=set_size_median, code_length=code_length, num_slices=n_slices)\n",
    "    exp.test()\n",
    "    report = exp.get_exp_report()\n",
    "    print(report)\n",
    "    reports.append(report)"
   ]
  },
  {
   "cell_type": "markdown",
   "id": "8bb4f817",
   "metadata": {
    "id": "j-8JfXjSwbPS"
   },
   "source": [
    "### WE"
   ]
  },
  {
   "cell_type": "code",
   "execution_count": 7,
   "id": "ea68a919",
   "metadata": {
    "colab": {
     "base_uri": "https://localhost:8080/",
     "height": 588
    },
    "executionInfo": {
     "elapsed": 495319,
     "status": "error",
     "timestamp": 1653424489073,
     "user": {
      "displayName": "Xinran Liu",
      "userId": "10633541058978347574"
     },
     "user_tz": 300
    },
    "id": "cWh7TSBdvXQk",
    "outputId": "aa8c41af-5514-4a57-ab4b-36c838761792"
   },
   "outputs": [
    {
     "name": "stdout",
     "output_type": "stream",
     "text": [
      "loading dataset...\n",
      "loading cached base embedding...\n",
      "compute query embedding...\n"
     ]
    },
    {
     "name": "stderr",
     "output_type": "stream",
     "text": [
      "100%|██████████| 10000/10000 [00:10<00:00, 973.91it/s]\n"
     ]
    },
    {
     "name": "stdout",
     "output_type": "stream",
     "text": [
      "{'dataset': 'point_mnist', 'pooling': 'we', 'ann': 'faiss-lsh', 'k': 4, 'code_length': 1024, 'emb_time_per_sample': 0.0010608826875686645, 'inf_time_per_sample': 0.0003666826009750366, 'acc': 0.92, 'precision_k': 0.8942}\n"
     ]
    }
   ],
   "source": [
    "dataset = 'point_mnist'\n",
    "code_length = 1024\n",
    "ref = 'rand'\n",
    "\n",
    "for k in ks:\n",
    "    exp = Experiment(dataset, 'we', 'faiss-lsh', ref_func=ref, k=k, ref_size=set_size_median, code_length=code_length)\n",
    "    exp.test()\n",
    "    report = exp.get_exp_report()\n",
    "    print(report)\n",
    "    reports.append(report)"
   ]
  },
  {
   "cell_type": "markdown",
   "id": "fdc22913",
   "metadata": {
    "id": "8af7a402"
   },
   "source": [
    "### FS"
   ]
  },
  {
   "cell_type": "code",
   "execution_count": 8,
   "id": "8e9cc4e8",
   "metadata": {
    "id": "7aa454c4",
    "outputId": "f967acad-4b92-4a66-8f3c-ef2914a64ba3"
   },
   "outputs": [
    {
     "name": "stdout",
     "output_type": "stream",
     "text": [
      "loading dataset...\n",
      "loading cached base embedding...\n",
      "compute query embedding...\n"
     ]
    },
    {
     "name": "stderr",
     "output_type": "stream",
     "text": [
      "100%|██████████| 10000/10000 [00:01<00:00, 5949.09it/s]\n"
     ]
    },
    {
     "name": "stdout",
     "output_type": "stream",
     "text": [
      "{'dataset': 'point_mnist', 'pooling': 'fs', 'ann': 'faiss-lsh', 'k': 4, 'code_length': 1024, 'emb_time_per_sample': 0.00023378560543060303, 'inf_time_per_sample': 0.0003498089075088501, 'acc': 0.7898, 'precision_k': 0.74325}\n"
     ]
    }
   ],
   "source": [
    "for k in ks:\n",
    "    exp = Experiment(dataset, 'fs', 'faiss-lsh', ref_func=ref,\n",
    "                     k=k, ref_size=set_size_median, code_length=code_length)\n",
    "    exp.test()\n",
    "    report = exp.get_exp_report()\n",
    "    print(report)\n",
    "    reports.append(report)"
   ]
  },
  {
   "cell_type": "markdown",
   "id": "aaf1c19a",
   "metadata": {
    "id": "7686a984"
   },
   "source": [
    "### Cov"
   ]
  },
  {
   "cell_type": "code",
   "execution_count": 9,
   "id": "c507976b",
   "metadata": {
    "id": "7ef291b9",
    "outputId": "304a9205-c0a3-46aa-86a3-93500657dd1b"
   },
   "outputs": [
    {
     "name": "stdout",
     "output_type": "stream",
     "text": [
      "loading dataset...\n",
      "loading cached base embedding...\n",
      "compute query embedding...\n"
     ]
    },
    {
     "name": "stderr",
     "output_type": "stream",
     "text": [
      "100%|██████████| 10000/10000 [00:00<00:00, 17117.87it/s]\n"
     ]
    },
    {
     "name": "stdout",
     "output_type": "stream",
     "text": [
      "{'dataset': 'point_mnist', 'pooling': 'cov', 'ann': 'faiss-lsh', 'k': 4, 'code_length': 1024, 'emb_time_per_sample': 8.51360321044922e-05, 'inf_time_per_sample': 0.00036351778507232664, 'acc': 0.2649, 'precision_k': 0.247375}\n"
     ]
    }
   ],
   "source": [
    "for k in ks:\n",
    "    exp = Experiment(dataset, 'cov', 'faiss-lsh',\n",
    "                     k=k, ref_size=set_size_median, code_length=code_length)\n",
    "    exp.test()\n",
    "    report = exp.get_exp_report()\n",
    "    print(report)\n",
    "    reports.append(report)"
   ]
  },
  {
   "cell_type": "markdown",
   "id": "846deaa9",
   "metadata": {
    "id": "a0b368ef"
   },
   "source": [
    "### GeM-1"
   ]
  },
  {
   "cell_type": "code",
   "execution_count": 10,
   "id": "79029413",
   "metadata": {
    "id": "4bf2b65d",
    "outputId": "d0c07bdd-10f9-458b-a574-1ae7cd8cfe4c"
   },
   "outputs": [
    {
     "name": "stdout",
     "output_type": "stream",
     "text": [
      "loading dataset...\n",
      "loading cached base embedding...\n",
      "compute query embedding...\n"
     ]
    },
    {
     "name": "stderr",
     "output_type": "stream",
     "text": [
      "100%|██████████| 10000/10000 [00:00<00:00, 38430.92it/s]\n"
     ]
    },
    {
     "name": "stdout",
     "output_type": "stream",
     "text": [
      "{'dataset': 'point_mnist', 'pooling': 'gem-1', 'ann': 'faiss-lsh', 'k': 4, 'code_length': 1024, 'power': 1, 'emb_time_per_sample': 8.306031227111816e-05, 'inf_time_per_sample': 0.00047839798927307126, 'acc': 0.1087, 'precision_k': 0.104325}\n"
     ]
    }
   ],
   "source": [
    "for k in ks:\n",
    "    exp = Experiment(dataset, 'gem', 'faiss-lsh',\n",
    "                     k=k, ref_size=set_size_median, code_length=code_length, power=1)\n",
    "    exp.test()\n",
    "    report = exp.get_exp_report()\n",
    "    print(report)\n",
    "    reports.append(report)"
   ]
  },
  {
   "cell_type": "markdown",
   "id": "3c5a0af7",
   "metadata": {
    "id": "5353f224"
   },
   "source": [
    "### GeM-2"
   ]
  },
  {
   "cell_type": "code",
   "execution_count": 11,
   "id": "b4a6010e",
   "metadata": {
    "id": "3f375a81",
    "outputId": "824dcc8d-ff23-4226-cf2e-7da0399487a7"
   },
   "outputs": [
    {
     "name": "stdout",
     "output_type": "stream",
     "text": [
      "loading dataset...\n",
      "loading cached base embedding...\n",
      "compute query embedding...\n"
     ]
    },
    {
     "name": "stderr",
     "output_type": "stream",
     "text": [
      "100%|██████████| 10000/10000 [00:00<00:00, 30696.15it/s]\n"
     ]
    },
    {
     "name": "stdout",
     "output_type": "stream",
     "text": [
      "{'dataset': 'point_mnist', 'pooling': 'gem-2', 'ann': 'faiss-lsh', 'k': 4, 'code_length': 1024, 'power': 2, 'emb_time_per_sample': 6.64353609085083e-05, 'inf_time_per_sample': 0.0003809842348098755, 'acc': 0.3215, 'precision_k': 0.28705}\n"
     ]
    }
   ],
   "source": [
    "for k in ks:\n",
    "    exp = Experiment(dataset, 'gem', 'faiss-lsh',\n",
    "                     k=k, ref_size=set_size_median, code_length=code_length, power=2)\n",
    "    exp.test()\n",
    "    report = exp.get_exp_report()\n",
    "    print(report)\n",
    "    reports.append(report)"
   ]
  },
  {
   "cell_type": "markdown",
   "id": "a3173754",
   "metadata": {
    "id": "e0ad831e"
   },
   "source": [
    "### GeM-4"
   ]
  },
  {
   "cell_type": "code",
   "execution_count": 12,
   "id": "4320d8ce",
   "metadata": {
    "id": "ec235d1b",
    "outputId": "27b9eef5-c59e-4371-ba7a-d0c3ef4cb19b"
   },
   "outputs": [
    {
     "name": "stdout",
     "output_type": "stream",
     "text": [
      "loading dataset...\n",
      "loading cached base embedding...\n",
      "compute query embedding...\n"
     ]
    },
    {
     "name": "stderr",
     "output_type": "stream",
     "text": [
      "100%|██████████| 10000/10000 [00:00<00:00, 15045.94it/s]\n"
     ]
    },
    {
     "name": "stdout",
     "output_type": "stream",
     "text": [
      "{'dataset': 'point_mnist', 'pooling': 'gem-4', 'ann': 'faiss-lsh', 'k': 4, 'code_length': 1024, 'power': 4, 'emb_time_per_sample': 0.00014939179420471192, 'inf_time_per_sample': 0.000393113112449646, 'acc': 0.446, 'precision_k': 0.393575}\n"
     ]
    }
   ],
   "source": [
    "for k in ks:\n",
    "    exp = Experiment(dataset, 'gem', 'faiss-lsh',\n",
    "                     k=k, ref_size=set_size_median, code_length=code_length, power=4)\n",
    "    exp.test()\n",
    "    report = exp.get_exp_report()\n",
    "    print(report)\n",
    "    reports.append(report)"
   ]
  },
  {
   "cell_type": "code",
   "execution_count": 13,
   "id": "214b8815",
   "metadata": {
    "id": "2a223aae"
   },
   "outputs": [],
   "source": [
    "import altair as alt"
   ]
  },
  {
   "cell_type": "code",
   "execution_count": 14,
   "id": "25648db5",
   "metadata": {},
   "outputs": [],
   "source": [
    "data = pd.DataFrame(reports)"
   ]
  },
  {
   "cell_type": "code",
   "execution_count": 15,
   "id": "8d4d9db7",
   "metadata": {},
   "outputs": [],
   "source": [
    "bar = alt.Chart(data).mark_point().encode(\n",
    "    alt.X('emb_time_per_sample:Q'),\n",
    "    alt.Y('acc:Q', title='acc'),\n",
    "    color='pooling:N',\n",
    ")"
   ]
  },
  {
   "cell_type": "code",
   "execution_count": 16,
   "id": "674f2ab4",
   "metadata": {},
   "outputs": [
    {
     "data": {
      "text/html": [
       "\n",
       "<div id=\"altair-viz-c8d08156175d4d49bf40085b0e36b80c\"></div>\n",
       "<script type=\"text/javascript\">\n",
       "  var VEGA_DEBUG = (typeof VEGA_DEBUG == \"undefined\") ? {} : VEGA_DEBUG;\n",
       "  (function(spec, embedOpt){\n",
       "    let outputDiv = document.currentScript.previousElementSibling;\n",
       "    if (outputDiv.id !== \"altair-viz-c8d08156175d4d49bf40085b0e36b80c\") {\n",
       "      outputDiv = document.getElementById(\"altair-viz-c8d08156175d4d49bf40085b0e36b80c\");\n",
       "    }\n",
       "    const paths = {\n",
       "      \"vega\": \"https://cdn.jsdelivr.net/npm//vega@5?noext\",\n",
       "      \"vega-lib\": \"https://cdn.jsdelivr.net/npm//vega-lib?noext\",\n",
       "      \"vega-lite\": \"https://cdn.jsdelivr.net/npm//vega-lite@4.17.0?noext\",\n",
       "      \"vega-embed\": \"https://cdn.jsdelivr.net/npm//vega-embed@6?noext\",\n",
       "    };\n",
       "\n",
       "    function maybeLoadScript(lib, version) {\n",
       "      var key = `${lib.replace(\"-\", \"\")}_version`;\n",
       "      return (VEGA_DEBUG[key] == version) ?\n",
       "        Promise.resolve(paths[lib]) :\n",
       "        new Promise(function(resolve, reject) {\n",
       "          var s = document.createElement('script');\n",
       "          document.getElementsByTagName(\"head\")[0].appendChild(s);\n",
       "          s.async = true;\n",
       "          s.onload = () => {\n",
       "            VEGA_DEBUG[key] = version;\n",
       "            return resolve(paths[lib]);\n",
       "          };\n",
       "          s.onerror = () => reject(`Error loading script: ${paths[lib]}`);\n",
       "          s.src = paths[lib];\n",
       "        });\n",
       "    }\n",
       "\n",
       "    function showError(err) {\n",
       "      outputDiv.innerHTML = `<div class=\"error\" style=\"color:red;\">${err}</div>`;\n",
       "      throw err;\n",
       "    }\n",
       "\n",
       "    function displayChart(vegaEmbed) {\n",
       "      vegaEmbed(outputDiv, spec, embedOpt)\n",
       "        .catch(err => showError(`Javascript Error: ${err.message}<br>This usually means there's a typo in your chart specification. See the javascript console for the full traceback.`));\n",
       "    }\n",
       "\n",
       "    if(typeof define === \"function\" && define.amd) {\n",
       "      requirejs.config({paths});\n",
       "      require([\"vega-embed\"], displayChart, err => showError(`Error loading script: ${err.message}`));\n",
       "    } else {\n",
       "      maybeLoadScript(\"vega\", \"5\")\n",
       "        .then(() => maybeLoadScript(\"vega-lite\", \"4.17.0\"))\n",
       "        .then(() => maybeLoadScript(\"vega-embed\", \"6\"))\n",
       "        .catch(showError)\n",
       "        .then(() => displayChart(vegaEmbed));\n",
       "    }\n",
       "  })({\"config\": {\"view\": {\"continuousWidth\": 400, \"continuousHeight\": 300}}, \"data\": {\"name\": \"data-339fc44a2c290a4f98bbc15946dccf3d\"}, \"mark\": \"point\", \"encoding\": {\"color\": {\"field\": \"pooling\", \"type\": \"nominal\"}, \"x\": {\"field\": \"emb_time_per_sample\", \"type\": \"quantitative\"}, \"y\": {\"field\": \"acc\", \"title\": \"acc\", \"type\": \"quantitative\"}}, \"$schema\": \"https://vega.github.io/schema/vega-lite/v4.17.0.json\", \"datasets\": {\"data-339fc44a2c290a4f98bbc15946dccf3d\": [{\"dataset\": \"point_mnist\", \"pooling\": \"swe\", \"ann\": \"faiss-lsh\", \"k\": 4, \"code_length\": 1024, \"emb_time_per_sample\": 0.0006262514114379883, \"inf_time_per_sample\": 0.0003870807886123657, \"acc\": 0.9247, \"precision_k\": 0.899125, \"power\": null}, {\"dataset\": \"point_mnist\", \"pooling\": \"we\", \"ann\": \"faiss-lsh\", \"k\": 4, \"code_length\": 1024, \"emb_time_per_sample\": 0.0010608826875686645, \"inf_time_per_sample\": 0.0003666826009750366, \"acc\": 0.92, \"precision_k\": 0.8942, \"power\": null}, {\"dataset\": \"point_mnist\", \"pooling\": \"fs\", \"ann\": \"faiss-lsh\", \"k\": 4, \"code_length\": 1024, \"emb_time_per_sample\": 0.00023378560543060303, \"inf_time_per_sample\": 0.0003498089075088501, \"acc\": 0.7898, \"precision_k\": 0.74325, \"power\": null}, {\"dataset\": \"point_mnist\", \"pooling\": \"cov\", \"ann\": \"faiss-lsh\", \"k\": 4, \"code_length\": 1024, \"emb_time_per_sample\": 8.51360321044922e-05, \"inf_time_per_sample\": 0.00036351778507232664, \"acc\": 0.2649, \"precision_k\": 0.247375, \"power\": null}, {\"dataset\": \"point_mnist\", \"pooling\": \"gem-1\", \"ann\": \"faiss-lsh\", \"k\": 4, \"code_length\": 1024, \"emb_time_per_sample\": 8.306031227111816e-05, \"inf_time_per_sample\": 0.00047839798927307126, \"acc\": 0.1087, \"precision_k\": 0.104325, \"power\": 1.0}, {\"dataset\": \"point_mnist\", \"pooling\": \"gem-2\", \"ann\": \"faiss-lsh\", \"k\": 4, \"code_length\": 1024, \"emb_time_per_sample\": 6.64353609085083e-05, \"inf_time_per_sample\": 0.0003809842348098755, \"acc\": 0.3215, \"precision_k\": 0.28705, \"power\": 2.0}, {\"dataset\": \"point_mnist\", \"pooling\": \"gem-4\", \"ann\": \"faiss-lsh\", \"k\": 4, \"code_length\": 1024, \"emb_time_per_sample\": 0.00014939179420471192, \"inf_time_per_sample\": 0.000393113112449646, \"acc\": 0.446, \"precision_k\": 0.393575, \"power\": 4.0}]}}, {\"mode\": \"vega-lite\"});\n",
       "</script>"
      ],
      "text/plain": [
       "alt.Chart(...)"
      ]
     },
     "execution_count": 16,
     "metadata": {},
     "output_type": "execute_result"
    }
   ],
   "source": [
    "bar"
   ]
  },
  {
   "cell_type": "code",
   "execution_count": null,
   "id": "335a6243",
   "metadata": {},
   "outputs": [],
   "source": []
  }
 ],
 "metadata": {
  "colab": {
   "name": "demo_for_pointmnist.ipynb",
   "provenance": []
  },
  "kernelspec": {
   "display_name": "Python 3 (ipykernel)",
   "language": "python",
   "name": "python3"
  },
  "language_info": {
   "codemirror_mode": {
    "name": "ipython",
    "version": 3
   },
   "file_extension": ".py",
   "mimetype": "text/x-python",
   "name": "python",
   "nbconvert_exporter": "python",
   "pygments_lexer": "ipython3",
   "version": "3.9.0"
  }
 },
 "nbformat": 4,
 "nbformat_minor": 5
}
