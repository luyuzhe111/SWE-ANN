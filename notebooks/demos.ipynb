{
 "cells": [
  {
   "cell_type": "code",
   "execution_count": null,
   "id": "c7a1b7cf",
   "metadata": {},
   "outputs": [],
   "source": [
    "from utils.experiment import Experiment"
   ]
  },
  {
   "cell_type": "code",
   "execution_count": null,
   "id": "c19686b5",
   "metadata": {},
   "outputs": [],
   "source": [
    "# under the hood the reference size is ref_size // num_slices \n",
    "exp = Experiment('point_mnist', 'swe', 'faiss-lsh', 9, ref_size=128, num_slices=16, code_length=512)\n",
    "acc = exp.test()\n",
    "print(exp.get_exp_report())\n",
    "\n",
    "# under the hood the reference size is ref_size // data_dim (2 for point mnist)\n",
    "exp = Experiment('point_mnist', 'fs', 'faiss-lsh', 9, ref_size=128, code_length=512)\n",
    "acc = exp.test()\n",
    "print(exp.get_exp_report())\n",
    "\n",
    "exp = Experiment('point_mnist', 'gem', 'faiss-lsh', 9, power=16, code_length=512)\n",
    "acc = exp.test()\n",
    "print(exp.get_exp_report())\n",
    "\n",
    "exp = Experiment('point_mnist', 'cov', 'faiss-lsh', 9, code_length=512)\n",
    "acc = exp.test()\n",
    "print(exp.get_exp_report())"
   ]
  },
  {
   "cell_type": "code",
   "execution_count": null,
   "id": "f45c455d",
   "metadata": {},
   "outputs": [],
   "source": [
    "exp = Experiment('oxford', 'swe', 'faiss-lsh', 9, ref_size=320*128, code_length=256, num_slices=128)\n",
    "acc = exp.test()\n",
    "print(exp.get_exp_report())\n",
    "\n",
    "exp = Experiment('oxford', 'fs', 'faiss-lsh', 9, ref_size=320*512, code_length=256)\n",
    "print(exp.get_exp_report())\n",
    "\n",
    "exp = Experiment('oxford', 'gem', 'faiss-lsh', 9, code_length=256, power=1)\n",
    "print(exp.get_exp_report())\n",
    "\n",
    "# very memory consuming -> n x 512 x 512; can't run on my local computer\n",
    "exp = Experiment('oxford', 'cov', 'faiss-lsh', 9, code_length=128)\n",
    "print(exp.get_exp_report())"
   ]
  }
 ],
 "metadata": {
  "kernelspec": {
   "display_name": "swd",
   "language": "python",
   "name": "swd"
  },
  "language_info": {
   "codemirror_mode": {
    "name": "ipython",
    "version": 3
   },
   "file_extension": ".py",
   "mimetype": "text/x-python",
   "name": "python",
   "nbconvert_exporter": "python",
   "pygments_lexer": "ipython3",
   "version": "3.7.11"
  }
 },
 "nbformat": 4,
 "nbformat_minor": 5
}
