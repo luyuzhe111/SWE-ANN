{
 "cells": [
  {
   "cell_type": "code",
   "execution_count": null,
   "id": "a7738620",
   "metadata": {
    "pycharm": {
     "name": "#%%\n"
    }
   },
   "outputs": [],
   "source": [
    "import numpy as np\n",
    "from torch_geometric.datasets import ModelNet\n",
    "from torch_geometric.transforms import SamplePoints, Compose, RandomRotate"
   ]
  },
  {
   "cell_type": "code",
   "execution_count": null,
   "id": "a6712aa2",
   "metadata": {
    "pycharm": {
     "name": "#%%\n"
    }
   },
   "outputs": [],
   "source": [
    "transforms = Compose([SamplePoints(1024),RandomRotate((45,45), axis=0)])\n",
    "data_train_ = ModelNet(root='../dataset/modelnet', name='40', train=True, transform=transforms)\n",
    "data_test_ = ModelNet(root='../dataset/modelnet', name='40', train=False, transform=transforms)\n",
    "\n",
    "mean = 512\n",
    "sigma = 64\n",
    "\n",
    "np.random.seed(0)\n",
    "train_num_points = np.floor(sigma * np.random.randn(len(data_train_)) + mean).astype(int)\n",
    "test_num_points = np.floor(sigma * np.random.randn(len(data_test_)) + mean).astype(int)\n",
    "\n",
    "X_train_ = [data_train_[i].pos.numpy()[:train_num_points[i]] for i in range(len(data_train_))]\n",
    "y_train = np.array([data_train_[i].y.numpy() for i in range(len(data_train_))]).squeeze()\n",
    "X_test_ = [data_test_[i].pos.numpy()[:test_num_points[i]] for i in range(len(data_test_))]\n",
    "y_test = np.array([data_test_[i].y.numpy() for i in range(len(data_test_))]).squeeze()\n",
    "\n",
    "def normalize(data):\n",
    "    normalized = []\n",
    "    for sample in data:\n",
    "        sample_min = sample.min(0)\n",
    "        sample = sample - sample_min\n",
    "        sample_max = sample.max()\n",
    "        normalized.append(sample / sample_max)\n",
    "    return normalized\n",
    "\n",
    "X_train = normalize(X_train_)\n",
    "X_test = normalize(X_test_)"
   ]
  },
  {
   "cell_type": "code",
   "execution_count": null,
   "id": "86ce91e7",
   "metadata": {
    "pycharm": {
     "name": "#%%\n"
    }
   },
   "outputs": [],
   "source": [
    "import matplotlib.pyplot as plt"
   ]
  },
  {
   "cell_type": "code",
   "execution_count": null,
   "id": "4a402bf9",
   "metadata": {
    "pycharm": {
     "name": "#%%\n"
    },
    "scrolled": false
   },
   "outputs": [],
   "source": [
    "for i in range(5370, 5380):\n",
    "    fig = plt.figure(figsize=(8,8))\n",
    "    ax = fig.add_subplot(projection='3d')\n",
    "    ax.scatter(X_train[i][:,0],X_train[i][:,1], X_train[i][:,2])"
   ]
  }
 ],
 "metadata": {
  "kernelspec": {
   "display_name": "swe",
   "language": "python",
   "name": "swe"
  },
  "language_info": {
   "codemirror_mode": {
    "name": "ipython",
    "version": 3
   },
   "file_extension": ".py",
   "mimetype": "text/x-python",
   "name": "python",
   "nbconvert_exporter": "python",
   "pygments_lexer": "ipython3",
   "version": "3.7.13"
  }
 },
 "nbformat": 4,
 "nbformat_minor": 5
}
