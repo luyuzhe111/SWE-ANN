{
  "nbformat": 4,
  "nbformat_minor": 0,
  "metadata": {
    "colab": {
      "name": "embedding check.ipynb",
      "provenance": [],
      "collapsed_sections": []
    },
    "kernelspec": {
      "display_name": "Python 3",
      "name": "python3"
    },
    "language_info": {
      "name": "python"
    }
  },
  "cells": [
    {
      "cell_type": "code",
      "metadata": {
        "id": "edD52NlqVa8I",
        "colab": {
          "base_uri": "https://localhost:8080/"
        },
        "outputId": "71485c8d-f6d4-49ba-dcc4-4d1a63d537fb"
      },
      "source": [
        "!git clone https://github.com/aliutkus/torchinterp1d.git\n",
        "!pip install -e /content/torchinterp1d/"
      ],
      "execution_count": 1,
      "outputs": [
        {
          "output_type": "stream",
          "name": "stdout",
          "text": [
            "fatal: destination path 'torchinterp1d' already exists and is not an empty directory.\n",
            "Obtaining file:///content/torchinterp1d\n",
            "Requirement already satisfied: torch>=1.6 in /usr/local/lib/python3.7/dist-packages (from torchinterp1d==1.1) (1.9.0+cu111)\n",
            "Requirement already satisfied: typing-extensions in /usr/local/lib/python3.7/dist-packages (from torch>=1.6->torchinterp1d==1.1) (3.7.4.3)\n",
            "Installing collected packages: torchinterp1d\n",
            "  Attempting uninstall: torchinterp1d\n",
            "    Found existing installation: torchinterp1d 1.1\n",
            "    Can't uninstall 'torchinterp1d'. No files were found to uninstall.\n",
            "  Running setup.py develop for torchinterp1d\n",
            "Successfully installed torchinterp1d-1.1\n"
          ]
        }
      ]
    },
    {
      "cell_type": "code",
      "metadata": {
        "id": "Or3-iq1gVV89"
      },
      "source": [
        "import numpy as np\n",
        "import pandas as pd\n",
        "import torch\n",
        "from torchinterp1d import Interp1d\n",
        "import matplotlib.pyplot as plt"
      ],
      "execution_count": 2,
      "outputs": []
    },
    {
      "cell_type": "code",
      "metadata": {
        "id": "BN53uFkRrAtN"
      },
      "source": [
        "def generate_theta(d, L):\n",
        "    torch.manual_seed(0)\n",
        "    theta = [th_ / torch.sqrt(torch.sum((th_**2))) for th_ in torch.randn(L, d)]\n",
        "    return torch.stack(theta, dim=0)\n",
        "    \n",
        "def get_slices(X, L):\n",
        "    _, dim = X.shape\n",
        "    theta = generate_theta(dim, L)\n",
        "    return linear_slicer(X, theta)\n",
        "    \n",
        "def interpolation(data_sorted, permutation):\n",
        "    N, L = data_sorted.shape\n",
        "    M = permutation.shape[0]\n",
        "    #cdf of sorted dataset.\n",
        "    Fx = 1 / N * torch.arange(1, N+1).repeat(L,1).T\n",
        "    z = 1/M*(torch.add(permutation,1))\n",
        "    #evaluate the inverse of cdf of data_sorted at z\n",
        "    interp = Interp1d()(Fx.T, data_sorted.T, z.T)\n",
        "    # return the monge copuling with shape M*L\n",
        "    return interp.T\n",
        "\n",
        "def monge_coupling(dataset, reference, L):\n",
        "    sliced_data = get_slices(dataset, L)\n",
        "    sliced_ref = get_slices(reference, L)\n",
        "    \n",
        "    data_sorted,_ = torch.sort(sliced_data, dim=0)\n",
        "    ref_ind = torch.argsort(sliced_ref, dim=0)\n",
        "    permutation = torch.argsort(ref_ind, dim=0)\n",
        "    if dataset.shape[0] == reference.shape[0]:\n",
        "       coupling = data_sorted.T[torch.arange(L).unsqueeze(1).repeat((1, dataset.shape[0])).flatten(), permutation.T.flatten()].view(L, dataset.shape[0]).T\n",
        "    else: coupling = interpolation(data_sorted, permutation)\n",
        "  \n",
        "    return coupling\n",
        "    \n",
        "def sw_embedding(dataset, reference, L):\n",
        "    M = torch.tensor(reference.shape[0])\n",
        "    #return the final embedding\n",
        "    return 1/torch.sqrt(M)*(monge_coupling(dataset, reference, L)-get_slices(reference, L))\n",
        "\n",
        "def linear_slicer(X, theta):\n",
        "    #g_\\theta(x)=\\theta^T*x\n",
        "    if len(theta.shape)==1:\n",
        "        return torch.matmul(X,theta)\n",
        "    else:\n",
        "        return torch.matmul(X,theta.T)"
      ],
      "execution_count": 3,
      "outputs": []
    },
    {
      "cell_type": "code",
      "metadata": {
        "id": "o--ZlV_hxKZ-"
      },
      "source": [
        "df_train = pd.read_csv(\"/content/drive/MyDrive/train.csv\")\n",
        "df_test = pd.read_csv(\"/content/drive/MyDrive/test.csv\")"
      ],
      "execution_count": 4,
      "outputs": []
    },
    {
      "cell_type": "code",
      "metadata": {
        "id": "vNWEegI3ytpX"
      },
      "source": [
        "X = df_train[df_train.columns[1:]].to_numpy()\n",
        "y = df_train[df_train.columns[0]].to_numpy()\n",
        "X = X.reshape(X.shape[0], -1, 3)\n",
        "X = torch.from_numpy(X).to(torch.float)\n",
        "y = torch.from_numpy(y).to(torch.float)"
      ],
      "execution_count": 5,
      "outputs": []
    },
    {
      "cell_type": "code",
      "metadata": {
        "id": "aFzRVOZby_uZ"
      },
      "source": [
        "sample_dataset = []\n",
        "for i in range(100):\n",
        "    sample = X[i, :, :]\n",
        "    sample = sample[sample[:, 2] > 0][:, :2]\n",
        "    sample_dataset.append(sample)"
      ],
      "execution_count": 6,
      "outputs": []
    },
    {
      "cell_type": "code",
      "metadata": {
        "colab": {
          "base_uri": "https://localhost:8080/",
          "height": 282
        },
        "id": "EdzUugf808Fp",
        "outputId": "ed2edd77-1a3d-4211-f240-340f150bc4ac"
      },
      "source": [
        "torch.manual_seed(123)\n",
        "a = sample_dataset[0]\n",
        "ref = torch.randn(10,2)*5\n",
        "plt.scatter(a[:,0], a[:,1], c='b')\n",
        "plt.scatter(ref[:,0], ref[:,1], c='r')"
      ],
      "execution_count": 7,
      "outputs": [
        {
          "output_type": "execute_result",
          "data": {
            "text/plain": [
              "<matplotlib.collections.PathCollection at 0x7f599ff85f50>"
            ]
          },
          "metadata": {},
          "execution_count": 7
        },
        {
          "output_type": "display_data",
          "data": {
            "image/png": "[encoded data removed]",
            "text/plain": [
              "<Figure size 432x288 with 1 Axes>"
            ]
          },
          "metadata": {
            "needs_background": "light"
          }
        }
      ]
    },
    {
      "cell_type": "code",
      "metadata": {
        "colab": {
          "base_uri": "https://localhost:8080/",
          "height": 282
        },
        "id": "71CWwHBj2UIM",
        "outputId": "1f586f31-6fae-4b5b-ded2-73ab5c9893e6"
      },
      "source": [
        "torch.manual_seed(23)\n",
        "ref1 = get_slices(ref,20)[:,0]\n",
        "a1 = get_slices(a,20)[:,0]\n",
        "mc= monge_coupling(a, ref, 20)\n",
        "mc1 = mc[:,0]\n",
        "#visualizing monge coupling\n",
        "plt.xlim(-40, 15)\n",
        "plt.scatter(ref1, torch.ones(10,1), c='r') #first slice of ref\n",
        "plt.scatter(a1, torch.ones(166,1)*0.5,c='b') #first slice of sample\n",
        "plt.scatter(mc1, torch.zeros(10,1),c='g') #monge map between them"
      ],
      "execution_count": 8,
      "outputs": [
        {
          "output_type": "execute_result",
          "data": {
            "text/plain": [
              "<matplotlib.collections.PathCollection at 0x7f59a01b48d0>"
            ]
          },
          "metadata": {},
          "execution_count": 8
        },
        {
          "output_type": "display_data",
          "data": {
            "image/png": "[encoded data removed]",
            "text/plain": [
              "<Figure size 432x288 with 1 Axes>"
            ]
          },
          "metadata": {
            "needs_background": "light"
          }
        }
      ]
    },
    {
      "cell_type": "code",
      "metadata": {
        "id": "IQFQVzgNBZCf"
      },
      "source": [
        "class SlicedWD:\n",
        "    def __call__(self, x, y, L, p=2, random_state=0):\n",
        "        self.p = p\n",
        "        assert x.device == y.device\n",
        "        self.state = random_state\n",
        "        self.device = x.device\n",
        "        self.num_slices = L\n",
        "        return self.sliced_wasserstein(x, y, L)\n",
        "\n",
        "    def sample_on_unit_sphere(self, d, L):\n",
        "        # sampling points on the d-dimensional unit sphere\n",
        "        torch.manual_seed(self.state)\n",
        "        theta = [th_ / torch.sqrt(torch.sum((th_**2))) for th_ in torch.randn(L, d, device=self.device)]\n",
        "        return torch.stack(theta, dim=0)\n",
        "    \n",
        "    def interpolate_samples(self, proj_x_sorted, proj_y_sorted):\n",
        "        num_samples_x = proj_x_sorted.shape[0]\n",
        "        num_samples_y = proj_y_sorted.shape[0]\n",
        "\n",
        "        fx = 1 / num_samples_x * torch.ones(num_samples_x, self.num_slices)\n",
        "        fy = 1 / num_samples_y * torch.ones(num_samples_y, self.num_slices)\n",
        "\n",
        "        Fx = torch.cumsum(fx, dim=0)\n",
        "        Fy = torch.cumsum(fy, dim=0)\n",
        "\n",
        "        M = max(num_samples_x, num_samples_y)\n",
        "        m = min(num_samples_x, num_samples_y)\n",
        "        z = torch.linspace(1/m, 1, m).repeat(self.num_slices, 1)\n",
        "\n",
        "        x_interp = Interp1d()(Fx.T, proj_x_sorted.T, z)\n",
        "        y_interp = Interp1d()(Fy.T, proj_y_sorted.T, z)\n",
        "\n",
        "        return x_interp.T, y_interp.T\n",
        "\n",
        "    def wasserstein_1d(self, proj_x, proj_y):\n",
        "        # W_p^p for 1D slices of x and y\n",
        "        proj_x_sorted, _ = torch.sort(proj_x, dim=0)\n",
        "        proj_y_sorted, _ = torch.sort(proj_y, dim=0)\n",
        "\n",
        "        if proj_x.shape != proj_y.shape:\n",
        "            proj_x_sorted, proj_y_sorted = self.interpolate_samples(proj_x_sorted, proj_y_sorted)\n",
        "\n",
        "        cost = torch.abs(proj_x_sorted - proj_y_sorted) ** self.p\n",
        "        \n",
        "        return torch.mean(cost, dim=0)\n",
        "\n",
        "\n",
        "    def sliced_wasserstein(self, x, y, L):\n",
        "        # sliced wasserstein distance between x and y using L slices\n",
        "        N, d = x.shape\n",
        "        theta = self.sample_on_unit_sphere(d, L)\n",
        "        proj_x = torch.matmul(x, theta.T)\n",
        "        proj_y = torch.matmul(y, theta.T)\n",
        "        swd = torch.sqrt(torch.sum(self.wasserstein_1d(proj_x, proj_y)))\n",
        "        return swd\n",
        "    "
      ],
      "execution_count": 9,
      "outputs": []
    },
    {
      "cell_type": "code",
      "metadata": {
        "colab": {
          "base_uri": "https://localhost:8080/"
        },
        "id": "eYJNqSH1Ayuk",
        "outputId": "15356a7d-7d04-4afa-e094-19b3817ca90a"
      },
      "source": [
        "#checking the swe and the swd\n",
        "b = sample_dataset[1]\n",
        "swe1 = sw_embedding(a, ref, 10)\n",
        "swe2 = sw_embedding(b, ref, 10)\n",
        "swd = SlicedWD()(a, b, 10)\n",
        "print(torch.norm(swe1-swe2, p='fro'))\n",
        "print(swd)\n"
      ],
      "execution_count": 10,
      "outputs": [
        {
          "output_type": "stream",
          "name": "stdout",
          "text": [
            "tensor(3.7720)\n",
            "tensor(3.6891)\n"
          ]
        }
      ]
    }
  ]
}