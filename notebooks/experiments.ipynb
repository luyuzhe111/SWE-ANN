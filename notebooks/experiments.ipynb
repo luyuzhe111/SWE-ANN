{
 "cells": [
  {
   "cell_type": "code",
   "execution_count": 1,
   "id": "0a15296f",
   "metadata": {},
   "outputs": [
    {
     "name": "stdout",
     "output_type": "stream",
     "text": [
      "loading dataset...\n",
      "dataset loaded!\n",
      "preprocess samples...\n",
      "compute referece...\n",
      "loading cached base embedding...\n",
      "compute query embedding\n"
     ]
    },
    {
     "name": "stderr",
     "output_type": "stream",
     "text": [
      "100%|██████████████████████████████████████████████████████████████████████████████████████████████████████████████████████████| 10000/10000 [00:05<00:00, 1994.35it/s]\n"
     ]
    },
    {
     "name": "stdout",
     "output_type": "stream",
     "text": [
      "0.9243\n"
     ]
    }
   ],
   "source": [
    "from utils.experiment import Experiment\n",
    "exp = Experiment('point_mnist', 'swe', 'faiss-lsh', 9, random_state=0, num_slices=10)\n",
    "acc = exp.test()\n",
    "print(acc)\n",
    "print(exp.get_time_report())"
   ]
  },
  {
   "cell_type": "code",
   "execution_count": null,
   "id": "8a235487",
   "metadata": {},
   "outputs": [],
   "source": []
  }
 ],
 "metadata": {
  "kernelspec": {
   "display_name": "swd",
   "language": "python",
   "name": "swd"
  },
  "language_info": {
   "codemirror_mode": {
    "name": "ipython",
    "version": 3
   },
   "file_extension": ".py",
   "mimetype": "text/x-python",
   "name": "python",
   "nbconvert_exporter": "python",
   "pygments_lexer": "ipython3",
   "version": "3.7.11"
  }
 },
 "nbformat": 4,
 "nbformat_minor": 5
}