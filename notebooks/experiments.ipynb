{
 "cells": [
  {
   "cell_type": "code",
   "execution_count": 1,
   "id": "0a15296f",
   "metadata": {},
   "outputs": [],
   "source": [
    "from utils.experiment import Experiment"
   ]
  },
  {
   "cell_type": "code",
   "execution_count": 2,
   "id": "8a235487",
   "metadata": {},
   "outputs": [
    {
     "name": "stdout",
     "output_type": "stream",
     "text": [
      "loading dataset...\n",
      "preprocess samples...\n",
      "compute reference...\n",
      "loading cached base embedding...\n",
      "compute query embedding...\n"
     ]
    },
    {
     "name": "stderr",
     "output_type": "stream",
     "text": [
      "100%|██████████████████████████████████████████████████████████████████████████████████████████████████████████████████████████| 10000/10000 [00:05<00:00, 1926.08it/s]\n"
     ]
    },
    {
     "name": "stdout",
     "output_type": "stream",
     "text": [
      "(10000, 500)\n",
      "0.9243\n",
      "{'dataset': 'point_mnist', 'pooling': 'swe', 'ann': 'faiss-lsh', 'emb_time_per_sample': 0.0005389582872390747, 'inf_time_per_sample': 0.00028615469932556154}\n"
     ]
    }
   ],
   "source": [
    "exp = Experiment('point_mnist', 'swe', 'faiss-lsh', 9, ref_size=500, random_state=0, num_slices=10)\n",
    "acc = exp.test()\n",
    "print(acc)\n",
    "print(exp.get_time_report())"
   ]
  },
  {
   "cell_type": "code",
   "execution_count": 3,
   "id": "66d4a115",
   "metadata": {},
   "outputs": [
    {
     "name": "stdout",
     "output_type": "stream",
     "text": [
      "loading dataset...\n",
      "compute base embedding...\n"
     ]
    },
    {
     "name": "stderr",
     "output_type": "stream",
     "text": [
      "100%|██████████████████████████████████████████████████████████████████████████████████████████████████████████████████████████| 60000/60000 [00:13<00:00, 4341.76it/s]\n"
     ]
    },
    {
     "name": "stdout",
     "output_type": "stream",
     "text": [
      "compute query embedding...\n"
     ]
    },
    {
     "name": "stderr",
     "output_type": "stream",
     "text": [
      "100%|██████████████████████████████████████████████████████████████████████████████████████████████████████████████████████████| 10000/10000 [00:02<00:00, 4397.67it/s]\n"
     ]
    },
    {
     "name": "stdout",
     "output_type": "stream",
     "text": [
      "(10000, 500)\n",
      "0.7711\n",
      "{'dataset': 'point_mnist', 'pooling': 'fs', 'ann': 'faiss-lsh', 'emb_time_per_sample': 0.00025419042110443117, 'inf_time_per_sample': 0.00027818801403045655}\n"
     ]
    }
   ],
   "source": [
    "exp = Experiment('point_mnist', 'fs', 'faiss-lsh', 9, ref_size=500, random_state=0)\n",
    "acc = exp.test()\n",
    "print(acc)\n",
    "print(exp.get_time_report())"
   ]
  },
  {
   "cell_type": "code",
   "execution_count": 4,
   "id": "70d770ae",
   "metadata": {},
   "outputs": [
    {
     "name": "stdout",
     "output_type": "stream",
     "text": [
      "loading dataset...\n",
      "compute base embedding...\n"
     ]
    },
    {
     "name": "stderr",
     "output_type": "stream",
     "text": [
      "100%|██████████████████████████████████████████████████████████████████████████████████████████████████████████████████████████| 60000/60000 [00:18<00:00, 3241.87it/s]\n"
     ]
    },
    {
     "name": "stdout",
     "output_type": "stream",
     "text": [
      "compute query embedding...\n"
     ]
    },
    {
     "name": "stderr",
     "output_type": "stream",
     "text": [
      "100%|██████████████████████████████████████████████████████████████████████████████████████████████████████████████████████████| 10000/10000 [00:03<00:00, 3231.32it/s]\n"
     ]
    },
    {
     "name": "stdout",
     "output_type": "stream",
     "text": [
      "(10000, 40)\n",
      "0.6755\n",
      "{'dataset': 'point_mnist', 'pooling': 'gem', 'ann': 'faiss-lsh', 'emb_time_per_sample': 0.0003341557025909424, 'inf_time_per_sample': 0.0005490814924240113}\n"
     ]
    }
   ],
   "source": [
    "exp = Experiment('point_mnist', 'gem', 'faiss-lsh', 9, power=20)\n",
    "acc = exp.test()\n",
    "print(acc)\n",
    "print(exp.get_time_report())"
   ]
  },
  {
   "cell_type": "code",
   "execution_count": null,
   "id": "9cf2b0a9",
   "metadata": {},
   "outputs": [],
   "source": []
  }
 ],
 "metadata": {
  "kernelspec": {
   "display_name": "swd",
   "language": "python",
   "name": "swd"
  },
  "language_info": {
   "codemirror_mode": {
    "name": "ipython",
    "version": 3
   },
   "file_extension": ".py",
   "mimetype": "text/x-python",
   "name": "python",
   "nbconvert_exporter": "python",
   "pygments_lexer": "ipython3",
   "version": "3.7.11"
  }
 },
 "nbformat": 4,
 "nbformat_minor": 5
}
