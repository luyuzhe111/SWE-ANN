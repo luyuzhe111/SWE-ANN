{
 "cells": [
  {
   "cell_type": "code",
   "execution_count": 1,
   "id": "a37b35fd",
   "metadata": {
    "executionInfo": {
     "elapsed": 1005,
     "status": "ok",
     "timestamp": 1653423602170,
     "user": {
      "displayName": "Xinran Liu",
      "userId": "10633541058978347574"
     },
     "user_tz": 300
    },
    "id": "9dd78bf5",
    "pycharm": {
     "name": "#%%\n"
    }
   },
   "outputs": [],
   "source": [
    "import os\n",
    "import numpy as np\n",
    "import pandas as pd\n",
    "import pickle\n",
    "import matplotlib.pyplot as plt\n",
    "import json\n",
    "from utils.experiment import Experiment"
   ]
  },
  {
   "cell_type": "code",
   "execution_count": 2,
   "id": "2e11fe36",
   "metadata": {
    "pycharm": {
     "name": "#%%\n"
    }
   },
   "outputs": [],
   "source": [
    "dataset = 'point_mnist'\n",
    "slice_setting = 'over'"
   ]
  },
  {
   "cell_type": "code",
   "execution_count": 3,
   "id": "1c2eea99",
   "metadata": {
    "pycharm": {
     "name": "#%%\n"
    }
   },
   "outputs": [
    {
     "name": "stdout",
     "output_type": "stream",
     "text": [
      "point_mnist 150 8\n"
     ]
    }
   ],
   "source": [
    "if dataset == 'point_mnist':\n",
    "    df_train = pd.read_csv('../dataset/pointcloud_mnist_2d/train.csv')\n",
    "\n",
    "    X = df_train[df_train.columns[1:]].to_numpy()\n",
    "    y = df_train[df_train.columns[0]].to_numpy()\n",
    "\n",
    "    X = X.reshape(X.shape[0], -1, 3)\n",
    "    \n",
    "    num_points = np.sum((X[:, :, 2] > 0).astype(int), axis=1)\n",
    "    \n",
    "    set_size_median = np.median(num_points).astype(int)\n",
    "    n_slices = 8 if slice_setting == 'over' else 2\n",
    "\n",
    "elif dataset == 'modelnet40':\n",
    "    set_size_median = 512\n",
    "    n_slices = 16 if slice_setting == 'over' else 3\n",
    "    \n",
    "elif dataset == 'oxford':\n",
    "    with open('../dataset/oxford/train_test_AE8.pkl', 'rb') as f:\n",
    "        data = pickle.load(f)\n",
    "\n",
    "    X_train, y_train, X_test, y_test, classnames = data\n",
    "\n",
    "    num_points = np.array([i.shape[0] for i in X_train])\n",
    "\n",
    "    set_size_median = np.median(num_points).astype(int)\n",
    "    n_slices = 128 if slice_setting == 'over' else 8\n",
    "\n",
    "print(dataset, set_size_median, n_slices)"
   ]
  },
  {
   "cell_type": "code",
   "execution_count": 4,
   "id": "6d021c3f",
   "metadata": {
    "pycharm": {
     "name": "#%%\n"
    }
   },
   "outputs": [],
   "source": [
    "code_length = 1024\n",
    "ref = 'rand'\n",
    "seeds = [0, 1, 4, 10, 16]\n",
    "ks = [4, 8, 16]\n",
    "reports = []"
   ]
  },
  {
   "cell_type": "markdown",
   "id": "bfb28a98",
   "metadata": {
    "pycharm": {
     "name": "#%% md\n"
    }
   },
   "source": [
    "### FS"
   ]
  },
  {
   "cell_type": "code",
   "execution_count": 5,
   "id": "80611eaa",
   "metadata": {
    "pycharm": {
     "name": "#%%\n"
    }
   },
   "outputs": [
    {
     "name": "stdout",
     "output_type": "stream",
     "text": [
      "loading dataset...\n",
      "loading cached base embedding...\n",
      "compute query embedding...\n"
     ]
    },
    {
     "name": "stderr",
     "output_type": "stream",
     "text": [
      "100%|███████████████████████████████████████████████████████████████████████████████████████████████████████████████████████████████████████████████████████████████████| 10000/10000 [00:02<00:00, 3645.01it/s]\n"
     ]
    },
    {
     "name": "stdout",
     "output_type": "stream",
     "text": [
      "{'dataset': 'point_mnist', 'pooling': 'fs', 'ann': 'faiss-lsh', 'k': 4, 'code_length': 1024, 'emb_time_per_sample': 0.0002970361948013306, 'inf_time_per_sample': 0.00038264269828796384, 'acc': 0.8021, 'precision_k': 0.7509}\n",
      "loading dataset...\n",
      "loading cached base embedding...\n",
      "compute query embedding...\n"
     ]
    },
    {
     "name": "stderr",
     "output_type": "stream",
     "text": [
      "100%|███████████████████████████████████████████████████████████████████████████████████████████████████████████████████████████████████████████████████████████████████| 10000/10000 [00:02<00:00, 4023.79it/s]\n"
     ]
    },
    {
     "name": "stdout",
     "output_type": "stream",
     "text": [
      "{'dataset': 'point_mnist', 'pooling': 'fs', 'ann': 'faiss-lsh', 'k': 8, 'code_length': 1024, 'emb_time_per_sample': 0.00026838419437408447, 'inf_time_per_sample': 0.00045978360176086424, 'acc': 0.8107, 'precision_k': 0.739475}\n",
      "loading dataset...\n",
      "loading cached base embedding...\n",
      "compute query embedding...\n"
     ]
    },
    {
     "name": "stderr",
     "output_type": "stream",
     "text": [
      "100%|███████████████████████████████████████████████████████████████████████████████████████████████████████████████████████████████████████████████████████████████████| 10000/10000 [00:02<00:00, 4064.36it/s]\n"
     ]
    },
    {
     "name": "stdout",
     "output_type": "stream",
     "text": [
      "{'dataset': 'point_mnist', 'pooling': 'fs', 'ann': 'faiss-lsh', 'k': 16, 'code_length': 1024, 'emb_time_per_sample': 0.0002653214931488037, 'inf_time_per_sample': 0.0003796648979187012, 'acc': 0.8118, 'precision_k': 0.7254375}\n",
      "loading dataset...\n",
      "loading cached base embedding...\n",
      "compute query embedding...\n"
     ]
    },
    {
     "name": "stderr",
     "output_type": "stream",
     "text": [
      "100%|███████████████████████████████████████████████████████████████████████████████████████████████████████████████████████████████████████████████████████████████████| 10000/10000 [00:02<00:00, 3854.85it/s]\n"
     ]
    },
    {
     "name": "stdout",
     "output_type": "stream",
     "text": [
      "{'dataset': 'point_mnist', 'pooling': 'fs', 'ann': 'faiss-lsh', 'k': 4, 'code_length': 1024, 'emb_time_per_sample': 0.0002789320945739746, 'inf_time_per_sample': 0.0004295259714126587, 'acc': 0.8003, 'precision_k': 0.7535}\n",
      "loading dataset...\n",
      "loading cached base embedding...\n",
      "compute query embedding...\n"
     ]
    },
    {
     "name": "stderr",
     "output_type": "stream",
     "text": [
      "100%|███████████████████████████████████████████████████████████████████████████████████████████████████████████████████████████████████████████████████████████████████| 10000/10000 [00:02<00:00, 3534.09it/s]\n"
     ]
    },
    {
     "name": "stdout",
     "output_type": "stream",
     "text": [
      "{'dataset': 'point_mnist', 'pooling': 'fs', 'ann': 'faiss-lsh', 'k': 8, 'code_length': 1024, 'emb_time_per_sample': 0.0003022948980331421, 'inf_time_per_sample': 0.0003903196096420288, 'acc': 0.8129, 'precision_k': 0.7433375}\n",
      "loading dataset...\n",
      "loading cached base embedding...\n",
      "compute query embedding...\n"
     ]
    },
    {
     "name": "stderr",
     "output_type": "stream",
     "text": [
      "100%|███████████████████████████████████████████████████████████████████████████████████████████████████████████████████████████████████████████████████████████████████| 10000/10000 [00:02<00:00, 3507.25it/s]\n"
     ]
    },
    {
     "name": "stdout",
     "output_type": "stream",
     "text": [
      "{'dataset': 'point_mnist', 'pooling': 'fs', 'ann': 'faiss-lsh', 'k': 16, 'code_length': 1024, 'emb_time_per_sample': 0.00031693649291992187, 'inf_time_per_sample': 0.0004334427118301392, 'acc': 0.8151, 'precision_k': 0.7307125}\n",
      "loading dataset...\n",
      "loading cached base embedding...\n",
      "compute query embedding...\n"
     ]
    },
    {
     "name": "stderr",
     "output_type": "stream",
     "text": [
      "100%|███████████████████████████████████████████████████████████████████████████████████████████████████████████████████████████████████████████████████████████████████| 10000/10000 [00:02<00:00, 3691.73it/s]\n"
     ]
    },
    {
     "name": "stdout",
     "output_type": "stream",
     "text": [
      "{'dataset': 'point_mnist', 'pooling': 'fs', 'ann': 'faiss-lsh', 'k': 4, 'code_length': 1024, 'emb_time_per_sample': 0.00029342708587646487, 'inf_time_per_sample': 0.00047824881076812746, 'acc': 0.7951, 'precision_k': 0.7471}\n",
      "loading dataset...\n",
      "loading cached base embedding...\n",
      "compute query embedding...\n"
     ]
    },
    {
     "name": "stderr",
     "output_type": "stream",
     "text": [
      "100%|███████████████████████████████████████████████████████████████████████████████████████████████████████████████████████████████████████████████████████████████████| 10000/10000 [00:02<00:00, 3438.24it/s]\n"
     ]
    },
    {
     "name": "stdout",
     "output_type": "stream",
     "text": [
      "{'dataset': 'point_mnist', 'pooling': 'fs', 'ann': 'faiss-lsh', 'k': 8, 'code_length': 1024, 'emb_time_per_sample': 0.00031150829792022706, 'inf_time_per_sample': 0.0004939509868621826, 'acc': 0.8078, 'precision_k': 0.7328875}\n",
      "loading dataset...\n",
      "loading cached base embedding...\n",
      "compute query embedding...\n"
     ]
    },
    {
     "name": "stderr",
     "output_type": "stream",
     "text": [
      "100%|███████████████████████████████████████████████████████████████████████████████████████████████████████████████████████████████████████████████████████████████████| 10000/10000 [00:02<00:00, 3796.72it/s]\n"
     ]
    },
    {
     "name": "stdout",
     "output_type": "stream",
     "text": [
      "{'dataset': 'point_mnist', 'pooling': 'fs', 'ann': 'faiss-lsh', 'k': 16, 'code_length': 1024, 'emb_time_per_sample': 0.00028458540439605713, 'inf_time_per_sample': 0.00038386948108673095, 'acc': 0.8069, 'precision_k': 0.71895625}\n",
      "loading dataset...\n",
      "loading cached base embedding...\n",
      "compute query embedding...\n"
     ]
    },
    {
     "name": "stderr",
     "output_type": "stream",
     "text": [
      "100%|███████████████████████████████████████████████████████████████████████████████████████████████████████████████████████████████████████████████████████████████████| 10000/10000 [00:03<00:00, 3010.23it/s]\n"
     ]
    },
    {
     "name": "stdout",
     "output_type": "stream",
     "text": [
      "{'dataset': 'point_mnist', 'pooling': 'fs', 'ann': 'faiss-lsh', 'k': 4, 'code_length': 1024, 'emb_time_per_sample': 0.00035347328186035156, 'inf_time_per_sample': 0.0003956390142440796, 'acc': 0.8002, 'precision_k': 0.753825}\n",
      "loading dataset...\n",
      "loading cached base embedding...\n",
      "compute query embedding...\n"
     ]
    },
    {
     "name": "stderr",
     "output_type": "stream",
     "text": [
      "100%|███████████████████████████████████████████████████████████████████████████████████████████████████████████████████████████████████████████████████████████████████| 10000/10000 [00:03<00:00, 3137.03it/s]\n"
     ]
    },
    {
     "name": "stdout",
     "output_type": "stream",
     "text": [
      "{'dataset': 'point_mnist', 'pooling': 'fs', 'ann': 'faiss-lsh', 'k': 8, 'code_length': 1024, 'emb_time_per_sample': 0.0003382011890411377, 'inf_time_per_sample': 0.00038137691020965575, 'acc': 0.8119, 'precision_k': 0.74415}\n",
      "loading dataset...\n",
      "loading cached base embedding...\n",
      "compute query embedding...\n"
     ]
    },
    {
     "name": "stderr",
     "output_type": "stream",
     "text": [
      "100%|███████████████████████████████████████████████████████████████████████████████████████████████████████████████████████████████████████████████████████████████████| 10000/10000 [00:03<00:00, 2818.91it/s]\n"
     ]
    },
    {
     "name": "stdout",
     "output_type": "stream",
     "text": [
      "{'dataset': 'point_mnist', 'pooling': 'fs', 'ann': 'faiss-lsh', 'k': 16, 'code_length': 1024, 'emb_time_per_sample': 0.00037712209224700926, 'inf_time_per_sample': 0.0003930300235748291, 'acc': 0.8087, 'precision_k': 0.72950625}\n",
      "loading dataset...\n",
      "loading cached base embedding...\n",
      "compute query embedding...\n"
     ]
    },
    {
     "name": "stderr",
     "output_type": "stream",
     "text": [
      "100%|███████████████████████████████████████████████████████████████████████████████████████████████████████████████████████████████████████████████████████████████████| 10000/10000 [00:02<00:00, 4249.21it/s]\n"
     ]
    },
    {
     "name": "stdout",
     "output_type": "stream",
     "text": [
      "{'dataset': 'point_mnist', 'pooling': 'fs', 'ann': 'faiss-lsh', 'k': 4, 'code_length': 1024, 'emb_time_per_sample': 0.0002567981004714966, 'inf_time_per_sample': 0.0003881385326385498, 'acc': 0.794, 'precision_k': 0.74525}\n",
      "loading dataset...\n",
      "loading cached base embedding...\n",
      "compute query embedding...\n"
     ]
    },
    {
     "name": "stderr",
     "output_type": "stream",
     "text": [
      "100%|███████████████████████████████████████████████████████████████████████████████████████████████████████████████████████████████████████████████████████████████████| 10000/10000 [00:02<00:00, 4156.35it/s]\n"
     ]
    },
    {
     "name": "stdout",
     "output_type": "stream",
     "text": [
      "{'dataset': 'point_mnist', 'pooling': 'fs', 'ann': 'faiss-lsh', 'k': 8, 'code_length': 1024, 'emb_time_per_sample': 0.0002594175338745117, 'inf_time_per_sample': 0.0003754882097244263, 'acc': 0.8041, 'precision_k': 0.7334}\n",
      "loading dataset...\n",
      "loading cached base embedding...\n",
      "compute query embedding...\n"
     ]
    },
    {
     "name": "stderr",
     "output_type": "stream",
     "text": [
      "100%|███████████████████████████████████████████████████████████████████████████████████████████████████████████████████████████████████████████████████████████████████| 10000/10000 [00:02<00:00, 4133.78it/s]\n"
     ]
    },
    {
     "name": "stdout",
     "output_type": "stream",
     "text": [
      "{'dataset': 'point_mnist', 'pooling': 'fs', 'ann': 'faiss-lsh', 'k': 16, 'code_length': 1024, 'emb_time_per_sample': 0.00027086079120635986, 'inf_time_per_sample': 0.0003759662866592407, 'acc': 0.806, 'precision_k': 0.7188}\n"
     ]
    }
   ],
   "source": [
    "for seed in seeds:\n",
    "    for k in ks:\n",
    "        exp = Experiment(dataset, 'fs', 'faiss-lsh', \n",
    "                         random_state=seed, ref_func=ref, k=k, ref_size=set_size_median, code_length=code_length)\n",
    "        exp.test()\n",
    "        report = exp.get_exp_report()\n",
    "        print(report)\n",
    "        reports.append(report)"
   ]
  },
  {
   "cell_type": "markdown",
   "id": "2910db13",
   "metadata": {
    "pycharm": {
     "name": "#%% md\n"
    }
   },
   "source": [
    "### SWE"
   ]
  },
  {
   "cell_type": "code",
   "execution_count": 6,
   "id": "de69f631",
   "metadata": {
    "pycharm": {
     "name": "#%%\n"
    },
    "scrolled": false
   },
   "outputs": [
    {
     "name": "stdout",
     "output_type": "stream",
     "text": [
      "loading dataset...\n",
      "loading cached base embedding...\n",
      "compute query embedding...\n"
     ]
    },
    {
     "name": "stderr",
     "output_type": "stream",
     "text": [
      "100%|███████████████████████████████████████████████████████████████████████████████████████████████████████████████████████████████████████████████████████████████████| 10000/10000 [00:04<00:00, 2177.16it/s]\n"
     ]
    },
    {
     "name": "stdout",
     "output_type": "stream",
     "text": [
      "{'dataset': 'point_mnist', 'pooling': 'swe', 'ann': 'faiss-lsh', 'k': 4, 'code_length': 1024, 'emb_time_per_sample': 0.0004803830862045288, 'inf_time_per_sample': 0.0003893955945968628, 'acc': 0.9197, 'precision_k': 0.89705}\n",
      "loading dataset...\n",
      "loading cached base embedding...\n",
      "compute query embedding...\n"
     ]
    },
    {
     "name": "stderr",
     "output_type": "stream",
     "text": [
      "100%|███████████████████████████████████████████████████████████████████████████████████████████████████████████████████████████████████████████████████████████████████| 10000/10000 [00:04<00:00, 2105.41it/s]\n"
     ]
    },
    {
     "name": "stdout",
     "output_type": "stream",
     "text": [
      "{'dataset': 'point_mnist', 'pooling': 'swe', 'ann': 'faiss-lsh', 'k': 8, 'code_length': 1024, 'emb_time_per_sample': 0.0004948450088500977, 'inf_time_per_sample': 0.00038885202407836915, 'acc': 0.9202, 'precision_k': 0.8836125}\n",
      "loading dataset...\n",
      "loading cached base embedding...\n",
      "compute query embedding...\n"
     ]
    },
    {
     "name": "stderr",
     "output_type": "stream",
     "text": [
      "100%|███████████████████████████████████████████████████████████████████████████████████████████████████████████████████████████████████████████████████████████████████| 10000/10000 [00:04<00:00, 2022.64it/s]\n"
     ]
    },
    {
     "name": "stdout",
     "output_type": "stream",
     "text": [
      "{'dataset': 'point_mnist', 'pooling': 'swe', 'ann': 'faiss-lsh', 'k': 16, 'code_length': 1024, 'emb_time_per_sample': 0.0005172230958938598, 'inf_time_per_sample': 0.0004006269931793213, 'acc': 0.9123, 'precision_k': 0.86655}\n",
      "loading dataset...\n",
      "loading cached base embedding...\n",
      "compute query embedding...\n"
     ]
    },
    {
     "name": "stderr",
     "output_type": "stream",
     "text": [
      "100%|███████████████████████████████████████████████████████████████████████████████████████████████████████████████████████████████████████████████████████████████████| 10000/10000 [00:04<00:00, 2138.25it/s]\n"
     ]
    },
    {
     "name": "stdout",
     "output_type": "stream",
     "text": [
      "{'dataset': 'point_mnist', 'pooling': 'swe', 'ann': 'faiss-lsh', 'k': 4, 'code_length': 1024, 'emb_time_per_sample': 0.0004994014978408814, 'inf_time_per_sample': 0.00038876860141754153, 'acc': 0.9215, 'precision_k': 0.89575}\n",
      "loading dataset...\n",
      "loading cached base embedding...\n",
      "compute query embedding...\n"
     ]
    },
    {
     "name": "stderr",
     "output_type": "stream",
     "text": [
      "100%|███████████████████████████████████████████████████████████████████████████████████████████████████████████████████████████████████████████████████████████████████| 10000/10000 [00:05<00:00, 1863.11it/s]\n"
     ]
    },
    {
     "name": "stdout",
     "output_type": "stream",
     "text": [
      "{'dataset': 'point_mnist', 'pooling': 'swe', 'ann': 'faiss-lsh', 'k': 8, 'code_length': 1024, 'emb_time_per_sample': 0.0005569815158843994, 'inf_time_per_sample': 0.0003978794813156128, 'acc': 0.919, 'precision_k': 0.882375}\n",
      "loading dataset...\n",
      "loading cached base embedding...\n",
      "compute query embedding...\n"
     ]
    },
    {
     "name": "stderr",
     "output_type": "stream",
     "text": [
      "100%|███████████████████████████████████████████████████████████████████████████████████████████████████████████████████████████████████████████████████████████████████| 10000/10000 [00:04<00:00, 2033.20it/s]\n"
     ]
    },
    {
     "name": "stdout",
     "output_type": "stream",
     "text": [
      "{'dataset': 'point_mnist', 'pooling': 'swe', 'ann': 'faiss-lsh', 'k': 16, 'code_length': 1024, 'emb_time_per_sample': 0.0005132303953170776, 'inf_time_per_sample': 0.0003884979963302612, 'acc': 0.9109, 'precision_k': 0.86511875}\n",
      "loading dataset...\n",
      "loading cached base embedding...\n",
      "compute query embedding...\n"
     ]
    },
    {
     "name": "stderr",
     "output_type": "stream",
     "text": [
      "100%|███████████████████████████████████████████████████████████████████████████████████████████████████████████████████████████████████████████████████████████████████| 10000/10000 [00:05<00:00, 1845.20it/s]\n"
     ]
    },
    {
     "name": "stdout",
     "output_type": "stream",
     "text": [
      "{'dataset': 'point_mnist', 'pooling': 'swe', 'ann': 'faiss-lsh', 'k': 4, 'code_length': 1024, 'emb_time_per_sample': 0.0005641487836837768, 'inf_time_per_sample': 0.00039207370281219483, 'acc': 0.9211, 'precision_k': 0.896725}\n",
      "loading dataset...\n",
      "loading cached base embedding...\n",
      "compute query embedding...\n"
     ]
    },
    {
     "name": "stderr",
     "output_type": "stream",
     "text": [
      "100%|███████████████████████████████████████████████████████████████████████████████████████████████████████████████████████████████████████████████████████████████████| 10000/10000 [00:06<00:00, 1613.07it/s]\n"
     ]
    },
    {
     "name": "stdout",
     "output_type": "stream",
     "text": [
      "{'dataset': 'point_mnist', 'pooling': 'swe', 'ann': 'faiss-lsh', 'k': 8, 'code_length': 1024, 'emb_time_per_sample': 0.0006418863773345947, 'inf_time_per_sample': 0.00039911468029022216, 'acc': 0.9232, 'precision_k': 0.884475}\n",
      "loading dataset...\n",
      "loading cached base embedding...\n",
      "compute query embedding...\n"
     ]
    },
    {
     "name": "stderr",
     "output_type": "stream",
     "text": [
      "100%|███████████████████████████████████████████████████████████████████████████████████████████████████████████████████████████████████████████████████████████████████| 10000/10000 [00:05<00:00, 1981.90it/s]\n"
     ]
    },
    {
     "name": "stdout",
     "output_type": "stream",
     "text": [
      "{'dataset': 'point_mnist', 'pooling': 'swe', 'ann': 'faiss-lsh', 'k': 16, 'code_length': 1024, 'emb_time_per_sample': 0.0005243875980377197, 'inf_time_per_sample': 0.0004049114942550659, 'acc': 0.9177, 'precision_k': 0.8675}\n",
      "loading dataset...\n",
      "loading cached base embedding...\n",
      "compute query embedding...\n"
     ]
    },
    {
     "name": "stderr",
     "output_type": "stream",
     "text": [
      "100%|███████████████████████████████████████████████████████████████████████████████████████████████████████████████████████████████████████████████████████████████████| 10000/10000 [00:05<00:00, 1871.49it/s]\n"
     ]
    },
    {
     "name": "stdout",
     "output_type": "stream",
     "text": [
      "{'dataset': 'point_mnist', 'pooling': 'swe', 'ann': 'faiss-lsh', 'k': 4, 'code_length': 1024, 'emb_time_per_sample': 0.000555581283569336, 'inf_time_per_sample': 0.0003957517862319946, 'acc': 0.9264, 'precision_k': 0.901225}\n",
      "loading dataset...\n",
      "loading cached base embedding...\n",
      "compute query embedding...\n"
     ]
    },
    {
     "name": "stderr",
     "output_type": "stream",
     "text": [
      "100%|███████████████████████████████████████████████████████████████████████████████████████████████████████████████████████████████████████████████████████████████████| 10000/10000 [00:05<00:00, 1728.78it/s]\n"
     ]
    },
    {
     "name": "stdout",
     "output_type": "stream",
     "text": [
      "{'dataset': 'point_mnist', 'pooling': 'swe', 'ann': 'faiss-lsh', 'k': 8, 'code_length': 1024, 'emb_time_per_sample': 0.0006013029098510742, 'inf_time_per_sample': 0.00039609310626983644, 'acc': 0.9242, 'precision_k': 0.8865875}\n",
      "loading dataset...\n",
      "loading cached base embedding...\n",
      "compute query embedding...\n"
     ]
    },
    {
     "name": "stderr",
     "output_type": "stream",
     "text": [
      "100%|███████████████████████████████████████████████████████████████████████████████████████████████████████████████████████████████████████████████████████████████████| 10000/10000 [00:04<00:00, 2036.94it/s]\n"
     ]
    },
    {
     "name": "stdout",
     "output_type": "stream",
     "text": [
      "{'dataset': 'point_mnist', 'pooling': 'swe', 'ann': 'faiss-lsh', 'k': 16, 'code_length': 1024, 'emb_time_per_sample': 0.0005104917049407959, 'inf_time_per_sample': 0.0003881707191467285, 'acc': 0.9218, 'precision_k': 0.86946875}\n",
      "loading dataset...\n",
      "loading cached base embedding...\n",
      "compute query embedding...\n"
     ]
    },
    {
     "name": "stderr",
     "output_type": "stream",
     "text": [
      "100%|███████████████████████████████████████████████████████████████████████████████████████████████████████████████████████████████████████████████████████████████████| 10000/10000 [00:04<00:00, 2153.84it/s]\n"
     ]
    },
    {
     "name": "stdout",
     "output_type": "stream",
     "text": [
      "{'dataset': 'point_mnist', 'pooling': 'swe', 'ann': 'faiss-lsh', 'k': 4, 'code_length': 1024, 'emb_time_per_sample': 0.00048592169284820556, 'inf_time_per_sample': 0.00038374199867248536, 'acc': 0.9086, 'precision_k': 0.87685}\n",
      "loading dataset...\n",
      "loading cached base embedding...\n",
      "compute query embedding...\n"
     ]
    },
    {
     "name": "stderr",
     "output_type": "stream",
     "text": [
      "100%|███████████████████████████████████████████████████████████████████████████████████████████████████████████████████████████████████████████████████████████████████| 10000/10000 [00:04<00:00, 2007.43it/s]\n"
     ]
    },
    {
     "name": "stdout",
     "output_type": "stream",
     "text": [
      "{'dataset': 'point_mnist', 'pooling': 'swe', 'ann': 'faiss-lsh', 'k': 8, 'code_length': 1024, 'emb_time_per_sample': 0.0005215465068817139, 'inf_time_per_sample': 0.00039430990219116213, 'acc': 0.9057, 'precision_k': 0.861775}\n",
      "loading dataset...\n",
      "loading cached base embedding...\n",
      "compute query embedding...\n"
     ]
    },
    {
     "name": "stderr",
     "output_type": "stream",
     "text": [
      "100%|███████████████████████████████████████████████████████████████████████████████████████████████████████████████████████████████████████████████████████████████████| 10000/10000 [00:05<00:00, 1867.03it/s]\n"
     ]
    },
    {
     "name": "stdout",
     "output_type": "stream",
     "text": [
      "{'dataset': 'point_mnist', 'pooling': 'swe', 'ann': 'faiss-lsh', 'k': 16, 'code_length': 1024, 'emb_time_per_sample': 0.0005565723180770874, 'inf_time_per_sample': 0.0003972540855407715, 'acc': 0.9003, 'precision_k': 0.8424125}\n"
     ]
    }
   ],
   "source": [
    "for seed in seeds:\n",
    "    for k in ks:\n",
    "        exp = Experiment(dataset, 'swe', 'faiss-lsh', random_state=seed, ref_func=ref, k=k, ref_size=set_size_median, code_length=code_length, num_slices=n_slices)\n",
    "        exp.test()\n",
    "        report = exp.get_exp_report()\n",
    "        print(report)\n",
    "        reports.append(report)"
   ]
  },
  {
   "cell_type": "markdown",
   "id": "783d00c7",
   "metadata": {
    "pycharm": {
     "name": "#%% md\n"
    }
   },
   "source": [
    "### WE"
   ]
  },
  {
   "cell_type": "code",
   "execution_count": 7,
   "id": "9a12a983",
   "metadata": {
    "pycharm": {
     "name": "#%%\n"
    }
   },
   "outputs": [
    {
     "name": "stdout",
     "output_type": "stream",
     "text": [
      "loading dataset...\n",
      "loading cached base embedding...\n",
      "compute query embedding...\n"
     ]
    },
    {
     "name": "stderr",
     "output_type": "stream",
     "text": [
      "100%|████████████████████████████████████████████████████████████████████████████████████████████████████████████████████████████████████████████████████████████████████| 10000/10000 [00:25<00:00, 397.61it/s]\n"
     ]
    },
    {
     "name": "stdout",
     "output_type": "stream",
     "text": [
      "{'dataset': 'point_mnist', 'pooling': 'we', 'ann': 'faiss-lsh', 'k': 4, 'code_length': 1024, 'emb_time_per_sample': 0.002533702611923218, 'inf_time_per_sample': 0.0003858808994293213, 'acc': 0.9209, 'precision_k': 0.89005}\n",
      "loading dataset...\n",
      "loading cached base embedding...\n",
      "compute query embedding...\n"
     ]
    },
    {
     "name": "stderr",
     "output_type": "stream",
     "text": [
      "100%|████████████████████████████████████████████████████████████████████████████████████████████████████████████████████████████████████████████████████████████████████| 10000/10000 [00:24<00:00, 416.57it/s]\n"
     ]
    },
    {
     "name": "stdout",
     "output_type": "stream",
     "text": [
      "{'dataset': 'point_mnist', 'pooling': 'we', 'ann': 'faiss-lsh', 'k': 8, 'code_length': 1024, 'emb_time_per_sample': 0.002421518397331238, 'inf_time_per_sample': 0.0003738917827606201, 'acc': 0.9224, 'precision_k': 0.87765}\n",
      "loading dataset...\n",
      "loading cached base embedding...\n",
      "compute query embedding...\n"
     ]
    },
    {
     "name": "stderr",
     "output_type": "stream",
     "text": [
      "100%|████████████████████████████████████████████████████████████████████████████████████████████████████████████████████████████████████████████████████████████████████| 10000/10000 [00:23<00:00, 433.78it/s]\n"
     ]
    },
    {
     "name": "stdout",
     "output_type": "stream",
     "text": [
      "{'dataset': 'point_mnist', 'pooling': 'we', 'ann': 'faiss-lsh', 'k': 16, 'code_length': 1024, 'emb_time_per_sample': 0.0023251107931137084, 'inf_time_per_sample': 0.000373866605758667, 'acc': 0.9159, 'precision_k': 0.86173125}\n",
      "loading dataset...\n",
      "loading cached base embedding...\n",
      "compute query embedding...\n"
     ]
    },
    {
     "name": "stderr",
     "output_type": "stream",
     "text": [
      "100%|████████████████████████████████████████████████████████████████████████████████████████████████████████████████████████████████████████████████████████████████████| 10000/10000 [00:23<00:00, 422.45it/s]\n"
     ]
    },
    {
     "name": "stdout",
     "output_type": "stream",
     "text": [
      "{'dataset': 'point_mnist', 'pooling': 'we', 'ann': 'faiss-lsh', 'k': 4, 'code_length': 1024, 'emb_time_per_sample': 0.0023858142137527464, 'inf_time_per_sample': 0.00037774522304534914, 'acc': 0.9198, 'precision_k': 0.8887}\n",
      "loading dataset...\n",
      "loading cached base embedding...\n",
      "compute query embedding...\n"
     ]
    },
    {
     "name": "stderr",
     "output_type": "stream",
     "text": [
      "100%|████████████████████████████████████████████████████████████████████████████████████████████████████████████████████████████████████████████████████████████████████| 10000/10000 [00:23<00:00, 426.75it/s]\n"
     ]
    },
    {
     "name": "stdout",
     "output_type": "stream",
     "text": [
      "{'dataset': 'point_mnist', 'pooling': 'we', 'ann': 'faiss-lsh', 'k': 8, 'code_length': 1024, 'emb_time_per_sample': 0.002362943387031555, 'inf_time_per_sample': 0.00037846760749816896, 'acc': 0.923, 'precision_k': 0.8778625}\n",
      "loading dataset...\n",
      "loading cached base embedding...\n",
      "compute query embedding...\n"
     ]
    },
    {
     "name": "stderr",
     "output_type": "stream",
     "text": [
      "100%|████████████████████████████████████████████████████████████████████████████████████████████████████████████████████████████████████████████████████████████████████| 10000/10000 [00:23<00:00, 425.72it/s]\n"
     ]
    },
    {
     "name": "stdout",
     "output_type": "stream",
     "text": [
      "{'dataset': 'point_mnist', 'pooling': 'we', 'ann': 'faiss-lsh', 'k': 16, 'code_length': 1024, 'emb_time_per_sample': 0.0023698612928390503, 'inf_time_per_sample': 0.00037509031295776367, 'acc': 0.9153, 'precision_k': 0.86188125}\n",
      "loading dataset...\n",
      "loading cached base embedding...\n",
      "compute query embedding...\n"
     ]
    },
    {
     "name": "stderr",
     "output_type": "stream",
     "text": [
      "100%|████████████████████████████████████████████████████████████████████████████████████████████████████████████████████████████████████████████████████████████████████| 10000/10000 [00:23<00:00, 419.36it/s]\n"
     ]
    },
    {
     "name": "stdout",
     "output_type": "stream",
     "text": [
      "{'dataset': 'point_mnist', 'pooling': 'we', 'ann': 'faiss-lsh', 'k': 4, 'code_length': 1024, 'emb_time_per_sample': 0.002412331795692444, 'inf_time_per_sample': 0.0003770792007446289, 'acc': 0.9186, 'precision_k': 0.8847}\n",
      "loading dataset...\n",
      "loading cached base embedding...\n",
      "compute query embedding...\n"
     ]
    },
    {
     "name": "stderr",
     "output_type": "stream",
     "text": [
      "100%|████████████████████████████████████████████████████████████████████████████████████████████████████████████████████████████████████████████████████████████████████| 10000/10000 [00:23<00:00, 418.30it/s]\n"
     ]
    },
    {
     "name": "stdout",
     "output_type": "stream",
     "text": [
      "{'dataset': 'point_mnist', 'pooling': 'we', 'ann': 'faiss-lsh', 'k': 8, 'code_length': 1024, 'emb_time_per_sample': 0.002409420394897461, 'inf_time_per_sample': 0.0003744368076324463, 'acc': 0.915, 'precision_k': 0.871525}\n",
      "loading dataset...\n",
      "loading cached base embedding...\n",
      "compute query embedding...\n"
     ]
    },
    {
     "name": "stderr",
     "output_type": "stream",
     "text": [
      "100%|████████████████████████████████████████████████████████████████████████████████████████████████████████████████████████████████████████████████████████████████████| 10000/10000 [00:25<00:00, 399.65it/s]\n"
     ]
    },
    {
     "name": "stdout",
     "output_type": "stream",
     "text": [
      "{'dataset': 'point_mnist', 'pooling': 'we', 'ann': 'faiss-lsh', 'k': 16, 'code_length': 1024, 'emb_time_per_sample': 0.0025225847005844117, 'inf_time_per_sample': 0.0003755937099456787, 'acc': 0.9122, 'precision_k': 0.85616875}\n",
      "loading dataset...\n",
      "loading cached base embedding...\n",
      "compute query embedding...\n"
     ]
    },
    {
     "name": "stderr",
     "output_type": "stream",
     "text": [
      "100%|████████████████████████████████████████████████████████████████████████████████████████████████████████████████████████████████████████████████████████████████████| 10000/10000 [00:24<00:00, 410.78it/s]\n"
     ]
    },
    {
     "name": "stdout",
     "output_type": "stream",
     "text": [
      "{'dataset': 'point_mnist', 'pooling': 'we', 'ann': 'faiss-lsh', 'k': 4, 'code_length': 1024, 'emb_time_per_sample': 0.0024545366764068604, 'inf_time_per_sample': 0.0003912111043930054, 'acc': 0.9246, 'precision_k': 0.894725}\n",
      "loading dataset...\n",
      "loading cached base embedding...\n",
      "compute query embedding...\n"
     ]
    },
    {
     "name": "stderr",
     "output_type": "stream",
     "text": [
      "100%|████████████████████████████████████████████████████████████████████████████████████████████████████████████████████████████████████████████████████████████████████| 10000/10000 [00:23<00:00, 417.22it/s]\n"
     ]
    },
    {
     "name": "stdout",
     "output_type": "stream",
     "text": [
      "{'dataset': 'point_mnist', 'pooling': 'we', 'ann': 'faiss-lsh', 'k': 8, 'code_length': 1024, 'emb_time_per_sample': 0.002418043804168701, 'inf_time_per_sample': 0.00037397379875183105, 'acc': 0.9234, 'precision_k': 0.88285}\n",
      "loading dataset...\n",
      "loading cached base embedding...\n",
      "compute query embedding...\n"
     ]
    },
    {
     "name": "stderr",
     "output_type": "stream",
     "text": [
      "100%|████████████████████████████████████████████████████████████████████████████████████████████████████████████████████████████████████████████████████████████████████| 10000/10000 [00:23<00:00, 421.34it/s]\n"
     ]
    },
    {
     "name": "stdout",
     "output_type": "stream",
     "text": [
      "{'dataset': 'point_mnist', 'pooling': 'we', 'ann': 'faiss-lsh', 'k': 16, 'code_length': 1024, 'emb_time_per_sample': 0.0023925716876983644, 'inf_time_per_sample': 0.0003757025718688965, 'acc': 0.9194, 'precision_k': 0.86819375}\n",
      "loading dataset...\n",
      "loading cached base embedding...\n",
      "compute query embedding...\n"
     ]
    },
    {
     "name": "stderr",
     "output_type": "stream",
     "text": [
      "100%|████████████████████████████████████████████████████████████████████████████████████████████████████████████████████████████████████████████████████████████████████| 10000/10000 [00:23<00:00, 430.11it/s]\n"
     ]
    },
    {
     "name": "stdout",
     "output_type": "stream",
     "text": [
      "{'dataset': 'point_mnist', 'pooling': 'we', 'ann': 'faiss-lsh', 'k': 4, 'code_length': 1024, 'emb_time_per_sample': 0.0023444679021835326, 'inf_time_per_sample': 0.0003768328905105591, 'acc': 0.9203, 'precision_k': 0.887925}\n",
      "loading dataset...\n",
      "loading cached base embedding...\n",
      "compute query embedding...\n"
     ]
    },
    {
     "name": "stderr",
     "output_type": "stream",
     "text": [
      "100%|████████████████████████████████████████████████████████████████████████████████████████████████████████████████████████████████████████████████████████████████████| 10000/10000 [00:23<00:00, 419.16it/s]\n"
     ]
    },
    {
     "name": "stdout",
     "output_type": "stream",
     "text": [
      "{'dataset': 'point_mnist', 'pooling': 'we', 'ann': 'faiss-lsh', 'k': 8, 'code_length': 1024, 'emb_time_per_sample': 0.002405758810043335, 'inf_time_per_sample': 0.00038958652019500733, 'acc': 0.9193, 'precision_k': 0.8766375}\n",
      "loading dataset...\n",
      "loading cached base embedding...\n",
      "compute query embedding...\n"
     ]
    },
    {
     "name": "stderr",
     "output_type": "stream",
     "text": [
      "100%|████████████████████████████████████████████████████████████████████████████████████████████████████████████████████████████████████████████████████████████████████| 10000/10000 [00:26<00:00, 384.23it/s]\n"
     ]
    },
    {
     "name": "stdout",
     "output_type": "stream",
     "text": [
      "{'dataset': 'point_mnist', 'pooling': 'we', 'ann': 'faiss-lsh', 'k': 16, 'code_length': 1024, 'emb_time_per_sample': 0.00262330219745636, 'inf_time_per_sample': 0.00038140270709991457, 'acc': 0.915, 'precision_k': 0.862525}\n"
     ]
    }
   ],
   "source": [
    "for seed in seeds:\n",
    "    for k in ks:\n",
    "        exp = Experiment(dataset, 'we', 'faiss-lsh', \n",
    "                         random_state=seed, ref_func=ref, k=k, ref_size=set_size_median, code_length=code_length)\n",
    "        exp.test()\n",
    "        report = exp.get_exp_report()\n",
    "        print(report)\n",
    "        reports.append(report)"
   ]
  },
  {
   "cell_type": "markdown",
   "id": "04d42ef3",
   "metadata": {
    "pycharm": {
     "name": "#%% md\n"
    }
   },
   "source": [
    "### Cov"
   ]
  },
  {
   "cell_type": "code",
   "execution_count": 8,
   "id": "88322553",
   "metadata": {
    "pycharm": {
     "name": "#%%\n"
    }
   },
   "outputs": [
    {
     "name": "stdout",
     "output_type": "stream",
     "text": [
      "loading dataset...\n",
      "loading cached base embedding...\n",
      "compute query embedding...\n"
     ]
    },
    {
     "name": "stderr",
     "output_type": "stream",
     "text": [
      "100%|██████████████████████████████████████████████████████████████████████████████████████████████████████████████████████████████████████████████████████████████████| 10000/10000 [00:00<00:00, 19674.05it/s]\n"
     ]
    },
    {
     "name": "stdout",
     "output_type": "stream",
     "text": [
      "{'dataset': 'point_mnist', 'pooling': 'cov', 'ann': 'faiss-lsh', 'k': 4, 'code_length': 1024, 'emb_time_per_sample': 7.202529907226563e-05, 'inf_time_per_sample': 0.00038690080642700197, 'acc': 0.2648, 'precision_k': 0.2473}\n",
      "loading dataset...\n",
      "loading cached base embedding...\n",
      "compute query embedding...\n"
     ]
    },
    {
     "name": "stderr",
     "output_type": "stream",
     "text": [
      "100%|██████████████████████████████████████████████████████████████████████████████████████████████████████████████████████████████████████████████████████████████████| 10000/10000 [00:00<00:00, 17041.20it/s]\n"
     ]
    },
    {
     "name": "stdout",
     "output_type": "stream",
     "text": [
      "{'dataset': 'point_mnist', 'pooling': 'cov', 'ann': 'faiss-lsh', 'k': 8, 'code_length': 1024, 'emb_time_per_sample': 7.7789306640625e-05, 'inf_time_per_sample': 0.0003719609260559082, 'acc': 0.276, 'precision_k': 0.248125}\n",
      "loading dataset...\n",
      "loading cached base embedding...\n",
      "compute query embedding...\n"
     ]
    },
    {
     "name": "stderr",
     "output_type": "stream",
     "text": [
      "100%|██████████████████████████████████████████████████████████████████████████████████████████████████████████████████████████████████████████████████████████████████| 10000/10000 [00:00<00:00, 19995.28it/s]\n"
     ]
    },
    {
     "name": "stdout",
     "output_type": "stream",
     "text": [
      "{'dataset': 'point_mnist', 'pooling': 'cov', 'ann': 'faiss-lsh', 'k': 16, 'code_length': 1024, 'emb_time_per_sample': 7.079741954803467e-05, 'inf_time_per_sample': 0.00037229340076446534, 'acc': 0.281, 'precision_k': 0.24801875}\n",
      "loading dataset...\n",
      "loading cached base embedding...\n",
      "compute query embedding...\n"
     ]
    },
    {
     "name": "stderr",
     "output_type": "stream",
     "text": [
      "100%|██████████████████████████████████████████████████████████████████████████████████████████████████████████████████████████████████████████████████████████████████| 10000/10000 [00:00<00:00, 20233.78it/s]\n"
     ]
    },
    {
     "name": "stdout",
     "output_type": "stream",
     "text": [
      "{'dataset': 'point_mnist', 'pooling': 'cov', 'ann': 'faiss-lsh', 'k': 4, 'code_length': 1024, 'emb_time_per_sample': 7.022030353546143e-05, 'inf_time_per_sample': 0.00036978511810302733, 'acc': 0.2648, 'precision_k': 0.2473}\n",
      "loading dataset...\n",
      "loading cached base embedding...\n",
      "compute query embedding...\n"
     ]
    },
    {
     "name": "stderr",
     "output_type": "stream",
     "text": [
      "100%|██████████████████████████████████████████████████████████████████████████████████████████████████████████████████████████████████████████████████████████████████| 10000/10000 [00:00<00:00, 16649.27it/s]\n"
     ]
    },
    {
     "name": "stdout",
     "output_type": "stream",
     "text": [
      "{'dataset': 'point_mnist', 'pooling': 'cov', 'ann': 'faiss-lsh', 'k': 8, 'code_length': 1024, 'emb_time_per_sample': 8.302268981933594e-05, 'inf_time_per_sample': 0.0004015040159225464, 'acc': 0.276, 'precision_k': 0.248125}\n",
      "loading dataset...\n",
      "loading cached base embedding...\n",
      "compute query embedding...\n"
     ]
    },
    {
     "name": "stderr",
     "output_type": "stream",
     "text": [
      "100%|██████████████████████████████████████████████████████████████████████████████████████████████████████████████████████████████████████████████████████████████████| 10000/10000 [00:00<00:00, 20346.26it/s]\n"
     ]
    },
    {
     "name": "stdout",
     "output_type": "stream",
     "text": [
      "{'dataset': 'point_mnist', 'pooling': 'cov', 'ann': 'faiss-lsh', 'k': 16, 'code_length': 1024, 'emb_time_per_sample': 6.982650756835938e-05, 'inf_time_per_sample': 0.00038590569496154786, 'acc': 0.281, 'precision_k': 0.24801875}\n",
      "loading dataset...\n",
      "loading cached base embedding...\n",
      "compute query embedding...\n"
     ]
    },
    {
     "name": "stderr",
     "output_type": "stream",
     "text": [
      "100%|██████████████████████████████████████████████████████████████████████████████████████████████████████████████████████████████████████████████████████████████████| 10000/10000 [00:00<00:00, 20435.57it/s]\n"
     ]
    },
    {
     "name": "stdout",
     "output_type": "stream",
     "text": [
      "{'dataset': 'point_mnist', 'pooling': 'cov', 'ann': 'faiss-lsh', 'k': 4, 'code_length': 1024, 'emb_time_per_sample': 6.803030967712403e-05, 'inf_time_per_sample': 0.00040654759407043455, 'acc': 0.2648, 'precision_k': 0.2473}\n",
      "loading dataset...\n",
      "loading cached base embedding...\n",
      "compute query embedding...\n"
     ]
    },
    {
     "name": "stderr",
     "output_type": "stream",
     "text": [
      "100%|██████████████████████████████████████████████████████████████████████████████████████████████████████████████████████████████████████████████████████████████████| 10000/10000 [00:00<00:00, 17245.51it/s]\n"
     ]
    },
    {
     "name": "stdout",
     "output_type": "stream",
     "text": [
      "{'dataset': 'point_mnist', 'pooling': 'cov', 'ann': 'faiss-lsh', 'k': 8, 'code_length': 1024, 'emb_time_per_sample': 7.883598804473877e-05, 'inf_time_per_sample': 0.00037874131202697754, 'acc': 0.276, 'precision_k': 0.248125}\n",
      "loading dataset...\n",
      "loading cached base embedding...\n",
      "compute query embedding...\n"
     ]
    },
    {
     "name": "stderr",
     "output_type": "stream",
     "text": [
      "100%|██████████████████████████████████████████████████████████████████████████████████████████████████████████████████████████████████████████████████████████████████| 10000/10000 [00:00<00:00, 19806.26it/s]\n"
     ]
    },
    {
     "name": "stdout",
     "output_type": "stream",
     "text": [
      "{'dataset': 'point_mnist', 'pooling': 'cov', 'ann': 'faiss-lsh', 'k': 16, 'code_length': 1024, 'emb_time_per_sample': 7.206757068634033e-05, 'inf_time_per_sample': 0.00039531450271606443, 'acc': 0.281, 'precision_k': 0.24801875}\n",
      "loading dataset...\n",
      "loading cached base embedding...\n",
      "compute query embedding...\n"
     ]
    },
    {
     "name": "stderr",
     "output_type": "stream",
     "text": [
      "100%|██████████████████████████████████████████████████████████████████████████████████████████████████████████████████████████████████████████████████████████████████| 10000/10000 [00:00<00:00, 18950.52it/s]\n"
     ]
    },
    {
     "name": "stdout",
     "output_type": "stream",
     "text": [
      "{'dataset': 'point_mnist', 'pooling': 'cov', 'ann': 'faiss-lsh', 'k': 4, 'code_length': 1024, 'emb_time_per_sample': 7.548201084136962e-05, 'inf_time_per_sample': 0.00038673701286315917, 'acc': 0.2648, 'precision_k': 0.2473}\n",
      "loading dataset...\n",
      "loading cached base embedding...\n",
      "compute query embedding...\n"
     ]
    },
    {
     "name": "stderr",
     "output_type": "stream",
     "text": [
      "100%|██████████████████████████████████████████████████████████████████████████████████████████████████████████████████████████████████████████████████████████████████| 10000/10000 [00:00<00:00, 17386.85it/s]\n"
     ]
    },
    {
     "name": "stdout",
     "output_type": "stream",
     "text": [
      "{'dataset': 'point_mnist', 'pooling': 'cov', 'ann': 'faiss-lsh', 'k': 8, 'code_length': 1024, 'emb_time_per_sample': 7.6729416847229e-05, 'inf_time_per_sample': 0.00037868680953979494, 'acc': 0.276, 'precision_k': 0.248125}\n",
      "loading dataset...\n",
      "loading cached base embedding...\n",
      "compute query embedding...\n"
     ]
    },
    {
     "name": "stderr",
     "output_type": "stream",
     "text": [
      "100%|██████████████████████████████████████████████████████████████████████████████████████████████████████████████████████████████████████████████████████████████████| 10000/10000 [00:00<00:00, 20010.37it/s]\n"
     ]
    },
    {
     "name": "stdout",
     "output_type": "stream",
     "text": [
      "{'dataset': 'point_mnist', 'pooling': 'cov', 'ann': 'faiss-lsh', 'k': 16, 'code_length': 1024, 'emb_time_per_sample': 7.015011310577393e-05, 'inf_time_per_sample': 0.00038259861469268797, 'acc': 0.281, 'precision_k': 0.24801875}\n",
      "loading dataset...\n",
      "loading cached base embedding...\n",
      "compute query embedding...\n"
     ]
    },
    {
     "name": "stderr",
     "output_type": "stream",
     "text": [
      "100%|██████████████████████████████████████████████████████████████████████████████████████████████████████████████████████████████████████████████████████████████████| 10000/10000 [00:00<00:00, 19758.54it/s]\n"
     ]
    },
    {
     "name": "stdout",
     "output_type": "stream",
     "text": [
      "{'dataset': 'point_mnist', 'pooling': 'cov', 'ann': 'faiss-lsh', 'k': 4, 'code_length': 1024, 'emb_time_per_sample': 7.228522300720214e-05, 'inf_time_per_sample': 0.00038124232292175293, 'acc': 0.2648, 'precision_k': 0.2473}\n",
      "loading dataset...\n",
      "loading cached base embedding...\n",
      "compute query embedding...\n"
     ]
    },
    {
     "name": "stderr",
     "output_type": "stream",
     "text": [
      "100%|██████████████████████████████████████████████████████████████████████████████████████████████████████████████████████████████████████████████████████████████████| 10000/10000 [00:00<00:00, 17056.26it/s]\n"
     ]
    },
    {
     "name": "stdout",
     "output_type": "stream",
     "text": [
      "{'dataset': 'point_mnist', 'pooling': 'cov', 'ann': 'faiss-lsh', 'k': 8, 'code_length': 1024, 'emb_time_per_sample': 7.982578277587891e-05, 'inf_time_per_sample': 0.0003696885824203491, 'acc': 0.276, 'precision_k': 0.248125}\n",
      "loading dataset...\n",
      "loading cached base embedding...\n",
      "compute query embedding...\n"
     ]
    },
    {
     "name": "stderr",
     "output_type": "stream",
     "text": [
      "100%|██████████████████████████████████████████████████████████████████████████████████████████████████████████████████████████████████████████████████████████████████| 10000/10000 [00:00<00:00, 20119.46it/s]\n"
     ]
    },
    {
     "name": "stdout",
     "output_type": "stream",
     "text": [
      "{'dataset': 'point_mnist', 'pooling': 'cov', 'ann': 'faiss-lsh', 'k': 16, 'code_length': 1024, 'emb_time_per_sample': 6.942558288574219e-05, 'inf_time_per_sample': 0.00039804840087890626, 'acc': 0.281, 'precision_k': 0.24801875}\n"
     ]
    }
   ],
   "source": [
    "for seed in seeds:\n",
    "    for k in ks:\n",
    "        exp = Experiment(dataset, 'cov', 'faiss-lsh',\n",
    "                         random_state=seed, k=k, ref_size=set_size_median, code_length=code_length)\n",
    "        exp.test()\n",
    "        report = exp.get_exp_report()\n",
    "        print(report)\n",
    "        reports.append(report)"
   ]
  },
  {
   "cell_type": "markdown",
   "id": "0a7a4177",
   "metadata": {
    "pycharm": {
     "name": "#%% md\n"
    }
   },
   "source": [
    "### GeM-1"
   ]
  },
  {
   "cell_type": "code",
   "execution_count": 9,
   "id": "06610c90",
   "metadata": {
    "pycharm": {
     "name": "#%%\n"
    }
   },
   "outputs": [
    {
     "name": "stdout",
     "output_type": "stream",
     "text": [
      "loading dataset...\n",
      "loading cached base embedding...\n",
      "compute query embedding...\n"
     ]
    },
    {
     "name": "stderr",
     "output_type": "stream",
     "text": [
      "100%|██████████████████████████████████████████████████████████████████████████████████████████████████████████████████████████████████████████████████████████████████| 10000/10000 [00:00<00:00, 48708.00it/s]\n"
     ]
    },
    {
     "name": "stdout",
     "output_type": "stream",
     "text": [
      "{'dataset': 'point_mnist', 'pooling': 'gem-1', 'ann': 'faiss-lsh', 'k': 4, 'code_length': 1024, 'power': 1, 'emb_time_per_sample': 4.2551398277282715e-05, 'inf_time_per_sample': 0.0003985496997833252, 'acc': 0.1086, 'precision_k': 0.1044}\n",
      "loading dataset...\n",
      "loading cached base embedding...\n",
      "compute query embedding...\n"
     ]
    },
    {
     "name": "stderr",
     "output_type": "stream",
     "text": [
      "100%|██████████████████████████████████████████████████████████████████████████████████████████████████████████████████████████████████████████████████████████████████| 10000/10000 [00:00<00:00, 53140.89it/s]\n"
     ]
    },
    {
     "name": "stdout",
     "output_type": "stream",
     "text": [
      "{'dataset': 'point_mnist', 'pooling': 'gem-1', 'ann': 'faiss-lsh', 'k': 8, 'code_length': 1024, 'power': 1, 'emb_time_per_sample': 3.8455986976623534e-05, 'inf_time_per_sample': 0.0003771803855895996, 'acc': 0.1042, 'precision_k': 0.1023375}\n",
      "loading dataset...\n",
      "loading cached base embedding...\n",
      "compute query embedding...\n"
     ]
    },
    {
     "name": "stderr",
     "output_type": "stream",
     "text": [
      "100%|██████████████████████████████████████████████████████████████████████████████████████████████████████████████████████████████████████████████████████████████████| 10000/10000 [00:00<00:00, 54809.31it/s]\n"
     ]
    },
    {
     "name": "stdout",
     "output_type": "stream",
     "text": [
      "{'dataset': 'point_mnist', 'pooling': 'gem-1', 'ann': 'faiss-lsh', 'k': 16, 'code_length': 1024, 'power': 1, 'emb_time_per_sample': 4.649150371551514e-05, 'inf_time_per_sample': 0.0003702794075012207, 'acc': 0.1004, 'precision_k': 0.101225}\n",
      "loading dataset...\n",
      "loading cached base embedding...\n",
      "compute query embedding...\n"
     ]
    },
    {
     "name": "stderr",
     "output_type": "stream",
     "text": [
      "100%|██████████████████████████████████████████████████████████████████████████████████████████████████████████████████████████████████████████████████████████████████| 10000/10000 [00:00<00:00, 56306.34it/s]\n"
     ]
    },
    {
     "name": "stdout",
     "output_type": "stream",
     "text": [
      "{'dataset': 'point_mnist', 'pooling': 'gem-1', 'ann': 'faiss-lsh', 'k': 4, 'code_length': 1024, 'power': 1, 'emb_time_per_sample': 3.6470580101013187e-05, 'inf_time_per_sample': 0.0003665106296539307, 'acc': 0.1086, 'precision_k': 0.1044}\n",
      "loading dataset...\n",
      "loading cached base embedding...\n",
      "compute query embedding...\n"
     ]
    },
    {
     "name": "stderr",
     "output_type": "stream",
     "text": [
      "100%|██████████████████████████████████████████████████████████████████████████████████████████████████████████████████████████████████████████████████████████████████| 10000/10000 [00:00<00:00, 55305.37it/s]\n"
     ]
    },
    {
     "name": "stdout",
     "output_type": "stream",
     "text": [
      "{'dataset': 'point_mnist', 'pooling': 'gem-1', 'ann': 'faiss-lsh', 'k': 8, 'code_length': 1024, 'power': 1, 'emb_time_per_sample': 3.784661293029785e-05, 'inf_time_per_sample': 0.00037074382305145266, 'acc': 0.1042, 'precision_k': 0.1023375}\n",
      "loading dataset...\n",
      "loading cached base embedding...\n",
      "compute query embedding...\n"
     ]
    },
    {
     "name": "stderr",
     "output_type": "stream",
     "text": [
      "100%|██████████████████████████████████████████████████████████████████████████████████████████████████████████████████████████████████████████████████████████████████| 10000/10000 [00:00<00:00, 55997.52it/s]\n"
     ]
    },
    {
     "name": "stdout",
     "output_type": "stream",
     "text": [
      "{'dataset': 'point_mnist', 'pooling': 'gem-1', 'ann': 'faiss-lsh', 'k': 16, 'code_length': 1024, 'power': 1, 'emb_time_per_sample': 3.610892295837402e-05, 'inf_time_per_sample': 0.000366972017288208, 'acc': 0.1004, 'precision_k': 0.101225}\n",
      "loading dataset...\n",
      "loading cached base embedding...\n",
      "compute query embedding...\n"
     ]
    },
    {
     "name": "stderr",
     "output_type": "stream",
     "text": [
      "100%|██████████████████████████████████████████████████████████████████████████████████████████████████████████████████████████████████████████████████████████████████| 10000/10000 [00:00<00:00, 55957.85it/s]\n"
     ]
    },
    {
     "name": "stdout",
     "output_type": "stream",
     "text": [
      "{'dataset': 'point_mnist', 'pooling': 'gem-1', 'ann': 'faiss-lsh', 'k': 4, 'code_length': 1024, 'power': 1, 'emb_time_per_sample': 4.5283317565917966e-05, 'inf_time_per_sample': 0.0003711618900299072, 'acc': 0.1086, 'precision_k': 0.1044}\n",
      "loading dataset...\n",
      "loading cached base embedding...\n",
      "compute query embedding...\n"
     ]
    },
    {
     "name": "stderr",
     "output_type": "stream",
     "text": [
      "100%|██████████████████████████████████████████████████████████████████████████████████████████████████████████████████████████████████████████████████████████████████| 10000/10000 [00:00<00:00, 54855.54it/s]\n"
     ]
    },
    {
     "name": "stdout",
     "output_type": "stream",
     "text": [
      "{'dataset': 'point_mnist', 'pooling': 'gem-1', 'ann': 'faiss-lsh', 'k': 8, 'code_length': 1024, 'power': 1, 'emb_time_per_sample': 3.682219982147217e-05, 'inf_time_per_sample': 0.00037225589752197264, 'acc': 0.1042, 'precision_k': 0.1023375}\n",
      "loading dataset...\n",
      "loading cached base embedding...\n",
      "compute query embedding...\n"
     ]
    },
    {
     "name": "stderr",
     "output_type": "stream",
     "text": [
      "100%|██████████████████████████████████████████████████████████████████████████████████████████████████████████████████████████████████████████████████████████████████| 10000/10000 [00:00<00:00, 56077.11it/s]\n"
     ]
    },
    {
     "name": "stdout",
     "output_type": "stream",
     "text": [
      "{'dataset': 'point_mnist', 'pooling': 'gem-1', 'ann': 'faiss-lsh', 'k': 16, 'code_length': 1024, 'power': 1, 'emb_time_per_sample': 3.8891911506652835e-05, 'inf_time_per_sample': 0.0003689895868301392, 'acc': 0.1004, 'precision_k': 0.101225}\n",
      "loading dataset...\n",
      "loading cached base embedding...\n",
      "compute query embedding...\n"
     ]
    },
    {
     "name": "stderr",
     "output_type": "stream",
     "text": [
      "100%|██████████████████████████████████████████████████████████████████████████████████████████████████████████████████████████████████████████████████████████████████| 10000/10000 [00:00<00:00, 54837.47it/s]\n"
     ]
    },
    {
     "name": "stdout",
     "output_type": "stream",
     "text": [
      "{'dataset': 'point_mnist', 'pooling': 'gem-1', 'ann': 'faiss-lsh', 'k': 4, 'code_length': 1024, 'power': 1, 'emb_time_per_sample': 3.636381626129151e-05, 'inf_time_per_sample': 0.00037015657424926756, 'acc': 0.1086, 'precision_k': 0.1044}\n",
      "loading dataset...\n",
      "loading cached base embedding...\n",
      "compute query embedding...\n"
     ]
    },
    {
     "name": "stderr",
     "output_type": "stream",
     "text": [
      "100%|██████████████████████████████████████████████████████████████████████████████████████████████████████████████████████████████████████████████████████████████████| 10000/10000 [00:00<00:00, 38795.31it/s]\n"
     ]
    },
    {
     "name": "stdout",
     "output_type": "stream",
     "text": [
      "{'dataset': 'point_mnist', 'pooling': 'gem-1', 'ann': 'faiss-lsh', 'k': 8, 'code_length': 1024, 'power': 1, 'emb_time_per_sample': 4.638161659240723e-05, 'inf_time_per_sample': 0.00037074291706085203, 'acc': 0.1042, 'precision_k': 0.1023375}\n",
      "loading dataset...\n",
      "loading cached base embedding...\n",
      "compute query embedding...\n"
     ]
    },
    {
     "name": "stderr",
     "output_type": "stream",
     "text": [
      "100%|██████████████████████████████████████████████████████████████████████████████████████████████████████████████████████████████████████████████████████████████████| 10000/10000 [00:00<00:00, 54561.26it/s]\n"
     ]
    },
    {
     "name": "stdout",
     "output_type": "stream",
     "text": [
      "{'dataset': 'point_mnist', 'pooling': 'gem-1', 'ann': 'faiss-lsh', 'k': 16, 'code_length': 1024, 'power': 1, 'emb_time_per_sample': 3.6934709548950197e-05, 'inf_time_per_sample': 0.0003761444330215454, 'acc': 0.1004, 'precision_k': 0.101225}\n",
      "loading dataset...\n",
      "loading cached base embedding...\n",
      "compute query embedding...\n"
     ]
    },
    {
     "name": "stderr",
     "output_type": "stream",
     "text": [
      "100%|██████████████████████████████████████████████████████████████████████████████████████████████████████████████████████████████████████████████████████████████████| 10000/10000 [00:00<00:00, 55731.08it/s]\n"
     ]
    },
    {
     "name": "stdout",
     "output_type": "stream",
     "text": [
      "{'dataset': 'point_mnist', 'pooling': 'gem-1', 'ann': 'faiss-lsh', 'k': 4, 'code_length': 1024, 'power': 1, 'emb_time_per_sample': 3.865180015563965e-05, 'inf_time_per_sample': 0.0003745671033859253, 'acc': 0.1086, 'precision_k': 0.1044}\n",
      "loading dataset...\n",
      "loading cached base embedding...\n",
      "compute query embedding...\n"
     ]
    },
    {
     "name": "stderr",
     "output_type": "stream",
     "text": [
      "100%|██████████████████████████████████████████████████████████████████████████████████████████████████████████████████████████████████████████████████████████████████| 10000/10000 [00:00<00:00, 55000.12it/s]\n"
     ]
    },
    {
     "name": "stdout",
     "output_type": "stream",
     "text": [
      "{'dataset': 'point_mnist', 'pooling': 'gem-1', 'ann': 'faiss-lsh', 'k': 8, 'code_length': 1024, 'power': 1, 'emb_time_per_sample': 3.635149002075195e-05, 'inf_time_per_sample': 0.00037083740234375, 'acc': 0.1042, 'precision_k': 0.1023375}\n",
      "loading dataset...\n",
      "loading cached base embedding...\n",
      "compute query embedding...\n"
     ]
    },
    {
     "name": "stderr",
     "output_type": "stream",
     "text": [
      "100%|██████████████████████████████████████████████████████████████████████████████████████████████████████████████████████████████████████████████████████████████████| 10000/10000 [00:00<00:00, 55952.78it/s]\n"
     ]
    },
    {
     "name": "stdout",
     "output_type": "stream",
     "text": [
      "{'dataset': 'point_mnist', 'pooling': 'gem-1', 'ann': 'faiss-lsh', 'k': 16, 'code_length': 1024, 'power': 1, 'emb_time_per_sample': 3.6765599250793455e-05, 'inf_time_per_sample': 0.00036921517848968505, 'acc': 0.1004, 'precision_k': 0.101225}\n"
     ]
    }
   ],
   "source": [
    "for seed in seeds:\n",
    "    for k in ks:\n",
    "        exp = Experiment(dataset, 'gem', 'faiss-lsh',\n",
    "                         random_state=seed, k=k, ref_size=set_size_median, code_length=code_length, power=1)\n",
    "        exp.test()\n",
    "        report = exp.get_exp_report()\n",
    "        print(report)\n",
    "        reports.append(report)"
   ]
  },
  {
   "cell_type": "markdown",
   "id": "9b972474",
   "metadata": {
    "pycharm": {
     "name": "#%% md\n"
    }
   },
   "source": [
    "### GeM-2"
   ]
  },
  {
   "cell_type": "code",
   "execution_count": 10,
   "id": "ea2c62c4",
   "metadata": {
    "pycharm": {
     "name": "#%%\n"
    }
   },
   "outputs": [
    {
     "name": "stdout",
     "output_type": "stream",
     "text": [
      "loading dataset...\n",
      "loading cached base embedding...\n",
      "compute query embedding...\n"
     ]
    },
    {
     "name": "stderr",
     "output_type": "stream",
     "text": [
      "100%|██████████████████████████████████████████████████████████████████████████████████████████████████████████████████████████████████████████████████████████████████| 10000/10000 [00:00<00:00, 26149.34it/s]\n"
     ]
    },
    {
     "name": "stdout",
     "output_type": "stream",
     "text": [
      "{'dataset': 'point_mnist', 'pooling': 'gem-2', 'ann': 'faiss-lsh', 'k': 4, 'code_length': 1024, 'power': 2, 'emb_time_per_sample': 5.6570601463317874e-05, 'inf_time_per_sample': 0.00037008697986602783, 'acc': 0.3214, 'precision_k': 0.28705}\n",
      "loading dataset...\n",
      "loading cached base embedding...\n",
      "compute query embedding...\n"
     ]
    },
    {
     "name": "stderr",
     "output_type": "stream",
     "text": [
      "100%|██████████████████████████████████████████████████████████████████████████████████████████████████████████████████████████████████████████████████████████████████| 10000/10000 [00:00<00:00, 33002.08it/s]\n"
     ]
    },
    {
     "name": "stdout",
     "output_type": "stream",
     "text": [
      "{'dataset': 'point_mnist', 'pooling': 'gem-2', 'ann': 'faiss-lsh', 'k': 8, 'code_length': 1024, 'power': 2, 'emb_time_per_sample': 4.9127721786499024e-05, 'inf_time_per_sample': 0.00036777870655059817, 'acc': 0.3466, 'precision_k': 0.285675}\n",
      "loading dataset...\n",
      "loading cached base embedding...\n",
      "compute query embedding...\n"
     ]
    },
    {
     "name": "stderr",
     "output_type": "stream",
     "text": [
      "100%|██████████████████████████████████████████████████████████████████████████████████████████████████████████████████████████████████████████████████████████████████| 10000/10000 [00:00<00:00, 32370.23it/s]\n"
     ]
    },
    {
     "name": "stdout",
     "output_type": "stream",
     "text": [
      "{'dataset': 'point_mnist', 'pooling': 'gem-2', 'ann': 'faiss-lsh', 'k': 16, 'code_length': 1024, 'power': 2, 'emb_time_per_sample': 4.9360513687133786e-05, 'inf_time_per_sample': 0.00036956329345703124, 'acc': 0.3705, 'precision_k': 0.28901875}\n",
      "loading dataset...\n",
      "loading cached base embedding...\n",
      "compute query embedding...\n"
     ]
    },
    {
     "name": "stderr",
     "output_type": "stream",
     "text": [
      "100%|██████████████████████████████████████████████████████████████████████████████████████████████████████████████████████████████████████████████████████████████████| 10000/10000 [00:00<00:00, 33402.78it/s]\n"
     ]
    },
    {
     "name": "stdout",
     "output_type": "stream",
     "text": [
      "{'dataset': 'point_mnist', 'pooling': 'gem-2', 'ann': 'faiss-lsh', 'k': 4, 'code_length': 1024, 'power': 2, 'emb_time_per_sample': 4.829201698303223e-05, 'inf_time_per_sample': 0.00036777660846710206, 'acc': 0.3214, 'precision_k': 0.28705}\n",
      "loading dataset...\n",
      "loading cached base embedding...\n",
      "compute query embedding...\n"
     ]
    },
    {
     "name": "stderr",
     "output_type": "stream",
     "text": [
      "100%|██████████████████████████████████████████████████████████████████████████████████████████████████████████████████████████████████████████████████████████████████| 10000/10000 [00:00<00:00, 33466.51it/s]\n"
     ]
    },
    {
     "name": "stdout",
     "output_type": "stream",
     "text": [
      "{'dataset': 'point_mnist', 'pooling': 'gem-2', 'ann': 'faiss-lsh', 'k': 8, 'code_length': 1024, 'power': 2, 'emb_time_per_sample': 4.7609996795654296e-05, 'inf_time_per_sample': 0.00037202510833740237, 'acc': 0.3466, 'precision_k': 0.285675}\n",
      "loading dataset...\n",
      "loading cached base embedding...\n",
      "compute query embedding...\n"
     ]
    },
    {
     "name": "stderr",
     "output_type": "stream",
     "text": [
      "100%|██████████████████████████████████████████████████████████████████████████████████████████████████████████████████████████████████████████████████████████████████| 10000/10000 [00:00<00:00, 33482.43it/s]\n"
     ]
    },
    {
     "name": "stdout",
     "output_type": "stream",
     "text": [
      "{'dataset': 'point_mnist', 'pooling': 'gem-2', 'ann': 'faiss-lsh', 'k': 16, 'code_length': 1024, 'power': 2, 'emb_time_per_sample': 4.8957204818725584e-05, 'inf_time_per_sample': 0.00037139949798583986, 'acc': 0.3705, 'precision_k': 0.28901875}\n",
      "loading dataset...\n",
      "loading cached base embedding...\n",
      "compute query embedding...\n"
     ]
    },
    {
     "name": "stderr",
     "output_type": "stream",
     "text": [
      "100%|██████████████████████████████████████████████████████████████████████████████████████████████████████████████████████████████████████████████████████████████████| 10000/10000 [00:00<00:00, 33395.90it/s]\n"
     ]
    },
    {
     "name": "stdout",
     "output_type": "stream",
     "text": [
      "{'dataset': 'point_mnist', 'pooling': 'gem-2', 'ann': 'faiss-lsh', 'k': 4, 'code_length': 1024, 'power': 2, 'emb_time_per_sample': 4.8797011375427246e-05, 'inf_time_per_sample': 0.0003670634031295776, 'acc': 0.3214, 'precision_k': 0.28705}\n",
      "loading dataset...\n",
      "loading cached base embedding...\n",
      "compute query embedding...\n"
     ]
    },
    {
     "name": "stderr",
     "output_type": "stream",
     "text": [
      "100%|██████████████████████████████████████████████████████████████████████████████████████████████████████████████████████████████████████████████████████████████████| 10000/10000 [00:00<00:00, 33303.22it/s]\n"
     ]
    },
    {
     "name": "stdout",
     "output_type": "stream",
     "text": [
      "{'dataset': 'point_mnist', 'pooling': 'gem-2', 'ann': 'faiss-lsh', 'k': 8, 'code_length': 1024, 'power': 2, 'emb_time_per_sample': 4.942758083343506e-05, 'inf_time_per_sample': 0.00037208449840545657, 'acc': 0.3466, 'precision_k': 0.285675}\n",
      "loading dataset...\n",
      "loading cached base embedding...\n",
      "compute query embedding...\n"
     ]
    },
    {
     "name": "stderr",
     "output_type": "stream",
     "text": [
      "100%|██████████████████████████████████████████████████████████████████████████████████████████████████████████████████████████████████████████████████████████████████| 10000/10000 [00:00<00:00, 33061.78it/s]\n"
     ]
    },
    {
     "name": "stdout",
     "output_type": "stream",
     "text": [
      "{'dataset': 'point_mnist', 'pooling': 'gem-2', 'ann': 'faiss-lsh', 'k': 16, 'code_length': 1024, 'power': 2, 'emb_time_per_sample': 4.958598613739014e-05, 'inf_time_per_sample': 0.0003706617832183838, 'acc': 0.3705, 'precision_k': 0.28901875}\n",
      "loading dataset...\n",
      "loading cached base embedding...\n",
      "compute query embedding...\n"
     ]
    },
    {
     "name": "stderr",
     "output_type": "stream",
     "text": [
      "100%|██████████████████████████████████████████████████████████████████████████████████████████████████████████████████████████████████████████████████████████████████| 10000/10000 [00:00<00:00, 33300.55it/s]\n"
     ]
    },
    {
     "name": "stdout",
     "output_type": "stream",
     "text": [
      "{'dataset': 'point_mnist', 'pooling': 'gem-2', 'ann': 'faiss-lsh', 'k': 4, 'code_length': 1024, 'power': 2, 'emb_time_per_sample': 5.661187171936035e-05, 'inf_time_per_sample': 0.0003679971218109131, 'acc': 0.3214, 'precision_k': 0.28705}\n",
      "loading dataset...\n",
      "loading cached base embedding...\n",
      "compute query embedding...\n"
     ]
    },
    {
     "name": "stderr",
     "output_type": "stream",
     "text": [
      "100%|██████████████████████████████████████████████████████████████████████████████████████████████████████████████████████████████████████████████████████████████████| 10000/10000 [00:00<00:00, 33020.43it/s]\n"
     ]
    },
    {
     "name": "stdout",
     "output_type": "stream",
     "text": [
      "{'dataset': 'point_mnist', 'pooling': 'gem-2', 'ann': 'faiss-lsh', 'k': 8, 'code_length': 1024, 'power': 2, 'emb_time_per_sample': 4.9558520317077634e-05, 'inf_time_per_sample': 0.0003690037965774536, 'acc': 0.3466, 'precision_k': 0.285675}\n",
      "loading dataset...\n",
      "loading cached base embedding...\n",
      "compute query embedding...\n"
     ]
    },
    {
     "name": "stderr",
     "output_type": "stream",
     "text": [
      "100%|██████████████████████████████████████████████████████████████████████████████████████████████████████████████████████████████████████████████████████████████████| 10000/10000 [00:00<00:00, 33079.93it/s]\n"
     ]
    },
    {
     "name": "stdout",
     "output_type": "stream",
     "text": [
      "{'dataset': 'point_mnist', 'pooling': 'gem-2', 'ann': 'faiss-lsh', 'k': 16, 'code_length': 1024, 'power': 2, 'emb_time_per_sample': 4.890282154083252e-05, 'inf_time_per_sample': 0.0003665180206298828, 'acc': 0.3705, 'precision_k': 0.28901875}\n",
      "loading dataset...\n",
      "loading cached base embedding...\n",
      "compute query embedding...\n"
     ]
    },
    {
     "name": "stderr",
     "output_type": "stream",
     "text": [
      "100%|██████████████████████████████████████████████████████████████████████████████████████████████████████████████████████████████████████████████████████████████████| 10000/10000 [00:00<00:00, 30960.42it/s]\n"
     ]
    },
    {
     "name": "stdout",
     "output_type": "stream",
     "text": [
      "{'dataset': 'point_mnist', 'pooling': 'gem-2', 'ann': 'faiss-lsh', 'k': 4, 'code_length': 1024, 'power': 2, 'emb_time_per_sample': 5.3960394859313966e-05, 'inf_time_per_sample': 0.00036841652393341064, 'acc': 0.3214, 'precision_k': 0.28705}\n",
      "loading dataset...\n",
      "loading cached base embedding...\n",
      "compute query embedding...\n"
     ]
    },
    {
     "name": "stderr",
     "output_type": "stream",
     "text": [
      "100%|██████████████████████████████████████████████████████████████████████████████████████████████████████████████████████████████████████████████████████████████████| 10000/10000 [00:00<00:00, 25742.54it/s]\n"
     ]
    },
    {
     "name": "stdout",
     "output_type": "stream",
     "text": [
      "{'dataset': 'point_mnist', 'pooling': 'gem-2', 'ann': 'faiss-lsh', 'k': 8, 'code_length': 1024, 'power': 2, 'emb_time_per_sample': 5.739588737487793e-05, 'inf_time_per_sample': 0.0003660981893539429, 'acc': 0.3466, 'precision_k': 0.285675}\n",
      "loading dataset...\n",
      "loading cached base embedding...\n",
      "compute query embedding...\n"
     ]
    },
    {
     "name": "stderr",
     "output_type": "stream",
     "text": [
      "100%|██████████████████████████████████████████████████████████████████████████████████████████████████████████████████████████████████████████████████████████████████| 10000/10000 [00:00<00:00, 32724.23it/s]\n"
     ]
    },
    {
     "name": "stdout",
     "output_type": "stream",
     "text": [
      "{'dataset': 'point_mnist', 'pooling': 'gem-2', 'ann': 'faiss-lsh', 'k': 16, 'code_length': 1024, 'power': 2, 'emb_time_per_sample': 5.104701519012451e-05, 'inf_time_per_sample': 0.0003694002866744995, 'acc': 0.3705, 'precision_k': 0.28901875}\n"
     ]
    }
   ],
   "source": [
    "for seed in seeds:\n",
    "    for k in ks:\n",
    "        exp = Experiment(dataset, 'gem', 'faiss-lsh',\n",
    "                         random_state=seed, k=k, ref_size=set_size_median, code_length=code_length, power=2)\n",
    "        exp.test()\n",
    "        report = exp.get_exp_report()\n",
    "        print(report)\n",
    "        reports.append(report)"
   ]
  },
  {
   "cell_type": "markdown",
   "id": "40ed2dd1",
   "metadata": {
    "pycharm": {
     "name": "#%% md\n"
    }
   },
   "source": [
    "### GeM-4"
   ]
  },
  {
   "cell_type": "code",
   "execution_count": 11,
   "id": "96232e90",
   "metadata": {
    "pycharm": {
     "name": "#%%\n"
    }
   },
   "outputs": [
    {
     "name": "stdout",
     "output_type": "stream",
     "text": [
      "loading dataset...\n",
      "loading cached base embedding...\n",
      "compute query embedding...\n"
     ]
    },
    {
     "name": "stderr",
     "output_type": "stream",
     "text": [
      "100%|██████████████████████████████████████████████████████████████████████████████████████████████████████████████████████████████████████████████████████████████████| 10000/10000 [00:00<00:00, 15978.04it/s]\n"
     ]
    },
    {
     "name": "stdout",
     "output_type": "stream",
     "text": [
      "{'dataset': 'point_mnist', 'pooling': 'gem-4', 'ann': 'faiss-lsh', 'k': 4, 'code_length': 1024, 'power': 4, 'emb_time_per_sample': 8.341200351715088e-05, 'inf_time_per_sample': 0.00037127938270568845, 'acc': 0.4458, 'precision_k': 0.393575}\n",
      "loading dataset...\n",
      "loading cached base embedding...\n",
      "compute query embedding...\n"
     ]
    },
    {
     "name": "stderr",
     "output_type": "stream",
     "text": [
      "100%|██████████████████████████████████████████████████████████████████████████████████████████████████████████████████████████████████████████████████████████████████| 10000/10000 [00:00<00:00, 16204.54it/s]\n"
     ]
    },
    {
     "name": "stdout",
     "output_type": "stream",
     "text": [
      "{'dataset': 'point_mnist', 'pooling': 'gem-4', 'ann': 'faiss-lsh', 'k': 8, 'code_length': 1024, 'power': 4, 'emb_time_per_sample': 8.194692134857178e-05, 'inf_time_per_sample': 0.0003683065176010132, 'acc': 0.4711, 'precision_k': 0.3903}\n",
      "loading dataset...\n",
      "loading cached base embedding...\n",
      "compute query embedding...\n"
     ]
    },
    {
     "name": "stderr",
     "output_type": "stream",
     "text": [
      "100%|██████████████████████████████████████████████████████████████████████████████████████████████████████████████████████████████████████████████████████████████████| 10000/10000 [00:00<00:00, 16190.66it/s]\n"
     ]
    },
    {
     "name": "stdout",
     "output_type": "stream",
     "text": [
      "{'dataset': 'point_mnist', 'pooling': 'gem-4', 'ann': 'faiss-lsh', 'k': 16, 'code_length': 1024, 'power': 4, 'emb_time_per_sample': 8.362438678741455e-05, 'inf_time_per_sample': 0.000374837589263916, 'acc': 0.487, 'precision_k': 0.38306875}\n",
      "loading dataset...\n",
      "loading cached base embedding...\n",
      "compute query embedding...\n"
     ]
    },
    {
     "name": "stderr",
     "output_type": "stream",
     "text": [
      "100%|██████████████████████████████████████████████████████████████████████████████████████████████████████████████████████████████████████████████████████████████████| 10000/10000 [00:00<00:00, 16252.58it/s]\n"
     ]
    },
    {
     "name": "stdout",
     "output_type": "stream",
     "text": [
      "{'dataset': 'point_mnist', 'pooling': 'gem-4', 'ann': 'faiss-lsh', 'k': 4, 'code_length': 1024, 'power': 4, 'emb_time_per_sample': 9.210700988769531e-05, 'inf_time_per_sample': 0.0003714257717132568, 'acc': 0.4458, 'precision_k': 0.393575}\n",
      "loading dataset...\n",
      "loading cached base embedding...\n",
      "compute query embedding...\n"
     ]
    },
    {
     "name": "stderr",
     "output_type": "stream",
     "text": [
      "100%|██████████████████████████████████████████████████████████████████████████████████████████████████████████████████████████████████████████████████████████████████| 10000/10000 [00:00<00:00, 16121.39it/s]\n"
     ]
    },
    {
     "name": "stdout",
     "output_type": "stream",
     "text": [
      "{'dataset': 'point_mnist', 'pooling': 'gem-4', 'ann': 'faiss-lsh', 'k': 8, 'code_length': 1024, 'power': 4, 'emb_time_per_sample': 8.376328945159913e-05, 'inf_time_per_sample': 0.0003664239168167114, 'acc': 0.4711, 'precision_k': 0.3903}\n",
      "loading dataset...\n",
      "loading cached base embedding...\n",
      "compute query embedding...\n"
     ]
    },
    {
     "name": "stderr",
     "output_type": "stream",
     "text": [
      "100%|██████████████████████████████████████████████████████████████████████████████████████████████████████████████████████████████████████████████████████████████████| 10000/10000 [00:00<00:00, 16178.69it/s]\n"
     ]
    },
    {
     "name": "stdout",
     "output_type": "stream",
     "text": [
      "{'dataset': 'point_mnist', 'pooling': 'gem-4', 'ann': 'faiss-lsh', 'k': 16, 'code_length': 1024, 'power': 4, 'emb_time_per_sample': 8.351960182189941e-05, 'inf_time_per_sample': 0.00036617400646209717, 'acc': 0.487, 'precision_k': 0.38306875}\n",
      "loading dataset...\n",
      "loading cached base embedding...\n",
      "compute query embedding...\n"
     ]
    },
    {
     "name": "stderr",
     "output_type": "stream",
     "text": [
      "100%|██████████████████████████████████████████████████████████████████████████████████████████████████████████████████████████████████████████████████████████████████| 10000/10000 [00:00<00:00, 16162.09it/s]\n"
     ]
    },
    {
     "name": "stdout",
     "output_type": "stream",
     "text": [
      "{'dataset': 'point_mnist', 'pooling': 'gem-4', 'ann': 'faiss-lsh', 'k': 4, 'code_length': 1024, 'power': 4, 'emb_time_per_sample': 8.23760986328125e-05, 'inf_time_per_sample': 0.00037018916606903075, 'acc': 0.4458, 'precision_k': 0.393575}\n",
      "loading dataset...\n",
      "loading cached base embedding...\n",
      "compute query embedding...\n"
     ]
    },
    {
     "name": "stderr",
     "output_type": "stream",
     "text": [
      "100%|██████████████████████████████████████████████████████████████████████████████████████████████████████████████████████████████████████████████████████████████████| 10000/10000 [00:00<00:00, 15405.83it/s]\n"
     ]
    },
    {
     "name": "stdout",
     "output_type": "stream",
     "text": [
      "{'dataset': 'point_mnist', 'pooling': 'gem-4', 'ann': 'faiss-lsh', 'k': 8, 'code_length': 1024, 'power': 4, 'emb_time_per_sample': 8.425297737121583e-05, 'inf_time_per_sample': 0.0003662482976913452, 'acc': 0.4711, 'precision_k': 0.3903}\n",
      "loading dataset...\n",
      "loading cached base embedding...\n",
      "compute query embedding...\n"
     ]
    },
    {
     "name": "stderr",
     "output_type": "stream",
     "text": [
      "100%|██████████████████████████████████████████████████████████████████████████████████████████████████████████████████████████████████████████████████████████████████| 10000/10000 [00:00<00:00, 17532.48it/s]\n"
     ]
    },
    {
     "name": "stdout",
     "output_type": "stream",
     "text": [
      "{'dataset': 'point_mnist', 'pooling': 'gem-4', 'ann': 'faiss-lsh', 'k': 16, 'code_length': 1024, 'power': 4, 'emb_time_per_sample': 7.665021419525147e-05, 'inf_time_per_sample': 0.0003722698926925659, 'acc': 0.487, 'precision_k': 0.38306875}\n",
      "loading dataset...\n",
      "loading cached base embedding...\n",
      "compute query embedding...\n"
     ]
    },
    {
     "name": "stderr",
     "output_type": "stream",
     "text": [
      "100%|██████████████████████████████████████████████████████████████████████████████████████████████████████████████████████████████████████████████████████████████████| 10000/10000 [00:00<00:00, 17384.33it/s]\n"
     ]
    },
    {
     "name": "stdout",
     "output_type": "stream",
     "text": [
      "{'dataset': 'point_mnist', 'pooling': 'gem-4', 'ann': 'faiss-lsh', 'k': 4, 'code_length': 1024, 'power': 4, 'emb_time_per_sample': 7.681798934936523e-05, 'inf_time_per_sample': 0.0003669736862182617, 'acc': 0.4458, 'precision_k': 0.393575}\n",
      "loading dataset...\n",
      "loading cached base embedding...\n",
      "compute query embedding...\n"
     ]
    },
    {
     "name": "stderr",
     "output_type": "stream",
     "text": [
      "100%|██████████████████████████████████████████████████████████████████████████████████████████████████████████████████████████████████████████████████████████████████| 10000/10000 [00:00<00:00, 17465.81it/s]\n"
     ]
    },
    {
     "name": "stdout",
     "output_type": "stream",
     "text": [
      "{'dataset': 'point_mnist', 'pooling': 'gem-4', 'ann': 'faiss-lsh', 'k': 8, 'code_length': 1024, 'power': 4, 'emb_time_per_sample': 7.673590183258057e-05, 'inf_time_per_sample': 0.00036836788654327394, 'acc': 0.4711, 'precision_k': 0.3903}\n",
      "loading dataset...\n",
      "loading cached base embedding...\n",
      "compute query embedding...\n"
     ]
    },
    {
     "name": "stderr",
     "output_type": "stream",
     "text": [
      "100%|██████████████████████████████████████████████████████████████████████████████████████████████████████████████████████████████████████████████████████████████████| 10000/10000 [00:00<00:00, 15343.98it/s]\n"
     ]
    },
    {
     "name": "stdout",
     "output_type": "stream",
     "text": [
      "{'dataset': 'point_mnist', 'pooling': 'gem-4', 'ann': 'faiss-lsh', 'k': 16, 'code_length': 1024, 'power': 4, 'emb_time_per_sample': 8.362312316894531e-05, 'inf_time_per_sample': 0.00036809468269348146, 'acc': 0.487, 'precision_k': 0.38306875}\n",
      "loading dataset...\n",
      "loading cached base embedding...\n",
      "compute query embedding...\n"
     ]
    },
    {
     "name": "stderr",
     "output_type": "stream",
     "text": [
      "100%|██████████████████████████████████████████████████████████████████████████████████████████████████████████████████████████████████████████████████████████████████| 10000/10000 [00:00<00:00, 17490.29it/s]\n"
     ]
    },
    {
     "name": "stdout",
     "output_type": "stream",
     "text": [
      "{'dataset': 'point_mnist', 'pooling': 'gem-4', 'ann': 'faiss-lsh', 'k': 4, 'code_length': 1024, 'power': 4, 'emb_time_per_sample': 7.612059116363525e-05, 'inf_time_per_sample': 0.0003658282041549683, 'acc': 0.4458, 'precision_k': 0.393575}\n",
      "loading dataset...\n",
      "loading cached base embedding...\n",
      "compute query embedding...\n"
     ]
    },
    {
     "name": "stderr",
     "output_type": "stream",
     "text": [
      "100%|██████████████████████████████████████████████████████████████████████████████████████████████████████████████████████████████████████████████████████████████████| 10000/10000 [00:00<00:00, 17514.51it/s]\n"
     ]
    },
    {
     "name": "stdout",
     "output_type": "stream",
     "text": [
      "{'dataset': 'point_mnist', 'pooling': 'gem-4', 'ann': 'faiss-lsh', 'k': 8, 'code_length': 1024, 'power': 4, 'emb_time_per_sample': 7.680182456970215e-05, 'inf_time_per_sample': 0.0003727047920227051, 'acc': 0.4711, 'precision_k': 0.3903}\n",
      "loading dataset...\n",
      "loading cached base embedding...\n",
      "compute query embedding...\n"
     ]
    },
    {
     "name": "stderr",
     "output_type": "stream",
     "text": [
      "100%|██████████████████████████████████████████████████████████████████████████████████████████████████████████████████████████████████████████████████████████████████| 10000/10000 [00:00<00:00, 17511.32it/s]\n"
     ]
    },
    {
     "name": "stdout",
     "output_type": "stream",
     "text": [
      "{'dataset': 'point_mnist', 'pooling': 'gem-4', 'ann': 'faiss-lsh', 'k': 16, 'code_length': 1024, 'power': 4, 'emb_time_per_sample': 7.557501792907715e-05, 'inf_time_per_sample': 0.00036609373092651366, 'acc': 0.487, 'precision_k': 0.38306875}\n"
     ]
    }
   ],
   "source": [
    "for seed in seeds:\n",
    "    for k in ks:\n",
    "        exp = Experiment(dataset, 'gem', 'faiss-lsh',\n",
    "                         random_state=seed, k=k, ref_size=set_size_median, code_length=code_length, power=4)\n",
    "        exp.test()\n",
    "        report = exp.get_exp_report()\n",
    "        print(report)\n",
    "        reports.append(report)"
   ]
  },
  {
   "cell_type": "code",
   "execution_count": 12,
   "id": "19830df0",
   "metadata": {
    "pycharm": {
     "name": "#%%\n"
    }
   },
   "outputs": [],
   "source": [
    "import altair as alt"
   ]
  },
  {
   "cell_type": "code",
   "execution_count": 13,
   "id": "f0298f04",
   "metadata": {
    "pycharm": {
     "name": "#%%\n"
    }
   },
   "outputs": [],
   "source": [
    "labels = {'fs': 'FSPool', 'swe': 'SLOSH', 'we': 'WE', \n",
    "          'cov': 'Cov', 'gem-1': 'GeM-1', 'gem-2': 'GeM-2', 'gem-4': 'GeM-4'}"
   ]
  },
  {
   "cell_type": "code",
   "execution_count": 14,
   "id": "f696ecd1",
   "metadata": {
    "pycharm": {
     "name": "#%%\n"
    }
   },
   "outputs": [],
   "source": [
    "data = pd.DataFrame(reports)\n",
    "data['pooling'] = data['pooling'].apply(lambda x: labels[x])"
   ]
  },
  {
   "cell_type": "code",
   "execution_count": 15,
   "id": "aca3b453",
   "metadata": {
    "pycharm": {
     "name": "#%%\n"
    }
   },
   "outputs": [],
   "source": [
    "points = alt.Chart(data).mark_point().encode(\n",
    "    alt.X('mean(emb_time_per_sample):Q', title='Average Embedding Time'),\n",
    "    alt.Y('mean(acc):Q', title='Accuracy'),\n",
    "    color=alt.Color('pooling:N', legend=None),\n",
    ").properties(\n",
    "    width=240,\n",
    "    height=240\n",
    ")"
   ]
  },
  {
   "cell_type": "code",
   "execution_count": 16,
   "id": "c3ba3418",
   "metadata": {
    "pycharm": {
     "name": "#%%\n"
    }
   },
   "outputs": [],
   "source": [
    "text = points.mark_text(\n",
    "    align='left',\n",
    "    baseline='middle',\n",
    "    dx=5,\n",
    "    size=15\n",
    ").encode(\n",
    "    text='pooling:N'\n",
    ")"
   ]
  },
  {
   "cell_type": "code",
   "execution_count": 17,
   "id": "57fb6ee9",
   "metadata": {
    "pycharm": {
     "name": "#%%\n"
    }
   },
   "outputs": [
    {
     "data": {
      "text/html": [
       "\n",
       "<div id=\"altair-viz-a9622883d54945c79ba3d221b90776f0\"></div>\n",
       "<script type=\"text/javascript\">\n",
       "  (function(spec, embedOpt){\n",
       "    let outputDiv = document.currentScript.previousElementSibling;\n",
       "    if (outputDiv.id !== \"altair-viz-a9622883d54945c79ba3d221b90776f0\") {\n",
       "      outputDiv = document.getElementById(\"altair-viz-a9622883d54945c79ba3d221b90776f0\");\n",
       "    }\n",
       "    const paths = {\n",
       "      \"vega\": \"https://cdn.jsdelivr.net/npm//vega@5?noext\",\n",
       "      \"vega-lib\": \"https://cdn.jsdelivr.net/npm//vega-lib?noext\",\n",
       "      \"vega-lite\": \"https://cdn.jsdelivr.net/npm//vega-lite@4.8.1?noext\",\n",
       "      \"vega-embed\": \"https://cdn.jsdelivr.net/npm//vega-embed@6?noext\",\n",
       "    };\n",
       "\n",
       "    function loadScript(lib) {\n",
       "      return new Promise(function(resolve, reject) {\n",
       "        var s = document.createElement('script');\n",
       "        s.src = paths[lib];\n",
       "        s.async = true;\n",
       "        s.onload = () => resolve(paths[lib]);\n",
       "        s.onerror = () => reject(`Error loading script: ${paths[lib]}`);\n",
       "        document.getElementsByTagName(\"head\")[0].appendChild(s);\n",
       "      });\n",
       "    }\n",
       "\n",
       "    function showError(err) {\n",
       "      outputDiv.innerHTML = `<div class=\"error\" style=\"color:red;\">${err}</div>`;\n",
       "      throw err;\n",
       "    }\n",
       "\n",
       "    function displayChart(vegaEmbed) {\n",
       "      vegaEmbed(outputDiv, spec, embedOpt)\n",
       "        .catch(err => showError(`Javascript Error: ${err.message}<br>This usually means there's a typo in your chart specification. See the javascript console for the full traceback.`));\n",
       "    }\n",
       "\n",
       "    if(typeof define === \"function\" && define.amd) {\n",
       "      requirejs.config({paths});\n",
       "      require([\"vega-embed\"], displayChart, err => showError(`Error loading script: ${err.message}`));\n",
       "    } else if (typeof vegaEmbed === \"function\") {\n",
       "      displayChart(vegaEmbed);\n",
       "    } else {\n",
       "      loadScript(\"vega\")\n",
       "        .then(() => loadScript(\"vega-lite\"))\n",
       "        .then(() => loadScript(\"vega-embed\"))\n",
       "        .catch(showError)\n",
       "        .then(() => displayChart(vegaEmbed));\n",
       "    }\n",
       "  })({\"config\": {\"view\": {\"continuousWidth\": 400, \"continuousHeight\": 300}, \"axis\": {\"labelFontSize\": 12, \"titleFontSize\": 16}}, \"layer\": [{\"layer\": [{\"mark\": \"point\", \"encoding\": {\"color\": {\"type\": \"nominal\", \"field\": \"pooling\", \"legend\": null}, \"x\": {\"type\": \"quantitative\", \"aggregate\": \"mean\", \"field\": \"emb_time_per_sample\", \"title\": \"Average Embedding Time\"}, \"y\": {\"type\": \"quantitative\", \"aggregate\": \"mean\", \"field\": \"acc\", \"title\": \"Accuracy\"}}, \"height\": 240, \"width\": 240}, {\"mark\": {\"type\": \"text\", \"align\": \"left\", \"baseline\": \"middle\", \"dx\": 5, \"size\": 15}, \"encoding\": {\"color\": {\"type\": \"nominal\", \"field\": \"pooling\", \"legend\": null}, \"text\": {\"type\": \"nominal\", \"field\": \"pooling\"}, \"x\": {\"type\": \"quantitative\", \"aggregate\": \"mean\", \"field\": \"emb_time_per_sample\", \"title\": \"Average Embedding Time\"}, \"y\": {\"type\": \"quantitative\", \"aggregate\": \"mean\", \"field\": \"acc\", \"title\": \"Accuracy\"}}, \"height\": 240, \"width\": 240}]}], \"data\": {\"name\": \"data-fb5eb251f7b341b38e10d3f6c8f0c1e6\"}, \"$schema\": \"https://vega.github.io/schema/vega-lite/v4.8.1.json\", \"datasets\": {\"data-fb5eb251f7b341b38e10d3f6c8f0c1e6\": [{\"dataset\": \"point_mnist\", \"pooling\": \"FSPool\", \"ann\": \"faiss-lsh\", \"k\": 4, \"code_length\": 1024, \"emb_time_per_sample\": 0.0002970361948013306, \"inf_time_per_sample\": 0.00038264269828796384, \"acc\": 0.8021, \"precision_k\": 0.7509, \"power\": null}, {\"dataset\": \"point_mnist\", \"pooling\": \"FSPool\", \"ann\": \"faiss-lsh\", \"k\": 8, \"code_length\": 1024, \"emb_time_per_sample\": 0.00026838419437408447, \"inf_time_per_sample\": 0.00045978360176086424, \"acc\": 0.8107, \"precision_k\": 0.739475, \"power\": null}, {\"dataset\": \"point_mnist\", \"pooling\": \"FSPool\", \"ann\": \"faiss-lsh\", \"k\": 16, \"code_length\": 1024, \"emb_time_per_sample\": 0.0002653214931488037, \"inf_time_per_sample\": 0.0003796648979187012, \"acc\": 0.8118, \"precision_k\": 0.7254375, \"power\": null}, {\"dataset\": \"point_mnist\", \"pooling\": \"FSPool\", \"ann\": \"faiss-lsh\", \"k\": 4, \"code_length\": 1024, \"emb_time_per_sample\": 0.0002789320945739746, \"inf_time_per_sample\": 0.0004295259714126587, \"acc\": 0.8003, \"precision_k\": 0.7535, \"power\": null}, {\"dataset\": \"point_mnist\", \"pooling\": \"FSPool\", \"ann\": \"faiss-lsh\", \"k\": 8, \"code_length\": 1024, \"emb_time_per_sample\": 0.0003022948980331421, \"inf_time_per_sample\": 0.0003903196096420288, \"acc\": 0.8129, \"precision_k\": 0.7433375, \"power\": null}, {\"dataset\": \"point_mnist\", \"pooling\": \"FSPool\", \"ann\": \"faiss-lsh\", \"k\": 16, \"code_length\": 1024, \"emb_time_per_sample\": 0.00031693649291992187, \"inf_time_per_sample\": 0.0004334427118301392, \"acc\": 0.8151, \"precision_k\": 0.7307125, \"power\": null}, {\"dataset\": \"point_mnist\", \"pooling\": \"FSPool\", \"ann\": \"faiss-lsh\", \"k\": 4, \"code_length\": 1024, \"emb_time_per_sample\": 0.00029342708587646487, \"inf_time_per_sample\": 0.00047824881076812746, \"acc\": 0.7951, \"precision_k\": 0.7471, \"power\": null}, {\"dataset\": \"point_mnist\", \"pooling\": \"FSPool\", \"ann\": \"faiss-lsh\", \"k\": 8, \"code_length\": 1024, \"emb_time_per_sample\": 0.00031150829792022706, \"inf_time_per_sample\": 0.0004939509868621826, \"acc\": 0.8078, \"precision_k\": 0.7328875, \"power\": null}, {\"dataset\": \"point_mnist\", \"pooling\": \"FSPool\", \"ann\": \"faiss-lsh\", \"k\": 16, \"code_length\": 1024, \"emb_time_per_sample\": 0.00028458540439605713, \"inf_time_per_sample\": 0.00038386948108673095, \"acc\": 0.8069, \"precision_k\": 0.71895625, \"power\": null}, {\"dataset\": \"point_mnist\", \"pooling\": \"FSPool\", \"ann\": \"faiss-lsh\", \"k\": 4, \"code_length\": 1024, \"emb_time_per_sample\": 0.00035347328186035156, \"inf_time_per_sample\": 0.0003956390142440796, \"acc\": 0.8002, \"precision_k\": 0.753825, \"power\": null}, {\"dataset\": \"point_mnist\", \"pooling\": \"FSPool\", \"ann\": \"faiss-lsh\", \"k\": 8, \"code_length\": 1024, \"emb_time_per_sample\": 0.0003382011890411377, \"inf_time_per_sample\": 0.00038137691020965575, \"acc\": 0.8119, \"precision_k\": 0.74415, \"power\": null}, {\"dataset\": \"point_mnist\", \"pooling\": \"FSPool\", \"ann\": \"faiss-lsh\", \"k\": 16, \"code_length\": 1024, \"emb_time_per_sample\": 0.00037712209224700926, \"inf_time_per_sample\": 0.0003930300235748291, \"acc\": 0.8087, \"precision_k\": 0.72950625, \"power\": null}, {\"dataset\": \"point_mnist\", \"pooling\": \"FSPool\", \"ann\": \"faiss-lsh\", \"k\": 4, \"code_length\": 1024, \"emb_time_per_sample\": 0.0002567981004714966, \"inf_time_per_sample\": 0.0003881385326385498, \"acc\": 0.794, \"precision_k\": 0.74525, \"power\": null}, {\"dataset\": \"point_mnist\", \"pooling\": \"FSPool\", \"ann\": \"faiss-lsh\", \"k\": 8, \"code_length\": 1024, \"emb_time_per_sample\": 0.0002594175338745117, \"inf_time_per_sample\": 0.0003754882097244263, \"acc\": 0.8041, \"precision_k\": 0.7334, \"power\": null}, {\"dataset\": \"point_mnist\", \"pooling\": \"FSPool\", \"ann\": \"faiss-lsh\", \"k\": 16, \"code_length\": 1024, \"emb_time_per_sample\": 0.00027086079120635986, \"inf_time_per_sample\": 0.0003759662866592407, \"acc\": 0.806, \"precision_k\": 0.7188, \"power\": null}, {\"dataset\": \"point_mnist\", \"pooling\": \"SLOSH\", \"ann\": \"faiss-lsh\", \"k\": 4, \"code_length\": 1024, \"emb_time_per_sample\": 0.0004803830862045288, \"inf_time_per_sample\": 0.0003893955945968628, \"acc\": 0.9197, \"precision_k\": 0.89705, \"power\": null}, {\"dataset\": \"point_mnist\", \"pooling\": \"SLOSH\", \"ann\": \"faiss-lsh\", \"k\": 8, \"code_length\": 1024, \"emb_time_per_sample\": 0.0004948450088500977, \"inf_time_per_sample\": 0.00038885202407836915, \"acc\": 0.9202, \"precision_k\": 0.8836125, \"power\": null}, {\"dataset\": \"point_mnist\", \"pooling\": \"SLOSH\", \"ann\": \"faiss-lsh\", \"k\": 16, \"code_length\": 1024, \"emb_time_per_sample\": 0.0005172230958938598, \"inf_time_per_sample\": 0.0004006269931793213, \"acc\": 0.9123, \"precision_k\": 0.86655, \"power\": null}, {\"dataset\": \"point_mnist\", \"pooling\": \"SLOSH\", \"ann\": \"faiss-lsh\", \"k\": 4, \"code_length\": 1024, \"emb_time_per_sample\": 0.0004994014978408814, \"inf_time_per_sample\": 0.00038876860141754153, \"acc\": 0.9215, \"precision_k\": 0.89575, \"power\": null}, {\"dataset\": \"point_mnist\", \"pooling\": \"SLOSH\", \"ann\": \"faiss-lsh\", \"k\": 8, \"code_length\": 1024, \"emb_time_per_sample\": 0.0005569815158843994, \"inf_time_per_sample\": 0.0003978794813156128, \"acc\": 0.919, \"precision_k\": 0.882375, \"power\": null}, {\"dataset\": \"point_mnist\", \"pooling\": \"SLOSH\", \"ann\": \"faiss-lsh\", \"k\": 16, \"code_length\": 1024, \"emb_time_per_sample\": 0.0005132303953170776, \"inf_time_per_sample\": 0.0003884979963302612, \"acc\": 0.9109, \"precision_k\": 0.86511875, \"power\": null}, {\"dataset\": \"point_mnist\", \"pooling\": \"SLOSH\", \"ann\": \"faiss-lsh\", \"k\": 4, \"code_length\": 1024, \"emb_time_per_sample\": 0.0005641487836837768, \"inf_time_per_sample\": 0.00039207370281219483, \"acc\": 0.9211, \"precision_k\": 0.896725, \"power\": null}, {\"dataset\": \"point_mnist\", \"pooling\": \"SLOSH\", \"ann\": \"faiss-lsh\", \"k\": 8, \"code_length\": 1024, \"emb_time_per_sample\": 0.0006418863773345947, \"inf_time_per_sample\": 0.00039911468029022216, \"acc\": 0.9232, \"precision_k\": 0.884475, \"power\": null}, {\"dataset\": \"point_mnist\", \"pooling\": \"SLOSH\", \"ann\": \"faiss-lsh\", \"k\": 16, \"code_length\": 1024, \"emb_time_per_sample\": 0.0005243875980377197, \"inf_time_per_sample\": 0.0004049114942550659, \"acc\": 0.9177, \"precision_k\": 0.8675, \"power\": null}, {\"dataset\": \"point_mnist\", \"pooling\": \"SLOSH\", \"ann\": \"faiss-lsh\", \"k\": 4, \"code_length\": 1024, \"emb_time_per_sample\": 0.000555581283569336, \"inf_time_per_sample\": 0.0003957517862319946, \"acc\": 0.9264, \"precision_k\": 0.901225, \"power\": null}, {\"dataset\": \"point_mnist\", \"pooling\": \"SLOSH\", \"ann\": \"faiss-lsh\", \"k\": 8, \"code_length\": 1024, \"emb_time_per_sample\": 0.0006013029098510742, \"inf_time_per_sample\": 0.00039609310626983644, \"acc\": 0.9242, \"precision_k\": 0.8865875, \"power\": null}, {\"dataset\": \"point_mnist\", \"pooling\": \"SLOSH\", \"ann\": \"faiss-lsh\", \"k\": 16, \"code_length\": 1024, \"emb_time_per_sample\": 0.0005104917049407959, \"inf_time_per_sample\": 0.0003881707191467285, \"acc\": 0.9218, \"precision_k\": 0.86946875, \"power\": null}, {\"dataset\": \"point_mnist\", \"pooling\": \"SLOSH\", \"ann\": \"faiss-lsh\", \"k\": 4, \"code_length\": 1024, \"emb_time_per_sample\": 0.00048592169284820556, \"inf_time_per_sample\": 0.00038374199867248536, \"acc\": 0.9086, \"precision_k\": 0.87685, \"power\": null}, {\"dataset\": \"point_mnist\", \"pooling\": \"SLOSH\", \"ann\": \"faiss-lsh\", \"k\": 8, \"code_length\": 1024, \"emb_time_per_sample\": 0.0005215465068817139, \"inf_time_per_sample\": 0.00039430990219116213, \"acc\": 0.9057, \"precision_k\": 0.861775, \"power\": null}, {\"dataset\": \"point_mnist\", \"pooling\": \"SLOSH\", \"ann\": \"faiss-lsh\", \"k\": 16, \"code_length\": 1024, \"emb_time_per_sample\": 0.0005565723180770874, \"inf_time_per_sample\": 0.0003972540855407715, \"acc\": 0.9003, \"precision_k\": 0.8424125, \"power\": null}, {\"dataset\": \"point_mnist\", \"pooling\": \"WE\", \"ann\": \"faiss-lsh\", \"k\": 4, \"code_length\": 1024, \"emb_time_per_sample\": 0.002533702611923218, \"inf_time_per_sample\": 0.0003858808994293213, \"acc\": 0.9209, \"precision_k\": 0.89005, \"power\": null}, {\"dataset\": \"point_mnist\", \"pooling\": \"WE\", \"ann\": \"faiss-lsh\", \"k\": 8, \"code_length\": 1024, \"emb_time_per_sample\": 0.002421518397331238, \"inf_time_per_sample\": 0.0003738917827606201, \"acc\": 0.9224, \"precision_k\": 0.87765, \"power\": null}, {\"dataset\": \"point_mnist\", \"pooling\": \"WE\", \"ann\": \"faiss-lsh\", \"k\": 16, \"code_length\": 1024, \"emb_time_per_sample\": 0.0023251107931137084, \"inf_time_per_sample\": 0.000373866605758667, \"acc\": 0.9159, \"precision_k\": 0.86173125, \"power\": null}, {\"dataset\": \"point_mnist\", \"pooling\": \"WE\", \"ann\": \"faiss-lsh\", \"k\": 4, \"code_length\": 1024, \"emb_time_per_sample\": 0.0023858142137527464, \"inf_time_per_sample\": 0.00037774522304534914, \"acc\": 0.9198, \"precision_k\": 0.8887, \"power\": null}, {\"dataset\": \"point_mnist\", \"pooling\": \"WE\", \"ann\": \"faiss-lsh\", \"k\": 8, \"code_length\": 1024, \"emb_time_per_sample\": 0.002362943387031555, \"inf_time_per_sample\": 0.00037846760749816896, \"acc\": 0.923, \"precision_k\": 0.8778625, \"power\": null}, {\"dataset\": \"point_mnist\", \"pooling\": \"WE\", \"ann\": \"faiss-lsh\", \"k\": 16, \"code_length\": 1024, \"emb_time_per_sample\": 0.0023698612928390503, \"inf_time_per_sample\": 0.00037509031295776367, \"acc\": 0.9153, \"precision_k\": 0.86188125, \"power\": null}, {\"dataset\": \"point_mnist\", \"pooling\": \"WE\", \"ann\": \"faiss-lsh\", \"k\": 4, \"code_length\": 1024, \"emb_time_per_sample\": 0.002412331795692444, \"inf_time_per_sample\": 0.0003770792007446289, \"acc\": 0.9186, \"precision_k\": 0.8847, \"power\": null}, {\"dataset\": \"point_mnist\", \"pooling\": \"WE\", \"ann\": \"faiss-lsh\", \"k\": 8, \"code_length\": 1024, \"emb_time_per_sample\": 0.002409420394897461, \"inf_time_per_sample\": 0.0003744368076324463, \"acc\": 0.915, \"precision_k\": 0.871525, \"power\": null}, {\"dataset\": \"point_mnist\", \"pooling\": \"WE\", \"ann\": \"faiss-lsh\", \"k\": 16, \"code_length\": 1024, \"emb_time_per_sample\": 0.0025225847005844117, \"inf_time_per_sample\": 0.0003755937099456787, \"acc\": 0.9122, \"precision_k\": 0.85616875, \"power\": null}, {\"dataset\": \"point_mnist\", \"pooling\": \"WE\", \"ann\": \"faiss-lsh\", \"k\": 4, \"code_length\": 1024, \"emb_time_per_sample\": 0.0024545366764068604, \"inf_time_per_sample\": 0.0003912111043930054, \"acc\": 0.9246, \"precision_k\": 0.894725, \"power\": null}, {\"dataset\": \"point_mnist\", \"pooling\": \"WE\", \"ann\": \"faiss-lsh\", \"k\": 8, \"code_length\": 1024, \"emb_time_per_sample\": 0.002418043804168701, \"inf_time_per_sample\": 0.00037397379875183105, \"acc\": 0.9234, \"precision_k\": 0.88285, \"power\": null}, {\"dataset\": \"point_mnist\", \"pooling\": \"WE\", \"ann\": \"faiss-lsh\", \"k\": 16, \"code_length\": 1024, \"emb_time_per_sample\": 0.0023925716876983644, \"inf_time_per_sample\": 0.0003757025718688965, \"acc\": 0.9194, \"precision_k\": 0.86819375, \"power\": null}, {\"dataset\": \"point_mnist\", \"pooling\": \"WE\", \"ann\": \"faiss-lsh\", \"k\": 4, \"code_length\": 1024, \"emb_time_per_sample\": 0.0023444679021835326, \"inf_time_per_sample\": 0.0003768328905105591, \"acc\": 0.9203, \"precision_k\": 0.887925, \"power\": null}, {\"dataset\": \"point_mnist\", \"pooling\": \"WE\", \"ann\": \"faiss-lsh\", \"k\": 8, \"code_length\": 1024, \"emb_time_per_sample\": 0.002405758810043335, \"inf_time_per_sample\": 0.00038958652019500733, \"acc\": 0.9193, \"precision_k\": 0.8766375, \"power\": null}, {\"dataset\": \"point_mnist\", \"pooling\": \"WE\", \"ann\": \"faiss-lsh\", \"k\": 16, \"code_length\": 1024, \"emb_time_per_sample\": 0.00262330219745636, \"inf_time_per_sample\": 0.00038140270709991457, \"acc\": 0.915, \"precision_k\": 0.862525, \"power\": null}, {\"dataset\": \"point_mnist\", \"pooling\": \"Cov\", \"ann\": \"faiss-lsh\", \"k\": 4, \"code_length\": 1024, \"emb_time_per_sample\": 7.202529907226563e-05, \"inf_time_per_sample\": 0.00038690080642700197, \"acc\": 0.2648, \"precision_k\": 0.2473, \"power\": null}, {\"dataset\": \"point_mnist\", \"pooling\": \"Cov\", \"ann\": \"faiss-lsh\", \"k\": 8, \"code_length\": 1024, \"emb_time_per_sample\": 7.7789306640625e-05, \"inf_time_per_sample\": 0.0003719609260559082, \"acc\": 0.276, \"precision_k\": 0.248125, \"power\": null}, {\"dataset\": \"point_mnist\", \"pooling\": \"Cov\", \"ann\": \"faiss-lsh\", \"k\": 16, \"code_length\": 1024, \"emb_time_per_sample\": 7.079741954803467e-05, \"inf_time_per_sample\": 0.00037229340076446534, \"acc\": 0.281, \"precision_k\": 0.24801875, \"power\": null}, {\"dataset\": \"point_mnist\", \"pooling\": \"Cov\", \"ann\": \"faiss-lsh\", \"k\": 4, \"code_length\": 1024, \"emb_time_per_sample\": 7.022030353546143e-05, \"inf_time_per_sample\": 0.00036978511810302733, \"acc\": 0.2648, \"precision_k\": 0.2473, \"power\": null}, {\"dataset\": \"point_mnist\", \"pooling\": \"Cov\", \"ann\": \"faiss-lsh\", \"k\": 8, \"code_length\": 1024, \"emb_time_per_sample\": 8.302268981933594e-05, \"inf_time_per_sample\": 0.0004015040159225464, \"acc\": 0.276, \"precision_k\": 0.248125, \"power\": null}, {\"dataset\": \"point_mnist\", \"pooling\": \"Cov\", \"ann\": \"faiss-lsh\", \"k\": 16, \"code_length\": 1024, \"emb_time_per_sample\": 6.982650756835938e-05, \"inf_time_per_sample\": 0.00038590569496154786, \"acc\": 0.281, \"precision_k\": 0.24801875, \"power\": null}, {\"dataset\": \"point_mnist\", \"pooling\": \"Cov\", \"ann\": \"faiss-lsh\", \"k\": 4, \"code_length\": 1024, \"emb_time_per_sample\": 6.803030967712403e-05, \"inf_time_per_sample\": 0.00040654759407043455, \"acc\": 0.2648, \"precision_k\": 0.2473, \"power\": null}, {\"dataset\": \"point_mnist\", \"pooling\": \"Cov\", \"ann\": \"faiss-lsh\", \"k\": 8, \"code_length\": 1024, \"emb_time_per_sample\": 7.883598804473877e-05, \"inf_time_per_sample\": 0.00037874131202697754, \"acc\": 0.276, \"precision_k\": 0.248125, \"power\": null}, {\"dataset\": \"point_mnist\", \"pooling\": \"Cov\", \"ann\": \"faiss-lsh\", \"k\": 16, \"code_length\": 1024, \"emb_time_per_sample\": 7.206757068634033e-05, \"inf_time_per_sample\": 0.00039531450271606443, \"acc\": 0.281, \"precision_k\": 0.24801875, \"power\": null}, {\"dataset\": \"point_mnist\", \"pooling\": \"Cov\", \"ann\": \"faiss-lsh\", \"k\": 4, \"code_length\": 1024, \"emb_time_per_sample\": 7.548201084136962e-05, \"inf_time_per_sample\": 0.00038673701286315917, \"acc\": 0.2648, \"precision_k\": 0.2473, \"power\": null}, {\"dataset\": \"point_mnist\", \"pooling\": \"Cov\", \"ann\": \"faiss-lsh\", \"k\": 8, \"code_length\": 1024, \"emb_time_per_sample\": 7.6729416847229e-05, \"inf_time_per_sample\": 0.00037868680953979494, \"acc\": 0.276, \"precision_k\": 0.248125, \"power\": null}, {\"dataset\": \"point_mnist\", \"pooling\": \"Cov\", \"ann\": \"faiss-lsh\", \"k\": 16, \"code_length\": 1024, \"emb_time_per_sample\": 7.015011310577393e-05, \"inf_time_per_sample\": 0.00038259861469268797, \"acc\": 0.281, \"precision_k\": 0.24801875, \"power\": null}, {\"dataset\": \"point_mnist\", \"pooling\": \"Cov\", \"ann\": \"faiss-lsh\", \"k\": 4, \"code_length\": 1024, \"emb_time_per_sample\": 7.228522300720214e-05, \"inf_time_per_sample\": 0.00038124232292175293, \"acc\": 0.2648, \"precision_k\": 0.2473, \"power\": null}, {\"dataset\": \"point_mnist\", \"pooling\": \"Cov\", \"ann\": \"faiss-lsh\", \"k\": 8, \"code_length\": 1024, \"emb_time_per_sample\": 7.982578277587891e-05, \"inf_time_per_sample\": 0.0003696885824203491, \"acc\": 0.276, \"precision_k\": 0.248125, \"power\": null}, {\"dataset\": \"point_mnist\", \"pooling\": \"Cov\", \"ann\": \"faiss-lsh\", \"k\": 16, \"code_length\": 1024, \"emb_time_per_sample\": 6.942558288574219e-05, \"inf_time_per_sample\": 0.00039804840087890626, \"acc\": 0.281, \"precision_k\": 0.24801875, \"power\": null}, {\"dataset\": \"point_mnist\", \"pooling\": \"GeM-1\", \"ann\": \"faiss-lsh\", \"k\": 4, \"code_length\": 1024, \"emb_time_per_sample\": 4.2551398277282715e-05, \"inf_time_per_sample\": 0.0003985496997833252, \"acc\": 0.1086, \"precision_k\": 0.1044, \"power\": 1.0}, {\"dataset\": \"point_mnist\", \"pooling\": \"GeM-1\", \"ann\": \"faiss-lsh\", \"k\": 8, \"code_length\": 1024, \"emb_time_per_sample\": 3.8455986976623534e-05, \"inf_time_per_sample\": 0.0003771803855895996, \"acc\": 0.1042, \"precision_k\": 0.1023375, \"power\": 1.0}, {\"dataset\": \"point_mnist\", \"pooling\": \"GeM-1\", \"ann\": \"faiss-lsh\", \"k\": 16, \"code_length\": 1024, \"emb_time_per_sample\": 4.649150371551514e-05, \"inf_time_per_sample\": 0.0003702794075012207, \"acc\": 0.1004, \"precision_k\": 0.101225, \"power\": 1.0}, {\"dataset\": \"point_mnist\", \"pooling\": \"GeM-1\", \"ann\": \"faiss-lsh\", \"k\": 4, \"code_length\": 1024, \"emb_time_per_sample\": 3.6470580101013187e-05, \"inf_time_per_sample\": 0.0003665106296539307, \"acc\": 0.1086, \"precision_k\": 0.1044, \"power\": 1.0}, {\"dataset\": \"point_mnist\", \"pooling\": \"GeM-1\", \"ann\": \"faiss-lsh\", \"k\": 8, \"code_length\": 1024, \"emb_time_per_sample\": 3.784661293029785e-05, \"inf_time_per_sample\": 0.00037074382305145266, \"acc\": 0.1042, \"precision_k\": 0.1023375, \"power\": 1.0}, {\"dataset\": \"point_mnist\", \"pooling\": \"GeM-1\", \"ann\": \"faiss-lsh\", \"k\": 16, \"code_length\": 1024, \"emb_time_per_sample\": 3.610892295837402e-05, \"inf_time_per_sample\": 0.000366972017288208, \"acc\": 0.1004, \"precision_k\": 0.101225, \"power\": 1.0}, {\"dataset\": \"point_mnist\", \"pooling\": \"GeM-1\", \"ann\": \"faiss-lsh\", \"k\": 4, \"code_length\": 1024, \"emb_time_per_sample\": 4.5283317565917966e-05, \"inf_time_per_sample\": 0.0003711618900299072, \"acc\": 0.1086, \"precision_k\": 0.1044, \"power\": 1.0}, {\"dataset\": \"point_mnist\", \"pooling\": \"GeM-1\", \"ann\": \"faiss-lsh\", \"k\": 8, \"code_length\": 1024, \"emb_time_per_sample\": 3.682219982147217e-05, \"inf_time_per_sample\": 0.00037225589752197264, \"acc\": 0.1042, \"precision_k\": 0.1023375, \"power\": 1.0}, {\"dataset\": \"point_mnist\", \"pooling\": \"GeM-1\", \"ann\": \"faiss-lsh\", \"k\": 16, \"code_length\": 1024, \"emb_time_per_sample\": 3.8891911506652835e-05, \"inf_time_per_sample\": 0.0003689895868301392, \"acc\": 0.1004, \"precision_k\": 0.101225, \"power\": 1.0}, {\"dataset\": \"point_mnist\", \"pooling\": \"GeM-1\", \"ann\": \"faiss-lsh\", \"k\": 4, \"code_length\": 1024, \"emb_time_per_sample\": 3.636381626129151e-05, \"inf_time_per_sample\": 0.00037015657424926756, \"acc\": 0.1086, \"precision_k\": 0.1044, \"power\": 1.0}, {\"dataset\": \"point_mnist\", \"pooling\": \"GeM-1\", \"ann\": \"faiss-lsh\", \"k\": 8, \"code_length\": 1024, \"emb_time_per_sample\": 4.638161659240723e-05, \"inf_time_per_sample\": 0.00037074291706085203, \"acc\": 0.1042, \"precision_k\": 0.1023375, \"power\": 1.0}, {\"dataset\": \"point_mnist\", \"pooling\": \"GeM-1\", \"ann\": \"faiss-lsh\", \"k\": 16, \"code_length\": 1024, \"emb_time_per_sample\": 3.6934709548950197e-05, \"inf_time_per_sample\": 0.0003761444330215454, \"acc\": 0.1004, \"precision_k\": 0.101225, \"power\": 1.0}, {\"dataset\": \"point_mnist\", \"pooling\": \"GeM-1\", \"ann\": \"faiss-lsh\", \"k\": 4, \"code_length\": 1024, \"emb_time_per_sample\": 3.865180015563965e-05, \"inf_time_per_sample\": 0.0003745671033859253, \"acc\": 0.1086, \"precision_k\": 0.1044, \"power\": 1.0}, {\"dataset\": \"point_mnist\", \"pooling\": \"GeM-1\", \"ann\": \"faiss-lsh\", \"k\": 8, \"code_length\": 1024, \"emb_time_per_sample\": 3.635149002075195e-05, \"inf_time_per_sample\": 0.00037083740234375, \"acc\": 0.1042, \"precision_k\": 0.1023375, \"power\": 1.0}, {\"dataset\": \"point_mnist\", \"pooling\": \"GeM-1\", \"ann\": \"faiss-lsh\", \"k\": 16, \"code_length\": 1024, \"emb_time_per_sample\": 3.6765599250793455e-05, \"inf_time_per_sample\": 0.00036921517848968505, \"acc\": 0.1004, \"precision_k\": 0.101225, \"power\": 1.0}, {\"dataset\": \"point_mnist\", \"pooling\": \"GeM-2\", \"ann\": \"faiss-lsh\", \"k\": 4, \"code_length\": 1024, \"emb_time_per_sample\": 5.6570601463317874e-05, \"inf_time_per_sample\": 0.00037008697986602783, \"acc\": 0.3214, \"precision_k\": 0.28705, \"power\": 2.0}, {\"dataset\": \"point_mnist\", \"pooling\": \"GeM-2\", \"ann\": \"faiss-lsh\", \"k\": 8, \"code_length\": 1024, \"emb_time_per_sample\": 4.9127721786499024e-05, \"inf_time_per_sample\": 0.00036777870655059817, \"acc\": 0.3466, \"precision_k\": 0.285675, \"power\": 2.0}, {\"dataset\": \"point_mnist\", \"pooling\": \"GeM-2\", \"ann\": \"faiss-lsh\", \"k\": 16, \"code_length\": 1024, \"emb_time_per_sample\": 4.9360513687133786e-05, \"inf_time_per_sample\": 0.00036956329345703124, \"acc\": 0.3705, \"precision_k\": 0.28901875, \"power\": 2.0}, {\"dataset\": \"point_mnist\", \"pooling\": \"GeM-2\", \"ann\": \"faiss-lsh\", \"k\": 4, \"code_length\": 1024, \"emb_time_per_sample\": 4.829201698303223e-05, \"inf_time_per_sample\": 0.00036777660846710206, \"acc\": 0.3214, \"precision_k\": 0.28705, \"power\": 2.0}, {\"dataset\": \"point_mnist\", \"pooling\": \"GeM-2\", \"ann\": \"faiss-lsh\", \"k\": 8, \"code_length\": 1024, \"emb_time_per_sample\": 4.7609996795654296e-05, \"inf_time_per_sample\": 0.00037202510833740237, \"acc\": 0.3466, \"precision_k\": 0.285675, \"power\": 2.0}, {\"dataset\": \"point_mnist\", \"pooling\": \"GeM-2\", \"ann\": \"faiss-lsh\", \"k\": 16, \"code_length\": 1024, \"emb_time_per_sample\": 4.8957204818725584e-05, \"inf_time_per_sample\": 0.00037139949798583986, \"acc\": 0.3705, \"precision_k\": 0.28901875, \"power\": 2.0}, {\"dataset\": \"point_mnist\", \"pooling\": \"GeM-2\", \"ann\": \"faiss-lsh\", \"k\": 4, \"code_length\": 1024, \"emb_time_per_sample\": 4.8797011375427246e-05, \"inf_time_per_sample\": 0.0003670634031295776, \"acc\": 0.3214, \"precision_k\": 0.28705, \"power\": 2.0}, {\"dataset\": \"point_mnist\", \"pooling\": \"GeM-2\", \"ann\": \"faiss-lsh\", \"k\": 8, \"code_length\": 1024, \"emb_time_per_sample\": 4.942758083343506e-05, \"inf_time_per_sample\": 0.00037208449840545657, \"acc\": 0.3466, \"precision_k\": 0.285675, \"power\": 2.0}, {\"dataset\": \"point_mnist\", \"pooling\": \"GeM-2\", \"ann\": \"faiss-lsh\", \"k\": 16, \"code_length\": 1024, \"emb_time_per_sample\": 4.958598613739014e-05, \"inf_time_per_sample\": 0.0003706617832183838, \"acc\": 0.3705, \"precision_k\": 0.28901875, \"power\": 2.0}, {\"dataset\": \"point_mnist\", \"pooling\": \"GeM-2\", \"ann\": \"faiss-lsh\", \"k\": 4, \"code_length\": 1024, \"emb_time_per_sample\": 5.661187171936035e-05, \"inf_time_per_sample\": 0.0003679971218109131, \"acc\": 0.3214, \"precision_k\": 0.28705, \"power\": 2.0}, {\"dataset\": \"point_mnist\", \"pooling\": \"GeM-2\", \"ann\": \"faiss-lsh\", \"k\": 8, \"code_length\": 1024, \"emb_time_per_sample\": 4.9558520317077634e-05, \"inf_time_per_sample\": 0.0003690037965774536, \"acc\": 0.3466, \"precision_k\": 0.285675, \"power\": 2.0}, {\"dataset\": \"point_mnist\", \"pooling\": \"GeM-2\", \"ann\": \"faiss-lsh\", \"k\": 16, \"code_length\": 1024, \"emb_time_per_sample\": 4.890282154083252e-05, \"inf_time_per_sample\": 0.0003665180206298828, \"acc\": 0.3705, \"precision_k\": 0.28901875, \"power\": 2.0}, {\"dataset\": \"point_mnist\", \"pooling\": \"GeM-2\", \"ann\": \"faiss-lsh\", \"k\": 4, \"code_length\": 1024, \"emb_time_per_sample\": 5.3960394859313966e-05, \"inf_time_per_sample\": 0.00036841652393341064, \"acc\": 0.3214, \"precision_k\": 0.28705, \"power\": 2.0}, {\"dataset\": \"point_mnist\", \"pooling\": \"GeM-2\", \"ann\": \"faiss-lsh\", \"k\": 8, \"code_length\": 1024, \"emb_time_per_sample\": 5.739588737487793e-05, \"inf_time_per_sample\": 0.0003660981893539429, \"acc\": 0.3466, \"precision_k\": 0.285675, \"power\": 2.0}, {\"dataset\": \"point_mnist\", \"pooling\": \"GeM-2\", \"ann\": \"faiss-lsh\", \"k\": 16, \"code_length\": 1024, \"emb_time_per_sample\": 5.104701519012451e-05, \"inf_time_per_sample\": 0.0003694002866744995, \"acc\": 0.3705, \"precision_k\": 0.28901875, \"power\": 2.0}, {\"dataset\": \"point_mnist\", \"pooling\": \"GeM-4\", \"ann\": \"faiss-lsh\", \"k\": 4, \"code_length\": 1024, \"emb_time_per_sample\": 8.341200351715088e-05, \"inf_time_per_sample\": 0.00037127938270568845, \"acc\": 0.4458, \"precision_k\": 0.393575, \"power\": 4.0}, {\"dataset\": \"point_mnist\", \"pooling\": \"GeM-4\", \"ann\": \"faiss-lsh\", \"k\": 8, \"code_length\": 1024, \"emb_time_per_sample\": 8.194692134857178e-05, \"inf_time_per_sample\": 0.0003683065176010132, \"acc\": 0.4711, \"precision_k\": 0.3903, \"power\": 4.0}, {\"dataset\": \"point_mnist\", \"pooling\": \"GeM-4\", \"ann\": \"faiss-lsh\", \"k\": 16, \"code_length\": 1024, \"emb_time_per_sample\": 8.362438678741455e-05, \"inf_time_per_sample\": 0.000374837589263916, \"acc\": 0.487, \"precision_k\": 0.38306875, \"power\": 4.0}, {\"dataset\": \"point_mnist\", \"pooling\": \"GeM-4\", \"ann\": \"faiss-lsh\", \"k\": 4, \"code_length\": 1024, \"emb_time_per_sample\": 9.210700988769531e-05, \"inf_time_per_sample\": 0.0003714257717132568, \"acc\": 0.4458, \"precision_k\": 0.393575, \"power\": 4.0}, {\"dataset\": \"point_mnist\", \"pooling\": \"GeM-4\", \"ann\": \"faiss-lsh\", \"k\": 8, \"code_length\": 1024, \"emb_time_per_sample\": 8.376328945159913e-05, \"inf_time_per_sample\": 0.0003664239168167114, \"acc\": 0.4711, \"precision_k\": 0.3903, \"power\": 4.0}, {\"dataset\": \"point_mnist\", \"pooling\": \"GeM-4\", \"ann\": \"faiss-lsh\", \"k\": 16, \"code_length\": 1024, \"emb_time_per_sample\": 8.351960182189941e-05, \"inf_time_per_sample\": 0.00036617400646209717, \"acc\": 0.487, \"precision_k\": 0.38306875, \"power\": 4.0}, {\"dataset\": \"point_mnist\", \"pooling\": \"GeM-4\", \"ann\": \"faiss-lsh\", \"k\": 4, \"code_length\": 1024, \"emb_time_per_sample\": 8.23760986328125e-05, \"inf_time_per_sample\": 0.00037018916606903075, \"acc\": 0.4458, \"precision_k\": 0.393575, \"power\": 4.0}, {\"dataset\": \"point_mnist\", \"pooling\": \"GeM-4\", \"ann\": \"faiss-lsh\", \"k\": 8, \"code_length\": 1024, \"emb_time_per_sample\": 8.425297737121583e-05, \"inf_time_per_sample\": 0.0003662482976913452, \"acc\": 0.4711, \"precision_k\": 0.3903, \"power\": 4.0}, {\"dataset\": \"point_mnist\", \"pooling\": \"GeM-4\", \"ann\": \"faiss-lsh\", \"k\": 16, \"code_length\": 1024, \"emb_time_per_sample\": 7.665021419525147e-05, \"inf_time_per_sample\": 0.0003722698926925659, \"acc\": 0.487, \"precision_k\": 0.38306875, \"power\": 4.0}, {\"dataset\": \"point_mnist\", \"pooling\": \"GeM-4\", \"ann\": \"faiss-lsh\", \"k\": 4, \"code_length\": 1024, \"emb_time_per_sample\": 7.681798934936523e-05, \"inf_time_per_sample\": 0.0003669736862182617, \"acc\": 0.4458, \"precision_k\": 0.393575, \"power\": 4.0}, {\"dataset\": \"point_mnist\", \"pooling\": \"GeM-4\", \"ann\": \"faiss-lsh\", \"k\": 8, \"code_length\": 1024, \"emb_time_per_sample\": 7.673590183258057e-05, \"inf_time_per_sample\": 0.00036836788654327394, \"acc\": 0.4711, \"precision_k\": 0.3903, \"power\": 4.0}, {\"dataset\": \"point_mnist\", \"pooling\": \"GeM-4\", \"ann\": \"faiss-lsh\", \"k\": 16, \"code_length\": 1024, \"emb_time_per_sample\": 8.362312316894531e-05, \"inf_time_per_sample\": 0.00036809468269348146, \"acc\": 0.487, \"precision_k\": 0.38306875, \"power\": 4.0}, {\"dataset\": \"point_mnist\", \"pooling\": \"GeM-4\", \"ann\": \"faiss-lsh\", \"k\": 4, \"code_length\": 1024, \"emb_time_per_sample\": 7.612059116363525e-05, \"inf_time_per_sample\": 0.0003658282041549683, \"acc\": 0.4458, \"precision_k\": 0.393575, \"power\": 4.0}, {\"dataset\": \"point_mnist\", \"pooling\": \"GeM-4\", \"ann\": \"faiss-lsh\", \"k\": 8, \"code_length\": 1024, \"emb_time_per_sample\": 7.680182456970215e-05, \"inf_time_per_sample\": 0.0003727047920227051, \"acc\": 0.4711, \"precision_k\": 0.3903, \"power\": 4.0}, {\"dataset\": \"point_mnist\", \"pooling\": \"GeM-4\", \"ann\": \"faiss-lsh\", \"k\": 16, \"code_length\": 1024, \"emb_time_per_sample\": 7.557501792907715e-05, \"inf_time_per_sample\": 0.00036609373092651366, \"acc\": 0.487, \"precision_k\": 0.38306875, \"power\": 4.0}]}}, {\"mode\": \"vega-lite\"});\n",
       "</script>"
      ],
      "text/plain": [
       "alt.LayerChart(...)"
      ]
     },
     "execution_count": 17,
     "metadata": {},
     "output_type": "execute_result"
    }
   ],
   "source": [
    "alt.layer(points + text).configure_axis(\n",
    "    labelFontSize=12,\n",
    "    titleFontSize=16\n",
    ")"
   ]
  },
  {
   "cell_type": "code",
   "execution_count": 18,
   "id": "659206db",
   "metadata": {
    "pycharm": {
     "name": "#%%\n"
    }
   },
   "outputs": [],
   "source": [
    "pd.options.display.float_format = \"{:,.2f}\".format"
   ]
  },
  {
   "cell_type": "code",
   "execution_count": 19,
   "id": "335a6243",
   "metadata": {
    "pycharm": {
     "name": "#%%\n"
    }
   },
   "outputs": [
    {
     "data": {
      "text/html": [
       "<div>\n",
       "<style scoped>\n",
       "    .dataframe tbody tr th:only-of-type {\n",
       "        vertical-align: middle;\n",
       "    }\n",
       "\n",
       "    .dataframe tbody tr th {\n",
       "        vertical-align: top;\n",
       "    }\n",
       "\n",
       "    .dataframe thead th {\n",
       "        text-align: right;\n",
       "    }\n",
       "</style>\n",
       "<table border=\"1\" class=\"dataframe\">\n",
       "  <thead>\n",
       "    <tr style=\"text-align: right;\">\n",
       "      <th></th>\n",
       "      <th></th>\n",
       "      <th>precision_k</th>\n",
       "      <th>acc</th>\n",
       "    </tr>\n",
       "    <tr>\n",
       "      <th>pooling</th>\n",
       "      <th>k</th>\n",
       "      <th></th>\n",
       "      <th></th>\n",
       "    </tr>\n",
       "  </thead>\n",
       "  <tbody>\n",
       "    <tr>\n",
       "      <th rowspan=\"3\" valign=\"top\">Cov</th>\n",
       "      <th>4</th>\n",
       "      <td>0.25</td>\n",
       "      <td>0.26</td>\n",
       "    </tr>\n",
       "    <tr>\n",
       "      <th>8</th>\n",
       "      <td>0.25</td>\n",
       "      <td>0.28</td>\n",
       "    </tr>\n",
       "    <tr>\n",
       "      <th>16</th>\n",
       "      <td>0.25</td>\n",
       "      <td>0.28</td>\n",
       "    </tr>\n",
       "    <tr>\n",
       "      <th rowspan=\"3\" valign=\"top\">FSPool</th>\n",
       "      <th>4</th>\n",
       "      <td>0.75</td>\n",
       "      <td>0.80</td>\n",
       "    </tr>\n",
       "    <tr>\n",
       "      <th>8</th>\n",
       "      <td>0.74</td>\n",
       "      <td>0.81</td>\n",
       "    </tr>\n",
       "    <tr>\n",
       "      <th>16</th>\n",
       "      <td>0.72</td>\n",
       "      <td>0.81</td>\n",
       "    </tr>\n",
       "    <tr>\n",
       "      <th rowspan=\"3\" valign=\"top\">GeM-1</th>\n",
       "      <th>4</th>\n",
       "      <td>0.10</td>\n",
       "      <td>0.11</td>\n",
       "    </tr>\n",
       "    <tr>\n",
       "      <th>8</th>\n",
       "      <td>0.10</td>\n",
       "      <td>0.10</td>\n",
       "    </tr>\n",
       "    <tr>\n",
       "      <th>16</th>\n",
       "      <td>0.10</td>\n",
       "      <td>0.10</td>\n",
       "    </tr>\n",
       "    <tr>\n",
       "      <th rowspan=\"3\" valign=\"top\">GeM-2</th>\n",
       "      <th>4</th>\n",
       "      <td>0.29</td>\n",
       "      <td>0.32</td>\n",
       "    </tr>\n",
       "    <tr>\n",
       "      <th>8</th>\n",
       "      <td>0.29</td>\n",
       "      <td>0.35</td>\n",
       "    </tr>\n",
       "    <tr>\n",
       "      <th>16</th>\n",
       "      <td>0.29</td>\n",
       "      <td>0.37</td>\n",
       "    </tr>\n",
       "    <tr>\n",
       "      <th rowspan=\"3\" valign=\"top\">GeM-4</th>\n",
       "      <th>4</th>\n",
       "      <td>0.39</td>\n",
       "      <td>0.45</td>\n",
       "    </tr>\n",
       "    <tr>\n",
       "      <th>8</th>\n",
       "      <td>0.39</td>\n",
       "      <td>0.47</td>\n",
       "    </tr>\n",
       "    <tr>\n",
       "      <th>16</th>\n",
       "      <td>0.38</td>\n",
       "      <td>0.49</td>\n",
       "    </tr>\n",
       "    <tr>\n",
       "      <th rowspan=\"3\" valign=\"top\">SLOSH</th>\n",
       "      <th>4</th>\n",
       "      <td>0.89</td>\n",
       "      <td>0.92</td>\n",
       "    </tr>\n",
       "    <tr>\n",
       "      <th>8</th>\n",
       "      <td>0.88</td>\n",
       "      <td>0.92</td>\n",
       "    </tr>\n",
       "    <tr>\n",
       "      <th>16</th>\n",
       "      <td>0.86</td>\n",
       "      <td>0.91</td>\n",
       "    </tr>\n",
       "    <tr>\n",
       "      <th rowspan=\"3\" valign=\"top\">WE</th>\n",
       "      <th>4</th>\n",
       "      <td>0.89</td>\n",
       "      <td>0.92</td>\n",
       "    </tr>\n",
       "    <tr>\n",
       "      <th>8</th>\n",
       "      <td>0.88</td>\n",
       "      <td>0.92</td>\n",
       "    </tr>\n",
       "    <tr>\n",
       "      <th>16</th>\n",
       "      <td>0.86</td>\n",
       "      <td>0.92</td>\n",
       "    </tr>\n",
       "  </tbody>\n",
       "</table>\n",
       "</div>"
      ],
      "text/plain": [
       "            precision_k  acc\n",
       "pooling k                   \n",
       "Cov     4          0.25 0.26\n",
       "        8          0.25 0.28\n",
       "        16         0.25 0.28\n",
       "FSPool  4          0.75 0.80\n",
       "        8          0.74 0.81\n",
       "        16         0.72 0.81\n",
       "GeM-1   4          0.10 0.11\n",
       "        8          0.10 0.10\n",
       "        16         0.10 0.10\n",
       "GeM-2   4          0.29 0.32\n",
       "        8          0.29 0.35\n",
       "        16         0.29 0.37\n",
       "GeM-4   4          0.39 0.45\n",
       "        8          0.39 0.47\n",
       "        16         0.38 0.49\n",
       "SLOSH   4          0.89 0.92\n",
       "        8          0.88 0.92\n",
       "        16         0.86 0.91\n",
       "WE      4          0.89 0.92\n",
       "        8          0.88 0.92\n",
       "        16         0.86 0.92"
      ]
     },
     "execution_count": 19,
     "metadata": {},
     "output_type": "execute_result"
    }
   ],
   "source": [
    "data.groupby(['pooling', 'k'])[['precision_k', 'acc']].mean()"
   ]
  },
  {
   "cell_type": "code",
   "execution_count": null,
   "id": "d1434642",
   "metadata": {},
   "outputs": [],
   "source": []
  }
 ],
 "metadata": {
  "colab": {
   "name": "demo_for_pointmnist.ipynb",
   "provenance": []
  },
  "kernelspec": {
   "display_name": "swe",
   "language": "python",
   "name": "swe"
  },
  "language_info": {
   "codemirror_mode": {
    "name": "ipython",
    "version": 3
   },
   "file_extension": ".py",
   "mimetype": "text/x-python",
   "name": "python",
   "nbconvert_exporter": "python",
   "pygments_lexer": "ipython3",
   "version": "3.7.13"
  }
 },
 "nbformat": 4,
 "nbformat_minor": 5
}