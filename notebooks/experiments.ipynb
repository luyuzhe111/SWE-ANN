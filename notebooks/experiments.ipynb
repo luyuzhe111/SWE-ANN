{
 "cells": [
  {
   "cell_type": "code",
   "execution_count": null,
   "id": "a37b35fd",
   "metadata": {
    "executionInfo": {
     "elapsed": 1005,
     "status": "ok",
     "timestamp": 1653423602170,
     "user": {
      "displayName": "Xinran Liu",
      "userId": "10633541058978347574"
     },
     "user_tz": 300
    },
    "id": "9dd78bf5",
    "pycharm": {
     "name": "#%%\n"
    }
   },
   "outputs": [],
   "source": [
    "import os\n",
    "import numpy as np\n",
    "import pandas as pd\n",
    "import pickle\n",
    "import matplotlib.pyplot as plt\n",
    "import json\n",
    "from utils.experiment import Experiment"
   ]
  },
  {
   "cell_type": "code",
   "execution_count": null,
   "id": "2e11fe36",
   "metadata": {
    "pycharm": {
     "name": "#%%\n"
    }
   },
   "outputs": [],
   "source": [
    "dataset = 'point_mnist'\n",
    "slice_setting = 'over'"
   ]
  },
  {
   "cell_type": "code",
   "execution_count": null,
   "id": "1c2eea99",
   "metadata": {
    "pycharm": {
     "name": "#%%\n"
    }
   },
   "outputs": [],
   "source": [
    "if dataset == 'point_mnist':\n",
    "    df_train = pd.read_csv('../dataset/pointcloud_mnist_2d/train.csv')\n",
    "\n",
    "    X = df_train[df_train.columns[1:]].to_numpy()\n",
    "    y = df_train[df_train.columns[0]].to_numpy()\n",
    "\n",
    "    X = X.reshape(X.shape[0], -1, 3)\n",
    "    \n",
    "    num_points = np.sum((X[:, :, 2] > 0).astype(int), axis=1)\n",
    "    \n",
    "    set_size_median = np.median(num_points).astype(int)\n",
    "    n_slices = 8 if slice_setting == 'over' else 2\n",
    "\n",
    "elif dataset == 'modelnet40':\n",
    "    set_size_median = 512\n",
    "    n_slices = 16 if slice_setting == 'over' else 3\n",
    "    \n",
    "elif dataset == 'oxford':\n",
    "    with open('../dataset/oxford/train_test_AE8.pkl', 'rb') as f:\n",
    "        data = pickle.load(f)\n",
    "\n",
    "    X_train, y_train, X_test, y_test, classnames = data\n",
    "\n",
    "    num_points = np.array([i.shape[0] for i in X_train])\n",
    "\n",
    "    set_size_median = np.median(num_points).astype(int)\n",
    "    n_slices = 128 if slice_setting == 'over' else 8\n",
    "\n",
    "print(dataset, set_size_median, n_slices)"
   ]
  },
  {
   "cell_type": "code",
   "execution_count": null,
   "id": "6d021c3f",
   "metadata": {
    "pycharm": {
     "name": "#%%\n"
    }
   },
   "outputs": [],
   "source": [
    "code_length = 1024\n",
    "ref = 'rand'\n",
    "seeds = [0, 1, 4, 10, 16]\n",
    "ks = [4, 8, 16]\n",
    "reports = []"
   ]
  },
  {
   "cell_type": "markdown",
   "id": "bfb28a98",
   "metadata": {
    "pycharm": {
     "name": "#%% md\n"
    }
   },
   "source": [
    "### FS"
   ]
  },
  {
   "cell_type": "code",
   "execution_count": null,
   "id": "80611eaa",
   "metadata": {
    "pycharm": {
     "name": "#%%\n"
    }
   },
   "outputs": [],
   "source": [
    "for seed in seeds:\n",
    "    for k in ks:\n",
    "        exp = Experiment(dataset, 'fs', 'faiss-lsh', \n",
    "                         random_state=seed, ref_func=ref, k=k, ref_size=set_size_median, code_length=code_length)\n",
    "        exp.test()\n",
    "        report = exp.get_exp_report()\n",
    "        print(report)\n",
    "        reports.append(report)"
   ]
  },
  {
   "cell_type": "markdown",
   "id": "2910db13",
   "metadata": {
    "pycharm": {
     "name": "#%% md\n"
    }
   },
   "source": [
    "### SWE"
   ]
  },
  {
   "cell_type": "code",
   "execution_count": null,
   "id": "de69f631",
   "metadata": {
    "pycharm": {
     "name": "#%%\n"
    },
    "scrolled": false
   },
   "outputs": [],
   "source": [
    "for seed in seeds:\n",
    "    for k in ks:\n",
    "        exp = Experiment(dataset, 'swe', 'faiss-lsh', random_state=seed, ref_func=ref, k=k, ref_size=set_size_median, code_length=code_length, num_slices=n_slices)\n",
    "        exp.test()\n",
    "        report = exp.get_exp_report()\n",
    "        print(report)\n",
    "        reports.append(report)"
   ]
  },
  {
   "cell_type": "markdown",
   "id": "783d00c7",
   "metadata": {
    "pycharm": {
     "name": "#%% md\n"
    }
   },
   "source": [
    "### WE"
   ]
  },
  {
   "cell_type": "code",
   "execution_count": null,
   "id": "9a12a983",
   "metadata": {
    "pycharm": {
     "name": "#%%\n"
    }
   },
   "outputs": [],
   "source": [
    "for seed in seeds:\n",
    "    for k in ks:\n",
    "        exp = Experiment(dataset, 'we', 'faiss-lsh', \n",
    "                         random_state=seed, ref_func=ref, k=k, ref_size=set_size_median, code_length=code_length)\n",
    "        exp.test()\n",
    "        report = exp.get_exp_report()\n",
    "        print(report)\n",
    "        reports.append(report)"
   ]
  },
  {
   "cell_type": "markdown",
   "id": "04d42ef3",
   "metadata": {
    "pycharm": {
     "name": "#%% md\n"
    }
   },
   "source": [
    "### Cov"
   ]
  },
  {
   "cell_type": "code",
   "execution_count": null,
   "id": "88322553",
   "metadata": {
    "pycharm": {
     "name": "#%%\n"
    }
   },
   "outputs": [],
   "source": [
    "for seed in seeds:\n",
    "    for k in ks:\n",
    "        exp = Experiment(dataset, 'cov', 'faiss-lsh',\n",
    "                         random_state=seed, k=k, ref_size=set_size_median, code_length=code_length)\n",
    "        exp.test()\n",
    "        report = exp.get_exp_report()\n",
    "        print(report)\n",
    "        reports.append(report)"
   ]
  },
  {
   "cell_type": "markdown",
   "id": "0a7a4177",
   "metadata": {
    "pycharm": {
     "name": "#%% md\n"
    }
   },
   "source": [
    "### GeM-1"
   ]
  },
  {
   "cell_type": "code",
   "execution_count": null,
   "id": "06610c90",
   "metadata": {
    "pycharm": {
     "name": "#%%\n"
    }
   },
   "outputs": [],
   "source": [
    "for seed in seeds:\n",
    "    for k in ks:\n",
    "        exp = Experiment(dataset, 'gem', 'faiss-lsh',\n",
    "                         random_state=seed, k=k, ref_size=set_size_median, code_length=code_length, power=1)\n",
    "        exp.test()\n",
    "        report = exp.get_exp_report()\n",
    "        print(report)\n",
    "        reports.append(report)"
   ]
  },
  {
   "cell_type": "markdown",
   "id": "9b972474",
   "metadata": {
    "pycharm": {
     "name": "#%% md\n"
    }
   },
   "source": [
    "### GeM-2"
   ]
  },
  {
   "cell_type": "code",
   "execution_count": null,
   "id": "ea2c62c4",
   "metadata": {
    "pycharm": {
     "name": "#%%\n"
    }
   },
   "outputs": [],
   "source": [
    "for seed in seeds:\n",
    "    for k in ks:\n",
    "        exp = Experiment(dataset, 'gem', 'faiss-lsh',\n",
    "                         random_state=seed, k=k, ref_size=set_size_median, code_length=code_length, power=2)\n",
    "        exp.test()\n",
    "        report = exp.get_exp_report()\n",
    "        print(report)\n",
    "        reports.append(report)"
   ]
  },
  {
   "cell_type": "markdown",
   "id": "40ed2dd1",
   "metadata": {
    "pycharm": {
     "name": "#%% md\n"
    }
   },
   "source": [
    "### GeM-4"
   ]
  },
  {
   "cell_type": "code",
   "execution_count": null,
   "id": "96232e90",
   "metadata": {
    "pycharm": {
     "name": "#%%\n"
    }
   },
   "outputs": [],
   "source": [
    "for seed in seeds:\n",
    "    for k in ks:\n",
    "        exp = Experiment(dataset, 'gem', 'faiss-lsh',\n",
    "                         random_state=seed, k=k, ref_size=set_size_median, code_length=code_length, power=4)\n",
    "        exp.test()\n",
    "        report = exp.get_exp_report()\n",
    "        print(report)\n",
    "        reports.append(report)"
   ]
  },
  {
   "cell_type": "code",
   "execution_count": null,
   "id": "19830df0",
   "metadata": {
    "pycharm": {
     "name": "#%%\n"
    }
   },
   "outputs": [],
   "source": [
    "import altair as alt"
   ]
  },
  {
   "cell_type": "code",
   "execution_count": null,
   "id": "f0298f04",
   "metadata": {
    "pycharm": {
     "name": "#%%\n"
    }
   },
   "outputs": [],
   "source": [
    "labels = {'fs': 'FSPool', 'swe': 'SLOSH', 'we': 'WE', \n",
    "          'cov': 'Cov', 'gem-1': 'GeM-1', 'gem-2': 'GeM-2', 'gem-4': 'GeM-4'}"
   ]
  },
  {
   "cell_type": "code",
   "execution_count": null,
   "id": "f696ecd1",
   "metadata": {
    "pycharm": {
     "name": "#%%\n"
    }
   },
   "outputs": [],
   "source": [
    "data = pd.DataFrame(reports)\n",
    "data['pooling'] = data['pooling'].apply(lambda x: labels[x])"
   ]
  },
  {
   "cell_type": "code",
   "execution_count": null,
   "id": "aca3b453",
   "metadata": {
    "pycharm": {
     "name": "#%%\n"
    }
   },
   "outputs": [],
   "source": [
    "points = alt.Chart(data[data['k'] == 4]).mark_point().encode(\n",
    "    alt.X('mean(emb_time_per_sample):Q', title='Average Embedding Time'),\n",
    "    alt.Y('mean(acc):Q', title='Accuracy'),\n",
    "    color=alt.Color('pooling:N', legend=None),\n",
    ").properties(\n",
    "    width=240,\n",
    "    height=240\n",
    ")"
   ]
  },
  {
   "cell_type": "code",
   "execution_count": null,
   "id": "c3ba3418",
   "metadata": {
    "pycharm": {
     "name": "#%%\n"
    }
   },
   "outputs": [],
   "source": [
    "text = points.mark_text(\n",
    "    align='left',\n",
    "    baseline='middle',\n",
    "    dx=5,\n",
    "    size=15\n",
    ").encode(\n",
    "    text='pooling:N'\n",
    ")"
   ]
  },
  {
   "cell_type": "code",
   "execution_count": null,
   "id": "57fb6ee9",
   "metadata": {
    "pycharm": {
     "name": "#%%\n"
    }
   },
   "outputs": [],
   "source": [
    "alt.layer(points + text).configure_axis(\n",
    "    labelFontSize=12,\n",
    "    titleFontSize=16\n",
    ")"
   ]
  },
  {
   "cell_type": "code",
   "execution_count": null,
   "id": "d515d7ae",
   "metadata": {},
   "outputs": [],
   "source": [
    "pd.options.display.float_format = \"{:,.2f}\".format"
   ]
  },
  {
   "cell_type": "code",
   "execution_count": null,
   "id": "d3e81391",
   "metadata": {},
   "outputs": [],
   "source": [
    "data.groupby(['pooling', 'k'])[['precision_k', 'acc']].mean()"
   ]
  },
  {
   "cell_type": "code",
   "execution_count": null,
   "id": "335a6243",
   "metadata": {
    "pycharm": {
     "name": "#%%\n"
    }
   },
   "outputs": [],
   "source": [
    "data.groupby(['pooling', 'k'])[['precision_k', 'acc']].std()"
   ]
  },
  {
   "cell_type": "code",
   "execution_count": null,
   "id": "e1f53368",
   "metadata": {},
   "outputs": [],
   "source": []
  }
 ],
 "metadata": {
  "colab": {
   "name": "demo_for_pointmnist.ipynb",
   "provenance": []
  },
  "kernelspec": {
   "display_name": "swe",
   "language": "python",
   "name": "swe"
  },
  "language_info": {
   "codemirror_mode": {
    "name": "ipython",
    "version": 3
   },
   "file_extension": ".py",
   "mimetype": "text/x-python",
   "name": "python",
   "nbconvert_exporter": "python",
   "pygments_lexer": "ipython3",
   "version": "3.7.13"
  }
 },
 "nbformat": 4,
 "nbformat_minor": 5
}
