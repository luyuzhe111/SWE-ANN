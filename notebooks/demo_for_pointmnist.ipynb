{
 "cells": [
  {
   "cell_type": "code",
   "execution_count": 1,
   "id": "9dd78bf5",
   "metadata": {},
   "outputs": [],
   "source": [
    "import os\n",
    "import numpy as np\n",
    "import pandas as pd\n",
    "import matplotlib.pyplot as plt\n",
    "import json\n",
    "from utils.experiment import Experiment"
   ]
  },
  {
   "cell_type": "code",
   "execution_count": 2,
   "id": "2b2eb11f",
   "metadata": {},
   "outputs": [],
   "source": [
    "df_train = pd.read_csv(\"../dataset/pointcloud_mnist_2d/train.csv\")\n",
    "\n",
    "X = df_train[df_train.columns[1:]].to_numpy()\n",
    "y = df_train[df_train.columns[0]].to_numpy()\n",
    "\n",
    "X = X.reshape(X.shape[0], -1, 3)"
   ]
  },
  {
   "cell_type": "code",
   "execution_count": 3,
   "id": "385c88d8",
   "metadata": {},
   "outputs": [],
   "source": [
    "num_points = np.sum((X[:, :, 2] > 0).astype(int), axis=1)"
   ]
  },
  {
   "cell_type": "code",
   "execution_count": 4,
   "id": "9ae39e1a",
   "metadata": {},
   "outputs": [],
   "source": [
    "set_size_median = np.median(num_points).astype(int)"
   ]
  },
  {
   "cell_type": "markdown",
   "id": "fd5b1b15",
   "metadata": {},
   "source": [
    "### for hash code length = 1024, num_slices = 16 seems to be a good choice. "
   ]
  },
  {
   "cell_type": "code",
   "execution_count": 5,
   "id": "1aeb94a4",
   "metadata": {},
   "outputs": [
    {
     "name": "stdout",
     "output_type": "stream",
     "text": [
      "loading dataset...\n",
      "compute base embedding...\n"
     ]
    },
    {
     "name": "stderr",
     "output_type": "stream",
     "text": [
      "100%|██████████| 60000/60000 [00:28<00:00, 2084.50it/s]\n",
      "  0%|          | 0/10000 [00:00<?, ?it/s]"
     ]
    },
    {
     "name": "stdout",
     "output_type": "stream",
     "text": [
      "compute query embedding...\n"
     ]
    },
    {
     "name": "stderr",
     "output_type": "stream",
     "text": [
      "100%|██████████| 10000/10000 [00:04<00:00, 2058.07it/s]\n"
     ]
    },
    {
     "name": "stdout",
     "output_type": "stream",
     "text": [
      "{'dataset': 'point_mnist', 'pooling': 'swe', 'ann': 'faiss-lsh', 'k': 4, 'code_length': 1024, 'emb_time_per_sample': 0.0005093899011611938, 'inf_time_per_sample': 0.000849531888961792, 'acc': 0.924, 'precision_k': 0.899825}\n",
      "loading dataset...\n",
      "loading cached base embedding...\n"
     ]
    },
    {
     "name": "stderr",
     "output_type": "stream",
     "text": [
      "\r",
      "  0%|          | 0/10000 [00:00<?, ?it/s]"
     ]
    },
    {
     "name": "stdout",
     "output_type": "stream",
     "text": [
      "compute query embedding...\n"
     ]
    },
    {
     "name": "stderr",
     "output_type": "stream",
     "text": [
      "100%|██████████| 10000/10000 [00:04<00:00, 2094.45it/s]\n"
     ]
    },
    {
     "name": "stdout",
     "output_type": "stream",
     "text": [
      "{'dataset': 'point_mnist', 'pooling': 'swe', 'ann': 'faiss-lsh', 'k': 8, 'code_length': 1024, 'emb_time_per_sample': 0.0005016583919525147, 'inf_time_per_sample': 0.000855924129486084, 'acc': 0.9242, 'precision_k': 0.8870875}\n",
      "loading dataset...\n",
      "loading cached base embedding...\n",
      "compute query embedding...\n"
     ]
    },
    {
     "name": "stderr",
     "output_type": "stream",
     "text": [
      "100%|██████████| 10000/10000 [00:04<00:00, 2044.40it/s]\n"
     ]
    },
    {
     "name": "stdout",
     "output_type": "stream",
     "text": [
      "{'dataset': 'point_mnist', 'pooling': 'swe', 'ann': 'faiss-lsh', 'k': 16, 'code_length': 1024, 'emb_time_per_sample': 0.0005132411241531372, 'inf_time_per_sample': 0.0008691094875335694, 'acc': 0.9172, 'precision_k': 0.87065}\n"
     ]
    }
   ],
   "source": [
    "dataset = 'point_mnist'\n",
    "n_slices = 16\n",
    "code_length = 1024\n",
    "ks = [4, 8, 16]\n",
    "ref = 'rand'\n",
    "\n",
    "for k in ks:\n",
    "    exp = Experiment(dataset, 'swe', 'faiss-lsh', ref_func=ref, k=k, ref_size=set_size_median, code_length=code_length, num_slices=n_slices)\n",
    "    exp.test()\n",
    "    report = exp.get_exp_report()\n",
    "    print(report)"
   ]
  },
  {
   "cell_type": "markdown",
   "id": "8af7a402",
   "metadata": {},
   "source": [
    "### FS"
   ]
  },
  {
   "cell_type": "code",
   "execution_count": 23,
   "id": "7aa454c4",
   "metadata": {},
   "outputs": [
    {
     "name": "stdout",
     "output_type": "stream",
     "text": [
      "loading dataset...\n",
      "compute base embedding...\n"
     ]
    },
    {
     "name": "stderr",
     "output_type": "stream",
     "text": [
      "100%|█████████████████████████████████████████████████████████████████████████████████████████████████████████████████████████████████████████████████████████████████| 60000/60000 [00:18<00:00, 3293.40it/s]\n"
     ]
    },
    {
     "name": "stdout",
     "output_type": "stream",
     "text": [
      "compute query embedding...\n"
     ]
    },
    {
     "name": "stderr",
     "output_type": "stream",
     "text": [
      "100%|█████████████████████████████████████████████████████████████████████████████████████████████████████████████████████████████████████████████████████████████████| 10000/10000 [00:03<00:00, 3263.33it/s]\n"
     ]
    },
    {
     "name": "stdout",
     "output_type": "stream",
     "text": [
      "{'dataset': 'point_mnist', 'pooling': 'fs', 'ann': 'faiss-lsh', 'k': 4, 'code_length': 1024, 'emb_time_per_sample': 0.0003403717279434204, 'inf_time_per_sample': 0.0017324817895889282, 'acc': 0.802, 'precision_k': 0.750975}\n",
      "loading dataset...\n",
      "loading cached base embedding...\n",
      "compute query embedding...\n"
     ]
    },
    {
     "name": "stderr",
     "output_type": "stream",
     "text": [
      "100%|█████████████████████████████████████████████████████████████████████████████████████████████████████████████████████████████████████████████████████████████████| 10000/10000 [00:03<00:00, 3314.94it/s]\n"
     ]
    },
    {
     "name": "stdout",
     "output_type": "stream",
     "text": [
      "{'dataset': 'point_mnist', 'pooling': 'fs', 'ann': 'faiss-lsh', 'k': 8, 'code_length': 1024, 'emb_time_per_sample': 0.0003352112054824829, 'inf_time_per_sample': 0.0017015770435333253, 'acc': 0.8103, 'precision_k': 0.73945}\n",
      "loading dataset...\n",
      "loading cached base embedding...\n",
      "compute query embedding...\n"
     ]
    },
    {
     "name": "stderr",
     "output_type": "stream",
     "text": [
      "100%|█████████████████████████████████████████████████████████████████████████████████████████████████████████████████████████████████████████████████████████████████| 10000/10000 [00:02<00:00, 3335.58it/s]\n"
     ]
    },
    {
     "name": "stdout",
     "output_type": "stream",
     "text": [
      "{'dataset': 'point_mnist', 'pooling': 'fs', 'ann': 'faiss-lsh', 'k': 16, 'code_length': 1024, 'emb_time_per_sample': 0.00033334760665893555, 'inf_time_per_sample': 0.0017384511709213257, 'acc': 0.8111, 'precision_k': 0.7252625}\n"
     ]
    }
   ],
   "source": [
    "for k in ks:\n",
    "    exp = Experiment(dataset, 'fs', 'faiss-lsh', ref_func=ref\n",
    "                     k=k, ref_size=set_size_median, code_length=code_length)\n",
    "    exp.test()\n",
    "    report = exp.get_exp_report()\n",
    "    print(report)"
   ]
  },
  {
   "cell_type": "markdown",
   "id": "7686a984",
   "metadata": {},
   "source": [
    "### Cov"
   ]
  },
  {
   "cell_type": "code",
   "execution_count": 13,
   "id": "7ef291b9",
   "metadata": {},
   "outputs": [
    {
     "name": "stdout",
     "output_type": "stream",
     "text": [
      "loading dataset...\n",
      "loading cached base embedding...\n",
      "compute query embedding...\n"
     ]
    },
    {
     "name": "stderr",
     "output_type": "stream",
     "text": [
      "100%|█████████████████████████████████████████████████████████████████████████████████████████████████████████████████████████████████████████████████████████████████| 10000/10000 [00:01<00:00, 8049.62it/s]\n"
     ]
    },
    {
     "name": "stdout",
     "output_type": "stream",
     "text": [
      "{'dataset': 'point_mnist', 'pooling': 'cov', 'ann': 'faiss-lsh', 'k': 4, 'code_length': 1024, 'emb_time_per_sample': 0.0001822086811065674, 'inf_time_per_sample': 0.0015516494989395143, 'acc': 0.2646, 'precision_k': 0.24735}\n",
      "loading dataset...\n",
      "loading cached base embedding...\n",
      "compute query embedding...\n"
     ]
    },
    {
     "name": "stderr",
     "output_type": "stream",
     "text": [
      "100%|█████████████████████████████████████████████████████████████████████████████████████████████████████████████████████████████████████████████████████████████████| 10000/10000 [00:01<00:00, 9815.25it/s]\n"
     ]
    },
    {
     "name": "stdout",
     "output_type": "stream",
     "text": [
      "{'dataset': 'point_mnist', 'pooling': 'cov', 'ann': 'faiss-lsh', 'k': 8, 'code_length': 1024, 'emb_time_per_sample': 0.00014947879314422609, 'inf_time_per_sample': 0.0015460384368896484, 'acc': 0.2759, 'precision_k': 0.248125}\n",
      "loading dataset...\n",
      "loading cached base embedding...\n",
      "compute query embedding...\n"
     ]
    },
    {
     "name": "stderr",
     "output_type": "stream",
     "text": [
      "100%|█████████████████████████████████████████████████████████████████████████████████████████████████████████████████████████████████████████████████████████████████| 10000/10000 [00:01<00:00, 9662.92it/s]\n"
     ]
    },
    {
     "name": "stdout",
     "output_type": "stream",
     "text": [
      "{'dataset': 'point_mnist', 'pooling': 'cov', 'ann': 'faiss-lsh', 'k': 16, 'code_length': 1024, 'emb_time_per_sample': 0.00014962878227233888, 'inf_time_per_sample': 0.0015449572324752808, 'acc': 0.2812, 'precision_k': 0.248075}\n"
     ]
    }
   ],
   "source": [
    "for k in ks:\n",
    "    exp = Experiment(dataset, 'cov', 'faiss-lsh',\n",
    "                     k=k, ref_size=set_size_median, code_length=code_length)\n",
    "    exp.test()\n",
    "    report = exp.get_exp_report()\n",
    "    print(report)"
   ]
  },
  {
   "cell_type": "markdown",
   "id": "a0b368ef",
   "metadata": {},
   "source": [
    "### GeM-1"
   ]
  },
  {
   "cell_type": "code",
   "execution_count": 14,
   "id": "4bf2b65d",
   "metadata": {},
   "outputs": [
    {
     "name": "stdout",
     "output_type": "stream",
     "text": [
      "loading dataset...\n",
      "loading cached base embedding...\n",
      "compute query embedding...\n"
     ]
    },
    {
     "name": "stderr",
     "output_type": "stream",
     "text": [
      "100%|█████████████████████████████████████████████████████████████████████████████████████████████████████████████████████████████████████████████████████████████████| 10000/10000 [00:01<00:00, 7619.97it/s]\n"
     ]
    },
    {
     "name": "stdout",
     "output_type": "stream",
     "text": [
      "{'dataset': 'point_mnist', 'pooling': 'gem', 'ann': 'faiss-lsh', 'k': 4, 'code_length': 1024, 'power': 1, 'emb_time_per_sample': 0.00017664244174957276, 'inf_time_per_sample': 0.0016095367908477783, 'acc': 0.1087, 'precision_k': 0.10435}\n",
      "loading dataset...\n",
      "loading cached base embedding...\n",
      "compute query embedding...\n"
     ]
    },
    {
     "name": "stderr",
     "output_type": "stream",
     "text": [
      "100%|████████████████████████████████████████████████████████████████████████████████████████████████████████████████████████████████████████████████████████████████| 10000/10000 [00:00<00:00, 12088.44it/s]\n"
     ]
    },
    {
     "name": "stdout",
     "output_type": "stream",
     "text": [
      "{'dataset': 'point_mnist', 'pooling': 'gem', 'ann': 'faiss-lsh', 'k': 8, 'code_length': 1024, 'power': 1, 'emb_time_per_sample': 0.0001273646116256714, 'inf_time_per_sample': 0.0015622020959854125, 'acc': 0.1041, 'precision_k': 0.1022375}\n",
      "loading dataset...\n",
      "loading cached base embedding...\n",
      "compute query embedding...\n"
     ]
    },
    {
     "name": "stderr",
     "output_type": "stream",
     "text": [
      "100%|████████████████████████████████████████████████████████████████████████████████████████████████████████████████████████████████████████████████████████████████| 10000/10000 [00:00<00:00, 11363.95it/s]\n"
     ]
    },
    {
     "name": "stdout",
     "output_type": "stream",
     "text": [
      "{'dataset': 'point_mnist', 'pooling': 'gem', 'ann': 'faiss-lsh', 'k': 16, 'code_length': 1024, 'power': 1, 'emb_time_per_sample': 0.0001340193510055542, 'inf_time_per_sample': 0.0015781039714813233, 'acc': 0.1, 'precision_k': 0.10121875}\n"
     ]
    }
   ],
   "source": [
    "for k in ks:\n",
    "    exp = Experiment(dataset, 'gem', 'faiss-lsh',\n",
    "                     k=k, ref_size=set_size_median, code_length=code_length, power=1)\n",
    "    exp.test()\n",
    "    report = exp.get_exp_report()\n",
    "    print(report)"
   ]
  },
  {
   "cell_type": "markdown",
   "id": "5353f224",
   "metadata": {},
   "source": [
    "### GeM-2"
   ]
  },
  {
   "cell_type": "code",
   "execution_count": 15,
   "id": "3f375a81",
   "metadata": {},
   "outputs": [
    {
     "name": "stdout",
     "output_type": "stream",
     "text": [
      "loading dataset...\n",
      "loading cached base embedding...\n",
      "compute query embedding...\n"
     ]
    },
    {
     "name": "stderr",
     "output_type": "stream",
     "text": [
      "100%|█████████████████████████████████████████████████████████████████████████████████████████████████████████████████████████████████████████████████████████████████| 10000/10000 [00:01<00:00, 6510.79it/s]\n"
     ]
    },
    {
     "name": "stdout",
     "output_type": "stream",
     "text": [
      "{'dataset': 'point_mnist', 'pooling': 'gem', 'ann': 'faiss-lsh', 'k': 4, 'code_length': 1024, 'power': 2, 'emb_time_per_sample': 0.0001901921272277832, 'inf_time_per_sample': 0.0015851128101348876, 'acc': 0.3213, 'precision_k': 0.2871}\n",
      "loading dataset...\n",
      "loading cached base embedding...\n",
      "compute query embedding...\n"
     ]
    },
    {
     "name": "stderr",
     "output_type": "stream",
     "text": [
      "100%|█████████████████████████████████████████████████████████████████████████████████████████████████████████████████████████████████████████████████████████████████| 10000/10000 [00:01<00:00, 6726.35it/s]\n"
     ]
    },
    {
     "name": "stdout",
     "output_type": "stream",
     "text": [
      "{'dataset': 'point_mnist', 'pooling': 'gem', 'ann': 'faiss-lsh', 'k': 8, 'code_length': 1024, 'power': 2, 'emb_time_per_sample': 0.00018369460105895996, 'inf_time_per_sample': 0.0015737371921539308, 'acc': 0.3468, 'precision_k': 0.285725}\n",
      "loading dataset...\n",
      "loading cached base embedding...\n",
      "compute query embedding...\n"
     ]
    },
    {
     "name": "stderr",
     "output_type": "stream",
     "text": [
      "100%|█████████████████████████████████████████████████████████████████████████████████████████████████████████████████████████████████████████████████████████████████| 10000/10000 [00:01<00:00, 6757.58it/s]\n"
     ]
    },
    {
     "name": "stdout",
     "output_type": "stream",
     "text": [
      "{'dataset': 'point_mnist', 'pooling': 'gem', 'ann': 'faiss-lsh', 'k': 16, 'code_length': 1024, 'power': 2, 'emb_time_per_sample': 0.00018286497592926026, 'inf_time_per_sample': 0.0015803641080856324, 'acc': 0.3706, 'precision_k': 0.289075}\n"
     ]
    }
   ],
   "source": [
    "for k in ks:\n",
    "    exp = Experiment(dataset, 'gem', 'faiss-lsh',\n",
    "                     k=k, ref_size=set_size_median, code_length=code_length, power=2)\n",
    "    exp.test()\n",
    "    report = exp.get_exp_report()\n",
    "    print(report)"
   ]
  },
  {
   "cell_type": "markdown",
   "id": "e0ad831e",
   "metadata": {},
   "source": [
    "### GeM-4"
   ]
  },
  {
   "cell_type": "code",
   "execution_count": 16,
   "id": "ec235d1b",
   "metadata": {},
   "outputs": [
    {
     "name": "stdout",
     "output_type": "stream",
     "text": [
      "loading dataset...\n",
      "loading cached base embedding...\n",
      "compute query embedding...\n"
     ]
    },
    {
     "name": "stderr",
     "output_type": "stream",
     "text": [
      "100%|█████████████████████████████████████████████████████████████████████████████████████████████████████████████████████████████████████████████████████████████████| 10000/10000 [00:02<00:00, 3508.08it/s]\n"
     ]
    },
    {
     "name": "stdout",
     "output_type": "stream",
     "text": [
      "{'dataset': 'point_mnist', 'pooling': 'gem', 'ann': 'faiss-lsh', 'k': 4, 'code_length': 1024, 'power': 4, 'emb_time_per_sample': 0.00032054927349090575, 'inf_time_per_sample': 0.0015862467765808106, 'acc': 0.446, 'precision_k': 0.3936}\n",
      "loading dataset...\n",
      "loading cached base embedding...\n",
      "compute query embedding...\n"
     ]
    },
    {
     "name": "stderr",
     "output_type": "stream",
     "text": [
      "100%|█████████████████████████████████████████████████████████████████████████████████████████████████████████████████████████████████████████████████████████████████| 10000/10000 [00:02<00:00, 3565.40it/s]\n"
     ]
    },
    {
     "name": "stdout",
     "output_type": "stream",
     "text": [
      "{'dataset': 'point_mnist', 'pooling': 'gem', 'ann': 'faiss-lsh', 'k': 8, 'code_length': 1024, 'power': 4, 'emb_time_per_sample': 0.00032522447109222414, 'inf_time_per_sample': 0.0015526922941207885, 'acc': 0.4715, 'precision_k': 0.390475}\n",
      "loading dataset...\n",
      "loading cached base embedding...\n",
      "compute query embedding...\n"
     ]
    },
    {
     "name": "stderr",
     "output_type": "stream",
     "text": [
      "100%|█████████████████████████████████████████████████████████████████████████████████████████████████████████████████████████████████████████████████████████████████| 10000/10000 [00:02<00:00, 3601.88it/s]\n"
     ]
    },
    {
     "name": "stdout",
     "output_type": "stream",
     "text": [
      "{'dataset': 'point_mnist', 'pooling': 'gem', 'ann': 'faiss-lsh', 'k': 16, 'code_length': 1024, 'power': 4, 'emb_time_per_sample': 0.0003128605842590332, 'inf_time_per_sample': 0.0015791620016098022, 'acc': 0.4872, 'precision_k': 0.383075}\n"
     ]
    }
   ],
   "source": [
    "for k in ks:\n",
    "    exp = Experiment(dataset, 'gem', 'faiss-lsh',\n",
    "                     k=k, ref_size=set_size_median, code_length=code_length, power=4)\n",
    "    exp.test()\n",
    "    report = exp.get_exp_report()\n",
    "    print(report)"
   ]
  },
  {
   "cell_type": "code",
   "execution_count": null,
   "id": "2a223aae",
   "metadata": {},
   "outputs": [],
   "source": []
  }
 ],
 "metadata": {
  "kernelspec": {
   "display_name": "Python 3",
   "language": "python",
   "name": "python3"
  },
  "language_info": {
   "codemirror_mode": {
    "name": "ipython",
    "version": 3
   },
   "file_extension": ".py",
   "mimetype": "text/x-python",
   "name": "python",
   "nbconvert_exporter": "python",
   "pygments_lexer": "ipython3",
   "version": "3.8.8"
  }
 },
 "nbformat": 4,
 "nbformat_minor": 5
}
