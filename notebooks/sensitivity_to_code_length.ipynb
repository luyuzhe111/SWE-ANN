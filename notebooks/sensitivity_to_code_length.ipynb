{
 "cells": [
  {
   "cell_type": "code",
   "execution_count": 1,
   "id": "5d9f86af",
   "metadata": {},
   "outputs": [],
   "source": [
    "from utils.experiment import Experiment\n",
    "import altair as alt"
   ]
  },
  {
   "cell_type": "code",
   "execution_count": 2,
   "id": "263a6cfa",
   "metadata": {},
   "outputs": [],
   "source": [
    "datasets = ['point_mnist']\n",
    "ref_size = 128\n",
    "k = 8"
   ]
  },
  {
   "cell_type": "code",
   "execution_count": null,
   "id": "4f043c98",
   "metadata": {},
   "outputs": [],
   "source": [
    "def get_sens_stats(dataset):\n",
    "    lengths = [16, 32, 64, 128, 256, 512, 1024]\n",
    "    \n",
    "    swe_records = []\n",
    "    for l in lengths:\n",
    "        exp = Experiment(dataset, 'swe', 'faiss-lsh', k=k, ref_size=ref_size, code_length=l, num_slices=128)\n",
    "\n",
    "        exp.test()\n",
    "        report = exp.get_exp_report()\n",
    "        print(report)\n",
    "        swe_records.append(report)\n",
    "        \n",
    "    fs_records = []\n",
    "    for l in lengths:\n",
    "        exp = Experiment(dataset, 'fs', 'faiss-lsh', k=k, ref_size=ref_size, code_length=l)\n",
    "\n",
    "        exp.test()\n",
    "        report = exp.get_exp_report()\n",
    "        print(report)\n",
    "        fs_records.append(report)\n",
    "\n",
    "    cov_records = []\n",
    "    for l in lengths:\n",
    "        exp = Experiment(dataset, 'cov', 'faiss-lsh', k=k, code_length=l)\n",
    "\n",
    "        exp.test()\n",
    "        report = exp.get_exp_report()\n",
    "        print(report)\n",
    "        cov_records.append(report)\n",
    "\n",
    "    avg_records = []\n",
    "    for l in lengths:\n",
    "        exp = Experiment(dataset, 'gem', 'faiss-lsh', k=k, code_length=l, power=1)\n",
    "\n",
    "        exp.test()\n",
    "        report = exp.get_exp_report()\n",
    "        report['pooling'] = report['pooling'] + '-' + str(report['power'])\n",
    "        print(report)\n",
    "        avg_records.append(report)\n",
    "\n",
    "    power2_records = []\n",
    "    for l in lengths:\n",
    "        exp = Experiment(dataset, 'gem', 'faiss-lsh', k=k, code_length=l, power=2)\n",
    "\n",
    "        exp.test()\n",
    "        report = exp.get_exp_report()\n",
    "        report['pooling'] = report['pooling'] + '-' + str(report['power'])\n",
    "        print(report)\n",
    "        power2_records.append(report)\n",
    "\n",
    "    power4_records = []\n",
    "    for l in lengths:\n",
    "        exp = Experiment(dataset, 'gem', 'faiss-lsh', k=k, code_length=l, power=4)\n",
    "\n",
    "        exp.test()\n",
    "        report = exp.get_exp_report()\n",
    "\n",
    "        report['pooling'] = report['pooling'] + '-' + str(report['power'])\n",
    "        print(report)\n",
    "        power4_records.append(report)\n",
    "    \n",
    "    \n",
    "     return swe_records + fs_records + cov_records + avg_records + power2_records + power4_records         "
   ]
  },
  {
   "cell_type": "code",
   "execution_count": null,
   "id": "06aa4b34",
   "metadata": {},
   "outputs": [],
   "source": [
    "pointmnist_data = get_sens_stats('point_mnist')"
   ]
  },
  {
   "cell_type": "code",
   "execution_count": 19,
   "id": "6a9d2124",
   "metadata": {},
   "outputs": [
    {
     "data": {
      "text/html": [
       "\n",
       "<div id=\"altair-viz-d3f99f7a72994172a656abf1e23c4e14\"></div>\n",
       "<script type=\"text/javascript\">\n",
       "  (function(spec, embedOpt){\n",
       "    let outputDiv = document.currentScript.previousElementSibling;\n",
       "    if (outputDiv.id !== \"altair-viz-d3f99f7a72994172a656abf1e23c4e14\") {\n",
       "      outputDiv = document.getElementById(\"altair-viz-d3f99f7a72994172a656abf1e23c4e14\");\n",
       "    }\n",
       "    const paths = {\n",
       "      \"vega\": \"https://cdn.jsdelivr.net/npm//vega@5?noext\",\n",
       "      \"vega-lib\": \"https://cdn.jsdelivr.net/npm//vega-lib?noext\",\n",
       "      \"vega-lite\": \"https://cdn.jsdelivr.net/npm//vega-lite@4.8.1?noext\",\n",
       "      \"vega-embed\": \"https://cdn.jsdelivr.net/npm//vega-embed@6?noext\",\n",
       "    };\n",
       "\n",
       "    function loadScript(lib) {\n",
       "      return new Promise(function(resolve, reject) {\n",
       "        var s = document.createElement('script');\n",
       "        s.src = paths[lib];\n",
       "        s.async = true;\n",
       "        s.onload = () => resolve(paths[lib]);\n",
       "        s.onerror = () => reject(`Error loading script: ${paths[lib]}`);\n",
       "        document.getElementsByTagName(\"head\")[0].appendChild(s);\n",
       "      });\n",
       "    }\n",
       "\n",
       "    function showError(err) {\n",
       "      outputDiv.innerHTML = `<div class=\"error\" style=\"color:red;\">${err}</div>`;\n",
       "      throw err;\n",
       "    }\n",
       "\n",
       "    function displayChart(vegaEmbed) {\n",
       "      vegaEmbed(outputDiv, spec, embedOpt)\n",
       "        .catch(err => showError(`Javascript Error: ${err.message}<br>This usually means there's a typo in your chart specification. See the javascript console for the full traceback.`));\n",
       "    }\n",
       "\n",
       "    if(typeof define === \"function\" && define.amd) {\n",
       "      requirejs.config({paths});\n",
       "      require([\"vega-embed\"], displayChart, err => showError(`Error loading script: ${err.message}`));\n",
       "    } else if (typeof vegaEmbed === \"function\") {\n",
       "      displayChart(vegaEmbed);\n",
       "    } else {\n",
       "      loadScript(\"vega\")\n",
       "        .then(() => loadScript(\"vega-lite\"))\n",
       "        .then(() => loadScript(\"vega-embed\"))\n",
       "        .catch(showError)\n",
       "        .then(() => displayChart(vegaEmbed));\n",
       "    }\n",
       "  })({\"config\": {\"view\": {\"continuousWidth\": 400, \"continuousHeight\": 300}}, \"data\": {\"values\": [{\"dataset\": \"point_mnist\", \"pooling\": \"swe\", \"ann\": \"faiss-lsh\", \"k\": 8, \"code_length\": 16, \"emb_time_per_sample\": 0.004156141304969788, \"inf_time_per_sample\": 3.2675981521606445e-05, \"acc\": 0.3843, \"precision_k\": 0.3066}, {\"dataset\": \"point_mnist\", \"pooling\": \"swe\", \"ann\": \"faiss-lsh\", \"k\": 8, \"code_length\": 32, \"emb_time_per_sample\": 0.004215800714492798, \"inf_time_per_sample\": 4.6217012405395506e-05, \"acc\": 0.3246, \"precision_k\": 0.28645}, {\"dataset\": \"point_mnist\", \"pooling\": \"swe\", \"ann\": \"faiss-lsh\", \"k\": 8, \"code_length\": 64, \"emb_time_per_sample\": 0.003963873887062073, \"inf_time_per_sample\": 5.3106212615966794e-05, \"acc\": 0.519, \"precision_k\": 0.43435}, {\"dataset\": \"point_mnist\", \"pooling\": \"swe\", \"ann\": \"faiss-lsh\", \"k\": 8, \"code_length\": 128, \"emb_time_per_sample\": 0.004153411889076233, \"inf_time_per_sample\": 6.289141178131104e-05, \"acc\": 0.6752, \"precision_k\": 0.592575}, {\"dataset\": \"point_mnist\", \"pooling\": \"swe\", \"ann\": \"faiss-lsh\", \"k\": 8, \"code_length\": 256, \"emb_time_per_sample\": 0.004049139499664307, \"inf_time_per_sample\": 0.0001777951955795288, \"acc\": 0.8439, \"precision_k\": 0.7744625}, {\"dataset\": \"point_mnist\", \"pooling\": \"swe\", \"ann\": \"faiss-lsh\", \"k\": 8, \"code_length\": 512, \"emb_time_per_sample\": 0.004618058180809021, \"inf_time_per_sample\": 0.000450911283493042, \"acc\": 0.8782, \"precision_k\": 0.8142875}, {\"dataset\": \"point_mnist\", \"pooling\": \"swe\", \"ann\": \"faiss-lsh\", \"k\": 8, \"code_length\": 1024, \"emb_time_per_sample\": 0.003931891870498657, \"inf_time_per_sample\": 0.0006442265033721924, \"acc\": 0.9216, \"precision_k\": 0.8807375}, {\"dataset\": \"point_mnist\", \"pooling\": \"fs\", \"ann\": \"faiss-lsh\", \"k\": 8, \"code_length\": 16, \"emb_time_per_sample\": 0.0003066293001174927, \"inf_time_per_sample\": 1.055600643157959e-05, \"acc\": 0.1735, \"precision_k\": 0.16565}, {\"dataset\": \"point_mnist\", \"pooling\": \"fs\", \"ann\": \"faiss-lsh\", \"k\": 8, \"code_length\": 32, \"emb_time_per_sample\": 0.00021341042518615723, \"inf_time_per_sample\": 9.465289115905761e-06, \"acc\": 0.3596, \"precision_k\": 0.2959375}, {\"dataset\": \"point_mnist\", \"pooling\": \"fs\", \"ann\": \"faiss-lsh\", \"k\": 8, \"code_length\": 64, \"emb_time_per_sample\": 0.0002725426912307739, \"inf_time_per_sample\": 2.1849393844604492e-05, \"acc\": 0.416, \"precision_k\": 0.3381625}, {\"dataset\": \"point_mnist\", \"pooling\": \"fs\", \"ann\": \"faiss-lsh\", \"k\": 8, \"code_length\": 128, \"emb_time_per_sample\": 0.00022473459243774413, \"inf_time_per_sample\": 3.0327606201171874e-05, \"acc\": 0.6417, \"precision_k\": 0.5512625}, {\"dataset\": \"point_mnist\", \"pooling\": \"fs\", \"ann\": \"faiss-lsh\", \"k\": 8, \"code_length\": 256, \"emb_time_per_sample\": 0.0002199404239654541, \"inf_time_per_sample\": 0.00011180179119110107, \"acc\": 0.7091, \"precision_k\": 0.6249625}, {\"dataset\": \"point_mnist\", \"pooling\": \"fs\", \"ann\": \"faiss-lsh\", \"k\": 8, \"code_length\": 512, \"emb_time_per_sample\": 0.00022265708446502684, \"inf_time_per_sample\": 0.00019634511470794679, \"acc\": 0.7675, \"precision_k\": 0.6896875}, {\"dataset\": \"point_mnist\", \"pooling\": \"fs\", \"ann\": \"faiss-lsh\", \"k\": 8, \"code_length\": 1024, \"emb_time_per_sample\": 0.000236836314201355, \"inf_time_per_sample\": 0.0003540004253387451, \"acc\": 0.8142, \"precision_k\": 0.7409}, {\"dataset\": \"point_mnist\", \"pooling\": \"cov\", \"ann\": \"faiss-lsh\", \"k\": 8, \"code_length\": 16, \"emb_time_per_sample\": 0.00010898268222808837, \"inf_time_per_sample\": 9.696698188781739e-06, \"acc\": 0.2188, \"precision_k\": 0.2020375}, {\"dataset\": \"point_mnist\", \"pooling\": \"cov\", \"ann\": \"faiss-lsh\", \"k\": 8, \"code_length\": 32, \"emb_time_per_sample\": 9.372138977050781e-05, \"inf_time_per_sample\": 1.0285210609436035e-05, \"acc\": 0.2591, \"precision_k\": 0.235325}, {\"dataset\": \"point_mnist\", \"pooling\": \"cov\", \"ann\": \"faiss-lsh\", \"k\": 8, \"code_length\": 64, \"emb_time_per_sample\": 0.00010163140296936036, \"inf_time_per_sample\": 2.3875093460083007e-05, \"acc\": 0.2682, \"precision_k\": 0.2432125}, {\"dataset\": \"point_mnist\", \"pooling\": \"cov\", \"ann\": \"faiss-lsh\", \"k\": 8, \"code_length\": 128, \"emb_time_per_sample\": 0.00010545101165771485, \"inf_time_per_sample\": 3.1827974319458005e-05, \"acc\": 0.2831, \"precision_k\": 0.2491}, {\"dataset\": \"point_mnist\", \"pooling\": \"cov\", \"ann\": \"faiss-lsh\", \"k\": 8, \"code_length\": 256, \"emb_time_per_sample\": 8.812212944030761e-05, \"inf_time_per_sample\": 0.00011550538539886474, \"acc\": 0.2694, \"precision_k\": 0.2451375}, {\"dataset\": \"point_mnist\", \"pooling\": \"cov\", \"ann\": \"faiss-lsh\", \"k\": 8, \"code_length\": 512, \"emb_time_per_sample\": 9.318177700042724e-05, \"inf_time_per_sample\": 0.00018944709300994873, \"acc\": 0.282, \"precision_k\": 0.248475}, {\"dataset\": \"point_mnist\", \"pooling\": \"cov\", \"ann\": \"faiss-lsh\", \"k\": 8, \"code_length\": 1024, \"emb_time_per_sample\": 8.35693120956421e-05, \"inf_time_per_sample\": 0.00034884018898010256, \"acc\": 0.276, \"precision_k\": 0.2480875}, {\"dataset\": \"point_mnist\", \"pooling\": \"gem-1\", \"ann\": \"faiss-lsh\", \"k\": 8, \"code_length\": 16, \"power\": 1, \"emb_time_per_sample\": 6.392912864685058e-05, \"inf_time_per_sample\": 1.675112247467041e-05, \"acc\": 0.1135, \"precision_k\": 0.102925}, {\"dataset\": \"point_mnist\", \"pooling\": \"gem-1\", \"ann\": \"faiss-lsh\", \"k\": 8, \"code_length\": 32, \"power\": 1, \"emb_time_per_sample\": 6.576440334320068e-05, \"inf_time_per_sample\": 9.735989570617676e-06, \"acc\": 0.1137, \"precision_k\": 0.103325}, {\"dataset\": \"point_mnist\", \"pooling\": \"gem-1\", \"ann\": \"faiss-lsh\", \"k\": 8, \"code_length\": 64, \"power\": 1, \"emb_time_per_sample\": 4.9822115898132324e-05, \"inf_time_per_sample\": 2.222778797149658e-05, \"acc\": 0.1116, \"precision_k\": 0.1015125}, {\"dataset\": \"point_mnist\", \"pooling\": \"gem-1\", \"ann\": \"faiss-lsh\", \"k\": 8, \"code_length\": 128, \"power\": 1, \"emb_time_per_sample\": 4.952969551086426e-05, \"inf_time_per_sample\": 2.5044608116149904e-05, \"acc\": 0.0986, \"precision_k\": 0.0989375}, {\"dataset\": \"point_mnist\", \"pooling\": \"gem-1\", \"ann\": \"faiss-lsh\", \"k\": 8, \"code_length\": 256, \"power\": 1, \"emb_time_per_sample\": 4.984300136566162e-05, \"inf_time_per_sample\": 0.0001161492109298706, \"acc\": 0.1073, \"precision_k\": 0.1025375}, {\"dataset\": \"point_mnist\", \"pooling\": \"gem-1\", \"ann\": \"faiss-lsh\", \"k\": 8, \"code_length\": 512, \"power\": 1, \"emb_time_per_sample\": 5.4073119163513186e-05, \"inf_time_per_sample\": 0.0002028362274169922, \"acc\": 0.099, \"precision_k\": 0.0989}, {\"dataset\": \"point_mnist\", \"pooling\": \"gem-1\", \"ann\": \"faiss-lsh\", \"k\": 8, \"code_length\": 1024, \"power\": 1, \"emb_time_per_sample\": 4.567418098449707e-05, \"inf_time_per_sample\": 0.00035185179710388184, \"acc\": 0.1041, \"precision_k\": 0.1021875}, {\"dataset\": \"point_mnist\", \"pooling\": \"gem-2\", \"ann\": \"faiss-lsh\", \"k\": 8, \"code_length\": 16, \"power\": 2, \"emb_time_per_sample\": 6.632871627807618e-05, \"inf_time_per_sample\": 1.1058783531188964e-05, \"acc\": 0.114, \"precision_k\": 0.1024875}, {\"dataset\": \"point_mnist\", \"pooling\": \"gem-2\", \"ann\": \"faiss-lsh\", \"k\": 8, \"code_length\": 32, \"power\": 2, \"emb_time_per_sample\": 6.32188081741333e-05, \"inf_time_per_sample\": 9.617090225219727e-06, \"acc\": 0.1529, \"precision_k\": 0.1217625}, {\"dataset\": \"point_mnist\", \"pooling\": \"gem-2\", \"ann\": \"faiss-lsh\", \"k\": 8, \"code_length\": 64, \"power\": 2, \"emb_time_per_sample\": 6.284711360931396e-05, \"inf_time_per_sample\": 2.300422191619873e-05, \"acc\": 0.1876, \"precision_k\": 0.1432125}, {\"dataset\": \"point_mnist\", \"pooling\": \"gem-2\", \"ann\": \"faiss-lsh\", \"k\": 8, \"code_length\": 128, \"power\": 2, \"emb_time_per_sample\": 6.120450496673584e-05, \"inf_time_per_sample\": 2.40886926651001e-05, \"acc\": 0.1858, \"precision_k\": 0.1553}, {\"dataset\": \"point_mnist\", \"pooling\": \"gem-2\", \"ann\": \"faiss-lsh\", \"k\": 8, \"code_length\": 256, \"power\": 2, \"emb_time_per_sample\": 9.004228115081787e-05, \"inf_time_per_sample\": 0.00017400970458984375, \"acc\": 0.2797, \"precision_k\": 0.2171375}, {\"dataset\": \"point_mnist\", \"pooling\": \"gem-2\", \"ann\": \"faiss-lsh\", \"k\": 8, \"code_length\": 512, \"power\": 2, \"emb_time_per_sample\": 6.341869831085205e-05, \"inf_time_per_sample\": 0.00020098741054534912, \"acc\": 0.3021, \"precision_k\": 0.2553625}, {\"dataset\": \"point_mnist\", \"pooling\": \"gem-2\", \"ann\": \"faiss-lsh\", \"k\": 8, \"code_length\": 1024, \"power\": 2, \"emb_time_per_sample\": 6.023290157318115e-05, \"inf_time_per_sample\": 0.00036169357299804686, \"acc\": 0.347, \"precision_k\": 0.2858}, {\"dataset\": \"point_mnist\", \"pooling\": \"gem-4\", \"ann\": \"faiss-lsh\", \"k\": 8, \"code_length\": 16, \"power\": 4, \"emb_time_per_sample\": 0.00012970309257507323, \"inf_time_per_sample\": 9.616732597351075e-06, \"acc\": 0.1135, \"precision_k\": 0.1021875}, {\"dataset\": \"point_mnist\", \"pooling\": \"gem-4\", \"ann\": \"faiss-lsh\", \"k\": 8, \"code_length\": 32, \"power\": 4, \"emb_time_per_sample\": 9.232521057128906e-05, \"inf_time_per_sample\": 9.657692909240723e-06, \"acc\": 0.1215, \"precision_k\": 0.1075}, {\"dataset\": \"point_mnist\", \"pooling\": \"gem-4\", \"ann\": \"faiss-lsh\", \"k\": 8, \"code_length\": 64, \"power\": 4, \"emb_time_per_sample\": 9.666533470153809e-05, \"inf_time_per_sample\": 2.325150966644287e-05, \"acc\": 0.1794, \"precision_k\": 0.15215}, {\"dataset\": \"point_mnist\", \"pooling\": \"gem-4\", \"ann\": \"faiss-lsh\", \"k\": 8, \"code_length\": 128, \"power\": 4, \"emb_time_per_sample\": 8.687701225280762e-05, \"inf_time_per_sample\": 2.346639633178711e-05, \"acc\": 0.2728, \"precision_k\": 0.2211375}, {\"dataset\": \"point_mnist\", \"pooling\": \"gem-4\", \"ann\": \"faiss-lsh\", \"k\": 8, \"code_length\": 256, \"power\": 4, \"emb_time_per_sample\": 9.488358497619629e-05, \"inf_time_per_sample\": 0.00011248400211334229, \"acc\": 0.2911, \"precision_k\": 0.2305375}, {\"dataset\": \"point_mnist\", \"pooling\": \"gem-4\", \"ann\": \"faiss-lsh\", \"k\": 8, \"code_length\": 512, \"power\": 4, \"emb_time_per_sample\": 8.394279479980468e-05, \"inf_time_per_sample\": 0.00018901698589324952, \"acc\": 0.432, \"precision_k\": 0.3465875}, {\"dataset\": \"point_mnist\", \"pooling\": \"gem-4\", \"ann\": \"faiss-lsh\", \"k\": 8, \"code_length\": 1024, \"power\": 4, \"emb_time_per_sample\": 8.426737785339355e-05, \"inf_time_per_sample\": 0.0003544499397277832, \"acc\": 0.4715, \"precision_k\": 0.3905125}]}, \"mark\": \"line\", \"encoding\": {\"color\": {\"type\": \"nominal\", \"field\": \"pooling\"}, \"x\": {\"type\": \"quantitative\", \"field\": \"code_length\", \"scale\": {\"base\": 2, \"type\": \"log\"}, \"title\": \"hash code length\"}, \"y\": {\"type\": \"quantitative\", \"field\": \"precision_k\", \"title\": \"precision@k\"}}, \"$schema\": \"https://vega.github.io/schema/vega-lite/v4.8.1.json\"}, {\"mode\": \"vega-lite\"});\n",
       "</script>"
      ],
      "text/plain": [
       "alt.Chart(...)"
      ]
     },
     "execution_count": 19,
     "metadata": {},
     "output_type": "execute_result"
    }
   ],
   "source": [
    "pointmnist_data_alt = alt.Data(values=pointmnist_data)\n",
    "alt.Chart(pointmnist_data_alt).mark_line().encode(\n",
    "    alt.X('code_length:Q', scale=alt.Scale(type='log', base=2), title='hash code length'),\n",
    "    alt.Y('precision_k:Q', title='precision@k'),\n",
    "    color='pooling:N'\n",
    ")"
   ]
  },
  {
   "cell_type": "code",
   "execution_count": null,
   "id": "90123715",
   "metadata": {},
   "outputs": [],
   "source": []
  }
 ],
 "metadata": {
  "kernelspec": {
   "display_name": "swd",
   "language": "python",
   "name": "swd"
  },
  "language_info": {
   "codemirror_mode": {
    "name": "ipython",
    "version": 3
   },
   "file_extension": ".py",
   "mimetype": "text/x-python",
   "name": "python",
   "nbconvert_exporter": "python",
   "pygments_lexer": "ipython3",
   "version": "3.7.11"
  }
 },
 "nbformat": 4,
 "nbformat_minor": 5
}
