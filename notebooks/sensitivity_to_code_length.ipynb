{
 "cells": [
  {
   "cell_type": "code",
   "execution_count": 1,
   "id": "5d9f86af",
   "metadata": {},
   "outputs": [],
   "source": [
    "from utils.experiment import Experiment\n",
    "import altair as alt"
   ]
  },
  {
   "cell_type": "code",
   "execution_count": 8,
   "id": "263a6cfa",
   "metadata": {},
   "outputs": [],
   "source": [
    "datasets = ['point_mnist']\n",
    "ref_size = 150\n",
    "ks = [4, 8, 16]"
   ]
  },
  {
   "cell_type": "code",
   "execution_count": 10,
   "id": "4f043c98",
   "metadata": {},
   "outputs": [],
   "source": [
    "def get_sens_stats(dataset, k):\n",
    "    lengths = [16, 32, 64, 128, 256, 512, 1024]\n",
    "    \n",
    "    swe_records = []\n",
    "    for l in lengths:\n",
    "        exp = Experiment(dataset, 'swe', 'faiss-lsh', k=k, ref_size=ref_size, code_length=l, num_slices=16)\n",
    "\n",
    "        exp.test()\n",
    "        report = exp.get_exp_report()\n",
    "        print(report)\n",
    "        swe_records.append(report)\n",
    "        \n",
    "    fs_records = []\n",
    "    for l in lengths:\n",
    "        exp = Experiment(dataset, 'fs', 'faiss-lsh', k=k, ref_size=ref_size, code_length=l)\n",
    "\n",
    "        exp.test()\n",
    "        report = exp.get_exp_report()\n",
    "        print(report)\n",
    "        fs_records.append(report)\n",
    "\n",
    "    cov_records = []\n",
    "    for l in lengths:\n",
    "        exp = Experiment(dataset, 'cov', 'faiss-lsh', k=k, code_length=l)\n",
    "\n",
    "        exp.test()\n",
    "        report = exp.get_exp_report()\n",
    "        print(report)\n",
    "        cov_records.append(report)\n",
    "\n",
    "    avg_records = []\n",
    "    for l in lengths:\n",
    "        exp = Experiment(dataset, 'gem', 'faiss-lsh', k=k, code_length=l, power=1)\n",
    "\n",
    "        exp.test()\n",
    "        report = exp.get_exp_report()\n",
    "        report['pooling'] = report['pooling'] + '-' + str(report['power'])\n",
    "        print(report)\n",
    "        avg_records.append(report)\n",
    "\n",
    "    power2_records = []\n",
    "    for l in lengths:\n",
    "        exp = Experiment(dataset, 'gem', 'faiss-lsh', k=k, code_length=l, power=2)\n",
    "\n",
    "        exp.test()\n",
    "        report = exp.get_exp_report()\n",
    "        report['pooling'] = report['pooling'] + '-' + str(report['power'])\n",
    "        print(report)\n",
    "        power2_records.append(report)\n",
    "\n",
    "    power4_records = []\n",
    "    for l in lengths:\n",
    "        exp = Experiment(dataset, 'gem', 'faiss-lsh', k=k, code_length=l, power=4)\n",
    "\n",
    "        exp.test()\n",
    "        report = exp.get_exp_report()\n",
    "\n",
    "        report['pooling'] = report['pooling'] + '-' + str(report['power'])\n",
    "        print(report)\n",
    "        power4_records.append(report)\n",
    "    \n",
    "    \n",
    "    return swe_records + fs_records + cov_records + avg_records + power2_records + power4_records         "
   ]
  },
  {
   "cell_type": "code",
   "execution_count": 11,
   "id": "56bafe22",
   "metadata": {},
   "outputs": [],
   "source": [
    "import itertools"
   ]
  },
  {
   "cell_type": "code",
   "execution_count": 12,
   "id": "06aa4b34",
   "metadata": {},
   "outputs": [
    {
     "name": "stdout",
     "output_type": "stream",
     "text": [
      "loading dataset...\n",
      "loading cached base embedding...\n",
      "compute query embedding...\n"
     ]
    },
    {
     "name": "stderr",
     "output_type": "stream",
     "text": [
      "100%|████████████████████████████████████████████████████████████████████████████████████████████████| 10000/10000 [00:07<00:00, 1383.71it/s]\n"
     ]
    },
    {
     "name": "stdout",
     "output_type": "stream",
     "text": [
      "{'dataset': 'point_mnist', 'pooling': 'swe', 'ann': 'faiss-lsh', 'k': 4, 'code_length': 16, 'emb_time_per_sample': 0.0007716635942459106, 'inf_time_per_sample': 1.0083508491516114e-05, 'acc': 0.2369, 'precision_k': 0.19255}\n",
      "loading dataset...\n",
      "loading cached base embedding...\n",
      "compute query embedding...\n"
     ]
    },
    {
     "name": "stderr",
     "output_type": "stream",
     "text": [
      "100%|████████████████████████████████████████████████████████████████████████████████████████████████| 10000/10000 [00:07<00:00, 1362.79it/s]\n"
     ]
    },
    {
     "name": "stdout",
     "output_type": "stream",
     "text": [
      "{'dataset': 'point_mnist', 'pooling': 'swe', 'ann': 'faiss-lsh', 'k': 4, 'code_length': 32, 'emb_time_per_sample': 0.0007769557952880859, 'inf_time_per_sample': 1.0964012145996095e-05, 'acc': 0.3621, 'precision_k': 0.3194}\n",
      "loading dataset...\n",
      "loading cached base embedding...\n",
      "compute query embedding...\n"
     ]
    },
    {
     "name": "stderr",
     "output_type": "stream",
     "text": [
      "100%|████████████████████████████████████████████████████████████████████████████████████████████████| 10000/10000 [00:07<00:00, 1414.85it/s]\n"
     ]
    },
    {
     "name": "stdout",
     "output_type": "stream",
     "text": [
      "{'dataset': 'point_mnist', 'pooling': 'swe', 'ann': 'faiss-lsh', 'k': 4, 'code_length': 64, 'emb_time_per_sample': 0.0007513515949249267, 'inf_time_per_sample': 2.3848819732666016e-05, 'acc': 0.4475, 'precision_k': 0.402025}\n",
      "loading dataset...\n",
      "loading cached base embedding...\n",
      "compute query embedding...\n"
     ]
    },
    {
     "name": "stderr",
     "output_type": "stream",
     "text": [
      "100%|████████████████████████████████████████████████████████████████████████████████████████████████| 10000/10000 [00:07<00:00, 1347.68it/s]\n"
     ]
    },
    {
     "name": "stdout",
     "output_type": "stream",
     "text": [
      "{'dataset': 'point_mnist', 'pooling': 'swe', 'ann': 'faiss-lsh', 'k': 4, 'code_length': 128, 'emb_time_per_sample': 0.000782470703125, 'inf_time_per_sample': 2.778339385986328e-05, 'acc': 0.7134, 'precision_k': 0.662125}\n",
      "loading dataset...\n",
      "loading cached base embedding...\n",
      "compute query embedding...\n"
     ]
    },
    {
     "name": "stderr",
     "output_type": "stream",
     "text": [
      "100%|████████████████████████████████████████████████████████████████████████████████████████████████| 10000/10000 [00:07<00:00, 1362.65it/s]\n"
     ]
    },
    {
     "name": "stdout",
     "output_type": "stream",
     "text": [
      "{'dataset': 'point_mnist', 'pooling': 'swe', 'ann': 'faiss-lsh', 'k': 4, 'code_length': 256, 'emb_time_per_sample': 0.0007750214338302612, 'inf_time_per_sample': 0.0001177126169204712, 'acc': 0.803, 'precision_k': 0.752325}\n",
      "loading dataset...\n",
      "loading cached base embedding...\n",
      "compute query embedding...\n"
     ]
    },
    {
     "name": "stderr",
     "output_type": "stream",
     "text": [
      "100%|████████████████████████████████████████████████████████████████████████████████████████████████| 10000/10000 [00:07<00:00, 1383.48it/s]\n"
     ]
    },
    {
     "name": "stdout",
     "output_type": "stream",
     "text": [
      "{'dataset': 'point_mnist', 'pooling': 'swe', 'ann': 'faiss-lsh', 'k': 4, 'code_length': 512, 'emb_time_per_sample': 0.0007631345272064209, 'inf_time_per_sample': 0.00023967518806457518, 'acc': 0.8822, 'precision_k': 0.839425}\n",
      "loading dataset...\n",
      "loading cached base embedding...\n",
      "compute query embedding...\n"
     ]
    },
    {
     "name": "stderr",
     "output_type": "stream",
     "text": [
      "100%|████████████████████████████████████████████████████████████████████████████████████████████████| 10000/10000 [00:07<00:00, 1338.84it/s]\n"
     ]
    },
    {
     "name": "stdout",
     "output_type": "stream",
     "text": [
      "{'dataset': 'point_mnist', 'pooling': 'swe', 'ann': 'faiss-lsh', 'k': 4, 'code_length': 1024, 'emb_time_per_sample': 0.0007870220899581909, 'inf_time_per_sample': 0.0003678351879119873, 'acc': 0.9166, 'precision_k': 0.8858}\n",
      "loading dataset...\n",
      "loading cached base embedding...\n",
      "compute query embedding...\n"
     ]
    },
    {
     "name": "stderr",
     "output_type": "stream",
     "text": [
      "100%|████████████████████████████████████████████████████████████████████████████████████████████████| 10000/10000 [00:01<00:00, 5025.83it/s]\n"
     ]
    },
    {
     "name": "stdout",
     "output_type": "stream",
     "text": [
      "{'dataset': 'point_mnist', 'pooling': 'fs', 'ann': 'faiss-lsh', 'k': 4, 'code_length': 16, 'emb_time_per_sample': 0.00022748339176177979, 'inf_time_per_sample': 9.631204605102539e-06, 'acc': 0.1333, 'precision_k': 0.118475}\n",
      "loading dataset...\n",
      "loading cached base embedding...\n",
      "compute query embedding...\n"
     ]
    },
    {
     "name": "stderr",
     "output_type": "stream",
     "text": [
      "100%|████████████████████████████████████████████████████████████████████████████████████████████████| 10000/10000 [00:01<00:00, 5147.35it/s]\n"
     ]
    },
    {
     "name": "stdout",
     "output_type": "stream",
     "text": [
      "{'dataset': 'point_mnist', 'pooling': 'fs', 'ann': 'faiss-lsh', 'k': 4, 'code_length': 32, 'emb_time_per_sample': 0.00022288918495178223, 'inf_time_per_sample': 9.319591522216796e-06, 'acc': 0.307, 'precision_k': 0.291975}\n",
      "loading dataset...\n",
      "loading cached base embedding...\n",
      "compute query embedding...\n"
     ]
    },
    {
     "name": "stderr",
     "output_type": "stream",
     "text": [
      "100%|████████████████████████████████████████████████████████████████████████████████████████████████| 10000/10000 [00:01<00:00, 5102.21it/s]\n"
     ]
    },
    {
     "name": "stdout",
     "output_type": "stream",
     "text": [
      "{'dataset': 'point_mnist', 'pooling': 'fs', 'ann': 'faiss-lsh', 'k': 4, 'code_length': 64, 'emb_time_per_sample': 0.00022487871646881103, 'inf_time_per_sample': 2.207198143005371e-05, 'acc': 0.3481, 'precision_k': 0.315125}\n",
      "loading dataset...\n",
      "loading cached base embedding...\n",
      "compute query embedding...\n"
     ]
    },
    {
     "name": "stderr",
     "output_type": "stream",
     "text": [
      "100%|████████████████████████████████████████████████████████████████████████████████████████████████| 10000/10000 [00:02<00:00, 4928.15it/s]\n"
     ]
    },
    {
     "name": "stdout",
     "output_type": "stream",
     "text": [
      "{'dataset': 'point_mnist', 'pooling': 'fs', 'ann': 'faiss-lsh', 'k': 4, 'code_length': 128, 'emb_time_per_sample': 0.000231463885307312, 'inf_time_per_sample': 2.4463605880737304e-05, 'acc': 0.6033, 'precision_k': 0.5459}\n",
      "loading dataset...\n",
      "loading cached base embedding...\n",
      "compute query embedding...\n"
     ]
    },
    {
     "name": "stderr",
     "output_type": "stream",
     "text": [
      "100%|████████████████████████████████████████████████████████████████████████████████████████████████| 10000/10000 [00:02<00:00, 4835.32it/s]\n"
     ]
    },
    {
     "name": "stdout",
     "output_type": "stream",
     "text": [
      "{'dataset': 'point_mnist', 'pooling': 'fs', 'ann': 'faiss-lsh', 'k': 4, 'code_length': 256, 'emb_time_per_sample': 0.00023459041118621825, 'inf_time_per_sample': 0.000114385986328125, 'acc': 0.6844, 'precision_k': 0.6285}\n",
      "loading dataset...\n",
      "loading cached base embedding...\n",
      "compute query embedding...\n"
     ]
    },
    {
     "name": "stderr",
     "output_type": "stream",
     "text": [
      "100%|████████████████████████████████████████████████████████████████████████████████████████████████| 10000/10000 [00:02<00:00, 4766.56it/s]\n"
     ]
    },
    {
     "name": "stdout",
     "output_type": "stream",
     "text": [
      "{'dataset': 'point_mnist', 'pooling': 'fs', 'ann': 'faiss-lsh', 'k': 4, 'code_length': 512, 'emb_time_per_sample': 0.0002378278970718384, 'inf_time_per_sample': 0.00019879281520843506, 'acc': 0.771, 'precision_k': 0.721175}\n",
      "loading dataset...\n",
      "loading cached base embedding...\n",
      "compute query embedding...\n"
     ]
    },
    {
     "name": "stderr",
     "output_type": "stream",
     "text": [
      "100%|████████████████████████████████████████████████████████████████████████████████████████████████| 10000/10000 [00:02<00:00, 4847.62it/s]\n"
     ]
    },
    {
     "name": "stdout",
     "output_type": "stream",
     "text": [
      "{'dataset': 'point_mnist', 'pooling': 'fs', 'ann': 'faiss-lsh', 'k': 4, 'code_length': 1024, 'emb_time_per_sample': 0.00023632638454437255, 'inf_time_per_sample': 0.000359679913520813, 'acc': 0.7987, 'precision_k': 0.7485}\n",
      "loading dataset...\n",
      "loading cached base embedding...\n",
      "compute query embedding...\n"
     ]
    },
    {
     "name": "stderr",
     "output_type": "stream",
     "text": [
      "100%|███████████████████████████████████████████████████████████████████████████████████████████████| 10000/10000 [00:00<00:00, 16300.50it/s]\n"
     ]
    },
    {
     "name": "stdout",
     "output_type": "stream",
     "text": [
      "{'dataset': 'point_mnist', 'pooling': 'cov', 'ann': 'faiss-lsh', 'k': 4, 'code_length': 16, 'emb_time_per_sample': 9.105131626129151e-05, 'inf_time_per_sample': 9.096384048461914e-06, 'acc': 0.204, 'precision_k': 0.204025}\n",
      "loading dataset...\n",
      "loading cached base embedding...\n",
      "compute query embedding...\n"
     ]
    },
    {
     "name": "stderr",
     "output_type": "stream",
     "text": [
      "100%|███████████████████████████████████████████████████████████████████████████████████████████████| 10000/10000 [00:00<00:00, 16030.21it/s]\n"
     ]
    },
    {
     "name": "stdout",
     "output_type": "stream",
     "text": [
      "{'dataset': 'point_mnist', 'pooling': 'cov', 'ann': 'faiss-lsh', 'k': 4, 'code_length': 32, 'emb_time_per_sample': 0.00010107009410858154, 'inf_time_per_sample': 8.908629417419433e-06, 'acc': 0.2481, 'precision_k': 0.2337}\n",
      "loading dataset...\n",
      "loading cached base embedding...\n",
      "compute query embedding...\n"
     ]
    },
    {
     "name": "stderr",
     "output_type": "stream",
     "text": [
      "100%|███████████████████████████████████████████████████████████████████████████████████████████████| 10000/10000 [00:00<00:00, 17167.31it/s]\n"
     ]
    },
    {
     "name": "stdout",
     "output_type": "stream",
     "text": [
      "{'dataset': 'point_mnist', 'pooling': 'cov', 'ann': 'faiss-lsh', 'k': 4, 'code_length': 64, 'emb_time_per_sample': 8.702759742736816e-05, 'inf_time_per_sample': 2.1702766418457033e-05, 'acc': 0.2642, 'precision_k': 0.243125}\n",
      "loading dataset...\n",
      "loading cached base embedding...\n",
      "compute query embedding...\n"
     ]
    },
    {
     "name": "stderr",
     "output_type": "stream",
     "text": [
      "100%|███████████████████████████████████████████████████████████████████████████████████████████████| 10000/10000 [00:00<00:00, 16907.68it/s]\n"
     ]
    },
    {
     "name": "stdout",
     "output_type": "stream",
     "text": [
      "{'dataset': 'point_mnist', 'pooling': 'cov', 'ann': 'faiss-lsh', 'k': 4, 'code_length': 128, 'emb_time_per_sample': 8.653099536895752e-05, 'inf_time_per_sample': 2.3775696754455566e-05, 'acc': 0.265, 'precision_k': 0.2474}\n",
      "loading dataset...\n",
      "loading cached base embedding...\n",
      "compute query embedding...\n"
     ]
    },
    {
     "name": "stderr",
     "output_type": "stream",
     "text": [
      "100%|███████████████████████████████████████████████████████████████████████████████████████████████| 10000/10000 [00:00<00:00, 16416.93it/s]\n"
     ]
    },
    {
     "name": "stdout",
     "output_type": "stream",
     "text": [
      "{'dataset': 'point_mnist', 'pooling': 'cov', 'ann': 'faiss-lsh', 'k': 4, 'code_length': 256, 'emb_time_per_sample': 0.00010660181045532227, 'inf_time_per_sample': 0.00011569149494171142, 'acc': 0.2647, 'precision_k': 0.24705}\n",
      "loading dataset...\n",
      "loading cached base embedding...\n",
      "compute query embedding...\n"
     ]
    },
    {
     "name": "stderr",
     "output_type": "stream",
     "text": [
      "100%|███████████████████████████████████████████████████████████████████████████████████████████████| 10000/10000 [00:00<00:00, 16762.61it/s]\n"
     ]
    },
    {
     "name": "stdout",
     "output_type": "stream",
     "text": [
      "{'dataset': 'point_mnist', 'pooling': 'cov', 'ann': 'faiss-lsh', 'k': 4, 'code_length': 512, 'emb_time_per_sample': 8.733062744140625e-05, 'inf_time_per_sample': 0.00018790669441223144, 'acc': 0.2701, 'precision_k': 0.247875}\n",
      "loading dataset...\n",
      "loading cached base embedding...\n",
      "compute query embedding...\n"
     ]
    },
    {
     "name": "stderr",
     "output_type": "stream",
     "text": [
      "100%|███████████████████████████████████████████████████████████████████████████████████████████████| 10000/10000 [00:00<00:00, 16480.19it/s]\n"
     ]
    },
    {
     "name": "stdout",
     "output_type": "stream",
     "text": [
      "{'dataset': 'point_mnist', 'pooling': 'cov', 'ann': 'faiss-lsh', 'k': 4, 'code_length': 1024, 'emb_time_per_sample': 8.667950630187988e-05, 'inf_time_per_sample': 0.00036327660083770755, 'acc': 0.265, 'precision_k': 0.247325}\n",
      "loading dataset...\n",
      "loading cached base embedding...\n",
      "compute query embedding...\n"
     ]
    },
    {
     "name": "stderr",
     "output_type": "stream",
     "text": [
      "100%|███████████████████████████████████████████████████████████████████████████████████████████████| 10000/10000 [00:00<00:00, 42977.68it/s]\n"
     ]
    },
    {
     "name": "stdout",
     "output_type": "stream",
     "text": [
      "{'dataset': 'point_mnist', 'pooling': 'gem-1', 'ann': 'faiss-lsh', 'k': 4, 'code_length': 16, 'power': 1, 'emb_time_per_sample': 6.157209873199463e-05, 'inf_time_per_sample': 1.0201478004455566e-05, 'acc': 0.1037, 'precision_k': 0.101125}\n",
      "loading dataset...\n",
      "loading cached base embedding...\n",
      "compute query embedding...\n"
     ]
    },
    {
     "name": "stderr",
     "output_type": "stream",
     "text": [
      "100%|███████████████████████████████████████████████████████████████████████████████████████████████| 10000/10000 [00:00<00:00, 51390.83it/s]\n"
     ]
    },
    {
     "name": "stdout",
     "output_type": "stream",
     "text": [
      "{'dataset': 'point_mnist', 'pooling': 'gem-1', 'ann': 'faiss-lsh', 'k': 4, 'code_length': 32, 'power': 1, 'emb_time_per_sample': 4.7665810585021975e-05, 'inf_time_per_sample': 8.653306961059571e-06, 'acc': 0.1084, 'precision_k': 0.107225}\n",
      "loading dataset...\n",
      "loading cached base embedding...\n",
      "compute query embedding...\n"
     ]
    },
    {
     "name": "stderr",
     "output_type": "stream",
     "text": [
      "100%|███████████████████████████████████████████████████████████████████████████████████████████████| 10000/10000 [00:00<00:00, 48099.60it/s]\n"
     ]
    },
    {
     "name": "stdout",
     "output_type": "stream",
     "text": [
      "{'dataset': 'point_mnist', 'pooling': 'gem-1', 'ann': 'faiss-lsh', 'k': 4, 'code_length': 64, 'power': 1, 'emb_time_per_sample': 4.9758267402648927e-05, 'inf_time_per_sample': 2.4228692054748536e-05, 'acc': 0.1045, 'precision_k': 0.1048}\n",
      "loading dataset...\n",
      "loading cached base embedding...\n",
      "compute query embedding...\n"
     ]
    },
    {
     "name": "stderr",
     "output_type": "stream",
     "text": [
      "100%|███████████████████████████████████████████████████████████████████████████████████████████████| 10000/10000 [00:00<00:00, 51941.14it/s]\n"
     ]
    },
    {
     "name": "stdout",
     "output_type": "stream",
     "text": [
      "{'dataset': 'point_mnist', 'pooling': 'gem-1', 'ann': 'faiss-lsh', 'k': 4, 'code_length': 128, 'power': 1, 'emb_time_per_sample': 4.609379768371582e-05, 'inf_time_per_sample': 2.637917995452881e-05, 'acc': 0.1116, 'precision_k': 0.101175}\n",
      "loading dataset...\n",
      "loading cached base embedding...\n",
      "compute query embedding...\n"
     ]
    },
    {
     "name": "stderr",
     "output_type": "stream",
     "text": [
      "100%|███████████████████████████████████████████████████████████████████████████████████████████████| 10000/10000 [00:00<00:00, 48203.47it/s]\n"
     ]
    },
    {
     "name": "stdout",
     "output_type": "stream",
     "text": [
      "{'dataset': 'point_mnist', 'pooling': 'gem-1', 'ann': 'faiss-lsh', 'k': 4, 'code_length': 256, 'power': 1, 'emb_time_per_sample': 5.295460224151611e-05, 'inf_time_per_sample': 0.00011113200187683105, 'acc': 0.1085, 'precision_k': 0.1053}\n",
      "loading dataset...\n",
      "loading cached base embedding...\n",
      "compute query embedding...\n"
     ]
    },
    {
     "name": "stderr",
     "output_type": "stream",
     "text": [
      "100%|███████████████████████████████████████████████████████████████████████████████████████████████| 10000/10000 [00:00<00:00, 47528.98it/s]\n"
     ]
    },
    {
     "name": "stdout",
     "output_type": "stream",
     "text": [
      "{'dataset': 'point_mnist', 'pooling': 'gem-1', 'ann': 'faiss-lsh', 'k': 4, 'code_length': 512, 'power': 1, 'emb_time_per_sample': 4.6230888366699217e-05, 'inf_time_per_sample': 0.0002003445863723755, 'acc': 0.1057, 'precision_k': 0.1009}\n",
      "loading dataset...\n",
      "loading cached base embedding...\n",
      "compute query embedding...\n"
     ]
    },
    {
     "name": "stderr",
     "output_type": "stream",
     "text": [
      "100%|███████████████████████████████████████████████████████████████████████████████████████████████| 10000/10000 [00:00<00:00, 47736.10it/s]\n"
     ]
    },
    {
     "name": "stdout",
     "output_type": "stream",
     "text": [
      "{'dataset': 'point_mnist', 'pooling': 'gem-1', 'ann': 'faiss-lsh', 'k': 4, 'code_length': 1024, 'power': 1, 'emb_time_per_sample': 4.763779640197754e-05, 'inf_time_per_sample': 0.0003391622304916382, 'acc': 0.1085, 'precision_k': 0.104125}\n",
      "loading dataset...\n",
      "loading cached base embedding...\n",
      "compute query embedding...\n"
     ]
    },
    {
     "name": "stderr",
     "output_type": "stream",
     "text": [
      "100%|███████████████████████████████████████████████████████████████████████████████████████████████| 10000/10000 [00:00<00:00, 29204.93it/s]\n"
     ]
    },
    {
     "name": "stdout",
     "output_type": "stream",
     "text": [
      "{'dataset': 'point_mnist', 'pooling': 'gem-2', 'ann': 'faiss-lsh', 'k': 4, 'code_length': 16, 'power': 2, 'emb_time_per_sample': 6.290459632873535e-05, 'inf_time_per_sample': 1.0206389427185059e-05, 'acc': 0.0984, 'precision_k': 0.100075}\n",
      "loading dataset...\n",
      "loading cached base embedding...\n",
      "compute query embedding...\n"
     ]
    },
    {
     "name": "stderr",
     "output_type": "stream",
     "text": [
      "100%|███████████████████████████████████████████████████████████████████████████████████████████████| 10000/10000 [00:00<00:00, 24012.94it/s]\n"
     ]
    },
    {
     "name": "stdout",
     "output_type": "stream",
     "text": [
      "{'dataset': 'point_mnist', 'pooling': 'gem-2', 'ann': 'faiss-lsh', 'k': 4, 'code_length': 32, 'power': 2, 'emb_time_per_sample': 7.113552093505859e-05, 'inf_time_per_sample': 9.0986967086792e-06, 'acc': 0.1459, 'precision_k': 0.128525}\n",
      "loading dataset...\n",
      "loading cached base embedding...\n",
      "compute query embedding...\n"
     ]
    },
    {
     "name": "stderr",
     "output_type": "stream",
     "text": [
      "100%|███████████████████████████████████████████████████████████████████████████████████████████████| 10000/10000 [00:00<00:00, 28832.16it/s]\n"
     ]
    },
    {
     "name": "stdout",
     "output_type": "stream",
     "text": [
      "{'dataset': 'point_mnist', 'pooling': 'gem-2', 'ann': 'faiss-lsh', 'k': 4, 'code_length': 64, 'power': 2, 'emb_time_per_sample': 6.267781257629394e-05, 'inf_time_per_sample': 2.5075387954711914e-05, 'acc': 0.1722, 'precision_k': 0.13815}\n",
      "loading dataset...\n",
      "loading cached base embedding...\n",
      "compute query embedding...\n"
     ]
    },
    {
     "name": "stderr",
     "output_type": "stream",
     "text": [
      "100%|███████████████████████████████████████████████████████████████████████████████████████████████| 10000/10000 [00:00<00:00, 27539.24it/s]\n"
     ]
    },
    {
     "name": "stdout",
     "output_type": "stream",
     "text": [
      "{'dataset': 'point_mnist', 'pooling': 'gem-2', 'ann': 'faiss-lsh', 'k': 4, 'code_length': 128, 'power': 2, 'emb_time_per_sample': 6.286520957946777e-05, 'inf_time_per_sample': 2.3654413223266603e-05, 'acc': 0.1852, 'precision_k': 0.15545}\n",
      "loading dataset...\n",
      "loading cached base embedding...\n",
      "compute query embedding...\n"
     ]
    },
    {
     "name": "stderr",
     "output_type": "stream",
     "text": [
      "100%|███████████████████████████████████████████████████████████████████████████████████████████████| 10000/10000 [00:00<00:00, 28533.51it/s]\n"
     ]
    },
    {
     "name": "stdout",
     "output_type": "stream",
     "text": [
      "{'dataset': 'point_mnist', 'pooling': 'gem-2', 'ann': 'faiss-lsh', 'k': 4, 'code_length': 256, 'power': 2, 'emb_time_per_sample': 6.11429214477539e-05, 'inf_time_per_sample': 0.0001175142765045166, 'acc': 0.259, 'precision_k': 0.213675}\n",
      "loading dataset...\n",
      "loading cached base embedding...\n",
      "compute query embedding...\n"
     ]
    },
    {
     "name": "stderr",
     "output_type": "stream",
     "text": [
      "100%|███████████████████████████████████████████████████████████████████████████████████████████████| 10000/10000 [00:00<00:00, 28760.93it/s]\n"
     ]
    },
    {
     "name": "stdout",
     "output_type": "stream",
     "text": [
      "{'dataset': 'point_mnist', 'pooling': 'gem-2', 'ann': 'faiss-lsh', 'k': 4, 'code_length': 512, 'power': 2, 'emb_time_per_sample': 6.0144424438476565e-05, 'inf_time_per_sample': 0.0001943445920944214, 'acc': 0.2715, 'precision_k': 0.247425}\n",
      "loading dataset...\n",
      "loading cached base embedding...\n",
      "compute query embedding...\n"
     ]
    },
    {
     "name": "stderr",
     "output_type": "stream",
     "text": [
      "100%|███████████████████████████████████████████████████████████████████████████████████████████████| 10000/10000 [00:00<00:00, 29267.68it/s]\n"
     ]
    },
    {
     "name": "stdout",
     "output_type": "stream",
     "text": [
      "{'dataset': 'point_mnist', 'pooling': 'gem-2', 'ann': 'faiss-lsh', 'k': 4, 'code_length': 1024, 'power': 2, 'emb_time_per_sample': 6.828138828277588e-05, 'inf_time_per_sample': 0.0003444307804107666, 'acc': 0.3218, 'precision_k': 0.2872}\n",
      "loading dataset...\n",
      "loading cached base embedding...\n",
      "compute query embedding...\n"
     ]
    },
    {
     "name": "stderr",
     "output_type": "stream",
     "text": [
      "100%|███████████████████████████████████████████████████████████████████████████████████████████████| 10000/10000 [00:00<00:00, 16274.64it/s]\n"
     ]
    },
    {
     "name": "stdout",
     "output_type": "stream",
     "text": [
      "{'dataset': 'point_mnist', 'pooling': 'gem-4', 'ann': 'faiss-lsh', 'k': 4, 'code_length': 16, 'power': 4, 'emb_time_per_sample': 9.021477699279785e-05, 'inf_time_per_sample': 1.0001993179321289e-05, 'acc': 0.098, 'precision_k': 0.099725}\n",
      "loading dataset...\n",
      "loading cached base embedding...\n",
      "compute query embedding...\n"
     ]
    },
    {
     "name": "stderr",
     "output_type": "stream",
     "text": [
      "100%|███████████████████████████████████████████████████████████████████████████████████████████████| 10000/10000 [00:00<00:00, 15507.80it/s]\n"
     ]
    },
    {
     "name": "stdout",
     "output_type": "stream",
     "text": [
      "{'dataset': 'point_mnist', 'pooling': 'gem-4', 'ann': 'faiss-lsh', 'k': 4, 'code_length': 32, 'power': 4, 'emb_time_per_sample': 9.525928497314453e-05, 'inf_time_per_sample': 9.28640365600586e-06, 'acc': 0.0983, 'precision_k': 0.105825}\n",
      "loading dataset...\n",
      "loading cached base embedding...\n",
      "compute query embedding...\n"
     ]
    },
    {
     "name": "stderr",
     "output_type": "stream",
     "text": [
      "100%|███████████████████████████████████████████████████████████████████████████████████████████████| 10000/10000 [00:00<00:00, 16075.51it/s]\n"
     ]
    },
    {
     "name": "stdout",
     "output_type": "stream",
     "text": [
      "{'dataset': 'point_mnist', 'pooling': 'gem-4', 'ann': 'faiss-lsh', 'k': 4, 'code_length': 64, 'power': 4, 'emb_time_per_sample': 9.106450080871582e-05, 'inf_time_per_sample': 2.2234582901000977e-05, 'acc': 0.1941, 'precision_k': 0.154175}\n",
      "loading dataset...\n",
      "loading cached base embedding...\n",
      "compute query embedding...\n"
     ]
    },
    {
     "name": "stderr",
     "output_type": "stream",
     "text": [
      "100%|███████████████████████████████████████████████████████████████████████████████████████████████| 10000/10000 [00:00<00:00, 13030.77it/s]\n"
     ]
    },
    {
     "name": "stdout",
     "output_type": "stream",
     "text": [
      "{'dataset': 'point_mnist', 'pooling': 'gem-4', 'ann': 'faiss-lsh', 'k': 4, 'code_length': 128, 'power': 4, 'emb_time_per_sample': 0.00010354979038238525, 'inf_time_per_sample': 2.4162578582763673e-05, 'acc': 0.2565, 'precision_k': 0.2395}\n",
      "loading dataset...\n",
      "loading cached base embedding...\n",
      "compute query embedding...\n"
     ]
    },
    {
     "name": "stderr",
     "output_type": "stream",
     "text": [
      "100%|███████████████████████████████████████████████████████████████████████████████████████████████| 10000/10000 [00:00<00:00, 16532.01it/s]\n"
     ]
    },
    {
     "name": "stdout",
     "output_type": "stream",
     "text": [
      "{'dataset': 'point_mnist', 'pooling': 'gem-4', 'ann': 'faiss-lsh', 'k': 4, 'code_length': 256, 'power': 4, 'emb_time_per_sample': 8.665461540222168e-05, 'inf_time_per_sample': 0.00011168689727783203, 'acc': 0.2773, 'precision_k': 0.226925}\n",
      "loading dataset...\n",
      "loading cached base embedding...\n",
      "compute query embedding...\n"
     ]
    },
    {
     "name": "stderr",
     "output_type": "stream",
     "text": [
      "100%|███████████████████████████████████████████████████████████████████████████████████████████████| 10000/10000 [00:00<00:00, 16295.45it/s]\n"
     ]
    },
    {
     "name": "stdout",
     "output_type": "stream",
     "text": [
      "{'dataset': 'point_mnist', 'pooling': 'gem-4', 'ann': 'faiss-lsh', 'k': 4, 'code_length': 512, 'power': 4, 'emb_time_per_sample': 8.724439144134522e-05, 'inf_time_per_sample': 0.00021328780651092528, 'acc': 0.3943, 'precision_k': 0.35115}\n",
      "loading dataset...\n",
      "loading cached base embedding...\n",
      "compute query embedding...\n"
     ]
    },
    {
     "name": "stderr",
     "output_type": "stream",
     "text": [
      "100%|███████████████████████████████████████████████████████████████████████████████████████████████| 10000/10000 [00:00<00:00, 16467.51it/s]\n"
     ]
    },
    {
     "name": "stdout",
     "output_type": "stream",
     "text": [
      "{'dataset': 'point_mnist', 'pooling': 'gem-4', 'ann': 'faiss-lsh', 'k': 4, 'code_length': 1024, 'power': 4, 'emb_time_per_sample': 9.348690509796143e-05, 'inf_time_per_sample': 0.0003460201978683472, 'acc': 0.4459, 'precision_k': 0.39365}\n",
      "loading dataset...\n",
      "loading cached base embedding...\n",
      "compute query embedding...\n"
     ]
    },
    {
     "name": "stderr",
     "output_type": "stream",
     "text": [
      "100%|████████████████████████████████████████████████████████████████████████████████████████████████| 10000/10000 [00:07<00:00, 1367.81it/s]\n"
     ]
    },
    {
     "name": "stdout",
     "output_type": "stream",
     "text": [
      "{'dataset': 'point_mnist', 'pooling': 'swe', 'ann': 'faiss-lsh', 'k': 8, 'code_length': 16, 'emb_time_per_sample': 0.000767978811264038, 'inf_time_per_sample': 9.982085227966308e-06, 'acc': 0.2337, 'precision_k': 0.187825}\n",
      "loading dataset...\n",
      "loading cached base embedding...\n",
      "compute query embedding...\n"
     ]
    },
    {
     "name": "stderr",
     "output_type": "stream",
     "text": [
      "100%|████████████████████████████████████████████████████████████████████████████████████████████████| 10000/10000 [00:07<00:00, 1391.30it/s]\n"
     ]
    },
    {
     "name": "stdout",
     "output_type": "stream",
     "text": [
      "{'dataset': 'point_mnist', 'pooling': 'swe', 'ann': 'faiss-lsh', 'k': 8, 'code_length': 32, 'emb_time_per_sample': 0.0007605952024459839, 'inf_time_per_sample': 1.0838723182678223e-05, 'acc': 0.3858, 'precision_k': 0.337175}\n",
      "loading dataset...\n",
      "loading cached base embedding...\n",
      "compute query embedding...\n"
     ]
    },
    {
     "name": "stderr",
     "output_type": "stream",
     "text": [
      "100%|████████████████████████████████████████████████████████████████████████████████████████████████| 10000/10000 [00:07<00:00, 1394.78it/s]\n"
     ]
    },
    {
     "name": "stdout",
     "output_type": "stream",
     "text": [
      "{'dataset': 'point_mnist', 'pooling': 'swe', 'ann': 'faiss-lsh', 'k': 8, 'code_length': 64, 'emb_time_per_sample': 0.0007588509798049927, 'inf_time_per_sample': 2.3859286308288573e-05, 'acc': 0.4554, 'precision_k': 0.4013875}\n",
      "loading dataset...\n",
      "loading cached base embedding...\n",
      "compute query embedding...\n"
     ]
    },
    {
     "name": "stderr",
     "output_type": "stream",
     "text": [
      "100%|████████████████████████████████████████████████████████████████████████████████████████████████| 10000/10000 [00:07<00:00, 1395.36it/s]\n"
     ]
    },
    {
     "name": "stdout",
     "output_type": "stream",
     "text": [
      "{'dataset': 'point_mnist', 'pooling': 'swe', 'ann': 'faiss-lsh', 'k': 8, 'code_length': 128, 'emb_time_per_sample': 0.00075535306930542, 'inf_time_per_sample': 2.796487808227539e-05, 'acc': 0.7329, 'precision_k': 0.64835}\n",
      "loading dataset...\n",
      "loading cached base embedding...\n",
      "compute query embedding...\n"
     ]
    },
    {
     "name": "stderr",
     "output_type": "stream",
     "text": [
      "100%|████████████████████████████████████████████████████████████████████████████████████████████████| 10000/10000 [00:07<00:00, 1394.53it/s]\n"
     ]
    },
    {
     "name": "stdout",
     "output_type": "stream",
     "text": [
      "{'dataset': 'point_mnist', 'pooling': 'swe', 'ann': 'faiss-lsh', 'k': 8, 'code_length': 256, 'emb_time_per_sample': 0.0007531759977340699, 'inf_time_per_sample': 0.00011907851696014405, 'acc': 0.8142, 'precision_k': 0.7406875}\n",
      "loading dataset...\n",
      "loading cached base embedding...\n",
      "compute query embedding...\n"
     ]
    },
    {
     "name": "stderr",
     "output_type": "stream",
     "text": [
      "100%|████████████████████████████████████████████████████████████████████████████████████████████████| 10000/10000 [00:07<00:00, 1388.96it/s]\n"
     ]
    },
    {
     "name": "stdout",
     "output_type": "stream",
     "text": [
      "{'dataset': 'point_mnist', 'pooling': 'swe', 'ann': 'faiss-lsh', 'k': 8, 'code_length': 512, 'emb_time_per_sample': 0.0007839797973632813, 'inf_time_per_sample': 0.000230936598777771, 'acc': 0.8867, 'precision_k': 0.8272}\n",
      "loading dataset...\n",
      "loading cached base embedding...\n",
      "compute query embedding...\n"
     ]
    },
    {
     "name": "stderr",
     "output_type": "stream",
     "text": [
      "100%|████████████████████████████████████████████████████████████████████████████████████████████████| 10000/10000 [00:07<00:00, 1384.56it/s]\n"
     ]
    },
    {
     "name": "stdout",
     "output_type": "stream",
     "text": [
      "{'dataset': 'point_mnist', 'pooling': 'swe', 'ann': 'faiss-lsh', 'k': 8, 'code_length': 1024, 'emb_time_per_sample': 0.0007650645017623902, 'inf_time_per_sample': 0.0003705602169036865, 'acc': 0.9175, 'precision_k': 0.87465}\n",
      "loading dataset...\n",
      "loading cached base embedding...\n",
      "compute query embedding...\n"
     ]
    },
    {
     "name": "stderr",
     "output_type": "stream",
     "text": [
      "100%|████████████████████████████████████████████████████████████████████████████████████████████████| 10000/10000 [00:01<00:00, 5147.44it/s]\n"
     ]
    },
    {
     "name": "stdout",
     "output_type": "stream",
     "text": [
      "{'dataset': 'point_mnist', 'pooling': 'fs', 'ann': 'faiss-lsh', 'k': 8, 'code_length': 16, 'emb_time_per_sample': 0.0002219846725463867, 'inf_time_per_sample': 1.0075211524963378e-05, 'acc': 0.1039, 'precision_k': 0.1205125}\n",
      "loading dataset...\n",
      "loading cached base embedding...\n",
      "compute query embedding...\n"
     ]
    },
    {
     "name": "stderr",
     "output_type": "stream",
     "text": [
      "100%|████████████████████████████████████████████████████████████████████████████████████████████████| 10000/10000 [00:01<00:00, 5228.80it/s]\n"
     ]
    },
    {
     "name": "stdout",
     "output_type": "stream",
     "text": [
      "{'dataset': 'point_mnist', 'pooling': 'fs', 'ann': 'faiss-lsh', 'k': 8, 'code_length': 32, 'emb_time_per_sample': 0.0002201732873916626, 'inf_time_per_sample': 8.981990814208985e-06, 'acc': 0.3537, 'precision_k': 0.2839125}\n",
      "loading dataset...\n",
      "loading cached base embedding...\n",
      "compute query embedding...\n"
     ]
    },
    {
     "name": "stderr",
     "output_type": "stream",
     "text": [
      "100%|████████████████████████████████████████████████████████████████████████████████████████████████| 10000/10000 [00:01<00:00, 5287.43it/s]\n"
     ]
    },
    {
     "name": "stdout",
     "output_type": "stream",
     "text": [
      "{'dataset': 'point_mnist', 'pooling': 'fs', 'ann': 'faiss-lsh', 'k': 8, 'code_length': 64, 'emb_time_per_sample': 0.00022419440746307374, 'inf_time_per_sample': 2.1900105476379394e-05, 'acc': 0.3783, 'precision_k': 0.30965}\n",
      "loading dataset...\n",
      "loading cached base embedding...\n",
      "compute query embedding...\n"
     ]
    },
    {
     "name": "stderr",
     "output_type": "stream",
     "text": [
      "100%|████████████████████████████████████████████████████████████████████████████████████████████████| 10000/10000 [00:01<00:00, 5241.52it/s]\n"
     ]
    },
    {
     "name": "stdout",
     "output_type": "stream",
     "text": [
      "{'dataset': 'point_mnist', 'pooling': 'fs', 'ann': 'faiss-lsh', 'k': 8, 'code_length': 128, 'emb_time_per_sample': 0.00021754789352416992, 'inf_time_per_sample': 2.4064087867736818e-05, 'acc': 0.621, 'precision_k': 0.538325}\n",
      "loading dataset...\n",
      "loading cached base embedding...\n",
      "compute query embedding...\n"
     ]
    },
    {
     "name": "stderr",
     "output_type": "stream",
     "text": [
      "100%|████████████████████████████████████████████████████████████████████████████████████████████████| 10000/10000 [00:01<00:00, 5311.37it/s]\n"
     ]
    },
    {
     "name": "stdout",
     "output_type": "stream",
     "text": [
      "{'dataset': 'point_mnist', 'pooling': 'fs', 'ann': 'faiss-lsh', 'k': 8, 'code_length': 256, 'emb_time_per_sample': 0.00021377499103546142, 'inf_time_per_sample': 0.00011142210960388183, 'acc': 0.699, 'precision_k': 0.6165625}\n",
      "loading dataset...\n",
      "loading cached base embedding...\n",
      "compute query embedding...\n"
     ]
    },
    {
     "name": "stderr",
     "output_type": "stream",
     "text": [
      "100%|████████████████████████████████████████████████████████████████████████████████████████████████| 10000/10000 [00:01<00:00, 5308.47it/s]\n"
     ]
    },
    {
     "name": "stdout",
     "output_type": "stream",
     "text": [
      "{'dataset': 'point_mnist', 'pooling': 'fs', 'ann': 'faiss-lsh', 'k': 8, 'code_length': 512, 'emb_time_per_sample': 0.00021403207778930664, 'inf_time_per_sample': 0.00018860340118408202, 'acc': 0.7814, 'precision_k': 0.7110125}\n",
      "loading dataset...\n",
      "loading cached base embedding...\n",
      "compute query embedding...\n"
     ]
    },
    {
     "name": "stderr",
     "output_type": "stream",
     "text": [
      "100%|████████████████████████████████████████████████████████████████████████████████████████████████| 10000/10000 [00:02<00:00, 4916.80it/s]\n"
     ]
    },
    {
     "name": "stdout",
     "output_type": "stream",
     "text": [
      "{'dataset': 'point_mnist', 'pooling': 'fs', 'ann': 'faiss-lsh', 'k': 8, 'code_length': 1024, 'emb_time_per_sample': 0.0002303318977355957, 'inf_time_per_sample': 0.00037030670642852786, 'acc': 0.8067, 'precision_k': 0.7376875}\n",
      "loading dataset...\n",
      "loading cached base embedding...\n",
      "compute query embedding...\n"
     ]
    },
    {
     "name": "stderr",
     "output_type": "stream",
     "text": [
      "100%|███████████████████████████████████████████████████████████████████████████████████████████████| 10000/10000 [00:00<00:00, 16713.26it/s]\n"
     ]
    },
    {
     "name": "stdout",
     "output_type": "stream",
     "text": [
      "{'dataset': 'point_mnist', 'pooling': 'cov', 'ann': 'faiss-lsh', 'k': 8, 'code_length': 16, 'emb_time_per_sample': 8.84066104888916e-05, 'inf_time_per_sample': 9.093809127807618e-06, 'acc': 0.2188, 'precision_k': 0.2020375}\n",
      "loading dataset...\n",
      "loading cached base embedding...\n",
      "compute query embedding...\n"
     ]
    },
    {
     "name": "stderr",
     "output_type": "stream",
     "text": [
      "100%|███████████████████████████████████████████████████████████████████████████████████████████████| 10000/10000 [00:00<00:00, 16667.17it/s]\n"
     ]
    },
    {
     "name": "stdout",
     "output_type": "stream",
     "text": [
      "{'dataset': 'point_mnist', 'pooling': 'cov', 'ann': 'faiss-lsh', 'k': 8, 'code_length': 32, 'emb_time_per_sample': 8.868958950042725e-05, 'inf_time_per_sample': 9.91971492767334e-06, 'acc': 0.2591, 'precision_k': 0.235325}\n",
      "loading dataset...\n",
      "loading cached base embedding...\n",
      "compute query embedding...\n"
     ]
    },
    {
     "name": "stderr",
     "output_type": "stream",
     "text": [
      "100%|███████████████████████████████████████████████████████████████████████████████████████████████| 10000/10000 [00:00<00:00, 14891.04it/s]\n"
     ]
    },
    {
     "name": "stdout",
     "output_type": "stream",
     "text": [
      "{'dataset': 'point_mnist', 'pooling': 'cov', 'ann': 'faiss-lsh', 'k': 8, 'code_length': 64, 'emb_time_per_sample': 9.614081382751465e-05, 'inf_time_per_sample': 2.2577691078186035e-05, 'acc': 0.2682, 'precision_k': 0.2432125}\n",
      "loading dataset...\n",
      "loading cached base embedding...\n",
      "compute query embedding...\n"
     ]
    },
    {
     "name": "stderr",
     "output_type": "stream",
     "text": [
      "100%|███████████████████████████████████████████████████████████████████████████████████████████████| 10000/10000 [00:00<00:00, 16781.32it/s]\n"
     ]
    },
    {
     "name": "stdout",
     "output_type": "stream",
     "text": [
      "{'dataset': 'point_mnist', 'pooling': 'cov', 'ann': 'faiss-lsh', 'k': 8, 'code_length': 128, 'emb_time_per_sample': 8.640878200531005e-05, 'inf_time_per_sample': 2.382657527923584e-05, 'acc': 0.2831, 'precision_k': 0.2491}\n",
      "loading dataset...\n",
      "loading cached base embedding...\n",
      "compute query embedding...\n"
     ]
    },
    {
     "name": "stderr",
     "output_type": "stream",
     "text": [
      "100%|███████████████████████████████████████████████████████████████████████████████████████████████| 10000/10000 [00:00<00:00, 16078.95it/s]\n"
     ]
    },
    {
     "name": "stdout",
     "output_type": "stream",
     "text": [
      "{'dataset': 'point_mnist', 'pooling': 'cov', 'ann': 'faiss-lsh', 'k': 8, 'code_length': 256, 'emb_time_per_sample': 8.868739604949951e-05, 'inf_time_per_sample': 0.00011623449325561524, 'acc': 0.2694, 'precision_k': 0.2451375}\n",
      "loading dataset...\n",
      "loading cached base embedding...\n",
      "compute query embedding...\n"
     ]
    },
    {
     "name": "stderr",
     "output_type": "stream",
     "text": [
      "100%|███████████████████████████████████████████████████████████████████████████████████████████████| 10000/10000 [00:00<00:00, 14696.56it/s]\n"
     ]
    },
    {
     "name": "stdout",
     "output_type": "stream",
     "text": [
      "{'dataset': 'point_mnist', 'pooling': 'cov', 'ann': 'faiss-lsh', 'k': 8, 'code_length': 512, 'emb_time_per_sample': 9.475889205932618e-05, 'inf_time_per_sample': 0.0001896794319152832, 'acc': 0.282, 'precision_k': 0.248475}\n",
      "loading dataset...\n",
      "loading cached base embedding...\n",
      "compute query embedding...\n"
     ]
    },
    {
     "name": "stderr",
     "output_type": "stream",
     "text": [
      "100%|███████████████████████████████████████████████████████████████████████████████████████████████| 10000/10000 [00:00<00:00, 14961.55it/s]\n"
     ]
    },
    {
     "name": "stdout",
     "output_type": "stream",
     "text": [
      "{'dataset': 'point_mnist', 'pooling': 'cov', 'ann': 'faiss-lsh', 'k': 8, 'code_length': 1024, 'emb_time_per_sample': 9.328269958496093e-05, 'inf_time_per_sample': 0.0003540783166885376, 'acc': 0.276, 'precision_k': 0.2480875}\n",
      "loading dataset...\n",
      "loading cached base embedding...\n",
      "compute query embedding...\n"
     ]
    },
    {
     "name": "stderr",
     "output_type": "stream",
     "text": [
      "100%|███████████████████████████████████████████████████████████████████████████████████████████████| 10000/10000 [00:00<00:00, 51008.16it/s]\n"
     ]
    },
    {
     "name": "stdout",
     "output_type": "stream",
     "text": [
      "{'dataset': 'point_mnist', 'pooling': 'gem-1', 'ann': 'faiss-lsh', 'k': 8, 'code_length': 16, 'power': 1, 'emb_time_per_sample': 4.70944881439209e-05, 'inf_time_per_sample': 8.959221839904785e-06, 'acc': 0.1135, 'precision_k': 0.102925}\n",
      "loading dataset...\n",
      "loading cached base embedding...\n",
      "compute query embedding...\n"
     ]
    },
    {
     "name": "stderr",
     "output_type": "stream",
     "text": [
      "100%|███████████████████████████████████████████████████████████████████████████████████████████████| 10000/10000 [00:00<00:00, 46381.11it/s]\n"
     ]
    },
    {
     "name": "stdout",
     "output_type": "stream",
     "text": [
      "{'dataset': 'point_mnist', 'pooling': 'gem-1', 'ann': 'faiss-lsh', 'k': 8, 'code_length': 32, 'power': 1, 'emb_time_per_sample': 4.937987327575684e-05, 'inf_time_per_sample': 9.085178375244141e-06, 'acc': 0.1137, 'precision_k': 0.103325}\n",
      "loading dataset...\n",
      "loading cached base embedding...\n",
      "compute query embedding...\n"
     ]
    },
    {
     "name": "stderr",
     "output_type": "stream",
     "text": [
      "100%|███████████████████████████████████████████████████████████████████████████████████████████████| 10000/10000 [00:00<00:00, 51777.25it/s]\n"
     ]
    },
    {
     "name": "stdout",
     "output_type": "stream",
     "text": [
      "{'dataset': 'point_mnist', 'pooling': 'gem-1', 'ann': 'faiss-lsh', 'k': 8, 'code_length': 64, 'power': 1, 'emb_time_per_sample': 5.254669189453125e-05, 'inf_time_per_sample': 2.176060676574707e-05, 'acc': 0.1116, 'precision_k': 0.1015125}\n",
      "loading dataset...\n",
      "loading cached base embedding...\n",
      "compute query embedding...\n"
     ]
    },
    {
     "name": "stderr",
     "output_type": "stream",
     "text": [
      "100%|███████████████████████████████████████████████████████████████████████████████████████████████| 10000/10000 [00:00<00:00, 51631.80it/s]\n"
     ]
    },
    {
     "name": "stdout",
     "output_type": "stream",
     "text": [
      "{'dataset': 'point_mnist', 'pooling': 'gem-1', 'ann': 'faiss-lsh', 'k': 8, 'code_length': 128, 'power': 1, 'emb_time_per_sample': 4.5292305946350095e-05, 'inf_time_per_sample': 2.3787713050842287e-05, 'acc': 0.0986, 'precision_k': 0.0989375}\n",
      "loading dataset...\n",
      "loading cached base embedding...\n",
      "compute query embedding...\n"
     ]
    },
    {
     "name": "stderr",
     "output_type": "stream",
     "text": [
      "100%|███████████████████████████████████████████████████████████████████████████████████████████████| 10000/10000 [00:00<00:00, 47593.91it/s]\n"
     ]
    },
    {
     "name": "stdout",
     "output_type": "stream",
     "text": [
      "{'dataset': 'point_mnist', 'pooling': 'gem-1', 'ann': 'faiss-lsh', 'k': 8, 'code_length': 256, 'power': 1, 'emb_time_per_sample': 4.6839594841003416e-05, 'inf_time_per_sample': 0.00012027111053466797, 'acc': 0.1073, 'precision_k': 0.1025375}\n",
      "loading dataset...\n",
      "loading cached base embedding...\n",
      "compute query embedding...\n"
     ]
    },
    {
     "name": "stderr",
     "output_type": "stream",
     "text": [
      "100%|███████████████████████████████████████████████████████████████████████████████████████████████| 10000/10000 [00:00<00:00, 41657.11it/s]\n"
     ]
    },
    {
     "name": "stdout",
     "output_type": "stream",
     "text": [
      "{'dataset': 'point_mnist', 'pooling': 'gem-1', 'ann': 'faiss-lsh', 'k': 8, 'code_length': 512, 'power': 1, 'emb_time_per_sample': 4.9601411819458006e-05, 'inf_time_per_sample': 0.0002179671049118042, 'acc': 0.099, 'precision_k': 0.0989}\n",
      "loading dataset...\n",
      "loading cached base embedding...\n",
      "compute query embedding...\n"
     ]
    },
    {
     "name": "stderr",
     "output_type": "stream",
     "text": [
      "100%|███████████████████████████████████████████████████████████████████████████████████████████████| 10000/10000 [00:00<00:00, 35948.46it/s]\n"
     ]
    },
    {
     "name": "stdout",
     "output_type": "stream",
     "text": [
      "{'dataset': 'point_mnist', 'pooling': 'gem-1', 'ann': 'faiss-lsh', 'k': 8, 'code_length': 1024, 'power': 1, 'emb_time_per_sample': 5.148270130157471e-05, 'inf_time_per_sample': 0.00035801920890808105, 'acc': 0.1041, 'precision_k': 0.1021875}\n",
      "loading dataset...\n",
      "loading cached base embedding...\n",
      "compute query embedding...\n"
     ]
    },
    {
     "name": "stderr",
     "output_type": "stream",
     "text": [
      "100%|███████████████████████████████████████████████████████████████████████████████████████████████| 10000/10000 [00:00<00:00, 26627.90it/s]\n"
     ]
    },
    {
     "name": "stdout",
     "output_type": "stream",
     "text": [
      "{'dataset': 'point_mnist', 'pooling': 'gem-2', 'ann': 'faiss-lsh', 'k': 8, 'code_length': 16, 'power': 2, 'emb_time_per_sample': 6.830892562866211e-05, 'inf_time_per_sample': 1.1492705345153808e-05, 'acc': 0.114, 'precision_k': 0.1024875}\n",
      "loading dataset...\n",
      "loading cached base embedding...\n",
      "compute query embedding...\n"
     ]
    },
    {
     "name": "stderr",
     "output_type": "stream",
     "text": [
      "100%|███████████████████████████████████████████████████████████████████████████████████████████████| 10000/10000 [00:00<00:00, 26654.79it/s]\n"
     ]
    },
    {
     "name": "stdout",
     "output_type": "stream",
     "text": [
      "{'dataset': 'point_mnist', 'pooling': 'gem-2', 'ann': 'faiss-lsh', 'k': 8, 'code_length': 32, 'power': 2, 'emb_time_per_sample': 6.818628311157227e-05, 'inf_time_per_sample': 1.4032387733459472e-05, 'acc': 0.1529, 'precision_k': 0.1217625}\n",
      "loading dataset...\n",
      "loading cached base embedding...\n",
      "compute query embedding...\n"
     ]
    },
    {
     "name": "stderr",
     "output_type": "stream",
     "text": [
      "100%|███████████████████████████████████████████████████████████████████████████████████████████████| 10000/10000 [00:00<00:00, 26286.05it/s]\n"
     ]
    },
    {
     "name": "stdout",
     "output_type": "stream",
     "text": [
      "{'dataset': 'point_mnist', 'pooling': 'gem-2', 'ann': 'faiss-lsh', 'k': 8, 'code_length': 64, 'power': 2, 'emb_time_per_sample': 6.876049041748047e-05, 'inf_time_per_sample': 2.9915285110473632e-05, 'acc': 0.1876, 'precision_k': 0.1432125}\n",
      "loading dataset...\n",
      "loading cached base embedding...\n",
      "compute query embedding...\n"
     ]
    },
    {
     "name": "stderr",
     "output_type": "stream",
     "text": [
      "100%|███████████████████████████████████████████████████████████████████████████████████████████████| 10000/10000 [00:00<00:00, 27208.00it/s]\n"
     ]
    },
    {
     "name": "stdout",
     "output_type": "stream",
     "text": [
      "{'dataset': 'point_mnist', 'pooling': 'gem-2', 'ann': 'faiss-lsh', 'k': 8, 'code_length': 128, 'power': 2, 'emb_time_per_sample': 6.590280532836914e-05, 'inf_time_per_sample': 2.8580403327941894e-05, 'acc': 0.1858, 'precision_k': 0.1553}\n",
      "loading dataset...\n",
      "loading cached base embedding...\n",
      "compute query embedding...\n"
     ]
    },
    {
     "name": "stderr",
     "output_type": "stream",
     "text": [
      "100%|███████████████████████████████████████████████████████████████████████████████████████████████| 10000/10000 [00:00<00:00, 21518.62it/s]\n"
     ]
    },
    {
     "name": "stdout",
     "output_type": "stream",
     "text": [
      "{'dataset': 'point_mnist', 'pooling': 'gem-2', 'ann': 'faiss-lsh', 'k': 8, 'code_length': 256, 'power': 2, 'emb_time_per_sample': 7.531976699829101e-05, 'inf_time_per_sample': 0.00012669100761413573, 'acc': 0.2797, 'precision_k': 0.2171375}\n",
      "loading dataset...\n",
      "loading cached base embedding...\n",
      "compute query embedding...\n"
     ]
    },
    {
     "name": "stderr",
     "output_type": "stream",
     "text": [
      "100%|███████████████████████████████████████████████████████████████████████████████████████████████| 10000/10000 [00:00<00:00, 26232.32it/s]\n"
     ]
    },
    {
     "name": "stdout",
     "output_type": "stream",
     "text": [
      "{'dataset': 'point_mnist', 'pooling': 'gem-2', 'ann': 'faiss-lsh', 'k': 8, 'code_length': 512, 'power': 2, 'emb_time_per_sample': 6.59146785736084e-05, 'inf_time_per_sample': 0.00021184818744659424, 'acc': 0.3021, 'precision_k': 0.2553625}\n",
      "loading dataset...\n",
      "loading cached base embedding...\n",
      "compute query embedding...\n"
     ]
    },
    {
     "name": "stderr",
     "output_type": "stream",
     "text": [
      "100%|███████████████████████████████████████████████████████████████████████████████████████████████| 10000/10000 [00:00<00:00, 26335.39it/s]\n"
     ]
    },
    {
     "name": "stdout",
     "output_type": "stream",
     "text": [
      "{'dataset': 'point_mnist', 'pooling': 'gem-2', 'ann': 'faiss-lsh', 'k': 8, 'code_length': 1024, 'power': 2, 'emb_time_per_sample': 6.583402156829834e-05, 'inf_time_per_sample': 0.00036934261322021483, 'acc': 0.347, 'precision_k': 0.2858}\n",
      "loading dataset...\n",
      "loading cached base embedding...\n",
      "compute query embedding...\n"
     ]
    },
    {
     "name": "stderr",
     "output_type": "stream",
     "text": [
      "100%|███████████████████████████████████████████████████████████████████████████████████████████████| 10000/10000 [00:00<00:00, 13479.32it/s]\n"
     ]
    },
    {
     "name": "stdout",
     "output_type": "stream",
     "text": [
      "{'dataset': 'point_mnist', 'pooling': 'gem-4', 'ann': 'faiss-lsh', 'k': 8, 'code_length': 16, 'power': 4, 'emb_time_per_sample': 0.00010380978584289551, 'inf_time_per_sample': 9.721398353576661e-06, 'acc': 0.1135, 'precision_k': 0.1021875}\n",
      "loading dataset...\n",
      "loading cached base embedding...\n",
      "compute query embedding...\n"
     ]
    },
    {
     "name": "stderr",
     "output_type": "stream",
     "text": [
      "100%|███████████████████████████████████████████████████████████████████████████████████████████████| 10000/10000 [00:00<00:00, 14668.54it/s]\n"
     ]
    },
    {
     "name": "stdout",
     "output_type": "stream",
     "text": [
      "{'dataset': 'point_mnist', 'pooling': 'gem-4', 'ann': 'faiss-lsh', 'k': 8, 'code_length': 32, 'power': 4, 'emb_time_per_sample': 9.719750881195069e-05, 'inf_time_per_sample': 1.1865377426147462e-05, 'acc': 0.1215, 'precision_k': 0.1075}\n",
      "loading dataset...\n",
      "loading cached base embedding...\n",
      "compute query embedding...\n"
     ]
    },
    {
     "name": "stderr",
     "output_type": "stream",
     "text": [
      "100%|███████████████████████████████████████████████████████████████████████████████████████████████| 10000/10000 [00:00<00:00, 16410.26it/s]\n"
     ]
    },
    {
     "name": "stdout",
     "output_type": "stream",
     "text": [
      "{'dataset': 'point_mnist', 'pooling': 'gem-4', 'ann': 'faiss-lsh', 'k': 8, 'code_length': 64, 'power': 4, 'emb_time_per_sample': 8.789670467376709e-05, 'inf_time_per_sample': 2.193751335144043e-05, 'acc': 0.1794, 'precision_k': 0.15215}\n",
      "loading dataset...\n",
      "loading cached base embedding...\n",
      "compute query embedding...\n"
     ]
    },
    {
     "name": "stderr",
     "output_type": "stream",
     "text": [
      "100%|███████████████████████████████████████████████████████████████████████████████████████████████| 10000/10000 [00:00<00:00, 16433.13it/s]\n"
     ]
    },
    {
     "name": "stdout",
     "output_type": "stream",
     "text": [
      "{'dataset': 'point_mnist', 'pooling': 'gem-4', 'ann': 'faiss-lsh', 'k': 8, 'code_length': 128, 'power': 4, 'emb_time_per_sample': 8.72046709060669e-05, 'inf_time_per_sample': 2.5710201263427734e-05, 'acc': 0.2728, 'precision_k': 0.2211375}\n",
      "loading dataset...\n",
      "loading cached base embedding...\n",
      "compute query embedding...\n"
     ]
    },
    {
     "name": "stderr",
     "output_type": "stream",
     "text": [
      "100%|███████████████████████████████████████████████████████████████████████████████████████████████| 10000/10000 [00:00<00:00, 15514.89it/s]\n"
     ]
    },
    {
     "name": "stdout",
     "output_type": "stream",
     "text": [
      "{'dataset': 'point_mnist', 'pooling': 'gem-4', 'ann': 'faiss-lsh', 'k': 8, 'code_length': 256, 'power': 4, 'emb_time_per_sample': 9.211559295654296e-05, 'inf_time_per_sample': 0.00012034649848937988, 'acc': 0.2911, 'precision_k': 0.2305375}\n",
      "loading dataset...\n",
      "loading cached base embedding...\n",
      "compute query embedding...\n"
     ]
    },
    {
     "name": "stderr",
     "output_type": "stream",
     "text": [
      "100%|███████████████████████████████████████████████████████████████████████████████████████████████| 10000/10000 [00:00<00:00, 17387.01it/s]\n"
     ]
    },
    {
     "name": "stdout",
     "output_type": "stream",
     "text": [
      "{'dataset': 'point_mnist', 'pooling': 'gem-4', 'ann': 'faiss-lsh', 'k': 8, 'code_length': 512, 'power': 4, 'emb_time_per_sample': 8.206777572631836e-05, 'inf_time_per_sample': 0.00020457007884979247, 'acc': 0.432, 'precision_k': 0.3465875}\n",
      "loading dataset...\n",
      "loading cached base embedding...\n",
      "compute query embedding...\n"
     ]
    },
    {
     "name": "stderr",
     "output_type": "stream",
     "text": [
      "100%|███████████████████████████████████████████████████████████████████████████████████████████████| 10000/10000 [00:00<00:00, 11817.86it/s]\n"
     ]
    },
    {
     "name": "stdout",
     "output_type": "stream",
     "text": [
      "{'dataset': 'point_mnist', 'pooling': 'gem-4', 'ann': 'faiss-lsh', 'k': 8, 'code_length': 1024, 'power': 4, 'emb_time_per_sample': 0.0001112419843673706, 'inf_time_per_sample': 0.00035123231410980223, 'acc': 0.4715, 'precision_k': 0.3905125}\n",
      "loading dataset...\n",
      "loading cached base embedding...\n",
      "compute query embedding...\n"
     ]
    },
    {
     "name": "stderr",
     "output_type": "stream",
     "text": [
      "100%|████████████████████████████████████████████████████████████████████████████████████████████████| 10000/10000 [00:07<00:00, 1293.56it/s]\n"
     ]
    },
    {
     "name": "stdout",
     "output_type": "stream",
     "text": [
      "{'dataset': 'point_mnist', 'pooling': 'swe', 'ann': 'faiss-lsh', 'k': 16, 'code_length': 16, 'emb_time_per_sample': 0.0008244176864624024, 'inf_time_per_sample': 1.1175823211669922e-05, 'acc': 0.2425, 'precision_k': 0.19985}\n",
      "loading dataset...\n",
      "loading cached base embedding...\n",
      "compute query embedding...\n"
     ]
    },
    {
     "name": "stderr",
     "output_type": "stream",
     "text": [
      "100%|████████████████████████████████████████████████████████████████████████████████████████████████| 10000/10000 [00:06<00:00, 1452.00it/s]\n"
     ]
    },
    {
     "name": "stdout",
     "output_type": "stream",
     "text": [
      "{'dataset': 'point_mnist', 'pooling': 'swe', 'ann': 'faiss-lsh', 'k': 16, 'code_length': 32, 'emb_time_per_sample': 0.0007407170057296753, 'inf_time_per_sample': 1.0512328147888184e-05, 'acc': 0.4141, 'precision_k': 0.3278375}\n",
      "loading dataset...\n",
      "loading cached base embedding...\n",
      "compute query embedding...\n"
     ]
    },
    {
     "name": "stderr",
     "output_type": "stream",
     "text": [
      "100%|████████████████████████████████████████████████████████████████████████████████████████████████| 10000/10000 [00:07<00:00, 1357.71it/s]\n"
     ]
    },
    {
     "name": "stdout",
     "output_type": "stream",
     "text": [
      "{'dataset': 'point_mnist', 'pooling': 'swe', 'ann': 'faiss-lsh', 'k': 16, 'code_length': 64, 'emb_time_per_sample': 0.0007799139022827148, 'inf_time_per_sample': 3.101577758789062e-05, 'acc': 0.4857, 'precision_k': 0.3973}\n",
      "loading dataset...\n",
      "loading cached base embedding...\n",
      "compute query embedding...\n"
     ]
    },
    {
     "name": "stderr",
     "output_type": "stream",
     "text": [
      "100%|████████████████████████████████████████████████████████████████████████████████████████████████| 10000/10000 [00:07<00:00, 1377.60it/s]\n"
     ]
    },
    {
     "name": "stdout",
     "output_type": "stream",
     "text": [
      "{'dataset': 'point_mnist', 'pooling': 'swe', 'ann': 'faiss-lsh', 'k': 16, 'code_length': 128, 'emb_time_per_sample': 0.0007700631856918335, 'inf_time_per_sample': 2.8137588500976563e-05, 'acc': 0.7385, 'precision_k': 0.6319875}\n",
      "loading dataset...\n",
      "loading cached base embedding...\n",
      "compute query embedding...\n"
     ]
    },
    {
     "name": "stderr",
     "output_type": "stream",
     "text": [
      "100%|████████████████████████████████████████████████████████████████████████████████████████████████| 10000/10000 [00:07<00:00, 1389.12it/s]\n"
     ]
    },
    {
     "name": "stdout",
     "output_type": "stream",
     "text": [
      "{'dataset': 'point_mnist', 'pooling': 'swe', 'ann': 'faiss-lsh', 'k': 16, 'code_length': 256, 'emb_time_per_sample': 0.0007575244903564453, 'inf_time_per_sample': 0.00011860179901123047, 'acc': 0.8159, 'precision_k': 0.72508125}\n",
      "loading dataset...\n",
      "loading cached base embedding...\n",
      "compute query embedding...\n"
     ]
    },
    {
     "name": "stderr",
     "output_type": "stream",
     "text": [
      "100%|████████████████████████████████████████████████████████████████████████████████████████████████| 10000/10000 [00:07<00:00, 1353.62it/s]\n"
     ]
    },
    {
     "name": "stdout",
     "output_type": "stream",
     "text": [
      "{'dataset': 'point_mnist', 'pooling': 'swe', 'ann': 'faiss-lsh', 'k': 16, 'code_length': 512, 'emb_time_per_sample': 0.0007803636789321899, 'inf_time_per_sample': 0.00022464451789855957, 'acc': 0.8836, 'precision_k': 0.81131875}\n",
      "loading dataset...\n",
      "loading cached base embedding...\n",
      "compute query embedding...\n"
     ]
    },
    {
     "name": "stderr",
     "output_type": "stream",
     "text": [
      "100%|████████████████████████████████████████████████████████████████████████████████████████████████| 10000/10000 [00:07<00:00, 1423.24it/s]\n"
     ]
    },
    {
     "name": "stdout",
     "output_type": "stream",
     "text": [
      "{'dataset': 'point_mnist', 'pooling': 'swe', 'ann': 'faiss-lsh', 'k': 16, 'code_length': 1024, 'emb_time_per_sample': 0.0007439037084579468, 'inf_time_per_sample': 0.0003721541881561279, 'acc': 0.915, 'precision_k': 0.86001875}\n",
      "loading dataset...\n",
      "loading cached base embedding...\n",
      "compute query embedding...\n"
     ]
    },
    {
     "name": "stderr",
     "output_type": "stream",
     "text": [
      "100%|████████████████████████████████████████████████████████████████████████████████████████████████| 10000/10000 [00:02<00:00, 4829.97it/s]\n"
     ]
    },
    {
     "name": "stdout",
     "output_type": "stream",
     "text": [
      "{'dataset': 'point_mnist', 'pooling': 'fs', 'ann': 'faiss-lsh', 'k': 16, 'code_length': 16, 'emb_time_per_sample': 0.00023657100200653077, 'inf_time_per_sample': 9.802699089050292e-06, 'acc': 0.1181, 'precision_k': 0.12578125}\n",
      "loading dataset...\n",
      "loading cached base embedding...\n",
      "compute query embedding...\n"
     ]
    },
    {
     "name": "stderr",
     "output_type": "stream",
     "text": [
      "100%|████████████████████████████████████████████████████████████████████████████████████████████████| 10000/10000 [00:01<00:00, 5068.26it/s]\n"
     ]
    },
    {
     "name": "stdout",
     "output_type": "stream",
     "text": [
      "{'dataset': 'point_mnist', 'pooling': 'fs', 'ann': 'faiss-lsh', 'k': 16, 'code_length': 32, 'emb_time_per_sample': 0.00022609388828277589, 'inf_time_per_sample': 9.765005111694336e-06, 'acc': 0.3829, 'precision_k': 0.2842}\n",
      "loading dataset...\n",
      "loading cached base embedding...\n",
      "compute query embedding...\n"
     ]
    },
    {
     "name": "stderr",
     "output_type": "stream",
     "text": [
      "100%|████████████████████████████████████████████████████████████████████████████████████████████████| 10000/10000 [00:02<00:00, 4801.68it/s]\n"
     ]
    },
    {
     "name": "stdout",
     "output_type": "stream",
     "text": [
      "{'dataset': 'point_mnist', 'pooling': 'fs', 'ann': 'faiss-lsh', 'k': 16, 'code_length': 64, 'emb_time_per_sample': 0.00024404771327972413, 'inf_time_per_sample': 2.2661995887756347e-05, 'acc': 0.3964, 'precision_k': 0.3038}\n",
      "loading dataset...\n",
      "loading cached base embedding...\n",
      "compute query embedding...\n"
     ]
    },
    {
     "name": "stderr",
     "output_type": "stream",
     "text": [
      "100%|████████████████████████████████████████████████████████████████████████████████████████████████| 10000/10000 [00:02<00:00, 4715.57it/s]\n"
     ]
    },
    {
     "name": "stdout",
     "output_type": "stream",
     "text": [
      "{'dataset': 'point_mnist', 'pooling': 'fs', 'ann': 'faiss-lsh', 'k': 16, 'code_length': 128, 'emb_time_per_sample': 0.0002411876916885376, 'inf_time_per_sample': 2.806589603424072e-05, 'acc': 0.6366, 'precision_k': 0.5285875}\n",
      "loading dataset...\n",
      "loading cached base embedding...\n",
      "compute query embedding...\n"
     ]
    },
    {
     "name": "stderr",
     "output_type": "stream",
     "text": [
      "100%|████████████████████████████████████████████████████████████████████████████████████████████████| 10000/10000 [00:02<00:00, 4673.93it/s]\n"
     ]
    },
    {
     "name": "stdout",
     "output_type": "stream",
     "text": [
      "{'dataset': 'point_mnist', 'pooling': 'fs', 'ann': 'faiss-lsh', 'k': 16, 'code_length': 256, 'emb_time_per_sample': 0.00024249651432037354, 'inf_time_per_sample': 0.00012373690605163573, 'acc': 0.7042, 'precision_k': 0.60476875}\n",
      "loading dataset...\n",
      "loading cached base embedding...\n",
      "compute query embedding...\n"
     ]
    },
    {
     "name": "stderr",
     "output_type": "stream",
     "text": [
      "100%|████████████████████████████████████████████████████████████████████████████████████████████████| 10000/10000 [00:02<00:00, 4335.81it/s]\n"
     ]
    },
    {
     "name": "stdout",
     "output_type": "stream",
     "text": [
      "{'dataset': 'point_mnist', 'pooling': 'fs', 'ann': 'faiss-lsh', 'k': 16, 'code_length': 512, 'emb_time_per_sample': 0.00025872581005096436, 'inf_time_per_sample': 0.00021630260944366454, 'acc': 0.7882, 'precision_k': 0.6986625}\n",
      "loading dataset...\n",
      "loading cached base embedding...\n",
      "compute query embedding...\n"
     ]
    },
    {
     "name": "stderr",
     "output_type": "stream",
     "text": [
      "100%|████████████████████████████████████████████████████████████████████████████████████████████████| 10000/10000 [00:02<00:00, 4668.47it/s]\n"
     ]
    },
    {
     "name": "stdout",
     "output_type": "stream",
     "text": [
      "{'dataset': 'point_mnist', 'pooling': 'fs', 'ann': 'faiss-lsh', 'k': 16, 'code_length': 1024, 'emb_time_per_sample': 0.00024461939334869385, 'inf_time_per_sample': 0.0003812242031097412, 'acc': 0.8066, 'precision_k': 0.7252625}\n",
      "loading dataset...\n",
      "loading cached base embedding...\n",
      "compute query embedding...\n"
     ]
    },
    {
     "name": "stderr",
     "output_type": "stream",
     "text": [
      "100%|███████████████████████████████████████████████████████████████████████████████████████████████| 10000/10000 [00:00<00:00, 15743.72it/s]\n"
     ]
    },
    {
     "name": "stdout",
     "output_type": "stream",
     "text": [
      "{'dataset': 'point_mnist', 'pooling': 'cov', 'ann': 'faiss-lsh', 'k': 16, 'code_length': 16, 'emb_time_per_sample': 9.920382499694824e-05, 'inf_time_per_sample': 1.0178518295288086e-05, 'acc': 0.2497, 'precision_k': 0.20638125}\n",
      "loading dataset...\n",
      "loading cached base embedding...\n",
      "compute query embedding...\n"
     ]
    },
    {
     "name": "stderr",
     "output_type": "stream",
     "text": [
      "100%|███████████████████████████████████████████████████████████████████████████████████████████████| 10000/10000 [00:00<00:00, 17166.59it/s]\n"
     ]
    },
    {
     "name": "stdout",
     "output_type": "stream",
     "text": [
      "{'dataset': 'point_mnist', 'pooling': 'cov', 'ann': 'faiss-lsh', 'k': 16, 'code_length': 32, 'emb_time_per_sample': 8.812530040740967e-05, 'inf_time_per_sample': 9.11862850189209e-06, 'acc': 0.278, 'precision_k': 0.2351625}\n",
      "loading dataset...\n",
      "loading cached base embedding...\n",
      "compute query embedding...\n"
     ]
    },
    {
     "name": "stderr",
     "output_type": "stream",
     "text": [
      "100%|███████████████████████████████████████████████████████████████████████████████████████████████| 10000/10000 [00:00<00:00, 17618.91it/s]\n"
     ]
    },
    {
     "name": "stdout",
     "output_type": "stream",
     "text": [
      "{'dataset': 'point_mnist', 'pooling': 'cov', 'ann': 'faiss-lsh', 'k': 16, 'code_length': 64, 'emb_time_per_sample': 0.00010667240619659423, 'inf_time_per_sample': 2.1999382972717284e-05, 'acc': 0.2814, 'precision_k': 0.2442875}\n",
      "loading dataset...\n",
      "loading cached base embedding...\n",
      "compute query embedding...\n"
     ]
    },
    {
     "name": "stderr",
     "output_type": "stream",
     "text": [
      "100%|███████████████████████████████████████████████████████████████████████████████████████████████| 10000/10000 [00:00<00:00, 17148.07it/s]\n"
     ]
    },
    {
     "name": "stdout",
     "output_type": "stream",
     "text": [
      "{'dataset': 'point_mnist', 'pooling': 'cov', 'ann': 'faiss-lsh', 'k': 16, 'code_length': 128, 'emb_time_per_sample': 8.607759475708008e-05, 'inf_time_per_sample': 2.4746894836425783e-05, 'acc': 0.2872, 'precision_k': 0.24749375}\n",
      "loading dataset...\n",
      "loading cached base embedding...\n",
      "compute query embedding...\n"
     ]
    },
    {
     "name": "stderr",
     "output_type": "stream",
     "text": [
      "100%|███████████████████████████████████████████████████████████████████████████████████████████████| 10000/10000 [00:00<00:00, 17499.86it/s]\n"
     ]
    },
    {
     "name": "stdout",
     "output_type": "stream",
     "text": [
      "{'dataset': 'point_mnist', 'pooling': 'cov', 'ann': 'faiss-lsh', 'k': 16, 'code_length': 256, 'emb_time_per_sample': 8.231499195098877e-05, 'inf_time_per_sample': 0.00011368498802185059, 'acc': 0.2858, 'precision_k': 0.24643125}\n",
      "loading dataset...\n",
      "loading cached base embedding...\n",
      "compute query embedding...\n"
     ]
    },
    {
     "name": "stderr",
     "output_type": "stream",
     "text": [
      "100%|███████████████████████████████████████████████████████████████████████████████████████████████| 10000/10000 [00:00<00:00, 17644.40it/s]\n"
     ]
    },
    {
     "name": "stdout",
     "output_type": "stream",
     "text": [
      "{'dataset': 'point_mnist', 'pooling': 'cov', 'ann': 'faiss-lsh', 'k': 16, 'code_length': 512, 'emb_time_per_sample': 8.892982006072998e-05, 'inf_time_per_sample': 0.00019098730087280274, 'acc': 0.2898, 'precision_k': 0.24865}\n",
      "loading dataset...\n",
      "loading cached base embedding...\n",
      "compute query embedding...\n"
     ]
    },
    {
     "name": "stderr",
     "output_type": "stream",
     "text": [
      "100%|███████████████████████████████████████████████████████████████████████████████████████████████| 10000/10000 [00:00<00:00, 17512.49it/s]\n"
     ]
    },
    {
     "name": "stdout",
     "output_type": "stream",
     "text": [
      "{'dataset': 'point_mnist', 'pooling': 'cov', 'ann': 'faiss-lsh', 'k': 16, 'code_length': 1024, 'emb_time_per_sample': 8.478388786315918e-05, 'inf_time_per_sample': 0.0003557032823562622, 'acc': 0.2811, 'precision_k': 0.2480125}\n",
      "loading dataset...\n",
      "loading cached base embedding...\n",
      "compute query embedding...\n"
     ]
    },
    {
     "name": "stderr",
     "output_type": "stream",
     "text": [
      "100%|███████████████████████████████████████████████████████████████████████████████████████████████| 10000/10000 [00:00<00:00, 44612.57it/s]\n"
     ]
    },
    {
     "name": "stdout",
     "output_type": "stream",
     "text": [
      "{'dataset': 'point_mnist', 'pooling': 'gem-1', 'ann': 'faiss-lsh', 'k': 16, 'code_length': 16, 'power': 1, 'emb_time_per_sample': 5.349340438842774e-05, 'inf_time_per_sample': 1.153731346130371e-05, 'acc': 0.1111, 'precision_k': 0.10155625}\n",
      "loading dataset...\n",
      "loading cached base embedding...\n",
      "compute query embedding...\n"
     ]
    },
    {
     "name": "stderr",
     "output_type": "stream",
     "text": [
      "100%|███████████████████████████████████████████████████████████████████████████████████████████████| 10000/10000 [00:00<00:00, 33027.63it/s]\n"
     ]
    },
    {
     "name": "stdout",
     "output_type": "stream",
     "text": [
      "{'dataset': 'point_mnist', 'pooling': 'gem-1', 'ann': 'faiss-lsh', 'k': 16, 'code_length': 32, 'power': 1, 'emb_time_per_sample': 6.184859275817872e-05, 'inf_time_per_sample': 1.3496017456054688e-05, 'acc': 0.113, 'precision_k': 0.1023625}\n",
      "loading dataset...\n",
      "loading cached base embedding...\n",
      "compute query embedding...\n"
     ]
    },
    {
     "name": "stderr",
     "output_type": "stream",
     "text": [
      "100%|███████████████████████████████████████████████████████████████████████████████████████████████| 10000/10000 [00:00<00:00, 44762.59it/s]\n"
     ]
    },
    {
     "name": "stdout",
     "output_type": "stream",
     "text": [
      "{'dataset': 'point_mnist', 'pooling': 'gem-1', 'ann': 'faiss-lsh', 'k': 16, 'code_length': 64, 'power': 1, 'emb_time_per_sample': 5.265820026397705e-05, 'inf_time_per_sample': 2.5335407257080077e-05, 'acc': 0.1184, 'precision_k': 0.1026625}\n",
      "loading dataset...\n",
      "loading cached base embedding...\n",
      "compute query embedding...\n"
     ]
    },
    {
     "name": "stderr",
     "output_type": "stream",
     "text": [
      "100%|███████████████████████████████████████████████████████████████████████████████████████████████| 10000/10000 [00:00<00:00, 45720.41it/s]\n"
     ]
    },
    {
     "name": "stdout",
     "output_type": "stream",
     "text": [
      "{'dataset': 'point_mnist', 'pooling': 'gem-1', 'ann': 'faiss-lsh', 'k': 16, 'code_length': 128, 'power': 1, 'emb_time_per_sample': 4.906752109527588e-05, 'inf_time_per_sample': 2.4996209144592286e-05, 'acc': 0.101, 'precision_k': 0.10141875}\n",
      "loading dataset...\n",
      "loading cached base embedding...\n",
      "compute query embedding...\n"
     ]
    },
    {
     "name": "stderr",
     "output_type": "stream",
     "text": [
      "100%|███████████████████████████████████████████████████████████████████████████████████████████████| 10000/10000 [00:00<00:00, 48002.82it/s]\n"
     ]
    },
    {
     "name": "stdout",
     "output_type": "stream",
     "text": [
      "{'dataset': 'point_mnist', 'pooling': 'gem-1', 'ann': 'faiss-lsh', 'k': 16, 'code_length': 256, 'power': 1, 'emb_time_per_sample': 4.623942375183106e-05, 'inf_time_per_sample': 0.00011218729019165039, 'acc': 0.1014, 'precision_k': 0.101575}\n",
      "loading dataset...\n",
      "loading cached base embedding...\n",
      "compute query embedding...\n"
     ]
    },
    {
     "name": "stderr",
     "output_type": "stream",
     "text": [
      "100%|███████████████████████████████████████████████████████████████████████████████████████████████| 10000/10000 [00:00<00:00, 23312.30it/s]\n"
     ]
    },
    {
     "name": "stdout",
     "output_type": "stream",
     "text": [
      "{'dataset': 'point_mnist', 'pooling': 'gem-1', 'ann': 'faiss-lsh', 'k': 16, 'code_length': 512, 'power': 1, 'emb_time_per_sample': 6.85182809829712e-05, 'inf_time_per_sample': 0.0001872843027114868, 'acc': 0.1008, 'precision_k': 0.10150625}\n",
      "loading dataset...\n",
      "loading cached base embedding...\n",
      "compute query embedding...\n"
     ]
    },
    {
     "name": "stderr",
     "output_type": "stream",
     "text": [
      "100%|███████████████████████████████████████████████████████████████████████████████████████████████| 10000/10000 [00:00<00:00, 49316.73it/s]\n"
     ]
    },
    {
     "name": "stdout",
     "output_type": "stream",
     "text": [
      "{'dataset': 'point_mnist', 'pooling': 'gem-1', 'ann': 'faiss-lsh', 'k': 16, 'code_length': 1024, 'power': 1, 'emb_time_per_sample': 4.529902935028076e-05, 'inf_time_per_sample': 0.0004001920938491821, 'acc': 0.0996, 'precision_k': 0.10111875}\n",
      "loading dataset...\n",
      "loading cached base embedding...\n",
      "compute query embedding...\n"
     ]
    },
    {
     "name": "stderr",
     "output_type": "stream",
     "text": [
      "100%|███████████████████████████████████████████████████████████████████████████████████████████████| 10000/10000 [00:00<00:00, 29554.69it/s]\n"
     ]
    },
    {
     "name": "stdout",
     "output_type": "stream",
     "text": [
      "{'dataset': 'point_mnist', 'pooling': 'gem-2', 'ann': 'faiss-lsh', 'k': 16, 'code_length': 16, 'power': 2, 'emb_time_per_sample': 6.322808265686034e-05, 'inf_time_per_sample': 9.135699272155762e-06, 'acc': 0.114, 'precision_k': 0.10231875}\n",
      "loading dataset...\n",
      "loading cached base embedding...\n",
      "compute query embedding...\n"
     ]
    },
    {
     "name": "stderr",
     "output_type": "stream",
     "text": [
      "100%|███████████████████████████████████████████████████████████████████████████████████████████████| 10000/10000 [00:00<00:00, 30943.56it/s]\n"
     ]
    },
    {
     "name": "stdout",
     "output_type": "stream",
     "text": [
      "{'dataset': 'point_mnist', 'pooling': 'gem-2', 'ann': 'faiss-lsh', 'k': 16, 'code_length': 32, 'power': 2, 'emb_time_per_sample': 6.272828578948974e-05, 'inf_time_per_sample': 8.917617797851562e-06, 'acc': 0.1529, 'precision_k': 0.12854375}\n",
      "loading dataset...\n",
      "loading cached base embedding...\n",
      "compute query embedding...\n"
     ]
    },
    {
     "name": "stderr",
     "output_type": "stream",
     "text": [
      "100%|███████████████████████████████████████████████████████████████████████████████████████████████| 10000/10000 [00:00<00:00, 28388.44it/s]\n"
     ]
    },
    {
     "name": "stdout",
     "output_type": "stream",
     "text": [
      "{'dataset': 'point_mnist', 'pooling': 'gem-2', 'ann': 'faiss-lsh', 'k': 16, 'code_length': 64, 'power': 2, 'emb_time_per_sample': 6.291990280151367e-05, 'inf_time_per_sample': 2.3435497283935545e-05, 'acc': 0.1966, 'precision_k': 0.14513125}\n",
      "loading dataset...\n",
      "loading cached base embedding...\n",
      "compute query embedding...\n"
     ]
    },
    {
     "name": "stderr",
     "output_type": "stream",
     "text": [
      "100%|███████████████████████████████████████████████████████████████████████████████████████████████| 10000/10000 [00:00<00:00, 28530.58it/s]\n"
     ]
    },
    {
     "name": "stdout",
     "output_type": "stream",
     "text": [
      "{'dataset': 'point_mnist', 'pooling': 'gem-2', 'ann': 'faiss-lsh', 'k': 16, 'code_length': 128, 'power': 2, 'emb_time_per_sample': 7.229020595550538e-05, 'inf_time_per_sample': 2.4867892265319824e-05, 'acc': 0.175, 'precision_k': 0.1515875}\n",
      "loading dataset...\n",
      "loading cached base embedding...\n",
      "compute query embedding...\n"
     ]
    },
    {
     "name": "stderr",
     "output_type": "stream",
     "text": [
      "100%|███████████████████████████████████████████████████████████████████████████████████████████████| 10000/10000 [00:00<00:00, 28941.06it/s]\n"
     ]
    },
    {
     "name": "stdout",
     "output_type": "stream",
     "text": [
      "{'dataset': 'point_mnist', 'pooling': 'gem-2', 'ann': 'faiss-lsh', 'k': 16, 'code_length': 256, 'power': 2, 'emb_time_per_sample': 6.0123705863952636e-05, 'inf_time_per_sample': 0.00011701760292053222, 'acc': 0.2827, 'precision_k': 0.21420625}\n",
      "loading dataset...\n",
      "loading cached base embedding...\n",
      "compute query embedding...\n"
     ]
    },
    {
     "name": "stderr",
     "output_type": "stream",
     "text": [
      "100%|███████████████████████████████████████████████████████████████████████████████████████████████| 10000/10000 [00:00<00:00, 31080.61it/s]\n"
     ]
    },
    {
     "name": "stdout",
     "output_type": "stream",
     "text": [
      "{'dataset': 'point_mnist', 'pooling': 'gem-2', 'ann': 'faiss-lsh', 'k': 16, 'code_length': 512, 'power': 2, 'emb_time_per_sample': 5.593771934509277e-05, 'inf_time_per_sample': 0.00018790059089660645, 'acc': 0.291, 'precision_k': 0.25261875}\n",
      "loading dataset...\n",
      "loading cached base embedding...\n",
      "compute query embedding...\n"
     ]
    },
    {
     "name": "stderr",
     "output_type": "stream",
     "text": [
      "100%|███████████████████████████████████████████████████████████████████████████████████████████████| 10000/10000 [00:00<00:00, 28098.79it/s]\n"
     ]
    },
    {
     "name": "stdout",
     "output_type": "stream",
     "text": [
      "{'dataset': 'point_mnist', 'pooling': 'gem-2', 'ann': 'faiss-lsh', 'k': 16, 'code_length': 1024, 'power': 2, 'emb_time_per_sample': 6.2298583984375e-05, 'inf_time_per_sample': 0.0003597543954849243, 'acc': 0.3707, 'precision_k': 0.28919375}\n",
      "loading dataset...\n",
      "loading cached base embedding...\n",
      "compute query embedding...\n"
     ]
    },
    {
     "name": "stderr",
     "output_type": "stream",
     "text": [
      "100%|███████████████████████████████████████████████████████████████████████████████████████████████| 10000/10000 [00:00<00:00, 14985.41it/s]\n"
     ]
    },
    {
     "name": "stdout",
     "output_type": "stream",
     "text": [
      "{'dataset': 'point_mnist', 'pooling': 'gem-4', 'ann': 'faiss-lsh', 'k': 16, 'code_length': 16, 'power': 4, 'emb_time_per_sample': 9.567279815673828e-05, 'inf_time_per_sample': 9.689784049987793e-06, 'acc': 0.1135, 'precision_k': 0.10203125}\n",
      "loading dataset...\n",
      "loading cached base embedding...\n",
      "compute query embedding...\n"
     ]
    },
    {
     "name": "stderr",
     "output_type": "stream",
     "text": [
      "100%|███████████████████████████████████████████████████████████████████████████████████████████████| 10000/10000 [00:00<00:00, 16018.12it/s]\n"
     ]
    },
    {
     "name": "stdout",
     "output_type": "stream",
     "text": [
      "{'dataset': 'point_mnist', 'pooling': 'gem-4', 'ann': 'faiss-lsh', 'k': 16, 'code_length': 32, 'power': 4, 'emb_time_per_sample': 9.350628852844239e-05, 'inf_time_per_sample': 9.043002128601074e-06, 'acc': 0.1215, 'precision_k': 0.107775}\n",
      "loading dataset...\n",
      "loading cached base embedding...\n",
      "compute query embedding...\n"
     ]
    },
    {
     "name": "stderr",
     "output_type": "stream",
     "text": [
      "100%|███████████████████████████████████████████████████████████████████████████████████████████████| 10000/10000 [00:00<00:00, 16560.43it/s]\n"
     ]
    },
    {
     "name": "stdout",
     "output_type": "stream",
     "text": [
      "{'dataset': 'point_mnist', 'pooling': 'gem-4', 'ann': 'faiss-lsh', 'k': 16, 'code_length': 64, 'power': 4, 'emb_time_per_sample': 8.951411247253419e-05, 'inf_time_per_sample': 2.178947925567627e-05, 'acc': 0.1888, 'precision_k': 0.14286875}\n",
      "loading dataset...\n",
      "loading cached base embedding...\n",
      "compute query embedding...\n"
     ]
    },
    {
     "name": "stderr",
     "output_type": "stream",
     "text": [
      "100%|███████████████████████████████████████████████████████████████████████████████████████████████| 10000/10000 [00:00<00:00, 13408.54it/s]\n"
     ]
    },
    {
     "name": "stdout",
     "output_type": "stream",
     "text": [
      "{'dataset': 'point_mnist', 'pooling': 'gem-4', 'ann': 'faiss-lsh', 'k': 16, 'code_length': 128, 'power': 4, 'emb_time_per_sample': 0.00010268027782440186, 'inf_time_per_sample': 2.6047325134277344e-05, 'acc': 0.2912, 'precision_k': 0.223425}\n",
      "loading dataset...\n",
      "loading cached base embedding...\n",
      "compute query embedding...\n"
     ]
    },
    {
     "name": "stderr",
     "output_type": "stream",
     "text": [
      "100%|███████████████████████████████████████████████████████████████████████████████████████████████| 10000/10000 [00:00<00:00, 15831.31it/s]\n"
     ]
    },
    {
     "name": "stdout",
     "output_type": "stream",
     "text": [
      "{'dataset': 'point_mnist', 'pooling': 'gem-4', 'ann': 'faiss-lsh', 'k': 16, 'code_length': 256, 'power': 4, 'emb_time_per_sample': 8.934907913208008e-05, 'inf_time_per_sample': 0.00011910777091979981, 'acc': 0.3217, 'precision_k': 0.23065}\n",
      "loading dataset...\n",
      "loading cached base embedding...\n",
      "compute query embedding...\n"
     ]
    },
    {
     "name": "stderr",
     "output_type": "stream",
     "text": [
      "100%|███████████████████████████████████████████████████████████████████████████████████████████████| 10000/10000 [00:00<00:00, 14940.29it/s]\n"
     ]
    },
    {
     "name": "stdout",
     "output_type": "stream",
     "text": [
      "{'dataset': 'point_mnist', 'pooling': 'gem-4', 'ann': 'faiss-lsh', 'k': 16, 'code_length': 512, 'power': 4, 'emb_time_per_sample': 0.00010922307968139648, 'inf_time_per_sample': 0.00020184218883514404, 'acc': 0.4487, 'precision_k': 0.34226875}\n",
      "loading dataset...\n",
      "loading cached base embedding...\n",
      "compute query embedding...\n"
     ]
    },
    {
     "name": "stderr",
     "output_type": "stream",
     "text": [
      "100%|███████████████████████████████████████████████████████████████████████████████████████████████| 10000/10000 [00:00<00:00, 16890.42it/s]\n"
     ]
    },
    {
     "name": "stdout",
     "output_type": "stream",
     "text": [
      "{'dataset': 'point_mnist', 'pooling': 'gem-4', 'ann': 'faiss-lsh', 'k': 16, 'code_length': 1024, 'power': 4, 'emb_time_per_sample': 8.476018905639648e-05, 'inf_time_per_sample': 0.00035171661376953126, 'acc': 0.4872, 'precision_k': 0.38305625}\n"
     ]
    }
   ],
   "source": [
    "pointmnist_data = [get_sens_stats('point_mnist', k) for k in ks]"
   ]
  },
  {
   "cell_type": "code",
   "execution_count": 13,
   "id": "b11738fb",
   "metadata": {},
   "outputs": [],
   "source": [
    "pointmnist_data_k = list(itertools.chain.from_iterable(pointmnist_data))"
   ]
  },
  {
   "cell_type": "code",
   "execution_count": 14,
   "id": "6a9d2124",
   "metadata": {},
   "outputs": [
    {
     "data": {
      "text/html": [
       "\n",
       "<div id=\"altair-viz-4a516b85c7884eadb9dd5a2eee5f47a3\"></div>\n",
       "<script type=\"text/javascript\">\n",
       "  (function(spec, embedOpt){\n",
       "    let outputDiv = document.currentScript.previousElementSibling;\n",
       "    if (outputDiv.id !== \"altair-viz-4a516b85c7884eadb9dd5a2eee5f47a3\") {\n",
       "      outputDiv = document.getElementById(\"altair-viz-4a516b85c7884eadb9dd5a2eee5f47a3\");\n",
       "    }\n",
       "    const paths = {\n",
       "      \"vega\": \"https://cdn.jsdelivr.net/npm//vega@5?noext\",\n",
       "      \"vega-lib\": \"https://cdn.jsdelivr.net/npm//vega-lib?noext\",\n",
       "      \"vega-lite\": \"https://cdn.jsdelivr.net/npm//vega-lite@4.8.1?noext\",\n",
       "      \"vega-embed\": \"https://cdn.jsdelivr.net/npm//vega-embed@6?noext\",\n",
       "    };\n",
       "\n",
       "    function loadScript(lib) {\n",
       "      return new Promise(function(resolve, reject) {\n",
       "        var s = document.createElement('script');\n",
       "        s.src = paths[lib];\n",
       "        s.async = true;\n",
       "        s.onload = () => resolve(paths[lib]);\n",
       "        s.onerror = () => reject(`Error loading script: ${paths[lib]}`);\n",
       "        document.getElementsByTagName(\"head\")[0].appendChild(s);\n",
       "      });\n",
       "    }\n",
       "\n",
       "    function showError(err) {\n",
       "      outputDiv.innerHTML = `<div class=\"error\" style=\"color:red;\">${err}</div>`;\n",
       "      throw err;\n",
       "    }\n",
       "\n",
       "    function displayChart(vegaEmbed) {\n",
       "      vegaEmbed(outputDiv, spec, embedOpt)\n",
       "        .catch(err => showError(`Javascript Error: ${err.message}<br>This usually means there's a typo in your chart specification. See the javascript console for the full traceback.`));\n",
       "    }\n",
       "\n",
       "    if(typeof define === \"function\" && define.amd) {\n",
       "      requirejs.config({paths});\n",
       "      require([\"vega-embed\"], displayChart, err => showError(`Error loading script: ${err.message}`));\n",
       "    } else if (typeof vegaEmbed === \"function\") {\n",
       "      displayChart(vegaEmbed);\n",
       "    } else {\n",
       "      loadScript(\"vega\")\n",
       "        .then(() => loadScript(\"vega-lite\"))\n",
       "        .then(() => loadScript(\"vega-embed\"))\n",
       "        .catch(showError)\n",
       "        .then(() => displayChart(vegaEmbed));\n",
       "    }\n",
       "  })({\"config\": {\"view\": {\"continuousWidth\": 400, \"continuousHeight\": 300}}, \"data\": {\"values\": [{\"dataset\": \"point_mnist\", \"pooling\": \"swe\", \"ann\": \"faiss-lsh\", \"k\": 4, \"code_length\": 16, \"emb_time_per_sample\": 0.0007716635942459106, \"inf_time_per_sample\": 1.0083508491516114e-05, \"acc\": 0.2369, \"precision_k\": 0.19255}, {\"dataset\": \"point_mnist\", \"pooling\": \"swe\", \"ann\": \"faiss-lsh\", \"k\": 4, \"code_length\": 32, \"emb_time_per_sample\": 0.0007769557952880859, \"inf_time_per_sample\": 1.0964012145996095e-05, \"acc\": 0.3621, \"precision_k\": 0.3194}, {\"dataset\": \"point_mnist\", \"pooling\": \"swe\", \"ann\": \"faiss-lsh\", \"k\": 4, \"code_length\": 64, \"emb_time_per_sample\": 0.0007513515949249267, \"inf_time_per_sample\": 2.3848819732666016e-05, \"acc\": 0.4475, \"precision_k\": 0.402025}, {\"dataset\": \"point_mnist\", \"pooling\": \"swe\", \"ann\": \"faiss-lsh\", \"k\": 4, \"code_length\": 128, \"emb_time_per_sample\": 0.000782470703125, \"inf_time_per_sample\": 2.778339385986328e-05, \"acc\": 0.7134, \"precision_k\": 0.662125}, {\"dataset\": \"point_mnist\", \"pooling\": \"swe\", \"ann\": \"faiss-lsh\", \"k\": 4, \"code_length\": 256, \"emb_time_per_sample\": 0.0007750214338302612, \"inf_time_per_sample\": 0.0001177126169204712, \"acc\": 0.803, \"precision_k\": 0.752325}, {\"dataset\": \"point_mnist\", \"pooling\": \"swe\", \"ann\": \"faiss-lsh\", \"k\": 4, \"code_length\": 512, \"emb_time_per_sample\": 0.0007631345272064209, \"inf_time_per_sample\": 0.00023967518806457518, \"acc\": 0.8822, \"precision_k\": 0.839425}, {\"dataset\": \"point_mnist\", \"pooling\": \"swe\", \"ann\": \"faiss-lsh\", \"k\": 4, \"code_length\": 1024, \"emb_time_per_sample\": 0.0007870220899581909, \"inf_time_per_sample\": 0.0003678351879119873, \"acc\": 0.9166, \"precision_k\": 0.8858}, {\"dataset\": \"point_mnist\", \"pooling\": \"fs\", \"ann\": \"faiss-lsh\", \"k\": 4, \"code_length\": 16, \"emb_time_per_sample\": 0.00022748339176177979, \"inf_time_per_sample\": 9.631204605102539e-06, \"acc\": 0.1333, \"precision_k\": 0.118475}, {\"dataset\": \"point_mnist\", \"pooling\": \"fs\", \"ann\": \"faiss-lsh\", \"k\": 4, \"code_length\": 32, \"emb_time_per_sample\": 0.00022288918495178223, \"inf_time_per_sample\": 9.319591522216796e-06, \"acc\": 0.307, \"precision_k\": 0.291975}, {\"dataset\": \"point_mnist\", \"pooling\": \"fs\", \"ann\": \"faiss-lsh\", \"k\": 4, \"code_length\": 64, \"emb_time_per_sample\": 0.00022487871646881103, \"inf_time_per_sample\": 2.207198143005371e-05, \"acc\": 0.3481, \"precision_k\": 0.315125}, {\"dataset\": \"point_mnist\", \"pooling\": \"fs\", \"ann\": \"faiss-lsh\", \"k\": 4, \"code_length\": 128, \"emb_time_per_sample\": 0.000231463885307312, \"inf_time_per_sample\": 2.4463605880737304e-05, \"acc\": 0.6033, \"precision_k\": 0.5459}, {\"dataset\": \"point_mnist\", \"pooling\": \"fs\", \"ann\": \"faiss-lsh\", \"k\": 4, \"code_length\": 256, \"emb_time_per_sample\": 0.00023459041118621825, \"inf_time_per_sample\": 0.000114385986328125, \"acc\": 0.6844, \"precision_k\": 0.6285}, {\"dataset\": \"point_mnist\", \"pooling\": \"fs\", \"ann\": \"faiss-lsh\", \"k\": 4, \"code_length\": 512, \"emb_time_per_sample\": 0.0002378278970718384, \"inf_time_per_sample\": 0.00019879281520843506, \"acc\": 0.771, \"precision_k\": 0.721175}, {\"dataset\": \"point_mnist\", \"pooling\": \"fs\", \"ann\": \"faiss-lsh\", \"k\": 4, \"code_length\": 1024, \"emb_time_per_sample\": 0.00023632638454437255, \"inf_time_per_sample\": 0.000359679913520813, \"acc\": 0.7987, \"precision_k\": 0.7485}, {\"dataset\": \"point_mnist\", \"pooling\": \"cov\", \"ann\": \"faiss-lsh\", \"k\": 4, \"code_length\": 16, \"emb_time_per_sample\": 9.105131626129151e-05, \"inf_time_per_sample\": 9.096384048461914e-06, \"acc\": 0.204, \"precision_k\": 0.204025}, {\"dataset\": \"point_mnist\", \"pooling\": \"cov\", \"ann\": \"faiss-lsh\", \"k\": 4, \"code_length\": 32, \"emb_time_per_sample\": 0.00010107009410858154, \"inf_time_per_sample\": 8.908629417419433e-06, \"acc\": 0.2481, \"precision_k\": 0.2337}, {\"dataset\": \"point_mnist\", \"pooling\": \"cov\", \"ann\": \"faiss-lsh\", \"k\": 4, \"code_length\": 64, \"emb_time_per_sample\": 8.702759742736816e-05, \"inf_time_per_sample\": 2.1702766418457033e-05, \"acc\": 0.2642, \"precision_k\": 0.243125}, {\"dataset\": \"point_mnist\", \"pooling\": \"cov\", \"ann\": \"faiss-lsh\", \"k\": 4, \"code_length\": 128, \"emb_time_per_sample\": 8.653099536895752e-05, \"inf_time_per_sample\": 2.3775696754455566e-05, \"acc\": 0.265, \"precision_k\": 0.2474}, {\"dataset\": \"point_mnist\", \"pooling\": \"cov\", \"ann\": \"faiss-lsh\", \"k\": 4, \"code_length\": 256, \"emb_time_per_sample\": 0.00010660181045532227, \"inf_time_per_sample\": 0.00011569149494171142, \"acc\": 0.2647, \"precision_k\": 0.24705}, {\"dataset\": \"point_mnist\", \"pooling\": \"cov\", \"ann\": \"faiss-lsh\", \"k\": 4, \"code_length\": 512, \"emb_time_per_sample\": 8.733062744140625e-05, \"inf_time_per_sample\": 0.00018790669441223144, \"acc\": 0.2701, \"precision_k\": 0.247875}, {\"dataset\": \"point_mnist\", \"pooling\": \"cov\", \"ann\": \"faiss-lsh\", \"k\": 4, \"code_length\": 1024, \"emb_time_per_sample\": 8.667950630187988e-05, \"inf_time_per_sample\": 0.00036327660083770755, \"acc\": 0.265, \"precision_k\": 0.247325}, {\"dataset\": \"point_mnist\", \"pooling\": \"gem-1\", \"ann\": \"faiss-lsh\", \"k\": 4, \"code_length\": 16, \"power\": 1, \"emb_time_per_sample\": 6.157209873199463e-05, \"inf_time_per_sample\": 1.0201478004455566e-05, \"acc\": 0.1037, \"precision_k\": 0.101125}, {\"dataset\": \"point_mnist\", \"pooling\": \"gem-1\", \"ann\": \"faiss-lsh\", \"k\": 4, \"code_length\": 32, \"power\": 1, \"emb_time_per_sample\": 4.7665810585021975e-05, \"inf_time_per_sample\": 8.653306961059571e-06, \"acc\": 0.1084, \"precision_k\": 0.107225}, {\"dataset\": \"point_mnist\", \"pooling\": \"gem-1\", \"ann\": \"faiss-lsh\", \"k\": 4, \"code_length\": 64, \"power\": 1, \"emb_time_per_sample\": 4.9758267402648927e-05, \"inf_time_per_sample\": 2.4228692054748536e-05, \"acc\": 0.1045, \"precision_k\": 0.1048}, {\"dataset\": \"point_mnist\", \"pooling\": \"gem-1\", \"ann\": \"faiss-lsh\", \"k\": 4, \"code_length\": 128, \"power\": 1, \"emb_time_per_sample\": 4.609379768371582e-05, \"inf_time_per_sample\": 2.637917995452881e-05, \"acc\": 0.1116, \"precision_k\": 0.101175}, {\"dataset\": \"point_mnist\", \"pooling\": \"gem-1\", \"ann\": \"faiss-lsh\", \"k\": 4, \"code_length\": 256, \"power\": 1, \"emb_time_per_sample\": 5.295460224151611e-05, \"inf_time_per_sample\": 0.00011113200187683105, \"acc\": 0.1085, \"precision_k\": 0.1053}, {\"dataset\": \"point_mnist\", \"pooling\": \"gem-1\", \"ann\": \"faiss-lsh\", \"k\": 4, \"code_length\": 512, \"power\": 1, \"emb_time_per_sample\": 4.6230888366699217e-05, \"inf_time_per_sample\": 0.0002003445863723755, \"acc\": 0.1057, \"precision_k\": 0.1009}, {\"dataset\": \"point_mnist\", \"pooling\": \"gem-1\", \"ann\": \"faiss-lsh\", \"k\": 4, \"code_length\": 1024, \"power\": 1, \"emb_time_per_sample\": 4.763779640197754e-05, \"inf_time_per_sample\": 0.0003391622304916382, \"acc\": 0.1085, \"precision_k\": 0.104125}, {\"dataset\": \"point_mnist\", \"pooling\": \"gem-2\", \"ann\": \"faiss-lsh\", \"k\": 4, \"code_length\": 16, \"power\": 2, \"emb_time_per_sample\": 6.290459632873535e-05, \"inf_time_per_sample\": 1.0206389427185059e-05, \"acc\": 0.0984, \"precision_k\": 0.100075}, {\"dataset\": \"point_mnist\", \"pooling\": \"gem-2\", \"ann\": \"faiss-lsh\", \"k\": 4, \"code_length\": 32, \"power\": 2, \"emb_time_per_sample\": 7.113552093505859e-05, \"inf_time_per_sample\": 9.0986967086792e-06, \"acc\": 0.1459, \"precision_k\": 0.128525}, {\"dataset\": \"point_mnist\", \"pooling\": \"gem-2\", \"ann\": \"faiss-lsh\", \"k\": 4, \"code_length\": 64, \"power\": 2, \"emb_time_per_sample\": 6.267781257629394e-05, \"inf_time_per_sample\": 2.5075387954711914e-05, \"acc\": 0.1722, \"precision_k\": 0.13815}, {\"dataset\": \"point_mnist\", \"pooling\": \"gem-2\", \"ann\": \"faiss-lsh\", \"k\": 4, \"code_length\": 128, \"power\": 2, \"emb_time_per_sample\": 6.286520957946777e-05, \"inf_time_per_sample\": 2.3654413223266603e-05, \"acc\": 0.1852, \"precision_k\": 0.15545}, {\"dataset\": \"point_mnist\", \"pooling\": \"gem-2\", \"ann\": \"faiss-lsh\", \"k\": 4, \"code_length\": 256, \"power\": 2, \"emb_time_per_sample\": 6.11429214477539e-05, \"inf_time_per_sample\": 0.0001175142765045166, \"acc\": 0.259, \"precision_k\": 0.213675}, {\"dataset\": \"point_mnist\", \"pooling\": \"gem-2\", \"ann\": \"faiss-lsh\", \"k\": 4, \"code_length\": 512, \"power\": 2, \"emb_time_per_sample\": 6.0144424438476565e-05, \"inf_time_per_sample\": 0.0001943445920944214, \"acc\": 0.2715, \"precision_k\": 0.247425}, {\"dataset\": \"point_mnist\", \"pooling\": \"gem-2\", \"ann\": \"faiss-lsh\", \"k\": 4, \"code_length\": 1024, \"power\": 2, \"emb_time_per_sample\": 6.828138828277588e-05, \"inf_time_per_sample\": 0.0003444307804107666, \"acc\": 0.3218, \"precision_k\": 0.2872}, {\"dataset\": \"point_mnist\", \"pooling\": \"gem-4\", \"ann\": \"faiss-lsh\", \"k\": 4, \"code_length\": 16, \"power\": 4, \"emb_time_per_sample\": 9.021477699279785e-05, \"inf_time_per_sample\": 1.0001993179321289e-05, \"acc\": 0.098, \"precision_k\": 0.099725}, {\"dataset\": \"point_mnist\", \"pooling\": \"gem-4\", \"ann\": \"faiss-lsh\", \"k\": 4, \"code_length\": 32, \"power\": 4, \"emb_time_per_sample\": 9.525928497314453e-05, \"inf_time_per_sample\": 9.28640365600586e-06, \"acc\": 0.0983, \"precision_k\": 0.105825}, {\"dataset\": \"point_mnist\", \"pooling\": \"gem-4\", \"ann\": \"faiss-lsh\", \"k\": 4, \"code_length\": 64, \"power\": 4, \"emb_time_per_sample\": 9.106450080871582e-05, \"inf_time_per_sample\": 2.2234582901000977e-05, \"acc\": 0.1941, \"precision_k\": 0.154175}, {\"dataset\": \"point_mnist\", \"pooling\": \"gem-4\", \"ann\": \"faiss-lsh\", \"k\": 4, \"code_length\": 128, \"power\": 4, \"emb_time_per_sample\": 0.00010354979038238525, \"inf_time_per_sample\": 2.4162578582763673e-05, \"acc\": 0.2565, \"precision_k\": 0.2395}, {\"dataset\": \"point_mnist\", \"pooling\": \"gem-4\", \"ann\": \"faiss-lsh\", \"k\": 4, \"code_length\": 256, \"power\": 4, \"emb_time_per_sample\": 8.665461540222168e-05, \"inf_time_per_sample\": 0.00011168689727783203, \"acc\": 0.2773, \"precision_k\": 0.226925}, {\"dataset\": \"point_mnist\", \"pooling\": \"gem-4\", \"ann\": \"faiss-lsh\", \"k\": 4, \"code_length\": 512, \"power\": 4, \"emb_time_per_sample\": 8.724439144134522e-05, \"inf_time_per_sample\": 0.00021328780651092528, \"acc\": 0.3943, \"precision_k\": 0.35115}, {\"dataset\": \"point_mnist\", \"pooling\": \"gem-4\", \"ann\": \"faiss-lsh\", \"k\": 4, \"code_length\": 1024, \"power\": 4, \"emb_time_per_sample\": 9.348690509796143e-05, \"inf_time_per_sample\": 0.0003460201978683472, \"acc\": 0.4459, \"precision_k\": 0.39365}, {\"dataset\": \"point_mnist\", \"pooling\": \"swe\", \"ann\": \"faiss-lsh\", \"k\": 8, \"code_length\": 16, \"emb_time_per_sample\": 0.000767978811264038, \"inf_time_per_sample\": 9.982085227966308e-06, \"acc\": 0.2337, \"precision_k\": 0.187825}, {\"dataset\": \"point_mnist\", \"pooling\": \"swe\", \"ann\": \"faiss-lsh\", \"k\": 8, \"code_length\": 32, \"emb_time_per_sample\": 0.0007605952024459839, \"inf_time_per_sample\": 1.0838723182678223e-05, \"acc\": 0.3858, \"precision_k\": 0.337175}, {\"dataset\": \"point_mnist\", \"pooling\": \"swe\", \"ann\": \"faiss-lsh\", \"k\": 8, \"code_length\": 64, \"emb_time_per_sample\": 0.0007588509798049927, \"inf_time_per_sample\": 2.3859286308288573e-05, \"acc\": 0.4554, \"precision_k\": 0.4013875}, {\"dataset\": \"point_mnist\", \"pooling\": \"swe\", \"ann\": \"faiss-lsh\", \"k\": 8, \"code_length\": 128, \"emb_time_per_sample\": 0.00075535306930542, \"inf_time_per_sample\": 2.796487808227539e-05, \"acc\": 0.7329, \"precision_k\": 0.64835}, {\"dataset\": \"point_mnist\", \"pooling\": \"swe\", \"ann\": \"faiss-lsh\", \"k\": 8, \"code_length\": 256, \"emb_time_per_sample\": 0.0007531759977340699, \"inf_time_per_sample\": 0.00011907851696014405, \"acc\": 0.8142, \"precision_k\": 0.7406875}, {\"dataset\": \"point_mnist\", \"pooling\": \"swe\", \"ann\": \"faiss-lsh\", \"k\": 8, \"code_length\": 512, \"emb_time_per_sample\": 0.0007839797973632813, \"inf_time_per_sample\": 0.000230936598777771, \"acc\": 0.8867, \"precision_k\": 0.8272}, {\"dataset\": \"point_mnist\", \"pooling\": \"swe\", \"ann\": \"faiss-lsh\", \"k\": 8, \"code_length\": 1024, \"emb_time_per_sample\": 0.0007650645017623902, \"inf_time_per_sample\": 0.0003705602169036865, \"acc\": 0.9175, \"precision_k\": 0.87465}, {\"dataset\": \"point_mnist\", \"pooling\": \"fs\", \"ann\": \"faiss-lsh\", \"k\": 8, \"code_length\": 16, \"emb_time_per_sample\": 0.0002219846725463867, \"inf_time_per_sample\": 1.0075211524963378e-05, \"acc\": 0.1039, \"precision_k\": 0.1205125}, {\"dataset\": \"point_mnist\", \"pooling\": \"fs\", \"ann\": \"faiss-lsh\", \"k\": 8, \"code_length\": 32, \"emb_time_per_sample\": 0.0002201732873916626, \"inf_time_per_sample\": 8.981990814208985e-06, \"acc\": 0.3537, \"precision_k\": 0.2839125}, {\"dataset\": \"point_mnist\", \"pooling\": \"fs\", \"ann\": \"faiss-lsh\", \"k\": 8, \"code_length\": 64, \"emb_time_per_sample\": 0.00022419440746307374, \"inf_time_per_sample\": 2.1900105476379394e-05, \"acc\": 0.3783, \"precision_k\": 0.30965}, {\"dataset\": \"point_mnist\", \"pooling\": \"fs\", \"ann\": \"faiss-lsh\", \"k\": 8, \"code_length\": 128, \"emb_time_per_sample\": 0.00021754789352416992, \"inf_time_per_sample\": 2.4064087867736818e-05, \"acc\": 0.621, \"precision_k\": 0.538325}, {\"dataset\": \"point_mnist\", \"pooling\": \"fs\", \"ann\": \"faiss-lsh\", \"k\": 8, \"code_length\": 256, \"emb_time_per_sample\": 0.00021377499103546142, \"inf_time_per_sample\": 0.00011142210960388183, \"acc\": 0.699, \"precision_k\": 0.6165625}, {\"dataset\": \"point_mnist\", \"pooling\": \"fs\", \"ann\": \"faiss-lsh\", \"k\": 8, \"code_length\": 512, \"emb_time_per_sample\": 0.00021403207778930664, \"inf_time_per_sample\": 0.00018860340118408202, \"acc\": 0.7814, \"precision_k\": 0.7110125}, {\"dataset\": \"point_mnist\", \"pooling\": \"fs\", \"ann\": \"faiss-lsh\", \"k\": 8, \"code_length\": 1024, \"emb_time_per_sample\": 0.0002303318977355957, \"inf_time_per_sample\": 0.00037030670642852786, \"acc\": 0.8067, \"precision_k\": 0.7376875}, {\"dataset\": \"point_mnist\", \"pooling\": \"cov\", \"ann\": \"faiss-lsh\", \"k\": 8, \"code_length\": 16, \"emb_time_per_sample\": 8.84066104888916e-05, \"inf_time_per_sample\": 9.093809127807618e-06, \"acc\": 0.2188, \"precision_k\": 0.2020375}, {\"dataset\": \"point_mnist\", \"pooling\": \"cov\", \"ann\": \"faiss-lsh\", \"k\": 8, \"code_length\": 32, \"emb_time_per_sample\": 8.868958950042725e-05, \"inf_time_per_sample\": 9.91971492767334e-06, \"acc\": 0.2591, \"precision_k\": 0.235325}, {\"dataset\": \"point_mnist\", \"pooling\": \"cov\", \"ann\": \"faiss-lsh\", \"k\": 8, \"code_length\": 64, \"emb_time_per_sample\": 9.614081382751465e-05, \"inf_time_per_sample\": 2.2577691078186035e-05, \"acc\": 0.2682, \"precision_k\": 0.2432125}, {\"dataset\": \"point_mnist\", \"pooling\": \"cov\", \"ann\": \"faiss-lsh\", \"k\": 8, \"code_length\": 128, \"emb_time_per_sample\": 8.640878200531005e-05, \"inf_time_per_sample\": 2.382657527923584e-05, \"acc\": 0.2831, \"precision_k\": 0.2491}, {\"dataset\": \"point_mnist\", \"pooling\": \"cov\", \"ann\": \"faiss-lsh\", \"k\": 8, \"code_length\": 256, \"emb_time_per_sample\": 8.868739604949951e-05, \"inf_time_per_sample\": 0.00011623449325561524, \"acc\": 0.2694, \"precision_k\": 0.2451375}, {\"dataset\": \"point_mnist\", \"pooling\": \"cov\", \"ann\": \"faiss-lsh\", \"k\": 8, \"code_length\": 512, \"emb_time_per_sample\": 9.475889205932618e-05, \"inf_time_per_sample\": 0.0001896794319152832, \"acc\": 0.282, \"precision_k\": 0.248475}, {\"dataset\": \"point_mnist\", \"pooling\": \"cov\", \"ann\": \"faiss-lsh\", \"k\": 8, \"code_length\": 1024, \"emb_time_per_sample\": 9.328269958496093e-05, \"inf_time_per_sample\": 0.0003540783166885376, \"acc\": 0.276, \"precision_k\": 0.2480875}, {\"dataset\": \"point_mnist\", \"pooling\": \"gem-1\", \"ann\": \"faiss-lsh\", \"k\": 8, \"code_length\": 16, \"power\": 1, \"emb_time_per_sample\": 4.70944881439209e-05, \"inf_time_per_sample\": 8.959221839904785e-06, \"acc\": 0.1135, \"precision_k\": 0.102925}, {\"dataset\": \"point_mnist\", \"pooling\": \"gem-1\", \"ann\": \"faiss-lsh\", \"k\": 8, \"code_length\": 32, \"power\": 1, \"emb_time_per_sample\": 4.937987327575684e-05, \"inf_time_per_sample\": 9.085178375244141e-06, \"acc\": 0.1137, \"precision_k\": 0.103325}, {\"dataset\": \"point_mnist\", \"pooling\": \"gem-1\", \"ann\": \"faiss-lsh\", \"k\": 8, \"code_length\": 64, \"power\": 1, \"emb_time_per_sample\": 5.254669189453125e-05, \"inf_time_per_sample\": 2.176060676574707e-05, \"acc\": 0.1116, \"precision_k\": 0.1015125}, {\"dataset\": \"point_mnist\", \"pooling\": \"gem-1\", \"ann\": \"faiss-lsh\", \"k\": 8, \"code_length\": 128, \"power\": 1, \"emb_time_per_sample\": 4.5292305946350095e-05, \"inf_time_per_sample\": 2.3787713050842287e-05, \"acc\": 0.0986, \"precision_k\": 0.0989375}, {\"dataset\": \"point_mnist\", \"pooling\": \"gem-1\", \"ann\": \"faiss-lsh\", \"k\": 8, \"code_length\": 256, \"power\": 1, \"emb_time_per_sample\": 4.6839594841003416e-05, \"inf_time_per_sample\": 0.00012027111053466797, \"acc\": 0.1073, \"precision_k\": 0.1025375}, {\"dataset\": \"point_mnist\", \"pooling\": \"gem-1\", \"ann\": \"faiss-lsh\", \"k\": 8, \"code_length\": 512, \"power\": 1, \"emb_time_per_sample\": 4.9601411819458006e-05, \"inf_time_per_sample\": 0.0002179671049118042, \"acc\": 0.099, \"precision_k\": 0.0989}, {\"dataset\": \"point_mnist\", \"pooling\": \"gem-1\", \"ann\": \"faiss-lsh\", \"k\": 8, \"code_length\": 1024, \"power\": 1, \"emb_time_per_sample\": 5.148270130157471e-05, \"inf_time_per_sample\": 0.00035801920890808105, \"acc\": 0.1041, \"precision_k\": 0.1021875}, {\"dataset\": \"point_mnist\", \"pooling\": \"gem-2\", \"ann\": \"faiss-lsh\", \"k\": 8, \"code_length\": 16, \"power\": 2, \"emb_time_per_sample\": 6.830892562866211e-05, \"inf_time_per_sample\": 1.1492705345153808e-05, \"acc\": 0.114, \"precision_k\": 0.1024875}, {\"dataset\": \"point_mnist\", \"pooling\": \"gem-2\", \"ann\": \"faiss-lsh\", \"k\": 8, \"code_length\": 32, \"power\": 2, \"emb_time_per_sample\": 6.818628311157227e-05, \"inf_time_per_sample\": 1.4032387733459472e-05, \"acc\": 0.1529, \"precision_k\": 0.1217625}, {\"dataset\": \"point_mnist\", \"pooling\": \"gem-2\", \"ann\": \"faiss-lsh\", \"k\": 8, \"code_length\": 64, \"power\": 2, \"emb_time_per_sample\": 6.876049041748047e-05, \"inf_time_per_sample\": 2.9915285110473632e-05, \"acc\": 0.1876, \"precision_k\": 0.1432125}, {\"dataset\": \"point_mnist\", \"pooling\": \"gem-2\", \"ann\": \"faiss-lsh\", \"k\": 8, \"code_length\": 128, \"power\": 2, \"emb_time_per_sample\": 6.590280532836914e-05, \"inf_time_per_sample\": 2.8580403327941894e-05, \"acc\": 0.1858, \"precision_k\": 0.1553}, {\"dataset\": \"point_mnist\", \"pooling\": \"gem-2\", \"ann\": \"faiss-lsh\", \"k\": 8, \"code_length\": 256, \"power\": 2, \"emb_time_per_sample\": 7.531976699829101e-05, \"inf_time_per_sample\": 0.00012669100761413573, \"acc\": 0.2797, \"precision_k\": 0.2171375}, {\"dataset\": \"point_mnist\", \"pooling\": \"gem-2\", \"ann\": \"faiss-lsh\", \"k\": 8, \"code_length\": 512, \"power\": 2, \"emb_time_per_sample\": 6.59146785736084e-05, \"inf_time_per_sample\": 0.00021184818744659424, \"acc\": 0.3021, \"precision_k\": 0.2553625}, {\"dataset\": \"point_mnist\", \"pooling\": \"gem-2\", \"ann\": \"faiss-lsh\", \"k\": 8, \"code_length\": 1024, \"power\": 2, \"emb_time_per_sample\": 6.583402156829834e-05, \"inf_time_per_sample\": 0.00036934261322021483, \"acc\": 0.347, \"precision_k\": 0.2858}, {\"dataset\": \"point_mnist\", \"pooling\": \"gem-4\", \"ann\": \"faiss-lsh\", \"k\": 8, \"code_length\": 16, \"power\": 4, \"emb_time_per_sample\": 0.00010380978584289551, \"inf_time_per_sample\": 9.721398353576661e-06, \"acc\": 0.1135, \"precision_k\": 0.1021875}, {\"dataset\": \"point_mnist\", \"pooling\": \"gem-4\", \"ann\": \"faiss-lsh\", \"k\": 8, \"code_length\": 32, \"power\": 4, \"emb_time_per_sample\": 9.719750881195069e-05, \"inf_time_per_sample\": 1.1865377426147462e-05, \"acc\": 0.1215, \"precision_k\": 0.1075}, {\"dataset\": \"point_mnist\", \"pooling\": \"gem-4\", \"ann\": \"faiss-lsh\", \"k\": 8, \"code_length\": 64, \"power\": 4, \"emb_time_per_sample\": 8.789670467376709e-05, \"inf_time_per_sample\": 2.193751335144043e-05, \"acc\": 0.1794, \"precision_k\": 0.15215}, {\"dataset\": \"point_mnist\", \"pooling\": \"gem-4\", \"ann\": \"faiss-lsh\", \"k\": 8, \"code_length\": 128, \"power\": 4, \"emb_time_per_sample\": 8.72046709060669e-05, \"inf_time_per_sample\": 2.5710201263427734e-05, \"acc\": 0.2728, \"precision_k\": 0.2211375}, {\"dataset\": \"point_mnist\", \"pooling\": \"gem-4\", \"ann\": \"faiss-lsh\", \"k\": 8, \"code_length\": 256, \"power\": 4, \"emb_time_per_sample\": 9.211559295654296e-05, \"inf_time_per_sample\": 0.00012034649848937988, \"acc\": 0.2911, \"precision_k\": 0.2305375}, {\"dataset\": \"point_mnist\", \"pooling\": \"gem-4\", \"ann\": \"faiss-lsh\", \"k\": 8, \"code_length\": 512, \"power\": 4, \"emb_time_per_sample\": 8.206777572631836e-05, \"inf_time_per_sample\": 0.00020457007884979247, \"acc\": 0.432, \"precision_k\": 0.3465875}, {\"dataset\": \"point_mnist\", \"pooling\": \"gem-4\", \"ann\": \"faiss-lsh\", \"k\": 8, \"code_length\": 1024, \"power\": 4, \"emb_time_per_sample\": 0.0001112419843673706, \"inf_time_per_sample\": 0.00035123231410980223, \"acc\": 0.4715, \"precision_k\": 0.3905125}, {\"dataset\": \"point_mnist\", \"pooling\": \"swe\", \"ann\": \"faiss-lsh\", \"k\": 16, \"code_length\": 16, \"emb_time_per_sample\": 0.0008244176864624024, \"inf_time_per_sample\": 1.1175823211669922e-05, \"acc\": 0.2425, \"precision_k\": 0.19985}, {\"dataset\": \"point_mnist\", \"pooling\": \"swe\", \"ann\": \"faiss-lsh\", \"k\": 16, \"code_length\": 32, \"emb_time_per_sample\": 0.0007407170057296753, \"inf_time_per_sample\": 1.0512328147888184e-05, \"acc\": 0.4141, \"precision_k\": 0.3278375}, {\"dataset\": \"point_mnist\", \"pooling\": \"swe\", \"ann\": \"faiss-lsh\", \"k\": 16, \"code_length\": 64, \"emb_time_per_sample\": 0.0007799139022827148, \"inf_time_per_sample\": 3.101577758789062e-05, \"acc\": 0.4857, \"precision_k\": 0.3973}, {\"dataset\": \"point_mnist\", \"pooling\": \"swe\", \"ann\": \"faiss-lsh\", \"k\": 16, \"code_length\": 128, \"emb_time_per_sample\": 0.0007700631856918335, \"inf_time_per_sample\": 2.8137588500976563e-05, \"acc\": 0.7385, \"precision_k\": 0.6319875}, {\"dataset\": \"point_mnist\", \"pooling\": \"swe\", \"ann\": \"faiss-lsh\", \"k\": 16, \"code_length\": 256, \"emb_time_per_sample\": 0.0007575244903564453, \"inf_time_per_sample\": 0.00011860179901123047, \"acc\": 0.8159, \"precision_k\": 0.72508125}, {\"dataset\": \"point_mnist\", \"pooling\": \"swe\", \"ann\": \"faiss-lsh\", \"k\": 16, \"code_length\": 512, \"emb_time_per_sample\": 0.0007803636789321899, \"inf_time_per_sample\": 0.00022464451789855957, \"acc\": 0.8836, \"precision_k\": 0.81131875}, {\"dataset\": \"point_mnist\", \"pooling\": \"swe\", \"ann\": \"faiss-lsh\", \"k\": 16, \"code_length\": 1024, \"emb_time_per_sample\": 0.0007439037084579468, \"inf_time_per_sample\": 0.0003721541881561279, \"acc\": 0.915, \"precision_k\": 0.86001875}, {\"dataset\": \"point_mnist\", \"pooling\": \"fs\", \"ann\": \"faiss-lsh\", \"k\": 16, \"code_length\": 16, \"emb_time_per_sample\": 0.00023657100200653077, \"inf_time_per_sample\": 9.802699089050292e-06, \"acc\": 0.1181, \"precision_k\": 0.12578125}, {\"dataset\": \"point_mnist\", \"pooling\": \"fs\", \"ann\": \"faiss-lsh\", \"k\": 16, \"code_length\": 32, \"emb_time_per_sample\": 0.00022609388828277589, \"inf_time_per_sample\": 9.765005111694336e-06, \"acc\": 0.3829, \"precision_k\": 0.2842}, {\"dataset\": \"point_mnist\", \"pooling\": \"fs\", \"ann\": \"faiss-lsh\", \"k\": 16, \"code_length\": 64, \"emb_time_per_sample\": 0.00024404771327972413, \"inf_time_per_sample\": 2.2661995887756347e-05, \"acc\": 0.3964, \"precision_k\": 0.3038}, {\"dataset\": \"point_mnist\", \"pooling\": \"fs\", \"ann\": \"faiss-lsh\", \"k\": 16, \"code_length\": 128, \"emb_time_per_sample\": 0.0002411876916885376, \"inf_time_per_sample\": 2.806589603424072e-05, \"acc\": 0.6366, \"precision_k\": 0.5285875}, {\"dataset\": \"point_mnist\", \"pooling\": \"fs\", \"ann\": \"faiss-lsh\", \"k\": 16, \"code_length\": 256, \"emb_time_per_sample\": 0.00024249651432037354, \"inf_time_per_sample\": 0.00012373690605163573, \"acc\": 0.7042, \"precision_k\": 0.60476875}, {\"dataset\": \"point_mnist\", \"pooling\": \"fs\", \"ann\": \"faiss-lsh\", \"k\": 16, \"code_length\": 512, \"emb_time_per_sample\": 0.00025872581005096436, \"inf_time_per_sample\": 0.00021630260944366454, \"acc\": 0.7882, \"precision_k\": 0.6986625}, {\"dataset\": \"point_mnist\", \"pooling\": \"fs\", \"ann\": \"faiss-lsh\", \"k\": 16, \"code_length\": 1024, \"emb_time_per_sample\": 0.00024461939334869385, \"inf_time_per_sample\": 0.0003812242031097412, \"acc\": 0.8066, \"precision_k\": 0.7252625}, {\"dataset\": \"point_mnist\", \"pooling\": \"cov\", \"ann\": \"faiss-lsh\", \"k\": 16, \"code_length\": 16, \"emb_time_per_sample\": 9.920382499694824e-05, \"inf_time_per_sample\": 1.0178518295288086e-05, \"acc\": 0.2497, \"precision_k\": 0.20638125}, {\"dataset\": \"point_mnist\", \"pooling\": \"cov\", \"ann\": \"faiss-lsh\", \"k\": 16, \"code_length\": 32, \"emb_time_per_sample\": 8.812530040740967e-05, \"inf_time_per_sample\": 9.11862850189209e-06, \"acc\": 0.278, \"precision_k\": 0.2351625}, {\"dataset\": \"point_mnist\", \"pooling\": \"cov\", \"ann\": \"faiss-lsh\", \"k\": 16, \"code_length\": 64, \"emb_time_per_sample\": 0.00010667240619659423, \"inf_time_per_sample\": 2.1999382972717284e-05, \"acc\": 0.2814, \"precision_k\": 0.2442875}, {\"dataset\": \"point_mnist\", \"pooling\": \"cov\", \"ann\": \"faiss-lsh\", \"k\": 16, \"code_length\": 128, \"emb_time_per_sample\": 8.607759475708008e-05, \"inf_time_per_sample\": 2.4746894836425783e-05, \"acc\": 0.2872, \"precision_k\": 0.24749375}, {\"dataset\": \"point_mnist\", \"pooling\": \"cov\", \"ann\": \"faiss-lsh\", \"k\": 16, \"code_length\": 256, \"emb_time_per_sample\": 8.231499195098877e-05, \"inf_time_per_sample\": 0.00011368498802185059, \"acc\": 0.2858, \"precision_k\": 0.24643125}, {\"dataset\": \"point_mnist\", \"pooling\": \"cov\", \"ann\": \"faiss-lsh\", \"k\": 16, \"code_length\": 512, \"emb_time_per_sample\": 8.892982006072998e-05, \"inf_time_per_sample\": 0.00019098730087280274, \"acc\": 0.2898, \"precision_k\": 0.24865}, {\"dataset\": \"point_mnist\", \"pooling\": \"cov\", \"ann\": \"faiss-lsh\", \"k\": 16, \"code_length\": 1024, \"emb_time_per_sample\": 8.478388786315918e-05, \"inf_time_per_sample\": 0.0003557032823562622, \"acc\": 0.2811, \"precision_k\": 0.2480125}, {\"dataset\": \"point_mnist\", \"pooling\": \"gem-1\", \"ann\": \"faiss-lsh\", \"k\": 16, \"code_length\": 16, \"power\": 1, \"emb_time_per_sample\": 5.349340438842774e-05, \"inf_time_per_sample\": 1.153731346130371e-05, \"acc\": 0.1111, \"precision_k\": 0.10155625}, {\"dataset\": \"point_mnist\", \"pooling\": \"gem-1\", \"ann\": \"faiss-lsh\", \"k\": 16, \"code_length\": 32, \"power\": 1, \"emb_time_per_sample\": 6.184859275817872e-05, \"inf_time_per_sample\": 1.3496017456054688e-05, \"acc\": 0.113, \"precision_k\": 0.1023625}, {\"dataset\": \"point_mnist\", \"pooling\": \"gem-1\", \"ann\": \"faiss-lsh\", \"k\": 16, \"code_length\": 64, \"power\": 1, \"emb_time_per_sample\": 5.265820026397705e-05, \"inf_time_per_sample\": 2.5335407257080077e-05, \"acc\": 0.1184, \"precision_k\": 0.1026625}, {\"dataset\": \"point_mnist\", \"pooling\": \"gem-1\", \"ann\": \"faiss-lsh\", \"k\": 16, \"code_length\": 128, \"power\": 1, \"emb_time_per_sample\": 4.906752109527588e-05, \"inf_time_per_sample\": 2.4996209144592286e-05, \"acc\": 0.101, \"precision_k\": 0.10141875}, {\"dataset\": \"point_mnist\", \"pooling\": \"gem-1\", \"ann\": \"faiss-lsh\", \"k\": 16, \"code_length\": 256, \"power\": 1, \"emb_time_per_sample\": 4.623942375183106e-05, \"inf_time_per_sample\": 0.00011218729019165039, \"acc\": 0.1014, \"precision_k\": 0.101575}, {\"dataset\": \"point_mnist\", \"pooling\": \"gem-1\", \"ann\": \"faiss-lsh\", \"k\": 16, \"code_length\": 512, \"power\": 1, \"emb_time_per_sample\": 6.85182809829712e-05, \"inf_time_per_sample\": 0.0001872843027114868, \"acc\": 0.1008, \"precision_k\": 0.10150625}, {\"dataset\": \"point_mnist\", \"pooling\": \"gem-1\", \"ann\": \"faiss-lsh\", \"k\": 16, \"code_length\": 1024, \"power\": 1, \"emb_time_per_sample\": 4.529902935028076e-05, \"inf_time_per_sample\": 0.0004001920938491821, \"acc\": 0.0996, \"precision_k\": 0.10111875}, {\"dataset\": \"point_mnist\", \"pooling\": \"gem-2\", \"ann\": \"faiss-lsh\", \"k\": 16, \"code_length\": 16, \"power\": 2, \"emb_time_per_sample\": 6.322808265686034e-05, \"inf_time_per_sample\": 9.135699272155762e-06, \"acc\": 0.114, \"precision_k\": 0.10231875}, {\"dataset\": \"point_mnist\", \"pooling\": \"gem-2\", \"ann\": \"faiss-lsh\", \"k\": 16, \"code_length\": 32, \"power\": 2, \"emb_time_per_sample\": 6.272828578948974e-05, \"inf_time_per_sample\": 8.917617797851562e-06, \"acc\": 0.1529, \"precision_k\": 0.12854375}, {\"dataset\": \"point_mnist\", \"pooling\": \"gem-2\", \"ann\": \"faiss-lsh\", \"k\": 16, \"code_length\": 64, \"power\": 2, \"emb_time_per_sample\": 6.291990280151367e-05, \"inf_time_per_sample\": 2.3435497283935545e-05, \"acc\": 0.1966, \"precision_k\": 0.14513125}, {\"dataset\": \"point_mnist\", \"pooling\": \"gem-2\", \"ann\": \"faiss-lsh\", \"k\": 16, \"code_length\": 128, \"power\": 2, \"emb_time_per_sample\": 7.229020595550538e-05, \"inf_time_per_sample\": 2.4867892265319824e-05, \"acc\": 0.175, \"precision_k\": 0.1515875}, {\"dataset\": \"point_mnist\", \"pooling\": \"gem-2\", \"ann\": \"faiss-lsh\", \"k\": 16, \"code_length\": 256, \"power\": 2, \"emb_time_per_sample\": 6.0123705863952636e-05, \"inf_time_per_sample\": 0.00011701760292053222, \"acc\": 0.2827, \"precision_k\": 0.21420625}, {\"dataset\": \"point_mnist\", \"pooling\": \"gem-2\", \"ann\": \"faiss-lsh\", \"k\": 16, \"code_length\": 512, \"power\": 2, \"emb_time_per_sample\": 5.593771934509277e-05, \"inf_time_per_sample\": 0.00018790059089660645, \"acc\": 0.291, \"precision_k\": 0.25261875}, {\"dataset\": \"point_mnist\", \"pooling\": \"gem-2\", \"ann\": \"faiss-lsh\", \"k\": 16, \"code_length\": 1024, \"power\": 2, \"emb_time_per_sample\": 6.2298583984375e-05, \"inf_time_per_sample\": 0.0003597543954849243, \"acc\": 0.3707, \"precision_k\": 0.28919375}, {\"dataset\": \"point_mnist\", \"pooling\": \"gem-4\", \"ann\": \"faiss-lsh\", \"k\": 16, \"code_length\": 16, \"power\": 4, \"emb_time_per_sample\": 9.567279815673828e-05, \"inf_time_per_sample\": 9.689784049987793e-06, \"acc\": 0.1135, \"precision_k\": 0.10203125}, {\"dataset\": \"point_mnist\", \"pooling\": \"gem-4\", \"ann\": \"faiss-lsh\", \"k\": 16, \"code_length\": 32, \"power\": 4, \"emb_time_per_sample\": 9.350628852844239e-05, \"inf_time_per_sample\": 9.043002128601074e-06, \"acc\": 0.1215, \"precision_k\": 0.107775}, {\"dataset\": \"point_mnist\", \"pooling\": \"gem-4\", \"ann\": \"faiss-lsh\", \"k\": 16, \"code_length\": 64, \"power\": 4, \"emb_time_per_sample\": 8.951411247253419e-05, \"inf_time_per_sample\": 2.178947925567627e-05, \"acc\": 0.1888, \"precision_k\": 0.14286875}, {\"dataset\": \"point_mnist\", \"pooling\": \"gem-4\", \"ann\": \"faiss-lsh\", \"k\": 16, \"code_length\": 128, \"power\": 4, \"emb_time_per_sample\": 0.00010268027782440186, \"inf_time_per_sample\": 2.6047325134277344e-05, \"acc\": 0.2912, \"precision_k\": 0.223425}, {\"dataset\": \"point_mnist\", \"pooling\": \"gem-4\", \"ann\": \"faiss-lsh\", \"k\": 16, \"code_length\": 256, \"power\": 4, \"emb_time_per_sample\": 8.934907913208008e-05, \"inf_time_per_sample\": 0.00011910777091979981, \"acc\": 0.3217, \"precision_k\": 0.23065}, {\"dataset\": \"point_mnist\", \"pooling\": \"gem-4\", \"ann\": \"faiss-lsh\", \"k\": 16, \"code_length\": 512, \"power\": 4, \"emb_time_per_sample\": 0.00010922307968139648, \"inf_time_per_sample\": 0.00020184218883514404, \"acc\": 0.4487, \"precision_k\": 0.34226875}, {\"dataset\": \"point_mnist\", \"pooling\": \"gem-4\", \"ann\": \"faiss-lsh\", \"k\": 16, \"code_length\": 1024, \"power\": 4, \"emb_time_per_sample\": 8.476018905639648e-05, \"inf_time_per_sample\": 0.00035171661376953126, \"acc\": 0.4872, \"precision_k\": 0.38305625}]}, \"facet\": {\"column\": {\"type\": \"nominal\", \"field\": \"k\"}}, \"spec\": {\"mark\": \"line\", \"encoding\": {\"color\": {\"type\": \"nominal\", \"field\": \"pooling\"}, \"x\": {\"type\": \"quantitative\", \"field\": \"code_length\", \"scale\": {\"base\": 2, \"type\": \"log\"}, \"title\": \"hash code length\"}, \"y\": {\"type\": \"quantitative\", \"field\": \"precision_k\", \"title\": \"precision@k\"}}, \"height\": 180, \"width\": 180}, \"$schema\": \"https://vega.github.io/schema/vega-lite/v4.8.1.json\"}, {\"mode\": \"vega-lite\"});\n",
       "</script>"
      ],
      "text/plain": [
       "alt.FacetChart(...)"
      ]
     },
     "execution_count": 14,
     "metadata": {},
     "output_type": "execute_result"
    }
   ],
   "source": [
    "pointmnist_data_alt = alt.Data(values=pointmnist_data_k)\n",
    "alt.Chart(pointmnist_data_alt).mark_line().encode(\n",
    "    alt.X('code_length:Q', scale=alt.Scale(type='log', base=2), title='hash code length'),\n",
    "    alt.Y('precision_k:Q', title='precision@k'),\n",
    "    color='pooling:N'\n",
    ").properties(\n",
    "    width=180,\n",
    "    height=180\n",
    ").facet(\n",
    "    column='k:N'\n",
    ")"
   ]
  },
  {
   "cell_type": "code",
   "execution_count": 17,
   "id": "758653e4",
   "metadata": {},
   "outputs": [],
   "source": [
    "import json"
   ]
  },
  {
   "cell_type": "code",
   "execution_count": 19,
   "id": "403546e6",
   "metadata": {},
   "outputs": [],
   "source": [
    "with open('json/sens_to_code_length_pointmnist.json', 'w') as f:\n",
    "    json.dump(pointmnist_data_k, f)"
   ]
  },
  {
   "cell_type": "code",
   "execution_count": null,
   "id": "7fd60665",
   "metadata": {},
   "outputs": [],
   "source": []
  }
 ],
 "metadata": {
  "kernelspec": {
   "display_name": "swd",
   "language": "python",
   "name": "swd"
  },
  "language_info": {
   "codemirror_mode": {
    "name": "ipython",
    "version": 3
   },
   "file_extension": ".py",
   "mimetype": "text/x-python",
   "name": "python",
   "nbconvert_exporter": "python",
   "pygments_lexer": "ipython3",
   "version": "3.7.11"
  }
 },
 "nbformat": 4,
 "nbformat_minor": 5
}
