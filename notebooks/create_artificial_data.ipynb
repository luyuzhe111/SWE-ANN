{
 "cells": [
  {
   "cell_type": "code",
   "execution_count": 1,
   "metadata": {},
   "outputs": [],
   "source": [
    "import torch\n",
    "from torch.distributions.multivariate_normal import MultivariateNormal\n",
    "import matplotlib.pyplot as plt\n",
    "import numpy as np\n",
    "import random"
   ]
  },
  {
   "cell_type": "code",
   "execution_count": 2,
   "metadata": {},
   "outputs": [],
   "source": [
    "n_class = 10\n",
    "covs = []\n",
    "dim = 2\n",
    "np.random.seed(0)\n",
    "for _ in range(n_class):\n",
    "    matrixSize = 2\n",
    "    A = np.random.rand(dim, dim) * 2\n",
    "    B = np.dot(A, A.transpose())\n",
    "    covs.append(B)\n",
    "gaussians = [MultivariateNormal(torch.zeros(2), torch.from_numpy(cov).to(torch.float)) for cov in covs]"
   ]
  },
  {
   "cell_type": "code",
   "execution_count": 3,
   "metadata": {},
   "outputs": [],
   "source": [
    "def create_dataset(gaussians, n_sample):\n",
    "    torch.manual_seed(0)\n",
    "    random.seed(0)\n",
    "\n",
    "    data = []\n",
    "    labels = []\n",
    "    for label, g in enumerate(gaussians):\n",
    "        for n in range(n_sample):\n",
    "            n_element = random.randint(160, 200)\n",
    "            data.append(g.sample((n_element, )).numpy())\n",
    "            labels.append(label)\n",
    "    return data, np.array(labels)"
   ]
  },
  {
   "cell_type": "code",
   "execution_count": 4,
   "metadata": {},
   "outputs": [],
   "source": [
    "n_train = 80\n",
    "n_test = 20\n",
    "\n",
    "x_train, y_train = create_dataset(gaussians, n_train)\n",
    "x_test, y_test = create_dataset(gaussians, n_test)\n",
    "\n",
    "data = {'x_train': x_train, 'y_train': y_train, 'x_test': x_test, 'y_test': y_test}"
   ]
  },
  {
   "cell_type": "code",
   "execution_count": 5,
   "metadata": {},
   "outputs": [
    {
     "data": {
      "image/png": "[encoded data removed]",
      "text/plain": [
       "<Figure size 432x288 with 10 Axes>"
      ]
     },
     "metadata": {
      "needs_background": "light"
     },
     "output_type": "display_data"
    }
   ],
   "source": [
    "n_col = 5\n",
    "n_row = 2\n",
    "fig, ax = plt.subplots(n_row, n_col, sharex=True, sharey=True)\n",
    "for i in range(n_class):\n",
    "    r = i // n_col\n",
    "    c = i % n_col\n",
    "    \n",
    "    ax[r, c].scatter(x_train[i * n_train][:, 0], x_train[i * n_train][:, 1])\n",
    "plt.show()"
   ]
  },
  {
   "cell_type": "code",
   "execution_count": 6,
   "metadata": {},
   "outputs": [],
   "source": [
    "def compute_matrix_square_root(m):\n",
    "    # compute eigendecomposition of m\n",
    "    evals, evecs = torch.linalg.eig(m)\n",
    "\n",
    "    # get real part of eigen values and eigen vectors\n",
    "    evals = evals.real\n",
    "    evecs = evecs.real\n",
    "\n",
    "    # compute the square root of a diagonal matrix whose diagonals are (positive) eigen values\n",
    "    diag_mat_sqrt = torch.diag(torch.sqrt(evals))\n",
    "\n",
    "    return evecs @ diag_mat_sqrt @ torch.inverse(evecs)\n",
    "\n",
    "\n",
    "def bures_wasserstein_for_gaussian(g1_mean, g1_cov, g2_mean, g2_cov):\n",
    "    g1_cov_mat_sqrt = compute_matrix_square_root(g1_cov)\n",
    "    trace = (g1_cov + g2_cov - 2 * compute_matrix_square_root(g1_cov_mat_sqrt @ g2_cov @ g1_cov_mat_sqrt)).trace()\n",
    "    return ((g1_mean - g2_mean) ** 2).sum() + trace"
   ]
  },
  {
   "cell_type": "code",
   "execution_count": 7,
   "metadata": {},
   "outputs": [],
   "source": [
    "dist_matrix = torch.zeros((n_test * n_class, n_train * n_class))\n",
    "for i, test_sample in enumerate(x_test):\n",
    "    for j, train_sample in enumerate(x_train):\n",
    "        test_mu = torch.from_numpy(test_sample.mean(0))\n",
    "        test_cov = torch.from_numpy(np.cov(test_sample.T))\n",
    "        \n",
    "        train_mu = torch.from_numpy(train_sample.mean(0))\n",
    "        train_cov = torch.from_numpy(np.cov(train_sample.T))\n",
    "\n",
    "        dist = bures_wasserstein_for_gaussian(test_mu, test_cov, train_mu, train_cov).item()\n",
    "        dist_matrix[i, j] = dist"
   ]
  },
  {
   "cell_type": "code",
   "execution_count": 8,
   "metadata": {},
   "outputs": [],
   "source": [
    "sorted_mat, inds = torch.sort(dist_matrix, dim=1)"
   ]
  },
  {
   "cell_type": "code",
   "execution_count": 9,
   "metadata": {},
   "outputs": [
    {
     "data": {
      "text/plain": [
       "tensor([  0,   1,   2,   3,   4,   5,   6,   7,   8,   9,  10,  11,  12,  13,\n",
       "         14,  15,  16,  17,  18,  19,  88, 122,  86,  87, 107, 109,  81, 145,\n",
       "        111, 129,  87, 123, 140, 124, 141,  98, 141, 111, 111, 146, 236, 206,\n",
       "        227, 180, 194, 179, 215, 163, 170, 166, 233, 170, 168, 174, 179, 232,\n",
       "        214, 208, 215, 233, 246, 251, 297, 297, 269, 308, 308, 265, 258, 290,\n",
       "        247, 309, 276, 274, 244, 257, 250, 291, 273, 252, 359, 376, 350, 385,\n",
       "        398, 386, 331, 351, 325, 398, 376, 345, 365, 336, 375, 377, 388, 388,\n",
       "        354, 398, 455, 474, 465, 473, 471, 433, 400, 419, 448, 421, 467, 444,\n",
       "        420, 472, 464, 467, 464, 460, 433, 462, 514, 495, 542, 539, 500, 515,\n",
       "        558, 522, 531, 515, 507, 487, 548, 556, 554, 514, 513, 497, 492, 497,\n",
       "        566, 580, 592, 595, 614, 569, 626, 628, 625, 625, 565, 617, 591, 572,\n",
       "        568, 581, 626, 576, 583, 623, 662, 676, 667, 701, 645, 700, 696, 674,\n",
       "        648, 669, 646, 704, 680, 690, 708, 671, 714, 678, 674, 692, 735, 758,\n",
       "        734, 724, 778, 127, 728, 728, 779, 755, 137, 782, 750, 777, 798, 724,\n",
       "        747, 792, 763, 732])"
      ]
     },
     "execution_count": 9,
     "metadata": {},
     "output_type": "execute_result"
    }
   ],
   "source": [
    "inds[:, 0]"
   ]
  },
  {
   "cell_type": "code",
   "execution_count": 10,
   "metadata": {},
   "outputs": [],
   "source": [
    "import pickle"
   ]
  },
  {
   "cell_type": "code",
   "execution_count": 11,
   "metadata": {},
   "outputs": [],
   "source": [
    "with open('../dataset/gaussians/nn_gts.pickle', 'wb') as handle:\n",
    "    pickle.dump(inds[:, 0], handle)"
   ]
  },
  {
   "cell_type": "code",
   "execution_count": 12,
   "metadata": {},
   "outputs": [],
   "source": [
    "with open('../dataset/gaussians/data.pickle', 'wb') as handle:\n",
    "    pickle.dump(data, handle)"
   ]
  },
  {
   "cell_type": "code",
   "execution_count": 13,
   "metadata": {},
   "outputs": [],
   "source": [
    "with open('../dataset/gaussians/data.pickle', 'rb') as handle:\n",
    "    data = pickle.load(handle)"
   ]
  },
  {
   "cell_type": "code",
   "execution_count": null,
   "metadata": {},
   "outputs": [],
   "source": []
  }
 ],
 "metadata": {
  "kernelspec": {
   "display_name": "Python 3 (ipykernel)",
   "language": "python",
   "name": "python3"
  },
  "language_info": {
   "codemirror_mode": {
    "name": "ipython",
    "version": 3
   },
   "file_extension": ".py",
   "mimetype": "text/x-python",
   "name": "python",
   "nbconvert_exporter": "python",
   "pygments_lexer": "ipython3",
   "version": "3.9.0"
  }
 },
 "nbformat": 4,
 "nbformat_minor": 1
}
