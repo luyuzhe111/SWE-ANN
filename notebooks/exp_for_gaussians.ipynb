{
 "cells": [
  {
   "cell_type": "code",
   "execution_count": 1,
   "id": "53a0815b",
   "metadata": {},
   "outputs": [],
   "source": [
    "from utils.experiment import Experiment"
   ]
  },
  {
   "cell_type": "code",
   "execution_count": 2,
   "id": "bbb7b7ca",
   "metadata": {},
   "outputs": [],
   "source": [
    "import pickle\n",
    "with open('../dataset/gaussians/nn_gts.pickle', 'rb') as handle:\n",
    "    nn_gts = pickle.load(handle)"
   ]
  },
  {
   "cell_type": "code",
   "execution_count": 3,
   "id": "9e00cbed",
   "metadata": {},
   "outputs": [],
   "source": [
    "dataset = 'gaussians'\n",
    "code_length = 128\n",
    "set_size_median = 180\n",
    "ks = [4, 8, 16]"
   ]
  },
  {
   "cell_type": "code",
   "execution_count": 4,
   "id": "aff9daaa",
   "metadata": {
    "colab": {
     "base_uri": "https://localhost:8080/"
    },
    "id": "1aeb94a4",
    "outputId": "dd15435b-00f3-40cc-a1f6-96b4bb03aa21"
   },
   "outputs": [
    {
     "name": "stdout",
     "output_type": "stream",
     "text": [
      "loading dataset...\n",
      "compute base embedding...\n"
     ]
    },
    {
     "name": "stderr",
     "output_type": "stream",
     "text": [
      "100%|██████████| 800/800 [00:00<00:00, 1298.19it/s]\n"
     ]
    },
    {
     "name": "stdout",
     "output_type": "stream",
     "text": [
      "compute query embedding...\n"
     ]
    },
    {
     "name": "stderr",
     "output_type": "stream",
     "text": [
      "100%|██████████| 200/200 [00:00<00:00, 1163.34it/s]"
     ]
    },
    {
     "name": "stdout",
     "output_type": "stream",
     "text": [
      "{'dataset': 'gaussians', 'pooling': 'swe', 'ann': 'faiss-lsh', 'k': 200, 'code_length': 128, 'emb_time_per_sample': 0.0008884453773498535, 'inf_time_per_sample': 2.0639896392822264e-05, 'acc': 0.68, 'precision_k': 0.2761, 'nn_acc': 0.88}\n"
     ]
    },
    {
     "name": "stderr",
     "output_type": "stream",
     "text": [
      "\n"
     ]
    }
   ],
   "source": [
    "n_slices = 16\n",
    "ref = 'rand'\n",
    "\n",
    "for k in ks:\n",
    "    exp = Experiment(dataset, 'swe', 'faiss-lsh', ref_func=ref, k=k, ref_size=set_size_median, code_length=code_length, num_slices=n_slices)\n",
    "    exp.test(nn_gts=nn_gts)\n",
    "    report = exp.get_exp_report()\n",
    "    print(report)"
   ]
  },
  {
   "cell_type": "markdown",
   "id": "a68cf74a",
   "metadata": {
    "id": "j-8JfXjSwbPS"
   },
   "source": [
    "### WE"
   ]
  },
  {
   "cell_type": "code",
   "execution_count": 5,
   "id": "880d2a87",
   "metadata": {
    "colab": {
     "base_uri": "https://localhost:8080/",
     "height": 588
    },
    "executionInfo": {
     "elapsed": 495319,
     "status": "error",
     "timestamp": 1653424489073,
     "user": {
      "displayName": "Xinran Liu",
      "userId": "10633541058978347574"
     },
     "user_tz": 300
    },
    "id": "cWh7TSBdvXQk",
    "outputId": "aa8c41af-5514-4a57-ab4b-36c838761792"
   },
   "outputs": [
    {
     "name": "stdout",
     "output_type": "stream",
     "text": [
      "loading dataset...\n",
      "compute base embedding...\n"
     ]
    },
    {
     "name": "stderr",
     "output_type": "stream",
     "text": [
      "100%|██████████| 800/800 [00:03<00:00, 243.36it/s]\n"
     ]
    },
    {
     "name": "stdout",
     "output_type": "stream",
     "text": [
      "compute query embedding...\n"
     ]
    },
    {
     "name": "stderr",
     "output_type": "stream",
     "text": [
      "100%|██████████| 200/200 [00:00<00:00, 233.15it/s]"
     ]
    },
    {
     "name": "stdout",
     "output_type": "stream",
     "text": [
      "{'dataset': 'gaussians', 'pooling': 'we', 'ann': 'faiss-lsh', 'k': 200, 'code_length': 128, 'emb_time_per_sample': 0.004307850599288941, 'inf_time_per_sample': 1.4405250549316407e-05, 'acc': 0.61, 'precision_k': 0.2614, 'nn_acc': 0.775}\n"
     ]
    },
    {
     "name": "stderr",
     "output_type": "stream",
     "text": [
      "\n"
     ]
    }
   ],
   "source": [
    "ref = 'rand'\n",
    "for k in ks:\n",
    "    exp = Experiment(dataset, 'we', 'faiss-lsh', ref_func=ref, k=k, ref_size=set_size_median, code_length=code_length)\n",
    "    exp.test(nn_gts=nn_gts)\n",
    "    report = exp.get_exp_report()\n",
    "    print(report)"
   ]
  },
  {
   "cell_type": "markdown",
   "id": "50f8d63c",
   "metadata": {
    "id": "8af7a402"
   },
   "source": [
    "### FS"
   ]
  },
  {
   "cell_type": "code",
   "execution_count": 6,
   "id": "d122fdd9",
   "metadata": {
    "id": "7aa454c4",
    "outputId": "f967acad-4b92-4a66-8f3c-ef2914a64ba3"
   },
   "outputs": [
    {
     "name": "stdout",
     "output_type": "stream",
     "text": [
      "loading dataset...\n",
      "compute base embedding...\n"
     ]
    },
    {
     "name": "stderr",
     "output_type": "stream",
     "text": [
      "100%|██████████| 800/800 [00:00<00:00, 3776.09it/s]\n"
     ]
    },
    {
     "name": "stdout",
     "output_type": "stream",
     "text": [
      "compute query embedding...\n"
     ]
    },
    {
     "name": "stderr",
     "output_type": "stream",
     "text": [
      "100%|██████████| 200/200 [00:00<00:00, 3493.08it/s]"
     ]
    },
    {
     "name": "stdout",
     "output_type": "stream",
     "text": [
      "{'dataset': 'gaussians', 'pooling': 'fs', 'ann': 'faiss-lsh', 'k': 200, 'code_length': 128, 'emb_time_per_sample': 0.00030577898025512695, 'inf_time_per_sample': 1.2475252151489258e-05, 'acc': 0.405, 'precision_k': 0.247475, 'nn_acc': 0.855}\n"
     ]
    },
    {
     "name": "stderr",
     "output_type": "stream",
     "text": [
      "\n"
     ]
    }
   ],
   "source": [
    "for k in ks:\n",
    "    exp = Experiment(dataset, 'fs', 'faiss-lsh', ref_func=ref,\n",
    "                     k=k, ref_size=set_size_median, code_length=code_length)\n",
    "    exp.test(nn_gts=nn_gts)\n",
    "    report = exp.get_exp_report()\n",
    "    print(report)"
   ]
  },
  {
   "cell_type": "markdown",
   "id": "73739e76",
   "metadata": {
    "id": "7686a984"
   },
   "source": [
    "### Cov"
   ]
  },
  {
   "cell_type": "code",
   "execution_count": 7,
   "id": "7f470491",
   "metadata": {
    "id": "7ef291b9",
    "outputId": "304a9205-c0a3-46aa-86a3-93500657dd1b"
   },
   "outputs": [
    {
     "name": "stdout",
     "output_type": "stream",
     "text": [
      "loading dataset...\n",
      "compute base embedding...\n"
     ]
    },
    {
     "name": "stderr",
     "output_type": "stream",
     "text": [
      "100%|██████████| 800/800 [00:00<00:00, 12521.29it/s]\n"
     ]
    },
    {
     "name": "stdout",
     "output_type": "stream",
     "text": [
      "compute query embedding...\n"
     ]
    },
    {
     "name": "stderr",
     "output_type": "stream",
     "text": [
      "100%|██████████| 200/200 [00:00<00:00, 12155.11it/s]\n"
     ]
    },
    {
     "name": "stdout",
     "output_type": "stream",
     "text": [
      "{'dataset': 'gaussians', 'pooling': 'cov', 'ann': 'faiss-lsh', 'k': 200, 'code_length': 128, 'emb_time_per_sample': 0.00010230064392089843, 'inf_time_per_sample': 1.0644197463989259e-05, 'acc': 0.705, 'precision_k': 0.395325, 'nn_acc': 1.0}\n"
     ]
    }
   ],
   "source": [
    "for k in ks:\n",
    "    exp = Experiment(dataset, 'cov', 'faiss-lsh',\n",
    "                     k=k, ref_size=set_size_median, code_length=code_length)\n",
    "    exp.test(nn_gts=nn_gts)\n",
    "    report = exp.get_exp_report()\n",
    "    print(report)"
   ]
  },
  {
   "cell_type": "markdown",
   "id": "fbfa2457",
   "metadata": {
    "id": "a0b368ef"
   },
   "source": [
    "### GeM-1"
   ]
  },
  {
   "cell_type": "code",
   "execution_count": 8,
   "id": "52a857ed",
   "metadata": {
    "id": "4bf2b65d",
    "outputId": "d0c07bdd-10f9-458b-a574-1ae7cd8cfe4c"
   },
   "outputs": [
    {
     "name": "stdout",
     "output_type": "stream",
     "text": [
      "loading dataset...\n",
      "compute base embedding...\n"
     ]
    },
    {
     "name": "stderr",
     "output_type": "stream",
     "text": [
      "100%|██████████| 800/800 [00:00<00:00, 36243.32it/s]\n"
     ]
    },
    {
     "name": "stdout",
     "output_type": "stream",
     "text": [
      "compute query embedding...\n"
     ]
    },
    {
     "name": "stderr",
     "output_type": "stream",
     "text": [
      "100%|██████████| 200/200 [00:00<00:00, 33134.29it/s]"
     ]
    },
    {
     "name": "stdout",
     "output_type": "stream",
     "text": [
      "{'dataset': 'gaussians', 'pooling': 'gem', 'ann': 'faiss-lsh', 'k': 200, 'code_length': 128, 'power': 1, 'emb_time_per_sample': 4.7245025634765624e-05, 'inf_time_per_sample': 1.133561134338379e-05, 'acc': 0.235, 'precision_k': 0.13635, 'nn_acc': 0.86}\n"
     ]
    },
    {
     "name": "stderr",
     "output_type": "stream",
     "text": [
      "\n"
     ]
    }
   ],
   "source": [
    "for k in ks:\n",
    "    exp = Experiment(dataset, 'gem', 'faiss-lsh',\n",
    "                     k=k, ref_size=set_size_median, code_length=code_length, power=1)\n",
    "    exp.test(nn_gts=nn_gts)\n",
    "    report = exp.get_exp_report()\n",
    "    print(report)"
   ]
  },
  {
   "cell_type": "markdown",
   "id": "793abd14",
   "metadata": {
    "id": "5353f224"
   },
   "source": [
    "### GeM-2"
   ]
  },
  {
   "cell_type": "code",
   "execution_count": 9,
   "id": "f1a87e6a",
   "metadata": {
    "id": "3f375a81",
    "outputId": "824dcc8d-ff23-4226-cf2e-7da0399487a7"
   },
   "outputs": [
    {
     "name": "stdout",
     "output_type": "stream",
     "text": [
      "loading dataset...\n",
      "compute base embedding...\n"
     ]
    },
    {
     "name": "stderr",
     "output_type": "stream",
     "text": [
      "100%|██████████| 800/800 [00:00<00:00, 22733.05it/s]\n"
     ]
    },
    {
     "name": "stdout",
     "output_type": "stream",
     "text": [
      "compute query embedding...\n"
     ]
    },
    {
     "name": "stderr",
     "output_type": "stream",
     "text": [
      "100%|██████████| 200/200 [00:00<00:00, 20188.22it/s]"
     ]
    },
    {
     "name": "stdout",
     "output_type": "stream",
     "text": [
      "{'dataset': 'gaussians', 'pooling': 'gem', 'ann': 'faiss-lsh', 'k': 200, 'code_length': 128, 'power': 2, 'emb_time_per_sample': 6.712079048156738e-05, 'inf_time_per_sample': 7.774829864501953e-06, 'acc': 0.545, 'precision_k': 0.28455, 'nn_acc': 0.995}\n"
     ]
    },
    {
     "name": "stderr",
     "output_type": "stream",
     "text": [
      "\n"
     ]
    }
   ],
   "source": [
    "for k in ks:\n",
    "    exp = Experiment(dataset, 'gem', 'faiss-lsh',\n",
    "                     k=k, ref_size=set_size_median, code_length=code_length, power=2)\n",
    "    exp.test(nn_gts=nn_gts)\n",
    "    report = exp.get_exp_report()\n",
    "    print(report)"
   ]
  },
  {
   "cell_type": "markdown",
   "id": "935530f6",
   "metadata": {
    "id": "e0ad831e"
   },
   "source": [
    "### GeM-4"
   ]
  },
  {
   "cell_type": "code",
   "execution_count": 10,
   "id": "53bf41e2",
   "metadata": {
    "id": "ec235d1b",
    "outputId": "27b9eef5-c59e-4371-ba7a-d0c3ef4cb19b"
   },
   "outputs": [
    {
     "name": "stdout",
     "output_type": "stream",
     "text": [
      "loading dataset...\n",
      "compute base embedding...\n"
     ]
    },
    {
     "name": "stderr",
     "output_type": "stream",
     "text": [
      "100%|██████████| 800/800 [00:00<00:00, 12958.18it/s]\n"
     ]
    },
    {
     "name": "stdout",
     "output_type": "stream",
     "text": [
      "compute query embedding...\n"
     ]
    },
    {
     "name": "stderr",
     "output_type": "stream",
     "text": [
      "100%|██████████| 200/200 [00:00<00:00, 11402.52it/s]\n"
     ]
    },
    {
     "name": "stdout",
     "output_type": "stream",
     "text": [
      "{'dataset': 'gaussians', 'pooling': 'gem', 'ann': 'faiss-lsh', 'k': 200, 'code_length': 128, 'power': 4, 'emb_time_per_sample': 0.00010663628578186035, 'inf_time_per_sample': 6.414651870727539e-06, 'acc': 0.135, 'precision_k': 0.1265, 'nn_acc': 0.52}\n"
     ]
    }
   ],
   "source": [
    "for k in ks:\n",
    "    exp = Experiment(dataset, 'gem', 'faiss-lsh',\n",
    "                     k=k, ref_size=set_size_median, code_length=code_length, power=4)\n",
    "    exp.test(nn_gts=nn_gts)\n",
    "    report = exp.get_exp_report()\n",
    "    print(report)"
   ]
  },
  {
   "cell_type": "code",
   "execution_count": null,
   "id": "c1f613e8",
   "metadata": {
    "id": "2a223aae"
   },
   "outputs": [],
   "source": []
  }
 ],
 "metadata": {
  "colab": {
   "name": "demo_for_pointmnist.ipynb",
   "provenance": []
  },
  "kernelspec": {
   "display_name": "Python 3 (ipykernel)",
   "language": "python",
   "name": "python3"
  },
  "language_info": {
   "codemirror_mode": {
    "name": "ipython",
    "version": 3
   },
   "file_extension": ".py",
   "mimetype": "text/x-python",
   "name": "python",
   "nbconvert_exporter": "python",
   "pygments_lexer": "ipython3",
   "version": "3.9.0"
  }
 },
 "nbformat": 4,
 "nbformat_minor": 5
}
