{
 "cells": [
  {
   "cell_type": "code",
   "execution_count": null,
   "id": "7e1728ac",
   "metadata": {},
   "outputs": [],
   "source": [
    "import json\n",
    "import pandas as pd\n",
    "import altair as alt"
   ]
  },
  {
   "cell_type": "code",
   "execution_count": null,
   "id": "163fdb84",
   "metadata": {},
   "outputs": [],
   "source": [
    "dataset = 'modelnet40'"
   ]
  },
  {
   "cell_type": "markdown",
   "id": "e1f443e9",
   "metadata": {},
   "source": [
    "## Sensitivity to Number of Slices"
   ]
  },
  {
   "cell_type": "code",
   "execution_count": null,
   "id": "22546e9d",
   "metadata": {},
   "outputs": [],
   "source": [
    "data = json.load(open(f'./json/{dataset}_slices.json'))"
   ]
  },
  {
   "cell_type": "code",
   "execution_count": null,
   "id": "b0645e6f",
   "metadata": {},
   "outputs": [],
   "source": [
    "data = pd.DataFrame(data)"
   ]
  },
  {
   "cell_type": "code",
   "execution_count": null,
   "id": "5548e2f4",
   "metadata": {},
   "outputs": [],
   "source": [
    "alt.Chart(data).mark_line().encode(\n",
    "    alt.X('num_slices:Q', scale=alt.Scale(type='log', base=2), title='Number of Slices'),\n",
    "    alt.Y('precision_k:Q', title='precision@k'),\n",
    "    color=alt.Color('code_length:N', title='Code Length')\n",
    ").properties(\n",
    "    width=180,\n",
    "    height=180\n",
    ").facet(\n",
    "    column='k:N'\n",
    ").configure_axis(\n",
    "    labelFontSize=14,\n",
    "    titleFontSize=14\n",
    ")"
   ]
  },
  {
   "cell_type": "code",
   "execution_count": null,
   "id": "ac349433",
   "metadata": {},
   "outputs": [],
   "source": []
  }
 ],
 "metadata": {
  "kernelspec": {
   "display_name": "swe",
   "language": "python",
   "name": "swe"
  },
  "language_info": {
   "codemirror_mode": {
    "name": "ipython",
    "version": 3
   },
   "file_extension": ".py",
   "mimetype": "text/x-python",
   "name": "python",
   "nbconvert_exporter": "python",
   "pygments_lexer": "ipython3",
   "version": "3.7.13"
  }
 },
 "nbformat": 4,
 "nbformat_minor": 5
}
