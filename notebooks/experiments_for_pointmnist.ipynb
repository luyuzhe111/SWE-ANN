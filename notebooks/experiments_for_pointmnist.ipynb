{
 "cells": [
  {
   "cell_type": "code",
   "execution_count": 1,
   "id": "cf8f1ce0",
   "metadata": {},
   "outputs": [],
   "source": [
    "import os\n",
    "import numpy as np\n",
    "import pandas as pd\n",
    "import matplotlib.pyplot as plt\n",
    "import json"
   ]
  },
  {
   "cell_type": "code",
   "execution_count": 2,
   "id": "16c577f4",
   "metadata": {},
   "outputs": [],
   "source": [
    "df_train = pd.read_csv(\"../dataset/pointcloud_mnist_2d/train.csv\")\n",
    "\n",
    "X = df_train[df_train.columns[1:]].to_numpy()\n",
    "y = df_train[df_train.columns[0]].to_numpy()\n",
    "\n",
    "X = X.reshape(X.shape[0], -1, 3)"
   ]
  },
  {
   "cell_type": "code",
   "execution_count": 3,
   "id": "59192ad2",
   "metadata": {},
   "outputs": [],
   "source": [
    "num_points = np.sum((X[:, :, 2] > 0).astype(int), axis=1)"
   ]
  },
  {
   "cell_type": "code",
   "execution_count": 4,
   "id": "1893cfb5",
   "metadata": {},
   "outputs": [],
   "source": [
    "set_size_median = np.median(num_points).astype(int)"
   ]
  },
  {
   "cell_type": "markdown",
   "id": "1aced7f2",
   "metadata": {},
   "source": [
    "### select num_slices for slosh"
   ]
  },
  {
   "cell_type": "code",
   "execution_count": 5,
   "id": "fbb7977e",
   "metadata": {},
   "outputs": [],
   "source": [
    "from utils.experiment import Experiment"
   ]
  },
  {
   "cell_type": "code",
   "execution_count": 6,
   "id": "cbdaef79",
   "metadata": {},
   "outputs": [],
   "source": [
    "n_slices = [8, 16, 32, 64, 128]"
   ]
  },
  {
   "cell_type": "code",
   "execution_count": 7,
   "id": "bf891c11",
   "metadata": {},
   "outputs": [],
   "source": [
    "hash_code_length = [16, 32, 64, 128, 256, 512, 1024]\n",
    "ks = [4, 8, 16]\n",
    "dataset = 'point_mnist'"
   ]
  },
  {
   "cell_type": "code",
   "execution_count": 8,
   "id": "5cced091",
   "metadata": {},
   "outputs": [
    {
     "name": "stdout",
     "output_type": "stream",
     "text": [
      "loading dataset...\n",
      "validation mode...\n",
      "54000 6000\n",
      "compute base embedding...\n"
     ]
    },
    {
     "name": "stderr",
     "output_type": "stream",
     "text": [
      "100%|██████████████████████████████████████████████████████████████████████████████████████████████████████████████████████████| 54000/54000 [00:24<00:00, 2194.77it/s]\n"
     ]
    },
    {
     "name": "stdout",
     "output_type": "stream",
     "text": [
      "compute query embedding...\n"
     ]
    },
    {
     "name": "stderr",
     "output_type": "stream",
     "text": [
      "100%|████████████████████████████████████████████████████████████████████████████████████████████████████████████████████████████| 6000/6000 [00:02<00:00, 2216.77it/s]\n"
     ]
    },
    {
     "name": "stdout",
     "output_type": "stream",
     "text": [
      "{'dataset': 'point_mnist', 'pooling': 'swe', 'ann': 'faiss-lsh', 'k': 4, 'code_length': 16, 'emb_time_per_sample': 0.0004925529956817627, 'inf_time_per_sample': 9.085655212402343e-06, 'acc': 0.282, 'precision_k': 0.20433333333333334}\n",
      "loading dataset...\n",
      "validation mode...\n",
      "54000 6000\n",
      "loading cached base embedding...\n",
      "compute query embedding...\n"
     ]
    },
    {
     "name": "stderr",
     "output_type": "stream",
     "text": [
      "100%|████████████████████████████████████████████████████████████████████████████████████████████████████████████████████████████| 6000/6000 [00:02<00:00, 2238.70it/s]\n"
     ]
    },
    {
     "name": "stdout",
     "output_type": "stream",
     "text": [
      "{'dataset': 'point_mnist', 'pooling': 'swe', 'ann': 'faiss-lsh', 'k': 8, 'code_length': 16, 'emb_time_per_sample': 0.00047951634724934894, 'inf_time_per_sample': 9.192983309427897e-06, 'acc': 0.2385, 'precision_k': 0.192625}\n",
      "loading dataset...\n",
      "validation mode...\n",
      "54000 6000\n",
      "loading cached base embedding...\n",
      "compute query embedding...\n"
     ]
    },
    {
     "name": "stderr",
     "output_type": "stream",
     "text": [
      "100%|████████████████████████████████████████████████████████████████████████████████████████████████████████████████████████████| 6000/6000 [00:02<00:00, 2064.07it/s]\n"
     ]
    },
    {
     "name": "stdout",
     "output_type": "stream",
     "text": [
      "{'dataset': 'point_mnist', 'pooling': 'swe', 'ann': 'faiss-lsh', 'k': 16, 'code_length': 16, 'emb_time_per_sample': 0.000519495169321696, 'inf_time_per_sample': 8.843660354614259e-06, 'acc': 0.2175, 'precision_k': 0.19294791666666666}\n",
      "loading dataset...\n",
      "validation mode...\n",
      "54000 6000\n",
      "loading cached base embedding...\n",
      "compute query embedding...\n"
     ]
    },
    {
     "name": "stderr",
     "output_type": "stream",
     "text": [
      "100%|████████████████████████████████████████████████████████████████████████████████████████████████████████████████████████████| 6000/6000 [00:02<00:00, 2238.28it/s]\n"
     ]
    },
    {
     "name": "stdout",
     "output_type": "stream",
     "text": [
      "{'dataset': 'point_mnist', 'pooling': 'swe', 'ann': 'faiss-lsh', 'k': 4, 'code_length': 32, 'emb_time_per_sample': 0.00047666049003601075, 'inf_time_per_sample': 9.016116460164388e-06, 'acc': 0.26816666666666666, 'precision_k': 0.23804166666666668}\n",
      "loading dataset...\n",
      "validation mode...\n",
      "54000 6000\n",
      "loading cached base embedding...\n",
      "compute query embedding...\n"
     ]
    },
    {
     "name": "stderr",
     "output_type": "stream",
     "text": [
      "100%|████████████████████████████████████████████████████████████████████████████████████████████████████████████████████████████| 6000/6000 [00:02<00:00, 2267.86it/s]\n"
     ]
    },
    {
     "name": "stdout",
     "output_type": "stream",
     "text": [
      "{'dataset': 'point_mnist', 'pooling': 'swe', 'ann': 'faiss-lsh', 'k': 8, 'code_length': 32, 'emb_time_per_sample': 0.0004717274904251099, 'inf_time_per_sample': 8.710304896036784e-06, 'acc': 0.28633333333333333, 'precision_k': 0.2445}\n",
      "loading dataset...\n",
      "validation mode...\n",
      "54000 6000\n",
      "loading cached base embedding...\n",
      "compute query embedding...\n"
     ]
    },
    {
     "name": "stderr",
     "output_type": "stream",
     "text": [
      "100%|████████████████████████████████████████████████████████████████████████████████████████████████████████████████████████████| 6000/6000 [00:03<00:00, 1922.21it/s]\n"
     ]
    },
    {
     "name": "stdout",
     "output_type": "stream",
     "text": [
      "{'dataset': 'point_mnist', 'pooling': 'swe', 'ann': 'faiss-lsh', 'k': 16, 'code_length': 32, 'emb_time_per_sample': 0.0005512239535649618, 'inf_time_per_sample': 9.410977363586425e-06, 'acc': 0.32766666666666666, 'precision_k': 0.24304166666666666}\n",
      "loading dataset...\n",
      "validation mode...\n",
      "54000 6000\n",
      "loading cached base embedding...\n",
      "compute query embedding...\n"
     ]
    },
    {
     "name": "stderr",
     "output_type": "stream",
     "text": [
      "100%|████████████████████████████████████████████████████████████████████████████████████████████████████████████████████████████| 6000/6000 [00:02<00:00, 2264.64it/s]\n"
     ]
    },
    {
     "name": "stdout",
     "output_type": "stream",
     "text": [
      "{'dataset': 'point_mnist', 'pooling': 'swe', 'ann': 'faiss-lsh', 'k': 4, 'code_length': 64, 'emb_time_per_sample': 0.00046953054269154867, 'inf_time_per_sample': 2.1064201990763346e-05, 'acc': 0.4106666666666667, 'precision_k': 0.41220833333333334}\n",
      "loading dataset...\n",
      "validation mode...\n",
      "54000 6000\n",
      "loading cached base embedding...\n",
      "compute query embedding...\n"
     ]
    },
    {
     "name": "stderr",
     "output_type": "stream",
     "text": [
      "100%|████████████████████████████████████████████████████████████████████████████████████████████████████████████████████████████| 6000/6000 [00:02<00:00, 2271.99it/s]\n"
     ]
    },
    {
     "name": "stdout",
     "output_type": "stream",
     "text": [
      "{'dataset': 'point_mnist', 'pooling': 'swe', 'ann': 'faiss-lsh', 'k': 8, 'code_length': 64, 'emb_time_per_sample': 0.00046847418944040935, 'inf_time_per_sample': 2.087863286336263e-05, 'acc': 0.4683333333333333, 'precision_k': 0.4021458333333333}\n",
      "loading dataset...\n",
      "validation mode...\n",
      "54000 6000\n",
      "loading cached base embedding...\n",
      "compute query embedding...\n"
     ]
    },
    {
     "name": "stderr",
     "output_type": "stream",
     "text": [
      "100%|████████████████████████████████████████████████████████████████████████████████████████████████████████████████████████████| 6000/6000 [00:02<00:00, 2257.78it/s]\n"
     ]
    },
    {
     "name": "stdout",
     "output_type": "stream",
     "text": [
      "{'dataset': 'point_mnist', 'pooling': 'swe', 'ann': 'faiss-lsh', 'k': 16, 'code_length': 64, 'emb_time_per_sample': 0.0004713475306828817, 'inf_time_per_sample': 2.1074334780375163e-05, 'acc': 0.4716666666666667, 'precision_k': 0.38928125}\n",
      "loading dataset...\n",
      "validation mode...\n",
      "54000 6000\n",
      "loading cached base embedding...\n",
      "compute query embedding...\n"
     ]
    },
    {
     "name": "stderr",
     "output_type": "stream",
     "text": [
      "100%|████████████████████████████████████████████████████████████████████████████████████████████████████████████████████████████| 6000/6000 [00:02<00:00, 2291.62it/s]\n"
     ]
    },
    {
     "name": "stdout",
     "output_type": "stream",
     "text": [
      "{'dataset': 'point_mnist', 'pooling': 'swe', 'ann': 'faiss-lsh', 'k': 4, 'code_length': 128, 'emb_time_per_sample': 0.0004612021048863729, 'inf_time_per_sample': 2.429684003194173e-05, 'acc': 0.7125, 'precision_k': 0.6597916666666667}\n",
      "loading dataset...\n",
      "validation mode...\n",
      "54000 6000\n",
      "loading cached base embedding...\n",
      "compute query embedding...\n"
     ]
    },
    {
     "name": "stderr",
     "output_type": "stream",
     "text": [
      "100%|████████████████████████████████████████████████████████████████████████████████████████████████████████████████████████████| 6000/6000 [00:02<00:00, 2230.01it/s]\n"
     ]
    },
    {
     "name": "stdout",
     "output_type": "stream",
     "text": [
      "{'dataset': 'point_mnist', 'pooling': 'swe', 'ann': 'faiss-lsh', 'k': 8, 'code_length': 128, 'emb_time_per_sample': 0.0004758841594060262, 'inf_time_per_sample': 2.477896213531494e-05, 'acc': 0.7326666666666667, 'precision_k': 0.6515}\n",
      "loading dataset...\n",
      "validation mode...\n",
      "54000 6000\n",
      "loading cached base embedding...\n",
      "compute query embedding...\n"
     ]
    },
    {
     "name": "stderr",
     "output_type": "stream",
     "text": [
      "100%|████████████████████████████████████████████████████████████████████████████████████████████████████████████████████████████| 6000/6000 [00:02<00:00, 2201.91it/s]\n"
     ]
    },
    {
     "name": "stdout",
     "output_type": "stream",
     "text": [
      "{'dataset': 'point_mnist', 'pooling': 'swe', 'ann': 'faiss-lsh', 'k': 16, 'code_length': 128, 'emb_time_per_sample': 0.00048358583450317384, 'inf_time_per_sample': 2.395768960316976e-05, 'acc': 0.7396666666666667, 'precision_k': 0.6389375}\n",
      "loading dataset...\n",
      "validation mode...\n",
      "54000 6000\n",
      "loading cached base embedding...\n",
      "compute query embedding...\n"
     ]
    },
    {
     "name": "stderr",
     "output_type": "stream",
     "text": [
      "100%|████████████████████████████████████████████████████████████████████████████████████████████████████████████████████████████| 6000/6000 [00:02<00:00, 2200.92it/s]\n"
     ]
    },
    {
     "name": "stdout",
     "output_type": "stream",
     "text": [
      "{'dataset': 'point_mnist', 'pooling': 'swe', 'ann': 'faiss-lsh', 'k': 4, 'code_length': 256, 'emb_time_per_sample': 0.0004886908133824666, 'inf_time_per_sample': 0.00010648481051127116, 'acc': 0.8058333333333333, 'precision_k': 0.7592916666666667}\n",
      "loading dataset...\n",
      "validation mode...\n",
      "54000 6000\n",
      "loading cached base embedding...\n",
      "compute query embedding...\n"
     ]
    },
    {
     "name": "stderr",
     "output_type": "stream",
     "text": [
      "100%|████████████████████████████████████████████████████████████████████████████████████████████████████████████████████████████| 6000/6000 [00:02<00:00, 2271.59it/s]\n"
     ]
    },
    {
     "name": "stdout",
     "output_type": "stream",
     "text": [
      "{'dataset': 'point_mnist', 'pooling': 'swe', 'ann': 'faiss-lsh', 'k': 8, 'code_length': 256, 'emb_time_per_sample': 0.00046570885181427, 'inf_time_per_sample': 0.00010639011859893799, 'acc': 0.8161666666666667, 'precision_k': 0.7472916666666667}\n",
      "loading dataset...\n",
      "validation mode...\n",
      "54000 6000\n",
      "loading cached base embedding...\n",
      "compute query embedding...\n"
     ]
    },
    {
     "name": "stderr",
     "output_type": "stream",
     "text": [
      "100%|████████████████████████████████████████████████████████████████████████████████████████████████████████████████████████████| 6000/6000 [00:02<00:00, 2283.64it/s]\n"
     ]
    },
    {
     "name": "stdout",
     "output_type": "stream",
     "text": [
      "{'dataset': 'point_mnist', 'pooling': 'swe', 'ann': 'faiss-lsh', 'k': 16, 'code_length': 256, 'emb_time_per_sample': 0.0004631866216659546, 'inf_time_per_sample': 0.00010981484254201253, 'acc': 0.8221666666666667, 'precision_k': 0.7350520833333334}\n",
      "loading dataset...\n",
      "validation mode...\n",
      "54000 6000\n",
      "loading cached base embedding...\n",
      "compute query embedding...\n"
     ]
    },
    {
     "name": "stderr",
     "output_type": "stream",
     "text": [
      "100%|████████████████████████████████████████████████████████████████████████████████████████████████████████████████████████████| 6000/6000 [00:02<00:00, 2213.74it/s]\n"
     ]
    },
    {
     "name": "stdout",
     "output_type": "stream",
     "text": [
      "{'dataset': 'point_mnist', 'pooling': 'swe', 'ann': 'faiss-lsh', 'k': 4, 'code_length': 512, 'emb_time_per_sample': 0.00047661598523457844, 'inf_time_per_sample': 0.00018042099475860596, 'acc': 0.8825, 'precision_k': 0.847375}\n",
      "loading dataset...\n",
      "validation mode...\n",
      "54000 6000\n",
      "loading cached base embedding...\n",
      "compute query embedding...\n"
     ]
    },
    {
     "name": "stderr",
     "output_type": "stream",
     "text": [
      "100%|████████████████████████████████████████████████████████████████████████████████████████████████████████████████████████████| 6000/6000 [00:02<00:00, 2263.49it/s]\n"
     ]
    },
    {
     "name": "stdout",
     "output_type": "stream",
     "text": [
      "{'dataset': 'point_mnist', 'pooling': 'swe', 'ann': 'faiss-lsh', 'k': 8, 'code_length': 512, 'emb_time_per_sample': 0.00046830431620279947, 'inf_time_per_sample': 0.00017857499917348226, 'acc': 0.8916666666666667, 'precision_k': 0.8374166666666667}\n",
      "loading dataset...\n",
      "validation mode...\n",
      "54000 6000\n",
      "loading cached base embedding...\n",
      "compute query embedding...\n"
     ]
    },
    {
     "name": "stderr",
     "output_type": "stream",
     "text": [
      "100%|████████████████████████████████████████████████████████████████████████████████████████████████████████████████████████████| 6000/6000 [00:02<00:00, 2222.42it/s]\n"
     ]
    },
    {
     "name": "stdout",
     "output_type": "stream",
     "text": [
      "{'dataset': 'point_mnist', 'pooling': 'swe', 'ann': 'faiss-lsh', 'k': 16, 'code_length': 512, 'emb_time_per_sample': 0.00047683584690093995, 'inf_time_per_sample': 0.0001896763245264689, 'acc': 0.8866666666666667, 'precision_k': 0.8211770833333333}\n",
      "loading dataset...\n",
      "validation mode...\n",
      "54000 6000\n",
      "loading cached base embedding...\n",
      "compute query embedding...\n"
     ]
    },
    {
     "name": "stderr",
     "output_type": "stream",
     "text": [
      "100%|████████████████████████████████████████████████████████████████████████████████████████████████████████████████████████████| 6000/6000 [00:02<00:00, 2289.67it/s]\n"
     ]
    },
    {
     "name": "stdout",
     "output_type": "stream",
     "text": [
      "{'dataset': 'point_mnist', 'pooling': 'swe', 'ann': 'faiss-lsh', 'k': 4, 'code_length': 1024, 'emb_time_per_sample': 0.00046127053101857504, 'inf_time_per_sample': 0.0003216006358464559, 'acc': 0.9086666666666666, 'precision_k': 0.8807083333333333}\n",
      "loading dataset...\n",
      "validation mode...\n",
      "54000 6000\n",
      "loading cached base embedding...\n",
      "compute query embedding...\n"
     ]
    },
    {
     "name": "stderr",
     "output_type": "stream",
     "text": [
      "100%|████████████████████████████████████████████████████████████████████████████████████████████████████████████████████████████| 6000/6000 [00:02<00:00, 2094.71it/s]\n"
     ]
    },
    {
     "name": "stdout",
     "output_type": "stream",
     "text": [
      "{'dataset': 'point_mnist', 'pooling': 'swe', 'ann': 'faiss-lsh', 'k': 8, 'code_length': 1024, 'emb_time_per_sample': 0.0005047238270441692, 'inf_time_per_sample': 0.0003218393723169963, 'acc': 0.911, 'precision_k': 0.8688541666666667}\n",
      "loading dataset...\n",
      "validation mode...\n",
      "54000 6000\n",
      "loading cached base embedding...\n",
      "compute query embedding...\n"
     ]
    },
    {
     "name": "stderr",
     "output_type": "stream",
     "text": [
      "100%|████████████████████████████████████████████████████████████████████████████████████████████████████████████████████████████| 6000/6000 [00:02<00:00, 2261.04it/s]\n"
     ]
    },
    {
     "name": "stdout",
     "output_type": "stream",
     "text": [
      "{'dataset': 'point_mnist', 'pooling': 'swe', 'ann': 'faiss-lsh', 'k': 16, 'code_length': 1024, 'emb_time_per_sample': 0.0004665263493855794, 'inf_time_per_sample': 0.00031544578075408934, 'acc': 0.9068333333333334, 'precision_k': 0.8542083333333333}\n",
      "loading dataset...\n",
      "validation mode...\n",
      "54000 6000\n",
      "compute base embedding...\n"
     ]
    },
    {
     "name": "stderr",
     "output_type": "stream",
     "text": [
      "100%|██████████████████████████████████████████████████████████████████████████████████████████████████████████████████████████| 54000/54000 [00:39<00:00, 1378.95it/s]\n"
     ]
    },
    {
     "name": "stdout",
     "output_type": "stream",
     "text": [
      "compute query embedding...\n"
     ]
    },
    {
     "name": "stderr",
     "output_type": "stream",
     "text": [
      "100%|████████████████████████████████████████████████████████████████████████████████████████████████████████████████████████████| 6000/6000 [00:04<00:00, 1381.96it/s]\n"
     ]
    },
    {
     "name": "stdout",
     "output_type": "stream",
     "text": [
      "{'dataset': 'point_mnist', 'pooling': 'swe', 'ann': 'faiss-lsh', 'k': 4, 'code_length': 16, 'emb_time_per_sample': 0.0007626750071843465, 'inf_time_per_sample': 9.775678316752116e-06, 'acc': 0.20533333333333334, 'precision_k': 0.18225}\n",
      "loading dataset...\n",
      "validation mode...\n",
      "54000 6000\n",
      "loading cached base embedding...\n",
      "compute query embedding...\n"
     ]
    },
    {
     "name": "stderr",
     "output_type": "stream",
     "text": [
      "100%|████████████████████████████████████████████████████████████████████████████████████████████████████████████████████████████| 6000/6000 [00:04<00:00, 1385.36it/s]\n"
     ]
    },
    {
     "name": "stdout",
     "output_type": "stream",
     "text": [
      "{'dataset': 'point_mnist', 'pooling': 'swe', 'ann': 'faiss-lsh', 'k': 8, 'code_length': 16, 'emb_time_per_sample': 0.0007545377016067505, 'inf_time_per_sample': 9.136517842610678e-06, 'acc': 0.213, 'precision_k': 0.186125}\n",
      "loading dataset...\n",
      "validation mode...\n",
      "54000 6000\n",
      "loading cached base embedding...\n",
      "compute query embedding...\n"
     ]
    },
    {
     "name": "stderr",
     "output_type": "stream",
     "text": [
      "100%|████████████████████████████████████████████████████████████████████████████████████████████████████████████████████████████| 6000/6000 [00:04<00:00, 1387.90it/s]\n"
     ]
    },
    {
     "name": "stdout",
     "output_type": "stream",
     "text": [
      "{'dataset': 'point_mnist', 'pooling': 'swe', 'ann': 'faiss-lsh', 'k': 16, 'code_length': 16, 'emb_time_per_sample': 0.0007509701649347941, 'inf_time_per_sample': 9.2239777247111e-06, 'acc': 0.22883333333333333, 'precision_k': 0.18620833333333334}\n",
      "loading dataset...\n",
      "validation mode...\n",
      "54000 6000\n",
      "loading cached base embedding...\n",
      "compute query embedding...\n"
     ]
    },
    {
     "name": "stderr",
     "output_type": "stream",
     "text": [
      "100%|████████████████████████████████████████████████████████████████████████████████████████████████████████████████████████████| 6000/6000 [00:04<00:00, 1394.69it/s]\n"
     ]
    },
    {
     "name": "stdout",
     "output_type": "stream",
     "text": [
      "{'dataset': 'point_mnist', 'pooling': 'swe', 'ann': 'faiss-lsh', 'k': 4, 'code_length': 32, 'emb_time_per_sample': 0.0007452938159306844, 'inf_time_per_sample': 9.625991185506185e-06, 'acc': 0.374, 'precision_k': 0.34341666666666665}\n",
      "loading dataset...\n",
      "validation mode...\n",
      "54000 6000\n",
      "loading cached base embedding...\n",
      "compute query embedding...\n"
     ]
    },
    {
     "name": "stderr",
     "output_type": "stream",
     "text": [
      "100%|████████████████████████████████████████████████████████████████████████████████████████████████████████████████████████████| 6000/6000 [00:04<00:00, 1431.05it/s]\n"
     ]
    },
    {
     "name": "stdout",
     "output_type": "stream",
     "text": [
      "{'dataset': 'point_mnist', 'pooling': 'swe', 'ann': 'faiss-lsh', 'k': 8, 'code_length': 32, 'emb_time_per_sample': 0.0007370421886444092, 'inf_time_per_sample': 1.080648104349772e-05, 'acc': 0.38316666666666666, 'precision_k': 0.3516666666666667}\n",
      "loading dataset...\n",
      "validation mode...\n",
      "54000 6000\n",
      "loading cached base embedding...\n",
      "compute query embedding...\n"
     ]
    },
    {
     "name": "stderr",
     "output_type": "stream",
     "text": [
      "100%|████████████████████████████████████████████████████████████████████████████████████████████████████████████████████████████| 6000/6000 [00:04<00:00, 1433.95it/s]\n"
     ]
    },
    {
     "name": "stdout",
     "output_type": "stream",
     "text": [
      "{'dataset': 'point_mnist', 'pooling': 'swe', 'ann': 'faiss-lsh', 'k': 16, 'code_length': 32, 'emb_time_per_sample': 0.0007631038029988607, 'inf_time_per_sample': 1.049486796061198e-05, 'acc': 0.419, 'precision_k': 0.34201041666666665}\n",
      "loading dataset...\n",
      "validation mode...\n",
      "54000 6000\n",
      "loading cached base embedding...\n",
      "compute query embedding...\n"
     ]
    },
    {
     "name": "stderr",
     "output_type": "stream",
     "text": [
      "100%|████████████████████████████████████████████████████████████████████████████████████████████████████████████████████████████| 6000/6000 [00:04<00:00, 1333.90it/s]\n"
     ]
    },
    {
     "name": "stdout",
     "output_type": "stream",
     "text": [
      "{'dataset': 'point_mnist', 'pooling': 'swe', 'ann': 'faiss-lsh', 'k': 4, 'code_length': 64, 'emb_time_per_sample': 0.0007855186462402344, 'inf_time_per_sample': 2.167697747548421e-05, 'acc': 0.42966666666666664, 'precision_k': 0.39475}\n",
      "loading dataset...\n",
      "validation mode...\n",
      "54000 6000\n",
      "loading cached base embedding...\n",
      "compute query embedding...\n"
     ]
    },
    {
     "name": "stderr",
     "output_type": "stream",
     "text": [
      "100%|████████████████████████████████████████████████████████████████████████████████████████████████████████████████████████████| 6000/6000 [00:04<00:00, 1398.23it/s]\n"
     ]
    },
    {
     "name": "stdout",
     "output_type": "stream",
     "text": [
      "{'dataset': 'point_mnist', 'pooling': 'swe', 'ann': 'faiss-lsh', 'k': 8, 'code_length': 64, 'emb_time_per_sample': 0.0007444296677907308, 'inf_time_per_sample': 2.182467778523763e-05, 'acc': 0.48283333333333334, 'precision_k': 0.40670833333333334}\n",
      "loading dataset...\n",
      "validation mode...\n",
      "54000 6000\n",
      "loading cached base embedding...\n",
      "compute query embedding...\n"
     ]
    },
    {
     "name": "stderr",
     "output_type": "stream",
     "text": [
      "100%|████████████████████████████████████████████████████████████████████████████████████████████████████████████████████████████| 6000/6000 [00:04<00:00, 1381.75it/s]\n"
     ]
    },
    {
     "name": "stdout",
     "output_type": "stream",
     "text": [
      "{'dataset': 'point_mnist', 'pooling': 'swe', 'ann': 'faiss-lsh', 'k': 16, 'code_length': 64, 'emb_time_per_sample': 0.0007521934906641642, 'inf_time_per_sample': 2.1549304326375325e-05, 'acc': 0.49616666666666664, 'precision_k': 0.4015416666666667}\n",
      "loading dataset...\n",
      "validation mode...\n",
      "54000 6000\n",
      "loading cached base embedding...\n",
      "compute query embedding...\n"
     ]
    },
    {
     "name": "stderr",
     "output_type": "stream",
     "text": [
      "100%|████████████████████████████████████████████████████████████████████████████████████████████████████████████████████████████| 6000/6000 [00:04<00:00, 1388.51it/s]\n"
     ]
    },
    {
     "name": "stdout",
     "output_type": "stream",
     "text": [
      "{'dataset': 'point_mnist', 'pooling': 'swe', 'ann': 'faiss-lsh', 'k': 4, 'code_length': 128, 'emb_time_per_sample': 0.0007487559715906778, 'inf_time_per_sample': 2.510249614715576e-05, 'acc': 0.7163333333333334, 'precision_k': 0.6675833333333333}\n",
      "loading dataset...\n",
      "validation mode...\n",
      "54000 6000\n",
      "loading cached base embedding...\n",
      "compute query embedding...\n"
     ]
    },
    {
     "name": "stderr",
     "output_type": "stream",
     "text": [
      "100%|████████████████████████████████████████████████████████████████████████████████████████████████████████████████████████████| 6000/6000 [00:04<00:00, 1388.36it/s]\n"
     ]
    },
    {
     "name": "stdout",
     "output_type": "stream",
     "text": [
      "{'dataset': 'point_mnist', 'pooling': 'swe', 'ann': 'faiss-lsh', 'k': 8, 'code_length': 128, 'emb_time_per_sample': 0.0007480436563491821, 'inf_time_per_sample': 2.4932185808817545e-05, 'acc': 0.7353333333333333, 'precision_k': 0.6540625}\n",
      "loading dataset...\n",
      "validation mode...\n",
      "54000 6000\n",
      "loading cached base embedding...\n",
      "compute query embedding...\n"
     ]
    },
    {
     "name": "stderr",
     "output_type": "stream",
     "text": [
      "100%|████████████████████████████████████████████████████████████████████████████████████████████████████████████████████████████| 6000/6000 [00:04<00:00, 1384.82it/s]\n"
     ]
    },
    {
     "name": "stdout",
     "output_type": "stream",
     "text": [
      "{'dataset': 'point_mnist', 'pooling': 'swe', 'ann': 'faiss-lsh', 'k': 16, 'code_length': 128, 'emb_time_per_sample': 0.0007486625115076701, 'inf_time_per_sample': 2.6021321614583334e-05, 'acc': 0.7416666666666667, 'precision_k': 0.6393645833333333}\n",
      "loading dataset...\n",
      "validation mode...\n",
      "54000 6000\n",
      "loading cached base embedding...\n",
      "compute query embedding...\n"
     ]
    },
    {
     "name": "stderr",
     "output_type": "stream",
     "text": [
      "100%|████████████████████████████████████████████████████████████████████████████████████████████████████████████████████████████| 6000/6000 [00:04<00:00, 1323.93it/s]\n"
     ]
    },
    {
     "name": "stdout",
     "output_type": "stream",
     "text": [
      "{'dataset': 'point_mnist', 'pooling': 'swe', 'ann': 'faiss-lsh', 'k': 4, 'code_length': 256, 'emb_time_per_sample': 0.0007870286305745442, 'inf_time_per_sample': 0.00010865068435668945, 'acc': 0.7976666666666666, 'precision_k': 0.7480416666666667}\n",
      "loading dataset...\n",
      "validation mode...\n",
      "54000 6000\n",
      "loading cached base embedding...\n",
      "compute query embedding...\n"
     ]
    },
    {
     "name": "stderr",
     "output_type": "stream",
     "text": [
      "100%|████████████████████████████████████████████████████████████████████████████████████████████████████████████████████████████| 6000/6000 [00:04<00:00, 1388.10it/s]\n"
     ]
    },
    {
     "name": "stdout",
     "output_type": "stream",
     "text": [
      "{'dataset': 'point_mnist', 'pooling': 'swe', 'ann': 'faiss-lsh', 'k': 8, 'code_length': 256, 'emb_time_per_sample': 0.0007508391539255778, 'inf_time_per_sample': 0.00011074896653493246, 'acc': 0.8115, 'precision_k': 0.7377083333333333}\n",
      "loading dataset...\n",
      "validation mode...\n",
      "54000 6000\n",
      "loading cached base embedding...\n",
      "compute query embedding...\n"
     ]
    },
    {
     "name": "stderr",
     "output_type": "stream",
     "text": [
      "100%|████████████████████████████████████████████████████████████████████████████████████████████████████████████████████████████| 6000/6000 [00:04<00:00, 1390.38it/s]\n"
     ]
    },
    {
     "name": "stdout",
     "output_type": "stream",
     "text": [
      "{'dataset': 'point_mnist', 'pooling': 'swe', 'ann': 'faiss-lsh', 'k': 16, 'code_length': 256, 'emb_time_per_sample': 0.0007492734591166178, 'inf_time_per_sample': 0.00010766549905141195, 'acc': 0.8105, 'precision_k': 0.72390625}\n",
      "loading dataset...\n",
      "validation mode...\n",
      "54000 6000\n",
      "loading cached base embedding...\n",
      "compute query embedding...\n"
     ]
    },
    {
     "name": "stderr",
     "output_type": "stream",
     "text": [
      "100%|████████████████████████████████████████████████████████████████████████████████████████████████████████████████████████████| 6000/6000 [00:04<00:00, 1401.75it/s]\n"
     ]
    },
    {
     "name": "stdout",
     "output_type": "stream",
     "text": [
      "{'dataset': 'point_mnist', 'pooling': 'swe', 'ann': 'faiss-lsh', 'k': 4, 'code_length': 512, 'emb_time_per_sample': 0.0007431290149688721, 'inf_time_per_sample': 0.0001838540236155192, 'acc': 0.8815, 'precision_k': 0.8433333333333334}\n",
      "loading dataset...\n",
      "validation mode...\n",
      "54000 6000\n",
      "loading cached base embedding...\n",
      "compute query embedding...\n"
     ]
    },
    {
     "name": "stderr",
     "output_type": "stream",
     "text": [
      "100%|████████████████████████████████████████████████████████████████████████████████████████████████████████████████████████████| 6000/6000 [00:04<00:00, 1390.81it/s]\n"
     ]
    },
    {
     "name": "stdout",
     "output_type": "stream",
     "text": [
      "{'dataset': 'point_mnist', 'pooling': 'swe', 'ann': 'faiss-lsh', 'k': 8, 'code_length': 512, 'emb_time_per_sample': 0.0007485493421554566, 'inf_time_per_sample': 0.00018172629674275716, 'acc': 0.8865, 'precision_k': 0.8280416666666667}\n",
      "loading dataset...\n",
      "validation mode...\n",
      "54000 6000\n",
      "loading cached base embedding...\n",
      "compute query embedding...\n"
     ]
    },
    {
     "name": "stderr",
     "output_type": "stream",
     "text": [
      "100%|████████████████████████████████████████████████████████████████████████████████████████████████████████████████████████████| 6000/6000 [00:04<00:00, 1392.01it/s]\n"
     ]
    },
    {
     "name": "stdout",
     "output_type": "stream",
     "text": [
      "{'dataset': 'point_mnist', 'pooling': 'swe', 'ann': 'faiss-lsh', 'k': 16, 'code_length': 512, 'emb_time_per_sample': 0.0007484688361485799, 'inf_time_per_sample': 0.00018799070517222088, 'acc': 0.8808333333333334, 'precision_k': 0.81009375}\n",
      "loading dataset...\n",
      "validation mode...\n",
      "54000 6000\n",
      "loading cached base embedding...\n",
      "compute query embedding...\n"
     ]
    },
    {
     "name": "stderr",
     "output_type": "stream",
     "text": [
      "100%|████████████████████████████████████████████████████████████████████████████████████████████████████████████████████████████| 6000/6000 [00:04<00:00, 1398.19it/s]\n"
     ]
    },
    {
     "name": "stdout",
     "output_type": "stream",
     "text": [
      "{'dataset': 'point_mnist', 'pooling': 'swe', 'ann': 'faiss-lsh', 'k': 4, 'code_length': 1024, 'emb_time_per_sample': 0.0007464645306269328, 'inf_time_per_sample': 0.0003350438674290975, 'acc': 0.9193333333333333, 'precision_k': 0.891875}\n",
      "loading dataset...\n",
      "validation mode...\n",
      "54000 6000\n",
      "loading cached base embedding...\n",
      "compute query embedding...\n"
     ]
    },
    {
     "name": "stderr",
     "output_type": "stream",
     "text": [
      "100%|████████████████████████████████████████████████████████████████████████████████████████████████████████████████████████████| 6000/6000 [00:04<00:00, 1360.40it/s]\n"
     ]
    },
    {
     "name": "stdout",
     "output_type": "stream",
     "text": [
      "{'dataset': 'point_mnist', 'pooling': 'swe', 'ann': 'faiss-lsh', 'k': 8, 'code_length': 1024, 'emb_time_per_sample': 0.0007658911546071371, 'inf_time_per_sample': 0.00033202564716339113, 'acc': 0.9203333333333333, 'precision_k': 0.8805416666666667}\n",
      "loading dataset...\n",
      "validation mode...\n",
      "54000 6000\n",
      "loading cached base embedding...\n",
      "compute query embedding...\n"
     ]
    },
    {
     "name": "stderr",
     "output_type": "stream",
     "text": [
      "100%|████████████████████████████████████████████████████████████████████████████████████████████████████████████████████████████| 6000/6000 [00:04<00:00, 1392.17it/s]\n"
     ]
    },
    {
     "name": "stdout",
     "output_type": "stream",
     "text": [
      "{'dataset': 'point_mnist', 'pooling': 'swe', 'ann': 'faiss-lsh', 'k': 16, 'code_length': 1024, 'emb_time_per_sample': 0.000747063954671224, 'inf_time_per_sample': 0.00036175564924875893, 'acc': 0.9168333333333333, 'precision_k': 0.8668958333333333}\n",
      "loading dataset...\n",
      "validation mode...\n",
      "54000 6000\n",
      "compute base embedding...\n"
     ]
    },
    {
     "name": "stderr",
     "output_type": "stream",
     "text": [
      "100%|███████████████████████████████████████████████████████████████████████████████████████████████████████████████████████████| 54000/54000 [01:01<00:00, 875.89it/s]\n"
     ]
    },
    {
     "name": "stdout",
     "output_type": "stream",
     "text": [
      "compute query embedding...\n"
     ]
    },
    {
     "name": "stderr",
     "output_type": "stream",
     "text": [
      "100%|█████████████████████████████████████████████████████████████████████████████████████████████████████████████████████████████| 6000/6000 [00:06<00:00, 885.73it/s]\n"
     ]
    },
    {
     "name": "stdout",
     "output_type": "stream",
     "text": [
      "{'dataset': 'point_mnist', 'pooling': 'swe', 'ann': 'faiss-lsh', 'k': 4, 'code_length': 16, 'emb_time_per_sample': 0.0011711164712905884, 'inf_time_per_sample': 9.630163510640462e-06, 'acc': 0.18183333333333335, 'precision_k': 0.17175}\n",
      "loading dataset...\n",
      "validation mode...\n",
      "54000 6000\n",
      "loading cached base embedding...\n",
      "compute query embedding...\n"
     ]
    },
    {
     "name": "stderr",
     "output_type": "stream",
     "text": [
      "100%|█████████████████████████████████████████████████████████████████████████████████████████████████████████████████████████████| 6000/6000 [00:06<00:00, 874.65it/s]\n"
     ]
    },
    {
     "name": "stdout",
     "output_type": "stream",
     "text": [
      "{'dataset': 'point_mnist', 'pooling': 'swe', 'ann': 'faiss-lsh', 'k': 8, 'code_length': 16, 'emb_time_per_sample': 0.0011783415079116822, 'inf_time_per_sample': 9.800990422566732e-06, 'acc': 0.179, 'precision_k': 0.16433333333333333}\n",
      "loading dataset...\n",
      "validation mode...\n",
      "54000 6000\n",
      "loading cached base embedding...\n",
      "compute query embedding...\n"
     ]
    },
    {
     "name": "stderr",
     "output_type": "stream",
     "text": [
      "100%|█████████████████████████████████████████████████████████████████████████████████████████████████████████████████████████████| 6000/6000 [00:06<00:00, 880.92it/s]\n"
     ]
    },
    {
     "name": "stdout",
     "output_type": "stream",
     "text": [
      "{'dataset': 'point_mnist', 'pooling': 'swe', 'ann': 'faiss-lsh', 'k': 16, 'code_length': 16, 'emb_time_per_sample': 0.0011807204882303874, 'inf_time_per_sample': 1.0094165802001953e-05, 'acc': 0.20916666666666667, 'precision_k': 0.17371875}\n",
      "loading dataset...\n",
      "validation mode...\n",
      "54000 6000\n",
      "loading cached base embedding...\n",
      "compute query embedding...\n"
     ]
    },
    {
     "name": "stderr",
     "output_type": "stream",
     "text": [
      "100%|█████████████████████████████████████████████████████████████████████████████████████████████████████████████████████████████| 6000/6000 [00:07<00:00, 838.04it/s]\n"
     ]
    },
    {
     "name": "stdout",
     "output_type": "stream",
     "text": [
      "{'dataset': 'point_mnist', 'pooling': 'swe', 'ann': 'faiss-lsh', 'k': 4, 'code_length': 32, 'emb_time_per_sample': 0.001235239346822103, 'inf_time_per_sample': 1.0545849800109864e-05, 'acc': 0.19283333333333333, 'precision_k': 0.17558333333333334}\n",
      "loading dataset...\n",
      "validation mode...\n",
      "54000 6000\n",
      "loading cached base embedding...\n",
      "compute query embedding...\n"
     ]
    },
    {
     "name": "stderr",
     "output_type": "stream",
     "text": [
      "100%|█████████████████████████████████████████████████████████████████████████████████████████████████████████████████████████████| 6000/6000 [00:07<00:00, 850.51it/s]\n"
     ]
    },
    {
     "name": "stdout",
     "output_type": "stream",
     "text": [
      "{'dataset': 'point_mnist', 'pooling': 'swe', 'ann': 'faiss-lsh', 'k': 8, 'code_length': 32, 'emb_time_per_sample': 0.0012273098230361939, 'inf_time_per_sample': 1.2021342913309733e-05, 'acc': 0.21433333333333332, 'precision_k': 0.174}\n",
      "loading dataset...\n",
      "validation mode...\n",
      "54000 6000\n",
      "loading cached base embedding...\n",
      "compute query embedding...\n"
     ]
    },
    {
     "name": "stderr",
     "output_type": "stream",
     "text": [
      "100%|█████████████████████████████████████████████████████████████████████████████████████████████████████████████████████████████| 6000/6000 [00:06<00:00, 861.61it/s]\n"
     ]
    },
    {
     "name": "stdout",
     "output_type": "stream",
     "text": [
      "{'dataset': 'point_mnist', 'pooling': 'swe', 'ann': 'faiss-lsh', 'k': 16, 'code_length': 32, 'emb_time_per_sample': 0.0012078831593195598, 'inf_time_per_sample': 1.2265801429748535e-05, 'acc': 0.1665, 'precision_k': 0.17352083333333335}\n",
      "loading dataset...\n",
      "validation mode...\n",
      "54000 6000\n",
      "loading cached base embedding...\n",
      "compute query embedding...\n"
     ]
    },
    {
     "name": "stderr",
     "output_type": "stream",
     "text": [
      "100%|█████████████████████████████████████████████████████████████████████████████████████████████████████████████████████████████| 6000/6000 [00:07<00:00, 773.12it/s]\n"
     ]
    },
    {
     "name": "stdout",
     "output_type": "stream",
     "text": [
      "{'dataset': 'point_mnist', 'pooling': 'swe', 'ann': 'faiss-lsh', 'k': 4, 'code_length': 64, 'emb_time_per_sample': 0.0013558241923650107, 'inf_time_per_sample': 2.6764671007792156e-05, 'acc': 0.6145, 'precision_k': 0.552875}\n",
      "loading dataset...\n",
      "validation mode...\n",
      "54000 6000\n",
      "loading cached base embedding...\n",
      "compute query embedding...\n"
     ]
    },
    {
     "name": "stderr",
     "output_type": "stream",
     "text": [
      "100%|█████████████████████████████████████████████████████████████████████████████████████████████████████████████████████████████| 6000/6000 [00:07<00:00, 829.64it/s]\n"
     ]
    },
    {
     "name": "stdout",
     "output_type": "stream",
     "text": [
      "{'dataset': 'point_mnist', 'pooling': 'swe', 'ann': 'faiss-lsh', 'k': 8, 'code_length': 64, 'emb_time_per_sample': 0.0012506192127863566, 'inf_time_per_sample': 2.6012500127156575e-05, 'acc': 0.6321666666666667, 'precision_k': 0.5479583333333333}\n",
      "loading dataset...\n",
      "validation mode...\n",
      "54000 6000\n",
      "loading cached base embedding...\n",
      "compute query embedding...\n"
     ]
    },
    {
     "name": "stderr",
     "output_type": "stream",
     "text": [
      "100%|█████████████████████████████████████████████████████████████████████████████████████████████████████████████████████████████| 6000/6000 [00:07<00:00, 836.22it/s]\n"
     ]
    },
    {
     "name": "stdout",
     "output_type": "stream",
     "text": [
      "{'dataset': 'point_mnist', 'pooling': 'swe', 'ann': 'faiss-lsh', 'k': 16, 'code_length': 64, 'emb_time_per_sample': 0.0012434500455856324, 'inf_time_per_sample': 2.6661316553751627e-05, 'acc': 0.6443333333333333, 'precision_k': 0.5368020833333333}\n",
      "loading dataset...\n",
      "validation mode...\n",
      "54000 6000\n",
      "loading cached base embedding...\n",
      "compute query embedding...\n"
     ]
    },
    {
     "name": "stderr",
     "output_type": "stream",
     "text": [
      "100%|█████████████████████████████████████████████████████████████████████████████████████████████████████████████████████████████| 6000/6000 [00:07<00:00, 797.45it/s]\n"
     ]
    },
    {
     "name": "stdout",
     "output_type": "stream",
     "text": [
      "{'dataset': 'point_mnist', 'pooling': 'swe', 'ann': 'faiss-lsh', 'k': 4, 'code_length': 128, 'emb_time_per_sample': 0.0013035718599955241, 'inf_time_per_sample': 3.7973682085673015e-05, 'acc': 0.6795, 'precision_k': 0.614625}\n",
      "loading dataset...\n",
      "validation mode...\n",
      "54000 6000\n",
      "loading cached base embedding...\n",
      "compute query embedding...\n"
     ]
    },
    {
     "name": "stderr",
     "output_type": "stream",
     "text": [
      "100%|█████████████████████████████████████████████████████████████████████████████████████████████████████████████████████████████| 6000/6000 [00:07<00:00, 829.06it/s]\n"
     ]
    },
    {
     "name": "stdout",
     "output_type": "stream",
     "text": [
      "{'dataset': 'point_mnist', 'pooling': 'swe', 'ann': 'faiss-lsh', 'k': 8, 'code_length': 128, 'emb_time_per_sample': 0.0012514986594518026, 'inf_time_per_sample': 2.9137333234151203e-05, 'acc': 0.7033333333333334, 'precision_k': 0.6093541666666666}\n",
      "loading dataset...\n",
      "validation mode...\n",
      "54000 6000\n",
      "loading cached base embedding...\n",
      "compute query embedding...\n"
     ]
    },
    {
     "name": "stderr",
     "output_type": "stream",
     "text": [
      "100%|█████████████████████████████████████████████████████████████████████████████████████████████████████████████████████████████| 6000/6000 [00:07<00:00, 810.57it/s]\n"
     ]
    },
    {
     "name": "stdout",
     "output_type": "stream",
     "text": [
      "{'dataset': 'point_mnist', 'pooling': 'swe', 'ann': 'faiss-lsh', 'k': 16, 'code_length': 128, 'emb_time_per_sample': 0.0012832513252894083, 'inf_time_per_sample': 3.466550509134929e-05, 'acc': 0.7045, 'precision_k': 0.5939791666666666}\n",
      "loading dataset...\n",
      "validation mode...\n",
      "54000 6000\n",
      "loading cached base embedding...\n",
      "compute query embedding...\n"
     ]
    },
    {
     "name": "stderr",
     "output_type": "stream",
     "text": [
      "100%|█████████████████████████████████████████████████████████████████████████████████████████████████████████████████████████████| 6000/6000 [00:07<00:00, 793.57it/s]\n"
     ]
    },
    {
     "name": "stdout",
     "output_type": "stream",
     "text": [
      "{'dataset': 'point_mnist', 'pooling': 'swe', 'ann': 'faiss-lsh', 'k': 4, 'code_length': 256, 'emb_time_per_sample': 0.0013129146893819173, 'inf_time_per_sample': 0.0001327816645304362, 'acc': 0.8376666666666667, 'precision_k': 0.7927083333333333}\n",
      "loading dataset...\n",
      "validation mode...\n",
      "54000 6000\n",
      "loading cached base embedding...\n",
      "compute query embedding...\n"
     ]
    },
    {
     "name": "stderr",
     "output_type": "stream",
     "text": [
      "100%|█████████████████████████████████████████████████████████████████████████████████████████████████████████████████████████████| 6000/6000 [00:07<00:00, 843.49it/s]\n"
     ]
    },
    {
     "name": "stdout",
     "output_type": "stream",
     "text": [
      "{'dataset': 'point_mnist', 'pooling': 'swe', 'ann': 'faiss-lsh', 'k': 8, 'code_length': 256, 'emb_time_per_sample': 0.0012306633392969767, 'inf_time_per_sample': 0.0001255428393681844, 'acc': 0.8461666666666666, 'precision_k': 0.7819166666666667}\n",
      "loading dataset...\n",
      "validation mode...\n",
      "54000 6000\n",
      "loading cached base embedding...\n",
      "compute query embedding...\n"
     ]
    },
    {
     "name": "stderr",
     "output_type": "stream",
     "text": [
      "100%|█████████████████████████████████████████████████████████████████████████████████████████████████████████████████████████████| 6000/6000 [00:07<00:00, 817.39it/s]\n"
     ]
    },
    {
     "name": "stdout",
     "output_type": "stream",
     "text": [
      "{'dataset': 'point_mnist', 'pooling': 'swe', 'ann': 'faiss-lsh', 'k': 16, 'code_length': 256, 'emb_time_per_sample': 0.0012744556665420532, 'inf_time_per_sample': 0.00012848103046417237, 'acc': 0.8433333333333334, 'precision_k': 0.76534375}\n",
      "loading dataset...\n",
      "validation mode...\n",
      "54000 6000\n",
      "loading cached base embedding...\n",
      "compute query embedding...\n"
     ]
    },
    {
     "name": "stderr",
     "output_type": "stream",
     "text": [
      "100%|█████████████████████████████████████████████████████████████████████████████████████████████████████████████████████████████| 6000/6000 [00:07<00:00, 816.55it/s]\n"
     ]
    },
    {
     "name": "stdout",
     "output_type": "stream",
     "text": [
      "{'dataset': 'point_mnist', 'pooling': 'swe', 'ann': 'faiss-lsh', 'k': 4, 'code_length': 512, 'emb_time_per_sample': 0.001273449659347534, 'inf_time_per_sample': 0.0002135456403096517, 'acc': 0.8775, 'precision_k': 0.83775}\n",
      "loading dataset...\n",
      "validation mode...\n",
      "54000 6000\n",
      "loading cached base embedding...\n",
      "compute query embedding...\n"
     ]
    },
    {
     "name": "stderr",
     "output_type": "stream",
     "text": [
      "100%|█████████████████████████████████████████████████████████████████████████████████████████████████████████████████████████████| 6000/6000 [00:07<00:00, 820.10it/s]\n"
     ]
    },
    {
     "name": "stdout",
     "output_type": "stream",
     "text": [
      "{'dataset': 'point_mnist', 'pooling': 'swe', 'ann': 'faiss-lsh', 'k': 8, 'code_length': 512, 'emb_time_per_sample': 0.0012761906385421753, 'inf_time_per_sample': 0.0002178479830423991, 'acc': 0.8795, 'precision_k': 0.8230416666666667}\n",
      "loading dataset...\n",
      "validation mode...\n",
      "54000 6000\n",
      "loading cached base embedding...\n",
      "compute query embedding...\n"
     ]
    },
    {
     "name": "stderr",
     "output_type": "stream",
     "text": [
      "100%|█████████████████████████████████████████████████████████████████████████████████████████████████████████████████████████████| 6000/6000 [00:07<00:00, 833.58it/s]\n"
     ]
    },
    {
     "name": "stdout",
     "output_type": "stream",
     "text": [
      "{'dataset': 'point_mnist', 'pooling': 'swe', 'ann': 'faiss-lsh', 'k': 16, 'code_length': 512, 'emb_time_per_sample': 0.0012460105021794637, 'inf_time_per_sample': 0.00022609949111938478, 'acc': 0.878, 'precision_k': 0.8048541666666666}\n",
      "loading dataset...\n",
      "validation mode...\n",
      "54000 6000\n",
      "loading cached base embedding...\n",
      "compute query embedding...\n"
     ]
    },
    {
     "name": "stderr",
     "output_type": "stream",
     "text": [
      "100%|█████████████████████████████████████████████████████████████████████████████████████████████████████████████████████████████| 6000/6000 [00:07<00:00, 821.99it/s]\n"
     ]
    },
    {
     "name": "stdout",
     "output_type": "stream",
     "text": [
      "{'dataset': 'point_mnist', 'pooling': 'swe', 'ann': 'faiss-lsh', 'k': 4, 'code_length': 1024, 'emb_time_per_sample': 0.0012665995359420776, 'inf_time_per_sample': 0.0004690673351287842, 'acc': 0.9228333333333333, 'precision_k': 0.889}\n",
      "loading dataset...\n",
      "validation mode...\n",
      "54000 6000\n",
      "loading cached base embedding...\n",
      "compute query embedding...\n"
     ]
    },
    {
     "name": "stderr",
     "output_type": "stream",
     "text": [
      "100%|█████████████████████████████████████████████████████████████████████████████████████████████████████████████████████████████| 6000/6000 [00:06<00:00, 857.48it/s]\n"
     ]
    },
    {
     "name": "stdout",
     "output_type": "stream",
     "text": [
      "{'dataset': 'point_mnist', 'pooling': 'swe', 'ann': 'faiss-lsh', 'k': 8, 'code_length': 1024, 'emb_time_per_sample': 0.0012104045152664185, 'inf_time_per_sample': 0.00039124981562296547, 'acc': 0.925, 'precision_k': 0.8753541666666667}\n",
      "loading dataset...\n",
      "validation mode...\n",
      "54000 6000\n",
      "loading cached base embedding...\n",
      "compute query embedding...\n"
     ]
    },
    {
     "name": "stderr",
     "output_type": "stream",
     "text": [
      "100%|█████████████████████████████████████████████████████████████████████████████████████████████████████████████████████████████| 6000/6000 [00:07<00:00, 838.39it/s]\n"
     ]
    },
    {
     "name": "stdout",
     "output_type": "stream",
     "text": [
      "{'dataset': 'point_mnist', 'pooling': 'swe', 'ann': 'faiss-lsh', 'k': 16, 'code_length': 1024, 'emb_time_per_sample': 0.0012409218152364095, 'inf_time_per_sample': 0.00038726651668548583, 'acc': 0.9163333333333333, 'precision_k': 0.8588958333333333}\n",
      "loading dataset...\n",
      "validation mode...\n",
      "54000 6000\n",
      "compute base embedding...\n"
     ]
    },
    {
     "name": "stderr",
     "output_type": "stream",
     "text": [
      "100%|███████████████████████████████████████████████████████████████████████████████████████████████████████████████████████████| 54000/54000 [01:59<00:00, 453.65it/s]\n"
     ]
    },
    {
     "name": "stdout",
     "output_type": "stream",
     "text": [
      "compute query embedding...\n"
     ]
    },
    {
     "name": "stderr",
     "output_type": "stream",
     "text": [
      "100%|███████████████████████████████████████████████████████████████████████████████████████████████████| 6000/6000 [00:13<00:00, 453.53it/s]\n"
     ]
    },
    {
     "name": "stdout",
     "output_type": "stream",
     "text": [
      "{'dataset': 'point_mnist', 'pooling': 'swe', 'ann': 'faiss-lsh', 'k': 4, 'code_length': 16, 'emb_time_per_sample': 0.00234617547194163, 'inf_time_per_sample': 1.5552282333374022e-05, 'acc': 0.09866666666666667, 'precision_k': 0.116875}\n",
      "loading dataset...\n",
      "validation mode...\n",
      "54000 6000\n",
      "loading cached base embedding...\n",
      "compute query embedding...\n"
     ]
    },
    {
     "name": "stderr",
     "output_type": "stream",
     "text": [
      "100%|███████████████████████████████████████████████████████████████████████████████████████████████████| 6000/6000 [00:12<00:00, 486.75it/s]\n"
     ]
    },
    {
     "name": "stdout",
     "output_type": "stream",
     "text": [
      "{'dataset': 'point_mnist', 'pooling': 'swe', 'ann': 'faiss-lsh', 'k': 8, 'code_length': 16, 'emb_time_per_sample': 0.0021271222829818727, 'inf_time_per_sample': 1.1505484580993652e-05, 'acc': 0.1655, 'precision_k': 0.1235}\n",
      "loading dataset...\n",
      "validation mode...\n",
      "54000 6000\n",
      "loading cached base embedding...\n",
      "compute query embedding...\n"
     ]
    },
    {
     "name": "stderr",
     "output_type": "stream",
     "text": [
      "100%|███████████████████████████████████████████████████████████████████████████████████████████████████| 6000/6000 [00:11<00:00, 503.69it/s]\n"
     ]
    },
    {
     "name": "stdout",
     "output_type": "stream",
     "text": [
      "{'dataset': 'point_mnist', 'pooling': 'swe', 'ann': 'faiss-lsh', 'k': 16, 'code_length': 16, 'emb_time_per_sample': 0.0020498534838358563, 'inf_time_per_sample': 1.3199011484781901e-05, 'acc': 0.1665, 'precision_k': 0.1334375}\n",
      "loading dataset...\n",
      "validation mode...\n",
      "54000 6000\n",
      "loading cached base embedding...\n",
      "compute query embedding...\n"
     ]
    },
    {
     "name": "stderr",
     "output_type": "stream",
     "text": [
      "100%|███████████████████████████████████████████████████████████████████████████████████████████████████| 6000/6000 [00:12<00:00, 472.34it/s]\n"
     ]
    },
    {
     "name": "stdout",
     "output_type": "stream",
     "text": [
      "{'dataset': 'point_mnist', 'pooling': 'swe', 'ann': 'faiss-lsh', 'k': 4, 'code_length': 32, 'emb_time_per_sample': 0.0021912835041681925, 'inf_time_per_sample': 1.3081987698872884e-05, 'acc': 0.36583333333333334, 'precision_k': 0.2972916666666667}\n",
      "loading dataset...\n",
      "validation mode...\n",
      "54000 6000\n",
      "loading cached base embedding...\n",
      "compute query embedding...\n"
     ]
    },
    {
     "name": "stderr",
     "output_type": "stream",
     "text": [
      "100%|███████████████████████████████████████████████████████████████████████████████████████████████████| 6000/6000 [00:11<00:00, 505.39it/s]\n"
     ]
    },
    {
     "name": "stdout",
     "output_type": "stream",
     "text": [
      "{'dataset': 'point_mnist', 'pooling': 'swe', 'ann': 'faiss-lsh', 'k': 8, 'code_length': 32, 'emb_time_per_sample': 0.0020451484521230062, 'inf_time_per_sample': 1.4187335968017578e-05, 'acc': 0.37283333333333335, 'precision_k': 0.3067916666666667}\n",
      "loading dataset...\n",
      "validation mode...\n",
      "54000 6000\n",
      "loading cached base embedding...\n",
      "compute query embedding...\n"
     ]
    },
    {
     "name": "stderr",
     "output_type": "stream",
     "text": [
      "100%|███████████████████████████████████████████████████████████████████████████████████████████████████| 6000/6000 [00:11<00:00, 501.13it/s]\n"
     ]
    },
    {
     "name": "stdout",
     "output_type": "stream",
     "text": [
      "{'dataset': 'point_mnist', 'pooling': 'swe', 'ann': 'faiss-lsh', 'k': 16, 'code_length': 32, 'emb_time_per_sample': 0.0020672117074330646, 'inf_time_per_sample': 1.54646635055542e-05, 'acc': 0.36533333333333334, 'precision_k': 0.296125}\n",
      "loading dataset...\n",
      "validation mode...\n",
      "54000 6000\n",
      "loading cached base embedding...\n",
      "compute query embedding...\n"
     ]
    },
    {
     "name": "stderr",
     "output_type": "stream",
     "text": [
      "100%|███████████████████████████████████████████████████████████████████████████████████████████████████| 6000/6000 [00:12<00:00, 485.59it/s]\n"
     ]
    },
    {
     "name": "stdout",
     "output_type": "stream",
     "text": [
      "{'dataset': 'point_mnist', 'pooling': 'swe', 'ann': 'faiss-lsh', 'k': 4, 'code_length': 64, 'emb_time_per_sample': 0.002130911827087402, 'inf_time_per_sample': 2.9005169868469237e-05, 'acc': 0.5328333333333334, 'precision_k': 0.4725416666666667}\n",
      "loading dataset...\n",
      "validation mode...\n",
      "54000 6000\n",
      "loading cached base embedding...\n",
      "compute query embedding...\n"
     ]
    },
    {
     "name": "stderr",
     "output_type": "stream",
     "text": [
      "100%|███████████████████████████████████████████████████████████████████████████████████████████████████| 6000/6000 [00:13<00:00, 428.99it/s]\n"
     ]
    },
    {
     "name": "stdout",
     "output_type": "stream",
     "text": [
      "{'dataset': 'point_mnist', 'pooling': 'swe', 'ann': 'faiss-lsh', 'k': 8, 'code_length': 64, 'emb_time_per_sample': 0.0024312044779459634, 'inf_time_per_sample': 3.315985202789307e-05, 'acc': 0.5445, 'precision_k': 0.4763125}\n",
      "loading dataset...\n",
      "validation mode...\n",
      "54000 6000\n",
      "loading cached base embedding...\n",
      "compute query embedding...\n"
     ]
    },
    {
     "name": "stderr",
     "output_type": "stream",
     "text": [
      "100%|███████████████████████████████████████████████████████████████████████████████████████████████████| 6000/6000 [00:12<00:00, 473.77it/s]\n"
     ]
    },
    {
     "name": "stdout",
     "output_type": "stream",
     "text": [
      "{'dataset': 'point_mnist', 'pooling': 'swe', 'ann': 'faiss-lsh', 'k': 16, 'code_length': 64, 'emb_time_per_sample': 0.0021871723333994546, 'inf_time_per_sample': 2.9602289199829102e-05, 'acc': 0.5643333333333334, 'precision_k': 0.4715520833333333}\n",
      "loading dataset...\n",
      "validation mode...\n",
      "54000 6000\n",
      "loading cached base embedding...\n",
      "compute query embedding...\n"
     ]
    },
    {
     "name": "stderr",
     "output_type": "stream",
     "text": [
      "100%|███████████████████████████████████████████████████████████████████████████████████████████████████| 6000/6000 [00:12<00:00, 482.87it/s]\n"
     ]
    },
    {
     "name": "stdout",
     "output_type": "stream",
     "text": [
      "{'dataset': 'point_mnist', 'pooling': 'swe', 'ann': 'faiss-lsh', 'k': 4, 'code_length': 128, 'emb_time_per_sample': 0.0021419397989908854, 'inf_time_per_sample': 3.892354170481364e-05, 'acc': 0.6638333333333334, 'precision_k': 0.5957083333333333}\n",
      "loading dataset...\n",
      "validation mode...\n",
      "54000 6000\n",
      "loading cached base embedding...\n",
      "compute query embedding...\n"
     ]
    },
    {
     "name": "stderr",
     "output_type": "stream",
     "text": [
      "100%|███████████████████████████████████████████████████████████████████████████████████████████████████| 6000/6000 [00:12<00:00, 471.32it/s]\n"
     ]
    },
    {
     "name": "stdout",
     "output_type": "stream",
     "text": [
      "{'dataset': 'point_mnist', 'pooling': 'swe', 'ann': 'faiss-lsh', 'k': 8, 'code_length': 128, 'emb_time_per_sample': 0.002195226510365804, 'inf_time_per_sample': 3.702135880788167e-05, 'acc': 0.6666666666666666, 'precision_k': 0.586}\n",
      "loading dataset...\n",
      "validation mode...\n",
      "54000 6000\n",
      "loading cached base embedding...\n",
      "compute query embedding...\n"
     ]
    },
    {
     "name": "stderr",
     "output_type": "stream",
     "text": [
      "100%|███████████████████████████████████████████████████████████████████████████████████████████████████| 6000/6000 [00:11<00:00, 510.54it/s]\n"
     ]
    },
    {
     "name": "stdout",
     "output_type": "stream",
     "text": [
      "{'dataset': 'point_mnist', 'pooling': 'swe', 'ann': 'faiss-lsh', 'k': 16, 'code_length': 128, 'emb_time_per_sample': 0.0020246606667836506, 'inf_time_per_sample': 3.6514639854431154e-05, 'acc': 0.6688333333333333, 'precision_k': 0.5750729166666667}\n",
      "loading dataset...\n",
      "validation mode...\n",
      "54000 6000\n",
      "loading cached base embedding...\n",
      "compute query embedding...\n"
     ]
    },
    {
     "name": "stderr",
     "output_type": "stream",
     "text": [
      "100%|███████████████████████████████████████████████████████████████████████████████████████████████████| 6000/6000 [00:12<00:00, 486.69it/s]\n"
     ]
    },
    {
     "name": "stdout",
     "output_type": "stream",
     "text": [
      "{'dataset': 'point_mnist', 'pooling': 'swe', 'ann': 'faiss-lsh', 'k': 4, 'code_length': 256, 'emb_time_per_sample': 0.0021291181643803914, 'inf_time_per_sample': 0.00013929430643717448, 'acc': 0.8271666666666667, 'precision_k': 0.7794166666666666}\n",
      "loading dataset...\n",
      "validation mode...\n",
      "54000 6000\n",
      "loading cached base embedding...\n",
      "compute query embedding...\n"
     ]
    },
    {
     "name": "stderr",
     "output_type": "stream",
     "text": [
      "100%|███████████████████████████████████████████████████████████████████████████████████████████████████| 6000/6000 [00:12<00:00, 490.05it/s]\n"
     ]
    },
    {
     "name": "stdout",
     "output_type": "stream",
     "text": [
      "{'dataset': 'point_mnist', 'pooling': 'swe', 'ann': 'faiss-lsh', 'k': 8, 'code_length': 256, 'emb_time_per_sample': 0.002109471281369527, 'inf_time_per_sample': 0.000127421498298645, 'acc': 0.8315, 'precision_k': 0.7624583333333333}\n",
      "loading dataset...\n",
      "validation mode...\n",
      "54000 6000\n",
      "loading cached base embedding...\n",
      "compute query embedding...\n"
     ]
    },
    {
     "name": "stderr",
     "output_type": "stream",
     "text": [
      "100%|███████████████████████████████████████████████████████████████████████████████████████████████████| 6000/6000 [00:11<00:00, 513.54it/s]\n"
     ]
    },
    {
     "name": "stdout",
     "output_type": "stream",
     "text": [
      "{'dataset': 'point_mnist', 'pooling': 'swe', 'ann': 'faiss-lsh', 'k': 16, 'code_length': 256, 'emb_time_per_sample': 0.002012093146642049, 'inf_time_per_sample': 0.00013019831975301106, 'acc': 0.8308333333333333, 'precision_k': 0.7447083333333333}\n",
      "loading dataset...\n",
      "validation mode...\n",
      "54000 6000\n",
      "loading cached base embedding...\n",
      "compute query embedding...\n"
     ]
    },
    {
     "name": "stderr",
     "output_type": "stream",
     "text": [
      "100%|███████████████████████████████████████████████████████████████████████████████████████████████████| 6000/6000 [00:12<00:00, 498.23it/s]\n"
     ]
    },
    {
     "name": "stdout",
     "output_type": "stream",
     "text": [
      "{'dataset': 'point_mnist', 'pooling': 'swe', 'ann': 'faiss-lsh', 'k': 4, 'code_length': 512, 'emb_time_per_sample': 0.0020929288069407143, 'inf_time_per_sample': 0.00024958531061808266, 'acc': 0.8763333333333333, 'precision_k': 0.8434583333333333}\n",
      "loading dataset...\n",
      "validation mode...\n",
      "54000 6000\n",
      "loading cached base embedding...\n",
      "compute query embedding...\n"
     ]
    },
    {
     "name": "stderr",
     "output_type": "stream",
     "text": [
      "100%|███████████████████████████████████████████████████████████████████████████████████████████████████| 6000/6000 [00:12<00:00, 486.06it/s]\n"
     ]
    },
    {
     "name": "stdout",
     "output_type": "stream",
     "text": [
      "{'dataset': 'point_mnist', 'pooling': 'swe', 'ann': 'faiss-lsh', 'k': 8, 'code_length': 512, 'emb_time_per_sample': 0.00213357150554657, 'inf_time_per_sample': 0.00024490936597188314, 'acc': 0.8851666666666667, 'precision_k': 0.8313541666666666}\n",
      "loading dataset...\n",
      "validation mode...\n",
      "54000 6000\n",
      "loading cached base embedding...\n",
      "compute query embedding...\n"
     ]
    },
    {
     "name": "stderr",
     "output_type": "stream",
     "text": [
      "100%|███████████████████████████████████████████████████████████████████████████████████████████████████| 6000/6000 [00:12<00:00, 483.82it/s]\n"
     ]
    },
    {
     "name": "stdout",
     "output_type": "stream",
     "text": [
      "{'dataset': 'point_mnist', 'pooling': 'swe', 'ann': 'faiss-lsh', 'k': 16, 'code_length': 512, 'emb_time_per_sample': 0.0022152214447657267, 'inf_time_per_sample': 0.0002473033269246419, 'acc': 0.8835, 'precision_k': 0.8161666666666667}\n",
      "loading dataset...\n",
      "validation mode...\n",
      "54000 6000\n",
      "loading cached base embedding...\n",
      "compute query embedding...\n"
     ]
    },
    {
     "name": "stderr",
     "output_type": "stream",
     "text": [
      "100%|███████████████████████████████████████████████████████████████████████████████████████████████████| 6000/6000 [00:11<00:00, 504.44it/s]\n"
     ]
    },
    {
     "name": "stdout",
     "output_type": "stream",
     "text": [
      "{'dataset': 'point_mnist', 'pooling': 'swe', 'ann': 'faiss-lsh', 'k': 4, 'code_length': 1024, 'emb_time_per_sample': 0.002079644838968913, 'inf_time_per_sample': 0.000439410130182902, 'acc': 0.9115, 'precision_k': 0.8817916666666666}\n",
      "loading dataset...\n",
      "validation mode...\n",
      "54000 6000\n",
      "loading cached base embedding...\n",
      "compute query embedding...\n"
     ]
    },
    {
     "name": "stderr",
     "output_type": "stream",
     "text": [
      "100%|███████████████████████████████████████████████████████████████████████████████████████████████████| 6000/6000 [00:12<00:00, 497.09it/s]\n"
     ]
    },
    {
     "name": "stdout",
     "output_type": "stream",
     "text": [
      "{'dataset': 'point_mnist', 'pooling': 'swe', 'ann': 'faiss-lsh', 'k': 8, 'code_length': 1024, 'emb_time_per_sample': 0.0020886625448862713, 'inf_time_per_sample': 0.00046849918365478516, 'acc': 0.9115, 'precision_k': 0.8680208333333334}\n",
      "loading dataset...\n",
      "validation mode...\n",
      "54000 6000\n",
      "loading cached base embedding...\n",
      "compute query embedding...\n"
     ]
    },
    {
     "name": "stderr",
     "output_type": "stream",
     "text": [
      "100%|███████████████████████████████████████████████████████████████████████████████████████████████████| 6000/6000 [00:12<00:00, 474.54it/s]\n"
     ]
    },
    {
     "name": "stdout",
     "output_type": "stream",
     "text": [
      "{'dataset': 'point_mnist', 'pooling': 'swe', 'ann': 'faiss-lsh', 'k': 16, 'code_length': 1024, 'emb_time_per_sample': 0.0021989231904347736, 'inf_time_per_sample': 0.0004291865428288778, 'acc': 0.9095, 'precision_k': 0.85175}\n",
      "loading dataset...\n",
      "validation mode...\n",
      "54000 6000\n",
      "compute base embedding...\n"
     ]
    },
    {
     "name": "stderr",
     "output_type": "stream",
     "text": [
      "100%|█████████████████████████████████████████████████████████████████████████████████████████████████| 54000/54000 [03:23<00:00, 264.76it/s]\n"
     ]
    },
    {
     "name": "stdout",
     "output_type": "stream",
     "text": [
      "compute query embedding...\n"
     ]
    },
    {
     "name": "stderr",
     "output_type": "stream",
     "text": [
      "100%|███████████████████████████████████████████████████████████████████████████████████████████████████| 6000/6000 [00:24<00:00, 242.62it/s]\n"
     ]
    },
    {
     "name": "stdout",
     "output_type": "stream",
     "text": [
      "{'dataset': 'point_mnist', 'pooling': 'swe', 'ann': 'faiss-lsh', 'k': 4, 'code_length': 16, 'emb_time_per_sample': 0.00435451352596283, 'inf_time_per_sample': 2.9274503389994305e-05, 'acc': 0.3486666666666667, 'precision_k': 0.25679166666666664}\n",
      "loading dataset...\n",
      "validation mode...\n",
      "54000 6000\n",
      "loading cached base embedding...\n",
      "compute query embedding...\n"
     ]
    },
    {
     "name": "stderr",
     "output_type": "stream",
     "text": [
      "100%|███████████████████████████████████████████████████████████████████████████████████████████████████| 6000/6000 [00:24<00:00, 249.79it/s]\n"
     ]
    },
    {
     "name": "stdout",
     "output_type": "stream",
     "text": [
      "{'dataset': 'point_mnist', 'pooling': 'swe', 'ann': 'faiss-lsh', 'k': 8, 'code_length': 16, 'emb_time_per_sample': 0.004203472852706909, 'inf_time_per_sample': 3.6595980326334634e-05, 'acc': 0.3395, 'precision_k': 0.2798125}\n",
      "loading dataset...\n",
      "validation mode...\n",
      "54000 6000\n",
      "loading cached base embedding...\n",
      "compute query embedding...\n"
     ]
    },
    {
     "name": "stderr",
     "output_type": "stream",
     "text": [
      "100%|███████████████████████████████████████████████████████████████████████████████████████████████████| 6000/6000 [00:21<00:00, 273.54it/s]\n"
     ]
    },
    {
     "name": "stdout",
     "output_type": "stream",
     "text": [
      "{'dataset': 'point_mnist', 'pooling': 'swe', 'ann': 'faiss-lsh', 'k': 16, 'code_length': 16, 'emb_time_per_sample': 0.0038905831972757977, 'inf_time_per_sample': 1.6491492589314778e-05, 'acc': 0.389, 'precision_k': 0.28639583333333335}\n",
      "loading dataset...\n",
      "validation mode...\n",
      "54000 6000\n",
      "loading cached base embedding...\n",
      "compute query embedding...\n"
     ]
    },
    {
     "name": "stderr",
     "output_type": "stream",
     "text": [
      "100%|███████████████████████████████████████████████████████████████████████████████████████████████████| 6000/6000 [00:23<00:00, 259.07it/s]\n"
     ]
    },
    {
     "name": "stdout",
     "output_type": "stream",
     "text": [
      "{'dataset': 'point_mnist', 'pooling': 'swe', 'ann': 'faiss-lsh', 'k': 4, 'code_length': 32, 'emb_time_per_sample': 0.0040164456367492675, 'inf_time_per_sample': 2.108883857727051e-05, 'acc': 0.2796666666666667, 'precision_k': 0.24391666666666667}\n",
      "loading dataset...\n",
      "validation mode...\n",
      "54000 6000\n",
      "loading cached base embedding...\n",
      "compute query embedding...\n"
     ]
    },
    {
     "name": "stderr",
     "output_type": "stream",
     "text": [
      "100%|███████████████████████████████████████████████████████████████████████████████████████████████████| 6000/6000 [00:23<00:00, 256.50it/s]\n"
     ]
    },
    {
     "name": "stdout",
     "output_type": "stream",
     "text": [
      "{'dataset': 'point_mnist', 'pooling': 'swe', 'ann': 'faiss-lsh', 'k': 8, 'code_length': 32, 'emb_time_per_sample': 0.0040778693358103435, 'inf_time_per_sample': 2.6455163955688476e-05, 'acc': 0.2768333333333333, 'precision_k': 0.22614583333333332}\n",
      "loading dataset...\n",
      "validation mode...\n",
      "54000 6000\n",
      "loading cached base embedding...\n",
      "compute query embedding...\n"
     ]
    },
    {
     "name": "stderr",
     "output_type": "stream",
     "text": [
      "100%|███████████████████████████████████████████████████████████████████████████████████████████████████| 6000/6000 [00:22<00:00, 266.67it/s]\n"
     ]
    },
    {
     "name": "stdout",
     "output_type": "stream",
     "text": [
      "{'dataset': 'point_mnist', 'pooling': 'swe', 'ann': 'faiss-lsh', 'k': 16, 'code_length': 32, 'emb_time_per_sample': 0.0039038060506184896, 'inf_time_per_sample': 1.8037676811218263e-05, 'acc': 0.3463333333333333, 'precision_k': 0.24634375}\n",
      "loading dataset...\n",
      "validation mode...\n",
      "54000 6000\n",
      "loading cached base embedding...\n",
      "compute query embedding...\n"
     ]
    },
    {
     "name": "stderr",
     "output_type": "stream",
     "text": [
      "100%|███████████████████████████████████████████████████████████████████████████████████████████████████| 6000/6000 [00:22<00:00, 270.10it/s]\n"
     ]
    },
    {
     "name": "stdout",
     "output_type": "stream",
     "text": [
      "{'dataset': 'point_mnist', 'pooling': 'swe', 'ann': 'faiss-lsh', 'k': 4, 'code_length': 64, 'emb_time_per_sample': 0.0038506016731262205, 'inf_time_per_sample': 3.816552956899007e-05, 'acc': 0.5088333333333334, 'precision_k': 0.4402083333333333}\n",
      "loading dataset...\n",
      "validation mode...\n",
      "54000 6000\n",
      "loading cached base embedding...\n",
      "compute query embedding...\n"
     ]
    },
    {
     "name": "stderr",
     "output_type": "stream",
     "text": [
      "100%|███████████████████████████████████████████████████████████████████████████████████████████████████| 6000/6000 [00:23<00:00, 251.92it/s]\n"
     ]
    },
    {
     "name": "stdout",
     "output_type": "stream",
     "text": [
      "{'dataset': 'point_mnist', 'pooling': 'swe', 'ann': 'faiss-lsh', 'k': 8, 'code_length': 64, 'emb_time_per_sample': 0.004118279695510864, 'inf_time_per_sample': 4.299386342366536e-05, 'acc': 0.5308333333333334, 'precision_k': 0.445}\n",
      "loading dataset...\n",
      "validation mode...\n",
      "54000 6000\n",
      "loading cached base embedding...\n",
      "compute query embedding...\n"
     ]
    },
    {
     "name": "stderr",
     "output_type": "stream",
     "text": [
      "100%|███████████████████████████████████████████████████████████████████████████████████████████████████| 6000/6000 [00:23<00:00, 253.55it/s]\n"
     ]
    },
    {
     "name": "stdout",
     "output_type": "stream",
     "text": [
      "{'dataset': 'point_mnist', 'pooling': 'swe', 'ann': 'faiss-lsh', 'k': 16, 'code_length': 64, 'emb_time_per_sample': 0.004129358371098836, 'inf_time_per_sample': 7.495466868082683e-05, 'acc': 0.5475, 'precision_k': 0.4293645833333333}\n",
      "loading dataset...\n",
      "validation mode...\n",
      "54000 6000\n",
      "loading cached base embedding...\n",
      "compute query embedding...\n"
     ]
    },
    {
     "name": "stderr",
     "output_type": "stream",
     "text": [
      "100%|███████████████████████████████████████████████████████████████████████████████████████████████████| 6000/6000 [00:25<00:00, 231.19it/s]\n"
     ]
    },
    {
     "name": "stdout",
     "output_type": "stream",
     "text": [
      "{'dataset': 'point_mnist', 'pooling': 'swe', 'ann': 'faiss-lsh', 'k': 4, 'code_length': 128, 'emb_time_per_sample': 0.004522827466328939, 'inf_time_per_sample': 8.16726287206014e-05, 'acc': 0.663, 'precision_k': 0.6038333333333333}\n",
      "loading dataset...\n",
      "validation mode...\n",
      "54000 6000\n",
      "loading cached base embedding...\n",
      "compute query embedding...\n"
     ]
    },
    {
     "name": "stderr",
     "output_type": "stream",
     "text": [
      "100%|███████████████████████████████████████████████████████████████████████████████████████████████████| 6000/6000 [00:23<00:00, 250.61it/s]\n"
     ]
    },
    {
     "name": "stdout",
     "output_type": "stream",
     "text": [
      "{'dataset': 'point_mnist', 'pooling': 'swe', 'ann': 'faiss-lsh', 'k': 8, 'code_length': 128, 'emb_time_per_sample': 0.0041343426704406735, 'inf_time_per_sample': 5.579082171122233e-05, 'acc': 0.6896666666666667, 'precision_k': 0.5982916666666667}\n",
      "loading dataset...\n",
      "validation mode...\n",
      "54000 6000\n",
      "loading cached base embedding...\n",
      "compute query embedding...\n"
     ]
    },
    {
     "name": "stderr",
     "output_type": "stream",
     "text": [
      "100%|███████████████████████████████████████████████████████████████████████████████████████████████████| 6000/6000 [00:22<00:00, 262.76it/s]\n"
     ]
    },
    {
     "name": "stdout",
     "output_type": "stream",
     "text": [
      "{'dataset': 'point_mnist', 'pooling': 'swe', 'ann': 'faiss-lsh', 'k': 16, 'code_length': 128, 'emb_time_per_sample': 0.003940346002578735, 'inf_time_per_sample': 5.889515082041423e-05, 'acc': 0.6868333333333333, 'precision_k': 0.5815104166666667}\n",
      "loading dataset...\n",
      "validation mode...\n",
      "54000 6000\n",
      "loading cached base embedding...\n",
      "compute query embedding...\n"
     ]
    },
    {
     "name": "stderr",
     "output_type": "stream",
     "text": [
      "100%|███████████████████████████████████████████████████████████████████████████████████████████████████| 6000/6000 [00:24<00:00, 249.09it/s]\n"
     ]
    },
    {
     "name": "stdout",
     "output_type": "stream",
     "text": [
      "{'dataset': 'point_mnist', 'pooling': 'swe', 'ann': 'faiss-lsh', 'k': 4, 'code_length': 256, 'emb_time_per_sample': 0.00417512301603953, 'inf_time_per_sample': 0.00016689920425415038, 'acc': 0.8306666666666667, 'precision_k': 0.7824583333333334}\n",
      "loading dataset...\n",
      "validation mode...\n",
      "54000 6000\n",
      "loading cached base embedding...\n",
      "compute query embedding...\n"
     ]
    },
    {
     "name": "stderr",
     "output_type": "stream",
     "text": [
      "100%|███████████████████████████████████████████████████████████████████████████████████████████████████| 6000/6000 [00:22<00:00, 267.80it/s]\n"
     ]
    },
    {
     "name": "stdout",
     "output_type": "stream",
     "text": [
      "{'dataset': 'point_mnist', 'pooling': 'swe', 'ann': 'faiss-lsh', 'k': 8, 'code_length': 256, 'emb_time_per_sample': 0.0038437578280766803, 'inf_time_per_sample': 0.00015875879923502603, 'acc': 0.8393333333333334, 'precision_k': 0.7680416666666666}\n",
      "loading dataset...\n",
      "validation mode...\n",
      "54000 6000\n",
      "loading cached base embedding...\n",
      "compute query embedding...\n"
     ]
    },
    {
     "name": "stderr",
     "output_type": "stream",
     "text": [
      "100%|███████████████████████████████████████████████████████████████████████████████████████████████████| 6000/6000 [00:23<00:00, 252.10it/s]\n"
     ]
    },
    {
     "name": "stdout",
     "output_type": "stream",
     "text": [
      "{'dataset': 'point_mnist', 'pooling': 'swe', 'ann': 'faiss-lsh', 'k': 16, 'code_length': 256, 'emb_time_per_sample': 0.004107986370722453, 'inf_time_per_sample': 0.00017987350622812907, 'acc': 0.837, 'precision_k': 0.7499895833333333}\n",
      "loading dataset...\n",
      "validation mode...\n",
      "54000 6000\n",
      "loading cached base embedding...\n",
      "compute query embedding...\n"
     ]
    },
    {
     "name": "stderr",
     "output_type": "stream",
     "text": [
      "100%|███████████████████████████████████████████████████████████████████████████████████████████████████| 6000/6000 [00:22<00:00, 270.65it/s]\n"
     ]
    },
    {
     "name": "stdout",
     "output_type": "stream",
     "text": [
      "{'dataset': 'point_mnist', 'pooling': 'swe', 'ann': 'faiss-lsh', 'k': 4, 'code_length': 512, 'emb_time_per_sample': 0.003866167982419332, 'inf_time_per_sample': 0.00033903284867604574, 'acc': 0.8775, 'precision_k': 0.840375}\n",
      "loading dataset...\n",
      "validation mode...\n",
      "54000 6000\n",
      "loading cached base embedding...\n",
      "compute query embedding...\n"
     ]
    },
    {
     "name": "stderr",
     "output_type": "stream",
     "text": [
      "100%|███████████████████████████████████████████████████████████████████████████████████████████████████| 6000/6000 [00:23<00:00, 251.56it/s]\n"
     ]
    },
    {
     "name": "stdout",
     "output_type": "stream",
     "text": [
      "{'dataset': 'point_mnist', 'pooling': 'swe', 'ann': 'faiss-lsh', 'k': 8, 'code_length': 512, 'emb_time_per_sample': 0.004120835304260254, 'inf_time_per_sample': 0.0003391598463058472, 'acc': 0.8825, 'precision_k': 0.8264375}\n",
      "loading dataset...\n",
      "validation mode...\n",
      "54000 6000\n",
      "loading cached base embedding...\n",
      "compute query embedding...\n"
     ]
    },
    {
     "name": "stderr",
     "output_type": "stream",
     "text": [
      "100%|███████████████████████████████████████████████████████████████████████████████████████████████████| 6000/6000 [00:22<00:00, 271.76it/s]\n"
     ]
    },
    {
     "name": "stdout",
     "output_type": "stream",
     "text": [
      "{'dataset': 'point_mnist', 'pooling': 'swe', 'ann': 'faiss-lsh', 'k': 16, 'code_length': 512, 'emb_time_per_sample': 0.0038155811627705893, 'inf_time_per_sample': 0.00033257512251536053, 'acc': 0.8848333333333334, 'precision_k': 0.8134375}\n",
      "loading dataset...\n",
      "validation mode...\n",
      "54000 6000\n",
      "loading cached base embedding...\n",
      "compute query embedding...\n"
     ]
    },
    {
     "name": "stderr",
     "output_type": "stream",
     "text": [
      "100%|███████████████████████████████████████████████████████████████████████████████████████████████████| 6000/6000 [00:22<00:00, 268.93it/s]\n"
     ]
    },
    {
     "name": "stdout",
     "output_type": "stream",
     "text": [
      "{'dataset': 'point_mnist', 'pooling': 'swe', 'ann': 'faiss-lsh', 'k': 4, 'code_length': 1024, 'emb_time_per_sample': 0.0038500458399454754, 'inf_time_per_sample': 0.00060477081934611, 'acc': 0.9218333333333333, 'precision_k': 0.892}\n",
      "loading dataset...\n",
      "validation mode...\n",
      "54000 6000\n",
      "loading cached base embedding...\n",
      "compute query embedding...\n"
     ]
    },
    {
     "name": "stderr",
     "output_type": "stream",
     "text": [
      "100%|███████████████████████████████████████████████████████████████████████████████████████████████████| 6000/6000 [00:22<00:00, 262.29it/s]\n"
     ]
    },
    {
     "name": "stdout",
     "output_type": "stream",
     "text": [
      "{'dataset': 'point_mnist', 'pooling': 'swe', 'ann': 'faiss-lsh', 'k': 8, 'code_length': 1024, 'emb_time_per_sample': 0.0040266358455022175, 'inf_time_per_sample': 0.0006439956823984782, 'acc': 0.923, 'precision_k': 0.8817083333333333}\n",
      "loading dataset...\n",
      "validation mode...\n",
      "54000 6000\n",
      "loading cached base embedding...\n",
      "compute query embedding...\n"
     ]
    },
    {
     "name": "stderr",
     "output_type": "stream",
     "text": [
      "100%|███████████████████████████████████████████████████████████████████████████████████████████████████| 6000/6000 [00:23<00:00, 255.45it/s]\n"
     ]
    },
    {
     "name": "stdout",
     "output_type": "stream",
     "text": [
      "{'dataset': 'point_mnist', 'pooling': 'swe', 'ann': 'faiss-lsh', 'k': 16, 'code_length': 1024, 'emb_time_per_sample': 0.004075036327044169, 'inf_time_per_sample': 0.0007979578574498495, 'acc': 0.9158333333333334, 'precision_k': 0.8668125}\n"
     ]
    }
   ],
   "source": [
    "val_results = []\n",
    "\n",
    "for s in n_slices:\n",
    "    for l in hash_code_length:\n",
    "        for k in ks:\n",
    "            exp = Experiment(dataset, 'swe', 'faiss-lsh',\n",
    "                             k=k, ref_size=set_size_median, code_length=l, num_slices=s, mode='validation')\n",
    "            exp.test()\n",
    "            report = exp.get_exp_report()\n",
    "            val_results.append({'dataset': dataset,\n",
    "                                'k': k,\n",
    "                                'num_slices': s,\n",
    "                                'code_length': l,\n",
    "                                'precision_k': report['precision_k'],\n",
    "                                'acc': report['acc']})\n",
    "            print(report)\n",
    "\n",
    "with open('json/point_mnist_val.json', 'w') as f:\n",
    "    json.dump(val_results, f)"
   ]
  },
  {
   "cell_type": "code",
   "execution_count": 9,
   "id": "e1575f0c",
   "metadata": {},
   "outputs": [],
   "source": [
    "import altair as alt"
   ]
  },
  {
   "cell_type": "code",
   "execution_count": 11,
   "id": "19849cfb",
   "metadata": {},
   "outputs": [
    {
     "data": {
      "text/html": [
       "\n",
       "<div id=\"altair-viz-5e60d1ec806c44a38084cec16475ca19\"></div>\n",
       "<script type=\"text/javascript\">\n",
       "  (function(spec, embedOpt){\n",
       "    let outputDiv = document.currentScript.previousElementSibling;\n",
       "    if (outputDiv.id !== \"altair-viz-5e60d1ec806c44a38084cec16475ca19\") {\n",
       "      outputDiv = document.getElementById(\"altair-viz-5e60d1ec806c44a38084cec16475ca19\");\n",
       "    }\n",
       "    const paths = {\n",
       "      \"vega\": \"https://cdn.jsdelivr.net/npm//vega@5?noext\",\n",
       "      \"vega-lib\": \"https://cdn.jsdelivr.net/npm//vega-lib?noext\",\n",
       "      \"vega-lite\": \"https://cdn.jsdelivr.net/npm//vega-lite@4.8.1?noext\",\n",
       "      \"vega-embed\": \"https://cdn.jsdelivr.net/npm//vega-embed@6?noext\",\n",
       "    };\n",
       "\n",
       "    function loadScript(lib) {\n",
       "      return new Promise(function(resolve, reject) {\n",
       "        var s = document.createElement('script');\n",
       "        s.src = paths[lib];\n",
       "        s.async = true;\n",
       "        s.onload = () => resolve(paths[lib]);\n",
       "        s.onerror = () => reject(`Error loading script: ${paths[lib]}`);\n",
       "        document.getElementsByTagName(\"head\")[0].appendChild(s);\n",
       "      });\n",
       "    }\n",
       "\n",
       "    function showError(err) {\n",
       "      outputDiv.innerHTML = `<div class=\"error\" style=\"color:red;\">${err}</div>`;\n",
       "      throw err;\n",
       "    }\n",
       "\n",
       "    function displayChart(vegaEmbed) {\n",
       "      vegaEmbed(outputDiv, spec, embedOpt)\n",
       "        .catch(err => showError(`Javascript Error: ${err.message}<br>This usually means there's a typo in your chart specification. See the javascript console for the full traceback.`));\n",
       "    }\n",
       "\n",
       "    if(typeof define === \"function\" && define.amd) {\n",
       "      requirejs.config({paths});\n",
       "      require([\"vega-embed\"], displayChart, err => showError(`Error loading script: ${err.message}`));\n",
       "    } else if (typeof vegaEmbed === \"function\") {\n",
       "      displayChart(vegaEmbed);\n",
       "    } else {\n",
       "      loadScript(\"vega\")\n",
       "        .then(() => loadScript(\"vega-lite\"))\n",
       "        .then(() => loadScript(\"vega-embed\"))\n",
       "        .catch(showError)\n",
       "        .then(() => displayChart(vegaEmbed));\n",
       "    }\n",
       "  })({\"config\": {\"view\": {\"continuousWidth\": 400, \"continuousHeight\": 300}}, \"data\": {\"values\": [{\"dataset\": \"point_mnist\", \"k\": 4, \"num_slices\": 8, \"code_length\": 16, \"precision_k\": 0.20433333333333334, \"acc\": 0.282}, {\"dataset\": \"point_mnist\", \"k\": 8, \"num_slices\": 8, \"code_length\": 16, \"precision_k\": 0.192625, \"acc\": 0.2385}, {\"dataset\": \"point_mnist\", \"k\": 16, \"num_slices\": 8, \"code_length\": 16, \"precision_k\": 0.19294791666666666, \"acc\": 0.2175}, {\"dataset\": \"point_mnist\", \"k\": 4, \"num_slices\": 8, \"code_length\": 32, \"precision_k\": 0.23804166666666668, \"acc\": 0.26816666666666666}, {\"dataset\": \"point_mnist\", \"k\": 8, \"num_slices\": 8, \"code_length\": 32, \"precision_k\": 0.2445, \"acc\": 0.28633333333333333}, {\"dataset\": \"point_mnist\", \"k\": 16, \"num_slices\": 8, \"code_length\": 32, \"precision_k\": 0.24304166666666666, \"acc\": 0.32766666666666666}, {\"dataset\": \"point_mnist\", \"k\": 4, \"num_slices\": 8, \"code_length\": 64, \"precision_k\": 0.41220833333333334, \"acc\": 0.4106666666666667}, {\"dataset\": \"point_mnist\", \"k\": 8, \"num_slices\": 8, \"code_length\": 64, \"precision_k\": 0.4021458333333333, \"acc\": 0.4683333333333333}, {\"dataset\": \"point_mnist\", \"k\": 16, \"num_slices\": 8, \"code_length\": 64, \"precision_k\": 0.38928125, \"acc\": 0.4716666666666667}, {\"dataset\": \"point_mnist\", \"k\": 4, \"num_slices\": 8, \"code_length\": 128, \"precision_k\": 0.6597916666666667, \"acc\": 0.7125}, {\"dataset\": \"point_mnist\", \"k\": 8, \"num_slices\": 8, \"code_length\": 128, \"precision_k\": 0.6515, \"acc\": 0.7326666666666667}, {\"dataset\": \"point_mnist\", \"k\": 16, \"num_slices\": 8, \"code_length\": 128, \"precision_k\": 0.6389375, \"acc\": 0.7396666666666667}, {\"dataset\": \"point_mnist\", \"k\": 4, \"num_slices\": 8, \"code_length\": 256, \"precision_k\": 0.7592916666666667, \"acc\": 0.8058333333333333}, {\"dataset\": \"point_mnist\", \"k\": 8, \"num_slices\": 8, \"code_length\": 256, \"precision_k\": 0.7472916666666667, \"acc\": 0.8161666666666667}, {\"dataset\": \"point_mnist\", \"k\": 16, \"num_slices\": 8, \"code_length\": 256, \"precision_k\": 0.7350520833333334, \"acc\": 0.8221666666666667}, {\"dataset\": \"point_mnist\", \"k\": 4, \"num_slices\": 8, \"code_length\": 512, \"precision_k\": 0.847375, \"acc\": 0.8825}, {\"dataset\": \"point_mnist\", \"k\": 8, \"num_slices\": 8, \"code_length\": 512, \"precision_k\": 0.8374166666666667, \"acc\": 0.8916666666666667}, {\"dataset\": \"point_mnist\", \"k\": 16, \"num_slices\": 8, \"code_length\": 512, \"precision_k\": 0.8211770833333333, \"acc\": 0.8866666666666667}, {\"dataset\": \"point_mnist\", \"k\": 4, \"num_slices\": 8, \"code_length\": 1024, \"precision_k\": 0.8807083333333333, \"acc\": 0.9086666666666666}, {\"dataset\": \"point_mnist\", \"k\": 8, \"num_slices\": 8, \"code_length\": 1024, \"precision_k\": 0.8688541666666667, \"acc\": 0.911}, {\"dataset\": \"point_mnist\", \"k\": 16, \"num_slices\": 8, \"code_length\": 1024, \"precision_k\": 0.8542083333333333, \"acc\": 0.9068333333333334}, {\"dataset\": \"point_mnist\", \"k\": 4, \"num_slices\": 16, \"code_length\": 16, \"precision_k\": 0.18225, \"acc\": 0.20533333333333334}, {\"dataset\": \"point_mnist\", \"k\": 8, \"num_slices\": 16, \"code_length\": 16, \"precision_k\": 0.186125, \"acc\": 0.213}, {\"dataset\": \"point_mnist\", \"k\": 16, \"num_slices\": 16, \"code_length\": 16, \"precision_k\": 0.18620833333333334, \"acc\": 0.22883333333333333}, {\"dataset\": \"point_mnist\", \"k\": 4, \"num_slices\": 16, \"code_length\": 32, \"precision_k\": 0.34341666666666665, \"acc\": 0.374}, {\"dataset\": \"point_mnist\", \"k\": 8, \"num_slices\": 16, \"code_length\": 32, \"precision_k\": 0.3516666666666667, \"acc\": 0.38316666666666666}, {\"dataset\": \"point_mnist\", \"k\": 16, \"num_slices\": 16, \"code_length\": 32, \"precision_k\": 0.34201041666666665, \"acc\": 0.419}, {\"dataset\": \"point_mnist\", \"k\": 4, \"num_slices\": 16, \"code_length\": 64, \"precision_k\": 0.39475, \"acc\": 0.42966666666666664}, {\"dataset\": \"point_mnist\", \"k\": 8, \"num_slices\": 16, \"code_length\": 64, \"precision_k\": 0.40670833333333334, \"acc\": 0.48283333333333334}, {\"dataset\": \"point_mnist\", \"k\": 16, \"num_slices\": 16, \"code_length\": 64, \"precision_k\": 0.4015416666666667, \"acc\": 0.49616666666666664}, {\"dataset\": \"point_mnist\", \"k\": 4, \"num_slices\": 16, \"code_length\": 128, \"precision_k\": 0.6675833333333333, \"acc\": 0.7163333333333334}, {\"dataset\": \"point_mnist\", \"k\": 8, \"num_slices\": 16, \"code_length\": 128, \"precision_k\": 0.6540625, \"acc\": 0.7353333333333333}, {\"dataset\": \"point_mnist\", \"k\": 16, \"num_slices\": 16, \"code_length\": 128, \"precision_k\": 0.6393645833333333, \"acc\": 0.7416666666666667}, {\"dataset\": \"point_mnist\", \"k\": 4, \"num_slices\": 16, \"code_length\": 256, \"precision_k\": 0.7480416666666667, \"acc\": 0.7976666666666666}, {\"dataset\": \"point_mnist\", \"k\": 8, \"num_slices\": 16, \"code_length\": 256, \"precision_k\": 0.7377083333333333, \"acc\": 0.8115}, {\"dataset\": \"point_mnist\", \"k\": 16, \"num_slices\": 16, \"code_length\": 256, \"precision_k\": 0.72390625, \"acc\": 0.8105}, {\"dataset\": \"point_mnist\", \"k\": 4, \"num_slices\": 16, \"code_length\": 512, \"precision_k\": 0.8433333333333334, \"acc\": 0.8815}, {\"dataset\": \"point_mnist\", \"k\": 8, \"num_slices\": 16, \"code_length\": 512, \"precision_k\": 0.8280416666666667, \"acc\": 0.8865}, {\"dataset\": \"point_mnist\", \"k\": 16, \"num_slices\": 16, \"code_length\": 512, \"precision_k\": 0.81009375, \"acc\": 0.8808333333333334}, {\"dataset\": \"point_mnist\", \"k\": 4, \"num_slices\": 16, \"code_length\": 1024, \"precision_k\": 0.891875, \"acc\": 0.9193333333333333}, {\"dataset\": \"point_mnist\", \"k\": 8, \"num_slices\": 16, \"code_length\": 1024, \"precision_k\": 0.8805416666666667, \"acc\": 0.9203333333333333}, {\"dataset\": \"point_mnist\", \"k\": 16, \"num_slices\": 16, \"code_length\": 1024, \"precision_k\": 0.8668958333333333, \"acc\": 0.9168333333333333}, {\"dataset\": \"point_mnist\", \"k\": 4, \"num_slices\": 32, \"code_length\": 16, \"precision_k\": 0.17175, \"acc\": 0.18183333333333335}, {\"dataset\": \"point_mnist\", \"k\": 8, \"num_slices\": 32, \"code_length\": 16, \"precision_k\": 0.16433333333333333, \"acc\": 0.179}, {\"dataset\": \"point_mnist\", \"k\": 16, \"num_slices\": 32, \"code_length\": 16, \"precision_k\": 0.17371875, \"acc\": 0.20916666666666667}, {\"dataset\": \"point_mnist\", \"k\": 4, \"num_slices\": 32, \"code_length\": 32, \"precision_k\": 0.17558333333333334, \"acc\": 0.19283333333333333}, {\"dataset\": \"point_mnist\", \"k\": 8, \"num_slices\": 32, \"code_length\": 32, \"precision_k\": 0.174, \"acc\": 0.21433333333333332}, {\"dataset\": \"point_mnist\", \"k\": 16, \"num_slices\": 32, \"code_length\": 32, \"precision_k\": 0.17352083333333335, \"acc\": 0.1665}, {\"dataset\": \"point_mnist\", \"k\": 4, \"num_slices\": 32, \"code_length\": 64, \"precision_k\": 0.552875, \"acc\": 0.6145}, {\"dataset\": \"point_mnist\", \"k\": 8, \"num_slices\": 32, \"code_length\": 64, \"precision_k\": 0.5479583333333333, \"acc\": 0.6321666666666667}, {\"dataset\": \"point_mnist\", \"k\": 16, \"num_slices\": 32, \"code_length\": 64, \"precision_k\": 0.5368020833333333, \"acc\": 0.6443333333333333}, {\"dataset\": \"point_mnist\", \"k\": 4, \"num_slices\": 32, \"code_length\": 128, \"precision_k\": 0.614625, \"acc\": 0.6795}, {\"dataset\": \"point_mnist\", \"k\": 8, \"num_slices\": 32, \"code_length\": 128, \"precision_k\": 0.6093541666666666, \"acc\": 0.7033333333333334}, {\"dataset\": \"point_mnist\", \"k\": 16, \"num_slices\": 32, \"code_length\": 128, \"precision_k\": 0.5939791666666666, \"acc\": 0.7045}, {\"dataset\": \"point_mnist\", \"k\": 4, \"num_slices\": 32, \"code_length\": 256, \"precision_k\": 0.7927083333333333, \"acc\": 0.8376666666666667}, {\"dataset\": \"point_mnist\", \"k\": 8, \"num_slices\": 32, \"code_length\": 256, \"precision_k\": 0.7819166666666667, \"acc\": 0.8461666666666666}, {\"dataset\": \"point_mnist\", \"k\": 16, \"num_slices\": 32, \"code_length\": 256, \"precision_k\": 0.76534375, \"acc\": 0.8433333333333334}, {\"dataset\": \"point_mnist\", \"k\": 4, \"num_slices\": 32, \"code_length\": 512, \"precision_k\": 0.83775, \"acc\": 0.8775}, {\"dataset\": \"point_mnist\", \"k\": 8, \"num_slices\": 32, \"code_length\": 512, \"precision_k\": 0.8230416666666667, \"acc\": 0.8795}, {\"dataset\": \"point_mnist\", \"k\": 16, \"num_slices\": 32, \"code_length\": 512, \"precision_k\": 0.8048541666666666, \"acc\": 0.878}, {\"dataset\": \"point_mnist\", \"k\": 4, \"num_slices\": 32, \"code_length\": 1024, \"precision_k\": 0.889, \"acc\": 0.9228333333333333}, {\"dataset\": \"point_mnist\", \"k\": 8, \"num_slices\": 32, \"code_length\": 1024, \"precision_k\": 0.8753541666666667, \"acc\": 0.925}, {\"dataset\": \"point_mnist\", \"k\": 16, \"num_slices\": 32, \"code_length\": 1024, \"precision_k\": 0.8588958333333333, \"acc\": 0.9163333333333333}, {\"dataset\": \"point_mnist\", \"k\": 4, \"num_slices\": 64, \"code_length\": 16, \"precision_k\": 0.116875, \"acc\": 0.09866666666666667}, {\"dataset\": \"point_mnist\", \"k\": 8, \"num_slices\": 64, \"code_length\": 16, \"precision_k\": 0.1235, \"acc\": 0.1655}, {\"dataset\": \"point_mnist\", \"k\": 16, \"num_slices\": 64, \"code_length\": 16, \"precision_k\": 0.1334375, \"acc\": 0.1665}, {\"dataset\": \"point_mnist\", \"k\": 4, \"num_slices\": 64, \"code_length\": 32, \"precision_k\": 0.2972916666666667, \"acc\": 0.36583333333333334}, {\"dataset\": \"point_mnist\", \"k\": 8, \"num_slices\": 64, \"code_length\": 32, \"precision_k\": 0.3067916666666667, \"acc\": 0.37283333333333335}, {\"dataset\": \"point_mnist\", \"k\": 16, \"num_slices\": 64, \"code_length\": 32, \"precision_k\": 0.296125, \"acc\": 0.36533333333333334}, {\"dataset\": \"point_mnist\", \"k\": 4, \"num_slices\": 64, \"code_length\": 64, \"precision_k\": 0.4725416666666667, \"acc\": 0.5328333333333334}, {\"dataset\": \"point_mnist\", \"k\": 8, \"num_slices\": 64, \"code_length\": 64, \"precision_k\": 0.4763125, \"acc\": 0.5445}, {\"dataset\": \"point_mnist\", \"k\": 16, \"num_slices\": 64, \"code_length\": 64, \"precision_k\": 0.4715520833333333, \"acc\": 0.5643333333333334}, {\"dataset\": \"point_mnist\", \"k\": 4, \"num_slices\": 64, \"code_length\": 128, \"precision_k\": 0.5957083333333333, \"acc\": 0.6638333333333334}, {\"dataset\": \"point_mnist\", \"k\": 8, \"num_slices\": 64, \"code_length\": 128, \"precision_k\": 0.586, \"acc\": 0.6666666666666666}, {\"dataset\": \"point_mnist\", \"k\": 16, \"num_slices\": 64, \"code_length\": 128, \"precision_k\": 0.5750729166666667, \"acc\": 0.6688333333333333}, {\"dataset\": \"point_mnist\", \"k\": 4, \"num_slices\": 64, \"code_length\": 256, \"precision_k\": 0.7794166666666666, \"acc\": 0.8271666666666667}, {\"dataset\": \"point_mnist\", \"k\": 8, \"num_slices\": 64, \"code_length\": 256, \"precision_k\": 0.7624583333333333, \"acc\": 0.8315}, {\"dataset\": \"point_mnist\", \"k\": 16, \"num_slices\": 64, \"code_length\": 256, \"precision_k\": 0.7447083333333333, \"acc\": 0.8308333333333333}, {\"dataset\": \"point_mnist\", \"k\": 4, \"num_slices\": 64, \"code_length\": 512, \"precision_k\": 0.8434583333333333, \"acc\": 0.8763333333333333}, {\"dataset\": \"point_mnist\", \"k\": 8, \"num_slices\": 64, \"code_length\": 512, \"precision_k\": 0.8313541666666666, \"acc\": 0.8851666666666667}, {\"dataset\": \"point_mnist\", \"k\": 16, \"num_slices\": 64, \"code_length\": 512, \"precision_k\": 0.8161666666666667, \"acc\": 0.8835}, {\"dataset\": \"point_mnist\", \"k\": 4, \"num_slices\": 64, \"code_length\": 1024, \"precision_k\": 0.8817916666666666, \"acc\": 0.9115}, {\"dataset\": \"point_mnist\", \"k\": 8, \"num_slices\": 64, \"code_length\": 1024, \"precision_k\": 0.8680208333333334, \"acc\": 0.9115}, {\"dataset\": \"point_mnist\", \"k\": 16, \"num_slices\": 64, \"code_length\": 1024, \"precision_k\": 0.85175, \"acc\": 0.9095}, {\"dataset\": \"point_mnist\", \"k\": 4, \"num_slices\": 128, \"code_length\": 16, \"precision_k\": 0.25679166666666664, \"acc\": 0.3486666666666667}, {\"dataset\": \"point_mnist\", \"k\": 8, \"num_slices\": 128, \"code_length\": 16, \"precision_k\": 0.2798125, \"acc\": 0.3395}, {\"dataset\": \"point_mnist\", \"k\": 16, \"num_slices\": 128, \"code_length\": 16, \"precision_k\": 0.28639583333333335, \"acc\": 0.389}, {\"dataset\": \"point_mnist\", \"k\": 4, \"num_slices\": 128, \"code_length\": 32, \"precision_k\": 0.24391666666666667, \"acc\": 0.2796666666666667}, {\"dataset\": \"point_mnist\", \"k\": 8, \"num_slices\": 128, \"code_length\": 32, \"precision_k\": 0.22614583333333332, \"acc\": 0.2768333333333333}, {\"dataset\": \"point_mnist\", \"k\": 16, \"num_slices\": 128, \"code_length\": 32, \"precision_k\": 0.24634375, \"acc\": 0.3463333333333333}, {\"dataset\": \"point_mnist\", \"k\": 4, \"num_slices\": 128, \"code_length\": 64, \"precision_k\": 0.4402083333333333, \"acc\": 0.5088333333333334}, {\"dataset\": \"point_mnist\", \"k\": 8, \"num_slices\": 128, \"code_length\": 64, \"precision_k\": 0.445, \"acc\": 0.5308333333333334}, {\"dataset\": \"point_mnist\", \"k\": 16, \"num_slices\": 128, \"code_length\": 64, \"precision_k\": 0.4293645833333333, \"acc\": 0.5475}, {\"dataset\": \"point_mnist\", \"k\": 4, \"num_slices\": 128, \"code_length\": 128, \"precision_k\": 0.6038333333333333, \"acc\": 0.663}, {\"dataset\": \"point_mnist\", \"k\": 8, \"num_slices\": 128, \"code_length\": 128, \"precision_k\": 0.5982916666666667, \"acc\": 0.6896666666666667}, {\"dataset\": \"point_mnist\", \"k\": 16, \"num_slices\": 128, \"code_length\": 128, \"precision_k\": 0.5815104166666667, \"acc\": 0.6868333333333333}, {\"dataset\": \"point_mnist\", \"k\": 4, \"num_slices\": 128, \"code_length\": 256, \"precision_k\": 0.7824583333333334, \"acc\": 0.8306666666666667}, {\"dataset\": \"point_mnist\", \"k\": 8, \"num_slices\": 128, \"code_length\": 256, \"precision_k\": 0.7680416666666666, \"acc\": 0.8393333333333334}, {\"dataset\": \"point_mnist\", \"k\": 16, \"num_slices\": 128, \"code_length\": 256, \"precision_k\": 0.7499895833333333, \"acc\": 0.837}, {\"dataset\": \"point_mnist\", \"k\": 4, \"num_slices\": 128, \"code_length\": 512, \"precision_k\": 0.840375, \"acc\": 0.8775}, {\"dataset\": \"point_mnist\", \"k\": 8, \"num_slices\": 128, \"code_length\": 512, \"precision_k\": 0.8264375, \"acc\": 0.8825}, {\"dataset\": \"point_mnist\", \"k\": 16, \"num_slices\": 128, \"code_length\": 512, \"precision_k\": 0.8134375, \"acc\": 0.8848333333333334}, {\"dataset\": \"point_mnist\", \"k\": 4, \"num_slices\": 128, \"code_length\": 1024, \"precision_k\": 0.892, \"acc\": 0.9218333333333333}, {\"dataset\": \"point_mnist\", \"k\": 8, \"num_slices\": 128, \"code_length\": 1024, \"precision_k\": 0.8817083333333333, \"acc\": 0.923}, {\"dataset\": \"point_mnist\", \"k\": 16, \"num_slices\": 128, \"code_length\": 1024, \"precision_k\": 0.8668125, \"acc\": 0.9158333333333334}]}, \"facet\": {\"column\": {\"type\": \"nominal\", \"field\": \"k\"}}, \"spec\": {\"mark\": \"line\", \"encoding\": {\"color\": {\"type\": \"nominal\", \"field\": \"code_length\"}, \"x\": {\"type\": \"quantitative\", \"field\": \"num_slices\", \"scale\": {\"base\": 2, \"type\": \"log\"}, \"title\": \"number of slices\"}, \"y\": {\"type\": \"quantitative\", \"field\": \"precision_k\", \"title\": \"precision@k\"}}, \"height\": 180, \"width\": 180}, \"$schema\": \"https://vega.github.io/schema/vega-lite/v4.8.1.json\"}, {\"mode\": \"vega-lite\"});\n",
       "</script>"
      ],
      "text/plain": [
       "alt.FacetChart(...)"
      ]
     },
     "execution_count": 11,
     "metadata": {},
     "output_type": "execute_result"
    }
   ],
   "source": [
    "data_alt = alt.Data(values=val_results)\n",
    "alt.Chart(data_alt).mark_line().encode(\n",
    "    alt.X('num_slices:Q', scale=alt.Scale(type='log', base=2), title='number of slices'),\n",
    "    alt.Y('precision_k:Q', title='precision@k'),\n",
    "    color='code_length:N'\n",
    ").properties(\n",
    "    width=180,\n",
    "    height=180\n",
    ").facet(\n",
    "    column='k:N'\n",
    ")"
   ]
  },
  {
   "cell_type": "markdown",
   "id": "e2130fba",
   "metadata": {},
   "source": [
    "### for hash code length = 1024, num_slices = 16 seems to be a good choice. "
   ]
  },
  {
   "cell_type": "code",
   "execution_count": 12,
   "id": "cdd70201",
   "metadata": {},
   "outputs": [
    {
     "name": "stdout",
     "output_type": "stream",
     "text": [
      "loading dataset...\n",
      "compute base embedding...\n"
     ]
    },
    {
     "name": "stderr",
     "output_type": "stream",
     "text": [
      "100%|████████████████████████████████████████████████████████████████████████████████████████████████| 60000/60000 [00:43<00:00, 1383.88it/s]\n"
     ]
    },
    {
     "name": "stdout",
     "output_type": "stream",
     "text": [
      "compute query embedding...\n"
     ]
    },
    {
     "name": "stderr",
     "output_type": "stream",
     "text": [
      "100%|████████████████████████████████████████████████████████████████████████████████████████████████| 10000/10000 [00:06<00:00, 1503.49it/s]\n"
     ]
    },
    {
     "name": "stdout",
     "output_type": "stream",
     "text": [
      "{'dataset': 'point_mnist', 'pooling': 'swe', 'ann': 'faiss-lsh', 'k': 4, 'code_length': 1024, 'emb_time_per_sample': 0.0007064752101898194, 'inf_time_per_sample': 0.0003814260959625244, 'acc': 0.9166, 'precision_k': 0.8858}\n",
      "loading dataset...\n",
      "loading cached base embedding...\n",
      "compute query embedding...\n"
     ]
    },
    {
     "name": "stderr",
     "output_type": "stream",
     "text": [
      "100%|████████████████████████████████████████████████████████████████████████████████████████████████| 10000/10000 [00:07<00:00, 1390.48it/s]\n"
     ]
    },
    {
     "name": "stdout",
     "output_type": "stream",
     "text": [
      "{'dataset': 'point_mnist', 'pooling': 'swe', 'ann': 'faiss-lsh', 'k': 8, 'code_length': 1024, 'emb_time_per_sample': 0.0007632815837860107, 'inf_time_per_sample': 0.0004258733034133911, 'acc': 0.9175, 'precision_k': 0.87465}\n",
      "loading dataset...\n",
      "loading cached base embedding...\n",
      "compute query embedding...\n"
     ]
    },
    {
     "name": "stderr",
     "output_type": "stream",
     "text": [
      "100%|████████████████████████████████████████████████████████████████████████████████████████████████| 10000/10000 [00:07<00:00, 1398.42it/s]\n"
     ]
    },
    {
     "name": "stdout",
     "output_type": "stream",
     "text": [
      "{'dataset': 'point_mnist', 'pooling': 'swe', 'ann': 'faiss-lsh', 'k': 16, 'code_length': 1024, 'emb_time_per_sample': 0.0007880750894546509, 'inf_time_per_sample': 0.00038519139289855956, 'acc': 0.915, 'precision_k': 0.86001875}\n"
     ]
    }
   ],
   "source": [
    "n_slices = 16\n",
    "code_length = 1024\n",
    "ks = [4, 8, 16]\n",
    "\n",
    "for k in ks:\n",
    "    exp = Experiment(dataset, 'swe', 'faiss-lsh',\n",
    "                     k=k, ref_size=set_size_median, code_length=code_length, num_slices=n_slices)\n",
    "    exp.test()\n",
    "    report = exp.get_exp_report()\n",
    "    print(report)"
   ]
  },
  {
   "cell_type": "markdown",
   "id": "62c2b83a",
   "metadata": {},
   "source": [
    "### FS"
   ]
  },
  {
   "cell_type": "code",
   "execution_count": 13,
   "id": "2448315b",
   "metadata": {},
   "outputs": [
    {
     "name": "stdout",
     "output_type": "stream",
     "text": [
      "loading dataset...\n",
      "compute base embedding...\n"
     ]
    },
    {
     "name": "stderr",
     "output_type": "stream",
     "text": [
      "100%|████████████████████████████████████████████████████████████████████████████████████████████████| 60000/60000 [00:12<00:00, 4819.07it/s]\n"
     ]
    },
    {
     "name": "stdout",
     "output_type": "stream",
     "text": [
      "compute query embedding...\n"
     ]
    },
    {
     "name": "stderr",
     "output_type": "stream",
     "text": [
      "100%|████████████████████████████████████████████████████████████████████████████████████████████████| 10000/10000 [00:02<00:00, 4923.12it/s]\n"
     ]
    },
    {
     "name": "stdout",
     "output_type": "stream",
     "text": [
      "{'dataset': 'point_mnist', 'pooling': 'fs', 'ann': 'faiss-lsh', 'k': 4, 'code_length': 1024, 'emb_time_per_sample': 0.00023671281337738037, 'inf_time_per_sample': 0.0003713585376739502, 'acc': 0.7987, 'precision_k': 0.7485}\n",
      "loading dataset...\n",
      "loading cached base embedding...\n",
      "compute query embedding...\n"
     ]
    },
    {
     "name": "stderr",
     "output_type": "stream",
     "text": [
      "100%|████████████████████████████████████████████████████████████████████████████████████████████████| 10000/10000 [00:02<00:00, 4939.35it/s]\n"
     ]
    },
    {
     "name": "stdout",
     "output_type": "stream",
     "text": [
      "{'dataset': 'point_mnist', 'pooling': 'fs', 'ann': 'faiss-lsh', 'k': 8, 'code_length': 1024, 'emb_time_per_sample': 0.000238008713722229, 'inf_time_per_sample': 0.0003532476902008057, 'acc': 0.8067, 'precision_k': 0.7376875}\n",
      "loading dataset...\n",
      "loading cached base embedding...\n",
      "compute query embedding...\n"
     ]
    },
    {
     "name": "stderr",
     "output_type": "stream",
     "text": [
      "100%|████████████████████████████████████████████████████████████████████████████████████████████████| 10000/10000 [00:02<00:00, 4999.74it/s]\n"
     ]
    },
    {
     "name": "stdout",
     "output_type": "stream",
     "text": [
      "{'dataset': 'point_mnist', 'pooling': 'fs', 'ann': 'faiss-lsh', 'k': 16, 'code_length': 1024, 'emb_time_per_sample': 0.00023180768489837646, 'inf_time_per_sample': 0.0003461041927337646, 'acc': 0.8066, 'precision_k': 0.7252625}\n"
     ]
    }
   ],
   "source": [
    "for k in ks:\n",
    "    exp = Experiment(dataset, 'fs', 'faiss-lsh',\n",
    "                     k=k, ref_size=set_size_median, code_length=code_length)\n",
    "    exp.test()\n",
    "    report = exp.get_exp_report()\n",
    "    print(report)"
   ]
  },
  {
   "cell_type": "markdown",
   "id": "5a0b1f35",
   "metadata": {},
   "source": [
    "### Cov"
   ]
  },
  {
   "cell_type": "code",
   "execution_count": 14,
   "id": "44b69851",
   "metadata": {},
   "outputs": [
    {
     "name": "stdout",
     "output_type": "stream",
     "text": [
      "loading dataset...\n",
      "compute base embedding...\n"
     ]
    },
    {
     "name": "stderr",
     "output_type": "stream",
     "text": [
      "100%|███████████████████████████████████████████████████████████████████████████████████████████████| 60000/60000 [00:03<00:00, 15379.31it/s]\n"
     ]
    },
    {
     "name": "stdout",
     "output_type": "stream",
     "text": [
      "compute query embedding...\n"
     ]
    },
    {
     "name": "stderr",
     "output_type": "stream",
     "text": [
      "100%|███████████████████████████████████████████████████████████████████████████████████████████████| 10000/10000 [00:00<00:00, 16720.83it/s]\n"
     ]
    },
    {
     "name": "stdout",
     "output_type": "stream",
     "text": [
      "{'dataset': 'point_mnist', 'pooling': 'cov', 'ann': 'faiss-lsh', 'k': 4, 'code_length': 1024, 'emb_time_per_sample': 9.33631181716919e-05, 'inf_time_per_sample': 0.0003467089891433716, 'acc': 0.265, 'precision_k': 0.247325}\n",
      "loading dataset...\n",
      "loading cached base embedding...\n",
      "compute query embedding...\n"
     ]
    },
    {
     "name": "stderr",
     "output_type": "stream",
     "text": [
      "100%|███████████████████████████████████████████████████████████████████████████████████████████████| 10000/10000 [00:00<00:00, 17332.46it/s]\n"
     ]
    },
    {
     "name": "stdout",
     "output_type": "stream",
     "text": [
      "{'dataset': 'point_mnist', 'pooling': 'cov', 'ann': 'faiss-lsh', 'k': 8, 'code_length': 1024, 'emb_time_per_sample': 8.710660934448243e-05, 'inf_time_per_sample': 0.000348117208480835, 'acc': 0.276, 'precision_k': 0.2480875}\n",
      "loading dataset...\n",
      "loading cached base embedding...\n",
      "compute query embedding...\n"
     ]
    },
    {
     "name": "stderr",
     "output_type": "stream",
     "text": [
      "100%|███████████████████████████████████████████████████████████████████████████████████████████████| 10000/10000 [00:00<00:00, 16820.41it/s]\n"
     ]
    },
    {
     "name": "stdout",
     "output_type": "stream",
     "text": [
      "{'dataset': 'point_mnist', 'pooling': 'cov', 'ann': 'faiss-lsh', 'k': 16, 'code_length': 1024, 'emb_time_per_sample': 8.58212947845459e-05, 'inf_time_per_sample': 0.00034908061027526856, 'acc': 0.2811, 'precision_k': 0.2480125}\n"
     ]
    }
   ],
   "source": [
    "for k in ks:\n",
    "    exp = Experiment(dataset, 'cov', 'faiss-lsh',\n",
    "                     k=k, ref_size=set_size_median, code_length=code_length)\n",
    "    exp.test()\n",
    "    report = exp.get_exp_report()\n",
    "    print(report)"
   ]
  },
  {
   "cell_type": "markdown",
   "id": "4bf992a9",
   "metadata": {},
   "source": [
    "### GeM-1"
   ]
  },
  {
   "cell_type": "code",
   "execution_count": 15,
   "id": "aa86aa01",
   "metadata": {},
   "outputs": [
    {
     "name": "stdout",
     "output_type": "stream",
     "text": [
      "loading dataset...\n",
      "compute base embedding...\n"
     ]
    },
    {
     "name": "stderr",
     "output_type": "stream",
     "text": [
      "100%|███████████████████████████████████████████████████████████████████████████████████████████████| 60000/60000 [00:01<00:00, 44447.84it/s]\n"
     ]
    },
    {
     "name": "stdout",
     "output_type": "stream",
     "text": [
      "compute query embedding...\n"
     ]
    },
    {
     "name": "stderr",
     "output_type": "stream",
     "text": [
      "100%|███████████████████████████████████████████████████████████████████████████████████████████████| 10000/10000 [00:00<00:00, 44877.87it/s]\n"
     ]
    },
    {
     "name": "stdout",
     "output_type": "stream",
     "text": [
      "{'dataset': 'point_mnist', 'pooling': 'gem', 'ann': 'faiss-lsh', 'k': 4, 'code_length': 1024, 'power': 1, 'emb_time_per_sample': 5.21467924118042e-05, 'inf_time_per_sample': 0.00034501779079437256, 'acc': 0.1085, 'precision_k': 0.104125}\n",
      "loading dataset...\n",
      "loading cached base embedding...\n",
      "compute query embedding...\n"
     ]
    },
    {
     "name": "stderr",
     "output_type": "stream",
     "text": [
      "100%|███████████████████████████████████████████████████████████████████████████████████████████████| 10000/10000 [00:00<00:00, 48977.08it/s]\n"
     ]
    },
    {
     "name": "stdout",
     "output_type": "stream",
     "text": [
      "{'dataset': 'point_mnist', 'pooling': 'gem', 'ann': 'faiss-lsh', 'k': 8, 'code_length': 1024, 'power': 1, 'emb_time_per_sample': 4.582171440124512e-05, 'inf_time_per_sample': 0.00035258772373199465, 'acc': 0.1041, 'precision_k': 0.1021875}\n",
      "loading dataset...\n",
      "loading cached base embedding...\n",
      "compute query embedding...\n"
     ]
    },
    {
     "name": "stderr",
     "output_type": "stream",
     "text": [
      "100%|███████████████████████████████████████████████████████████████████████████████████████████████| 10000/10000 [00:00<00:00, 42333.74it/s]\n"
     ]
    },
    {
     "name": "stdout",
     "output_type": "stream",
     "text": [
      "{'dataset': 'point_mnist', 'pooling': 'gem', 'ann': 'faiss-lsh', 'k': 16, 'code_length': 1024, 'power': 1, 'emb_time_per_sample': 5.0404024124145505e-05, 'inf_time_per_sample': 0.0003881815195083618, 'acc': 0.0996, 'precision_k': 0.10111875}\n"
     ]
    }
   ],
   "source": [
    "for k in ks:\n",
    "    exp = Experiment(dataset, 'gem', 'faiss-lsh',\n",
    "                     k=k, ref_size=set_size_median, code_length=code_length, power=1)\n",
    "    exp.test()\n",
    "    report = exp.get_exp_report()\n",
    "    print(report)"
   ]
  },
  {
   "cell_type": "markdown",
   "id": "90760ebe",
   "metadata": {},
   "source": [
    "### GeM-2"
   ]
  },
  {
   "cell_type": "code",
   "execution_count": 16,
   "id": "467cc11d",
   "metadata": {},
   "outputs": [
    {
     "name": "stdout",
     "output_type": "stream",
     "text": [
      "loading dataset...\n",
      "compute base embedding...\n"
     ]
    },
    {
     "name": "stderr",
     "output_type": "stream",
     "text": [
      "100%|███████████████████████████████████████████████████████████████████████████████████████████████| 60000/60000 [00:02<00:00, 28315.49it/s]\n"
     ]
    },
    {
     "name": "stdout",
     "output_type": "stream",
     "text": [
      "compute query embedding...\n"
     ]
    },
    {
     "name": "stderr",
     "output_type": "stream",
     "text": [
      "100%|███████████████████████████████████████████████████████████████████████████████████████████████| 10000/10000 [00:00<00:00, 31930.64it/s]\n"
     ]
    },
    {
     "name": "stdout",
     "output_type": "stream",
     "text": [
      "{'dataset': 'point_mnist', 'pooling': 'gem', 'ann': 'faiss-lsh', 'k': 4, 'code_length': 1024, 'power': 2, 'emb_time_per_sample': 6.180129051208496e-05, 'inf_time_per_sample': 0.0003373340129852295, 'acc': 0.3218, 'precision_k': 0.2872}\n",
      "loading dataset...\n",
      "loading cached base embedding...\n",
      "compute query embedding...\n"
     ]
    },
    {
     "name": "stderr",
     "output_type": "stream",
     "text": [
      "100%|███████████████████████████████████████████████████████████████████████████████████████████████| 10000/10000 [00:00<00:00, 29870.70it/s]\n"
     ]
    },
    {
     "name": "stdout",
     "output_type": "stream",
     "text": [
      "{'dataset': 'point_mnist', 'pooling': 'gem', 'ann': 'faiss-lsh', 'k': 8, 'code_length': 1024, 'power': 2, 'emb_time_per_sample': 5.7987523078918456e-05, 'inf_time_per_sample': 0.00035182192325592044, 'acc': 0.347, 'precision_k': 0.2858}\n",
      "loading dataset...\n",
      "loading cached base embedding...\n",
      "compute query embedding...\n"
     ]
    },
    {
     "name": "stderr",
     "output_type": "stream",
     "text": [
      "100%|███████████████████████████████████████████████████████████████████████████████████████████████| 10000/10000 [00:00<00:00, 27936.96it/s]\n"
     ]
    },
    {
     "name": "stdout",
     "output_type": "stream",
     "text": [
      "{'dataset': 'point_mnist', 'pooling': 'gem', 'ann': 'faiss-lsh', 'k': 16, 'code_length': 1024, 'power': 2, 'emb_time_per_sample': 6.043450832366944e-05, 'inf_time_per_sample': 0.0003624045848846436, 'acc': 0.3707, 'precision_k': 0.28919375}\n"
     ]
    }
   ],
   "source": [
    "for k in ks:\n",
    "    exp = Experiment(dataset, 'gem', 'faiss-lsh',\n",
    "                     k=k, ref_size=set_size_median, code_length=code_length, power=2)\n",
    "    exp.test()\n",
    "    report = exp.get_exp_report()\n",
    "    print(report)"
   ]
  },
  {
   "cell_type": "markdown",
   "id": "b97f51a3",
   "metadata": {},
   "source": [
    "### GeM-4"
   ]
  },
  {
   "cell_type": "code",
   "execution_count": 17,
   "id": "0efff05b",
   "metadata": {},
   "outputs": [
    {
     "name": "stdout",
     "output_type": "stream",
     "text": [
      "loading dataset...\n",
      "compute base embedding...\n"
     ]
    },
    {
     "name": "stderr",
     "output_type": "stream",
     "text": [
      "100%|███████████████████████████████████████████████████████████████████████████████████████████████| 60000/60000 [00:03<00:00, 17399.27it/s]\n"
     ]
    },
    {
     "name": "stdout",
     "output_type": "stream",
     "text": [
      "compute query embedding...\n"
     ]
    },
    {
     "name": "stderr",
     "output_type": "stream",
     "text": [
      "100%|███████████████████████████████████████████████████████████████████████████████████████████████| 10000/10000 [00:00<00:00, 17616.05it/s]\n"
     ]
    },
    {
     "name": "stdout",
     "output_type": "stream",
     "text": [
      "{'dataset': 'point_mnist', 'pooling': 'gem', 'ann': 'faiss-lsh', 'k': 4, 'code_length': 1024, 'power': 4, 'emb_time_per_sample': 8.671822547912598e-05, 'inf_time_per_sample': 0.0003613575220108032, 'acc': 0.4459, 'precision_k': 0.39365}\n",
      "loading dataset...\n",
      "loading cached base embedding...\n",
      "compute query embedding...\n"
     ]
    },
    {
     "name": "stderr",
     "output_type": "stream",
     "text": [
      "100%|███████████████████████████████████████████████████████████████████████████████████████████████| 10000/10000 [00:00<00:00, 17658.03it/s]\n"
     ]
    },
    {
     "name": "stdout",
     "output_type": "stream",
     "text": [
      "{'dataset': 'point_mnist', 'pooling': 'gem', 'ann': 'faiss-lsh', 'k': 8, 'code_length': 1024, 'power': 4, 'emb_time_per_sample': 8.073611259460449e-05, 'inf_time_per_sample': 0.0003484892845153809, 'acc': 0.4715, 'precision_k': 0.3905125}\n",
      "loading dataset...\n",
      "loading cached base embedding...\n",
      "compute query embedding...\n"
     ]
    },
    {
     "name": "stderr",
     "output_type": "stream",
     "text": [
      "100%|███████████████████████████████████████████████████████████████████████████████████████████████| 10000/10000 [00:00<00:00, 17521.73it/s]\n"
     ]
    },
    {
     "name": "stdout",
     "output_type": "stream",
     "text": [
      "{'dataset': 'point_mnist', 'pooling': 'gem', 'ann': 'faiss-lsh', 'k': 16, 'code_length': 1024, 'power': 4, 'emb_time_per_sample': 8.175699710845947e-05, 'inf_time_per_sample': 0.000347655725479126, 'acc': 0.4872, 'precision_k': 0.38305625}\n"
     ]
    }
   ],
   "source": [
    "for k in ks:\n",
    "    exp = Experiment(dataset, 'gem', 'faiss-lsh',\n",
    "                     k=k, ref_size=set_size_median, code_length=code_length, power=4)\n",
    "    exp.test()\n",
    "    report = exp.get_exp_report()\n",
    "    print(report)"
   ]
  },
  {
   "cell_type": "code",
   "execution_count": null,
   "id": "f07b2ea0",
   "metadata": {},
   "outputs": [],
   "source": []
  }
 ],
 "metadata": {
  "kernelspec": {
   "display_name": "swd",
   "language": "python",
   "name": "swd"
  },
  "language_info": {
   "codemirror_mode": {
    "name": "ipython",
    "version": 3
   },
   "file_extension": ".py",
   "mimetype": "text/x-python",
   "name": "python",
   "nbconvert_exporter": "python",
   "pygments_lexer": "ipython3",
   "version": "3.7.11"
  }
 },
 "nbformat": 4,
 "nbformat_minor": 5
}
