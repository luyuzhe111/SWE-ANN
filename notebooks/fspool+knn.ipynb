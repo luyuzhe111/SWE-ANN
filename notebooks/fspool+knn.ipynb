{
 "cells": [
  {
   "cell_type": "code",
   "execution_count": 1,
   "metadata": {
    "id": "MigyH5_z2mLp"
   },
   "outputs": [],
   "source": [
    "import numpy as np\n",
    "import pandas as pd\n",
    "from sklearn.metrics import accuracy_score, confusion_matrix\n",
    "import seaborn as sn\n",
    "import torch\n",
    "from torchinterp1d import Interp1d\n",
    "import matplotlib.pyplot as plt\n",
    "import sklearn\n",
    "from sklearn.neighbors import KNeighborsClassifier"
   ]
  },
  {
   "cell_type": "code",
   "execution_count": 2,
   "metadata": {
    "id": "Rm9KJj-B2mLt"
   },
   "outputs": [],
   "source": [
    "df_train = pd.read_csv(\"dataset/pointcloud_mnist_2d/train.csv\")\n",
    "df_test = pd.read_csv(\"dataset/pointcloud_mnist_2d/test.csv\")"
   ]
  },
  {
   "cell_type": "code",
   "execution_count": 3,
   "metadata": {
    "id": "M8YXLPjV2mLt"
   },
   "outputs": [],
   "source": [
    "X = df_train[df_train.columns[1:]].to_numpy()\n",
    "y = df_train[df_train.columns[0]].to_numpy()\n",
    "X = X.reshape(X.shape[0], -1, 3)"
   ]
  },
  {
   "cell_type": "code",
   "execution_count": 4,
   "metadata": {
    "id": "553q6ydh2mLu"
   },
   "outputs": [],
   "source": [
    "sample_dataset = []\n",
    "for i in range(X.shape[0]):\n",
    "    sample = X[i, :, :]\n",
    "    sample = sample[sample[:, 2] > 0][:, :2]\n",
    "    sample_dataset.append(sample)"
   ]
  },
  {
   "cell_type": "code",
   "execution_count": 5,
   "metadata": {
    "id": "iVB3T-Yv9c2I"
   },
   "outputs": [],
   "source": [
    "class FSpool():\n",
    "      def __init__(self,ref):\n",
    "          self.M,self.dim = ref.shape\n",
    "          self.ref = ref       \n",
    "          self.theta = self.generate_theta(self.dim)   \n",
    "          self.sliced_ref = self.slicer(self.ref)\n",
    "          self.sliced_ref_sorted, self.sliced_ref_sort_ind = torch.sort(self.sliced_ref,0)\n",
    "          self.sliced_ref_cdf = torch.cumsum(torch.ones_like(self.sliced_ref),0)/self.M\n",
    "\n",
    "      def generate_theta(self, d):\n",
    "\n",
    "          return torch.eye(d)\n",
    "\n",
    "      def slicer(self, X):\n",
    "            #g_\\theta(x)=\\theta^T*x\n",
    "            if len(self.theta.shape)==1:\n",
    "                return torch.matmul(X,self.theta)\n",
    "            else:\n",
    "                return torch.matmul(X,self.theta.T)\n",
    "\n",
    "      def embedd(self,x):\n",
    "          N,d=x.shape\n",
    "          assert d==self.dim\n",
    "          sliced_data=self.slicer(x)\n",
    "          sliced_data_sorted, sliced_data_index = torch.sort(sliced_data, dim=0)\n",
    "          sliced_data_cdf = torch.cumsum(torch.ones_like(sliced_data),0)/N\n",
    "          mongeMap = Interp1d()(sliced_data_cdf.T, sliced_data_sorted.T,\n",
    "                                self.sliced_ref_cdf.T).T\n",
    "          for l in range(2):\n",
    "            mongeMap[self.sliced_ref_sort_ind[:,l],l]=torch.clone(mongeMap[:,l])\n",
    "\n",
    "          embedd=(mongeMap-self.sliced_ref)/self.M\n",
    "          return embedd"
   ]
  },
  {
   "cell_type": "code",
   "execution_count": 6,
   "metadata": {
    "id": "rw5FwZr62mLw"
   },
   "outputs": [],
   "source": [
    "point_cloud = np.concatenate(sample_dataset, axis=0)"
   ]
  },
  {
   "cell_type": "code",
   "execution_count": 7,
   "metadata": {
    "id": "RC5uP1aB2mLw",
    "scrolled": true
   },
   "outputs": [
    {
     "data": {
      "text/plain": [
       "<matplotlib.collections.PathCollection at 0x7fbd31f2ae80>"
      ]
     },
     "execution_count": 7,
     "metadata": {},
     "output_type": "execute_result"
    },
    {
     "data": {
      "image/png": "[encoded data removed]",
      "text/plain": [
       "<Figure size 432x288 with 1 Axes>"
      ]
     },
     "metadata": {
      "needs_background": "light"
     },
     "output_type": "display_data"
    }
   ],
   "source": [
    "from sklearn.cluster import KMeans\n",
    "ind=np.random.permutation(point_cloud.shape[0])[:10000]\n",
    "kmeans = KMeans(n_clusters=40, random_state=0).fit(point_cloud[ind])\n",
    "ref = torch.FloatTensor(kmeans.cluster_centers_)\n",
    "plt.scatter(ref[:,0],ref[:,1])"
   ]
  },
  {
   "cell_type": "code",
   "execution_count": 8,
   "metadata": {
    "id": "TuQooEIq2mLy"
   },
   "outputs": [],
   "source": [
    "sample_dataset = [torch.from_numpy(sample).to(torch.float) for sample in sample_dataset]"
   ]
  },
  {
   "cell_type": "code",
   "execution_count": 9,
   "metadata": {
    "id": "fvI4e9sT90Uo"
   },
   "outputs": [],
   "source": [
    "from tqdm.notebook import tqdm"
   ]
  },
  {
   "cell_type": "code",
   "execution_count": 10,
   "metadata": {
    "colab": {
     "base_uri": "https://localhost:8080/",
     "height": 66,
     "referenced_widgets": [
      "f0ef1aa6d2954c229f28e3475c464c1d",
      "8fe44c1f4da44f698da941704ad4db51",
      "7cc997007bb64fe8ae05efe576d10d85",
      "154a9c55a1184f9287453e0965b13855",
      "1e75072d9cbd413e86efe332c5a0bb24",
      "2ffcd50810d74f12b87e6b1cfaff8678",
      "307eb98f781a4c2393a1df85d0da2e6b",
      "54f6d2e6e62e48bea1f9da12d4c63176",
      "1b6e65086d80443d9601e0036fea858d",
      "e9c7b491031647008b84c9f15fb3e0ee",
      "984286e9b07341749976e5d63c4086cd"
     ]
    },
    "id": "drMkJ-7O2mLz",
    "outputId": "8423e34a-6a2d-4634-ad58-c74c799eb574"
   },
   "outputs": [
    {
     "data": {
      "application/vnd.jupyter.widget-view+json": {
       "model_id": "244cb2bd13964ed5a122f2bcce086fe5",
       "version_major": 2,
       "version_minor": 0
      },
      "text/plain": [
       "  0%|          | 0/60000 [00:00<?, ?it/s]"
      ]
     },
     "metadata": {},
     "output_type": "display_data"
    }
   ],
   "source": [
    "phi = []\n",
    "fs=FSpool(ref)\n",
    "for sample in tqdm(sample_dataset):\n",
    "    v = fs.embedd(sample)\n",
    "    phi.append(v)\n",
    "    \n",
    "phi = torch.stack(phi, dim=0)"
   ]
  },
  {
   "cell_type": "code",
   "execution_count": 11,
   "metadata": {
    "colab": {
     "base_uri": "https://localhost:8080/"
    },
    "id": "RBbkWu412mL0",
    "outputId": "739f8799-894c-427d-9cbd-f6f39dbf94b8"
   },
   "outputs": [
    {
     "data": {
      "text/plain": [
       "KNeighborsClassifier(n_neighbors=10)"
      ]
     },
     "execution_count": 11,
     "metadata": {},
     "output_type": "execute_result"
    }
   ],
   "source": [
    "neigh = KNeighborsClassifier(n_neighbors=10)\n",
    "neigh.fit(phi.reshape(phi.shape[0],-1), y)"
   ]
  },
  {
   "cell_type": "code",
   "execution_count": 12,
   "metadata": {
    "id": "2ewTma9I2mL0"
   },
   "outputs": [],
   "source": [
    "X_test = df_test[df_test.columns[1:]].to_numpy()\n",
    "y_test = df_test[df_test.columns[0]].to_numpy()\n",
    "X_test = X_test.reshape(X_test.shape[0], -1, 3)\n",
    "X_test = torch.from_numpy(X_test).to(torch.float)\n",
    "y_test = torch.from_numpy(y_test).to(torch.float)\n",
    "test_dataset = []\n",
    "for i in range(X_test.shape[0]):\n",
    "    test = X_test[i, :, :]\n",
    "    test = test[test[:, 2] > 0][:, :2]\n",
    "    test_dataset.append(test)"
   ]
  },
  {
   "cell_type": "code",
   "execution_count": 13,
   "metadata": {
    "id": "WuE1CXx92mL0",
    "scrolled": false
   },
   "outputs": [
    {
     "data": {
      "application/vnd.jupyter.widget-view+json": {
       "model_id": "234611a376ad4be2863322d3f268b1e8",
       "version_major": 2,
       "version_minor": 0
      },
      "text/plain": [
       "  0%|          | 0/10000 [00:00<?, ?it/s]"
      ]
     },
     "metadata": {},
     "output_type": "display_data"
    }
   ],
   "source": [
    "psi = []\n",
    "for test in tqdm(test_dataset):\n",
    "    w = fs.embedd(test)\n",
    "    psi.append(w)\n",
    "psi = torch.stack(psi, dim=0)"
   ]
  },
  {
   "cell_type": "code",
   "execution_count": 14,
   "metadata": {
    "id": "HoasdcZs2mL1"
   },
   "outputs": [
    {
     "data": {
      "text/plain": [
       "0.8446"
      ]
     },
     "execution_count": 14,
     "metadata": {},
     "output_type": "execute_result"
    }
   ],
   "source": [
    "preds = neigh.predict(psi.reshape(psi.shape[0],-1))\n",
    "accuracy_score(preds,y_test)"
   ]
  }
 ],
 "metadata": {
  "colab": {
   "name": "SWE_pointcloud_mnist.ipynb",
   "provenance": []
  },
  "kernelspec": {
   "display_name": "Python 3",
   "language": "python",
   "name": "python3"
  },
  "language_info": {
   "codemirror_mode": {
    "name": "ipython",
    "version": 3
   },
   "file_extension": ".py",
   "mimetype": "text/x-python",
   "name": "python",
   "nbconvert_exporter": "python",
   "pygments_lexer": "ipython3",
   "version": "3.8.8"
  },
  "widgets": {
   "application/vnd.jupyter.widget-state+json": {
    "154a9c55a1184f9287453e0965b13855": {
     "model_module": "@jupyter-widgets/controls",
     "model_module_version": "1.5.0",
     "model_name": "FloatProgressModel",
     "state": {
      "_dom_classes": [],
      "_model_module": "@jupyter-widgets/controls",
      "_model_module_version": "1.5.0",
      "_model_name": "FloatProgressModel",
      "_view_count": null,
      "_view_module": "@jupyter-widgets/controls",
      "_view_module_version": "1.5.0",
      "_view_name": "ProgressView",
      "bar_style": "success",
      "description": "",
      "description_tooltip": null,
      "layout": "IPY_MODEL_1b6e65086d80443d9601e0036fea858d",
      "max": 60000,
      "min": 0,
      "orientation": "horizontal",
      "style": "IPY_MODEL_54f6d2e6e62e48bea1f9da12d4c63176",
      "value": 60000
     }
    },
    "1b6e65086d80443d9601e0036fea858d": {
     "model_module": "@jupyter-widgets/base",
     "model_module_version": "1.2.0",
     "model_name": "LayoutModel",
     "state": {
      "_model_module": "@jupyter-widgets/base",
      "_model_module_version": "1.2.0",
      "_model_name": "LayoutModel",
      "_view_count": null,
      "_view_module": "@jupyter-widgets/base",
      "_view_module_version": "1.2.0",
      "_view_name": "LayoutView",
      "align_content": null,
      "align_items": null,
      "align_self": null,
      "border": null,
      "bottom": null,
      "display": null,
      "flex": null,
      "flex_flow": null,
      "grid_area": null,
      "grid_auto_columns": null,
      "grid_auto_flow": null,
      "grid_auto_rows": null,
      "grid_column": null,
      "grid_gap": null,
      "grid_row": null,
      "grid_template_areas": null,
      "grid_template_columns": null,
      "grid_template_rows": null,
      "height": null,
      "justify_content": null,
      "justify_items": null,
      "left": null,
      "margin": null,
      "max_height": null,
      "max_width": null,
      "min_height": null,
      "min_width": null,
      "object_fit": null,
      "object_position": null,
      "order": null,
      "overflow": null,
      "overflow_x": null,
      "overflow_y": null,
      "padding": null,
      "right": null,
      "top": null,
      "visibility": null,
      "width": null
     }
    },
    "1e75072d9cbd413e86efe332c5a0bb24": {
     "model_module": "@jupyter-widgets/controls",
     "model_module_version": "1.5.0",
     "model_name": "HTMLModel",
     "state": {
      "_dom_classes": [],
      "_model_module": "@jupyter-widgets/controls",
      "_model_module_version": "1.5.0",
      "_model_name": "HTMLModel",
      "_view_count": null,
      "_view_module": "@jupyter-widgets/controls",
      "_view_module_version": "1.5.0",
      "_view_name": "HTMLView",
      "description": "",
      "description_tooltip": null,
      "layout": "IPY_MODEL_984286e9b07341749976e5d63c4086cd",
      "placeholder": "​",
      "style": "IPY_MODEL_e9c7b491031647008b84c9f15fb3e0ee",
      "value": " 60000/60000 [00:37&lt;00:00, 1636.49it/s]"
     }
    },
    "2ffcd50810d74f12b87e6b1cfaff8678": {
     "model_module": "@jupyter-widgets/controls",
     "model_module_version": "1.5.0",
     "model_name": "DescriptionStyleModel",
     "state": {
      "_model_module": "@jupyter-widgets/controls",
      "_model_module_version": "1.5.0",
      "_model_name": "DescriptionStyleModel",
      "_view_count": null,
      "_view_module": "@jupyter-widgets/base",
      "_view_module_version": "1.2.0",
      "_view_name": "StyleView",
      "description_width": ""
     }
    },
    "307eb98f781a4c2393a1df85d0da2e6b": {
     "model_module": "@jupyter-widgets/base",
     "model_module_version": "1.2.0",
     "model_name": "LayoutModel",
     "state": {
      "_model_module": "@jupyter-widgets/base",
      "_model_module_version": "1.2.0",
      "_model_name": "LayoutModel",
      "_view_count": null,
      "_view_module": "@jupyter-widgets/base",
      "_view_module_version": "1.2.0",
      "_view_name": "LayoutView",
      "align_content": null,
      "align_items": null,
      "align_self": null,
      "border": null,
      "bottom": null,
      "display": null,
      "flex": null,
      "flex_flow": null,
      "grid_area": null,
      "grid_auto_columns": null,
      "grid_auto_flow": null,
      "grid_auto_rows": null,
      "grid_column": null,
      "grid_gap": null,
      "grid_row": null,
      "grid_template_areas": null,
      "grid_template_columns": null,
      "grid_template_rows": null,
      "height": null,
      "justify_content": null,
      "justify_items": null,
      "left": null,
      "margin": null,
      "max_height": null,
      "max_width": null,
      "min_height": null,
      "min_width": null,
      "object_fit": null,
      "object_position": null,
      "order": null,
      "overflow": null,
      "overflow_x": null,
      "overflow_y": null,
      "padding": null,
      "right": null,
      "top": null,
      "visibility": null,
      "width": null
     }
    },
    "54f6d2e6e62e48bea1f9da12d4c63176": {
     "model_module": "@jupyter-widgets/controls",
     "model_module_version": "1.5.0",
     "model_name": "ProgressStyleModel",
     "state": {
      "_model_module": "@jupyter-widgets/controls",
      "_model_module_version": "1.5.0",
      "_model_name": "ProgressStyleModel",
      "_view_count": null,
      "_view_module": "@jupyter-widgets/base",
      "_view_module_version": "1.2.0",
      "_view_name": "StyleView",
      "bar_color": null,
      "description_width": ""
     }
    },
    "7cc997007bb64fe8ae05efe576d10d85": {
     "model_module": "@jupyter-widgets/controls",
     "model_module_version": "1.5.0",
     "model_name": "HTMLModel",
     "state": {
      "_dom_classes": [],
      "_model_module": "@jupyter-widgets/controls",
      "_model_module_version": "1.5.0",
      "_model_name": "HTMLModel",
      "_view_count": null,
      "_view_module": "@jupyter-widgets/controls",
      "_view_module_version": "1.5.0",
      "_view_name": "HTMLView",
      "description": "",
      "description_tooltip": null,
      "layout": "IPY_MODEL_307eb98f781a4c2393a1df85d0da2e6b",
      "placeholder": "​",
      "style": "IPY_MODEL_2ffcd50810d74f12b87e6b1cfaff8678",
      "value": "100%"
     }
    },
    "8fe44c1f4da44f698da941704ad4db51": {
     "model_module": "@jupyter-widgets/base",
     "model_module_version": "1.2.0",
     "model_name": "LayoutModel",
     "state": {
      "_model_module": "@jupyter-widgets/base",
      "_model_module_version": "1.2.0",
      "_model_name": "LayoutModel",
      "_view_count": null,
      "_view_module": "@jupyter-widgets/base",
      "_view_module_version": "1.2.0",
      "_view_name": "LayoutView",
      "align_content": null,
      "align_items": null,
      "align_self": null,
      "border": null,
      "bottom": null,
      "display": null,
      "flex": null,
      "flex_flow": null,
      "grid_area": null,
      "grid_auto_columns": null,
      "grid_auto_flow": null,
      "grid_auto_rows": null,
      "grid_column": null,
      "grid_gap": null,
      "grid_row": null,
      "grid_template_areas": null,
      "grid_template_columns": null,
      "grid_template_rows": null,
      "height": null,
      "justify_content": null,
      "justify_items": null,
      "left": null,
      "margin": null,
      "max_height": null,
      "max_width": null,
      "min_height": null,
      "min_width": null,
      "object_fit": null,
      "object_position": null,
      "order": null,
      "overflow": null,
      "overflow_x": null,
      "overflow_y": null,
      "padding": null,
      "right": null,
      "top": null,
      "visibility": null,
      "width": null
     }
    },
    "984286e9b07341749976e5d63c4086cd": {
     "model_module": "@jupyter-widgets/base",
     "model_module_version": "1.2.0",
     "model_name": "LayoutModel",
     "state": {
      "_model_module": "@jupyter-widgets/base",
      "_model_module_version": "1.2.0",
      "_model_name": "LayoutModel",
      "_view_count": null,
      "_view_module": "@jupyter-widgets/base",
      "_view_module_version": "1.2.0",
      "_view_name": "LayoutView",
      "align_content": null,
      "align_items": null,
      "align_self": null,
      "border": null,
      "bottom": null,
      "display": null,
      "flex": null,
      "flex_flow": null,
      "grid_area": null,
      "grid_auto_columns": null,
      "grid_auto_flow": null,
      "grid_auto_rows": null,
      "grid_column": null,
      "grid_gap": null,
      "grid_row": null,
      "grid_template_areas": null,
      "grid_template_columns": null,
      "grid_template_rows": null,
      "height": null,
      "justify_content": null,
      "justify_items": null,
      "left": null,
      "margin": null,
      "max_height": null,
      "max_width": null,
      "min_height": null,
      "min_width": null,
      "object_fit": null,
      "object_position": null,
      "order": null,
      "overflow": null,
      "overflow_x": null,
      "overflow_y": null,
      "padding": null,
      "right": null,
      "top": null,
      "visibility": null,
      "width": null
     }
    },
    "e9c7b491031647008b84c9f15fb3e0ee": {
     "model_module": "@jupyter-widgets/controls",
     "model_module_version": "1.5.0",
     "model_name": "DescriptionStyleModel",
     "state": {
      "_model_module": "@jupyter-widgets/controls",
      "_model_module_version": "1.5.0",
      "_model_name": "DescriptionStyleModel",
      "_view_count": null,
      "_view_module": "@jupyter-widgets/base",
      "_view_module_version": "1.2.0",
      "_view_name": "StyleView",
      "description_width": ""
     }
    },
    "f0ef1aa6d2954c229f28e3475c464c1d": {
     "model_module": "@jupyter-widgets/controls",
     "model_module_version": "1.5.0",
     "model_name": "HBoxModel",
     "state": {
      "_dom_classes": [],
      "_model_module": "@jupyter-widgets/controls",
      "_model_module_version": "1.5.0",
      "_model_name": "HBoxModel",
      "_view_count": null,
      "_view_module": "@jupyter-widgets/controls",
      "_view_module_version": "1.5.0",
      "_view_name": "HBoxView",
      "box_style": "",
      "children": [
       "IPY_MODEL_7cc997007bb64fe8ae05efe576d10d85",
       "IPY_MODEL_154a9c55a1184f9287453e0965b13855",
       "IPY_MODEL_1e75072d9cbd413e86efe332c5a0bb24"
      ],
      "layout": "IPY_MODEL_8fe44c1f4da44f698da941704ad4db51"
     }
    }
   }
  }
 },
 "nbformat": 4,
 "nbformat_minor": 1
}
